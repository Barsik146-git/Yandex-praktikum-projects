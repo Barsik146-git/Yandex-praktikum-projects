{
 "cells": [
  {
   "cell_type": "markdown",
   "id": "4507b955",
   "metadata": {
    "toc": true
   },
   "source": [
    "<h1>Table of Contents<span class=\"tocSkip\"></span></h1>\n",
    "<div class=\"toc\"><ul class=\"toc-item\"><li><span><a href=\"#Описание-проекта-&quot;Рынок-заведений-общественного-питания-Москвы&quot;\" data-toc-modified-id=\"Описание-проекта-&quot;Рынок-заведений-общественного-питания-Москвы&quot;-1\"><span class=\"toc-item-num\">1&nbsp;&nbsp;</span>Описание проекта \"Рынок заведений общественного питания Москвы\"</a></span></li><li><span><a href=\"#Загрузка-данных\" data-toc-modified-id=\"Загрузка-данных-2\"><span class=\"toc-item-num\">2&nbsp;&nbsp;</span>Загрузка данных</a></span></li><li><span><a href=\"#Подготовка-данных\" data-toc-modified-id=\"Подготовка-данных-3\"><span class=\"toc-item-num\">3&nbsp;&nbsp;</span>Подготовка данных</a></span></li><li><span><a href=\"#Анализ-данных\" data-toc-modified-id=\"Анализ-данных-4\"><span class=\"toc-item-num\">4&nbsp;&nbsp;</span>Анализ данных</a></span><ul class=\"toc-item\"><li><span><a href=\"#Исследуйте-соотношение-видов-объектов-общественного-питания-по-количеству.-Постройте-график.\" data-toc-modified-id=\"Исследуйте-соотношение-видов-объектов-общественного-питания-по-количеству.-Постройте-график.-4.1\"><span class=\"toc-item-num\">4.1&nbsp;&nbsp;</span>Исследуйте соотношение видов объектов общественного питания по количеству. Постройте график.</a></span></li><li><span><a href=\"#Исследуйте-соотношение-сетевых-и-несетевых-заведений-по-количеству.-Постройте-график.\" data-toc-modified-id=\"Исследуйте-соотношение-сетевых-и-несетевых-заведений-по-количеству.-Постройте-график.-4.2\"><span class=\"toc-item-num\">4.2&nbsp;&nbsp;</span>Исследуйте соотношение сетевых и несетевых заведений по количеству. Постройте график.</a></span></li><li><span><a href=\"#Для-какого-вида-объекта-общественного-питания-характерно-сетевое-распространение?\" data-toc-modified-id=\"Для-какого-вида-объекта-общественного-питания-характерно-сетевое-распространение?-4.3\"><span class=\"toc-item-num\">4.3&nbsp;&nbsp;</span>Для какого вида объекта общественного питания характерно сетевое распространение?</a></span></li><li><span><a href=\"#Что-характерно-для-сетевых-заведений:-много-заведений-с-небольшим-числом-посадочных-мест-в-каждом-или-мало-заведений-с-большим-количеством-посадочных-мест?\" data-toc-modified-id=\"Что-характерно-для-сетевых-заведений:-много-заведений-с-небольшим-числом-посадочных-мест-в-каждом-или-мало-заведений-с-большим-количеством-посадочных-мест?-4.4\"><span class=\"toc-item-num\">4.4&nbsp;&nbsp;</span>Что характерно для сетевых заведений: много заведений с небольшим числом посадочных мест в каждом или мало заведений с большим количеством посадочных мест?</a></span></li><li><span><a href=\"#Для-каждого-вида-объекта-общественного-питания-опишите-среднее-количество-посадочных-мест.-Какой-вид-предоставляет-в-среднем-самое-большое-количество-посадочных-мест?-Постройте-графики.\" data-toc-modified-id=\"Для-каждого-вида-объекта-общественного-питания-опишите-среднее-количество-посадочных-мест.-Какой-вид-предоставляет-в-среднем-самое-большое-количество-посадочных-мест?-Постройте-графики.-4.5\"><span class=\"toc-item-num\">4.5&nbsp;&nbsp;</span>Для каждого вида объекта общественного питания опишите среднее количество посадочных мест. Какой вид предоставляет в среднем самое большое количество посадочных мест? Постройте графики.</a></span></li><li><span><a href=\"#Выделите-в-отдельный-столбец-информацию-об-улице-из-столбца-address\" data-toc-modified-id=\"Выделите-в-отдельный-столбец-информацию-об-улице-из-столбца-address-4.6\"><span class=\"toc-item-num\">4.6&nbsp;&nbsp;</span>Выделите в отдельный столбец информацию об улице из столбца address</a></span></li><li><span><a href=\"#Постройте-график-топ-10-улиц-по-количеству-объектов-общественного-питания.-Воспользуйтесь-внешней-информацией-и-ответьте-на-вопрос-—-в-каких-районах-Москвы-находятся-эти-улицы?\" data-toc-modified-id=\"Постройте-график-топ-10-улиц-по-количеству-объектов-общественного-питания.-Воспользуйтесь-внешней-информацией-и-ответьте-на-вопрос-—-в-каких-районах-Москвы-находятся-эти-улицы?-4.7\"><span class=\"toc-item-num\">4.7&nbsp;&nbsp;</span>Постройте график топ-10 улиц по количеству объектов общественного питания. Воспользуйтесь внешней информацией и ответьте на вопрос — в каких районах Москвы находятся эти улицы?</a></span></li><li><span><a href=\"#Найдите-число-улиц-с-одним-объектом-общественного-питания.-Воспользуйтесь-внешней-информацией-и-ответьте-на-вопрос-—-в-каких-районах-Москвы-находятся-эти-улицы?\" data-toc-modified-id=\"Найдите-число-улиц-с-одним-объектом-общественного-питания.-Воспользуйтесь-внешней-информацией-и-ответьте-на-вопрос-—-в-каких-районах-Москвы-находятся-эти-улицы?-4.8\"><span class=\"toc-item-num\">4.8&nbsp;&nbsp;</span>Найдите число улиц с одним объектом общественного питания. Воспользуйтесь внешней информацией и ответьте на вопрос — в каких районах Москвы находятся эти улицы?</a></span></li></ul></li><li><span><a href=\"#Общий-вывод\" data-toc-modified-id=\"Общий-вывод-5\"><span class=\"toc-item-num\">5&nbsp;&nbsp;</span>Общий вывод</a></span></li></ul></div>"
   ]
  },
  {
   "cell_type": "markdown",
   "id": "3a9509f1",
   "metadata": {
    "toc": true
   },
   "source": [
    "<h1>Table of Contents<span class=\"tocSkip\"></span></h1>\n",
    "<div class=\"toc\"><ul class=\"toc-item\"><li><span><a href=\"#Описание-проекта-&quot;Рынок-заведений-общественного-питания-Москвы&quot;\" data-toc-modified-id=\"Описание-проекта-&quot;Рынок-заведений-общественного-питания-Москвы&quot;-1\"><span class=\"toc-item-num\">1&nbsp;&nbsp;</span>Описание проекта \"Рынок заведений общественного питания Москвы\"</a></span></li><li><span><a href=\"#Загрузка-данных\" data-toc-modified-id=\"Загрузка-данных-2\"><span class=\"toc-item-num\">2&nbsp;&nbsp;</span>Загрузка данных</a></span></li><li><span><a href=\"#Подготовка-данных\" data-toc-modified-id=\"Подготовка-данных-3\"><span class=\"toc-item-num\">3&nbsp;&nbsp;</span>Подготовка данных</a></span></li><li><span><a href=\"#Анализ-данных\" data-toc-modified-id=\"Анализ-данных-4\"><span class=\"toc-item-num\">4&nbsp;&nbsp;</span>Анализ данных</a></span><ul class=\"toc-item\"><li><span><a href=\"#Исследуйте-соотношение-видов-объектов-общественного-питания-по-количеству.-Постройте-график.\" data-toc-modified-id=\"Исследуйте-соотношение-видов-объектов-общественного-питания-по-количеству.-Постройте-график.-4.1\"><span class=\"toc-item-num\">4.1&nbsp;&nbsp;</span>Исследуйте соотношение видов объектов общественного питания по количеству. Постройте график.</a></span></li><li><span><a href=\"#Исследуйте-соотношение-сетевых-и-несетевых-заведений-по-количеству.-Постройте-график.\" data-toc-modified-id=\"Исследуйте-соотношение-сетевых-и-несетевых-заведений-по-количеству.-Постройте-график.-4.2\"><span class=\"toc-item-num\">4.2&nbsp;&nbsp;</span>Исследуйте соотношение сетевых и несетевых заведений по количеству. Постройте график.</a></span></li><li><span><a href=\"#Для-какого-вида-объекта-общественного-питания-характерно-сетевое-распространение?\" data-toc-modified-id=\"Для-какого-вида-объекта-общественного-питания-характерно-сетевое-распространение?-4.3\"><span class=\"toc-item-num\">4.3&nbsp;&nbsp;</span>Для какого вида объекта общественного питания характерно сетевое распространение?</a></span></li><li><span><a href=\"#Что-характерно-для-сетевых-заведений:-много-заведений-с-небольшим-числом-посадочных-мест-в-каждом-или-мало-заведений-с-большим-количеством-посадочных-мест?\" data-toc-modified-id=\"Что-характерно-для-сетевых-заведений:-много-заведений-с-небольшим-числом-посадочных-мест-в-каждом-или-мало-заведений-с-большим-количеством-посадочных-мест?-4.4\"><span class=\"toc-item-num\">4.4&nbsp;&nbsp;</span>Что характерно для сетевых заведений: много заведений с небольшим числом посадочных мест в каждом или мало заведений с большим количеством посадочных мест?</a></span></li><li><span><a href=\"#Для-каждого-вида-объекта-общественного-питания-опишите-среднее-количество-посадочных-мест.-Какой-вид-предоставляет-в-среднем-самое-большое-количество-посадочных-мест?-Постройте-графики.\" data-toc-modified-id=\"Для-каждого-вида-объекта-общественного-питания-опишите-среднее-количество-посадочных-мест.-Какой-вид-предоставляет-в-среднем-самое-большое-количество-посадочных-мест?-Постройте-графики.-4.5\"><span class=\"toc-item-num\">4.5&nbsp;&nbsp;</span>Для каждого вида объекта общественного питания опишите среднее количество посадочных мест. Какой вид предоставляет в среднем самое большое количество посадочных мест? Постройте графики.</a></span></li><li><span><a href=\"#Выделите-в-отдельный-столбец-информацию-об-улице-из-столбца-address\" data-toc-modified-id=\"Выделите-в-отдельный-столбец-информацию-об-улице-из-столбца-address-4.6\"><span class=\"toc-item-num\">4.6&nbsp;&nbsp;</span>Выделите в отдельный столбец информацию об улице из столбца address</a></span></li><li><span><a href=\"#Постройте-график-топ-10-улиц-по-количеству-объектов-общественного-питания.-Воспользуйтесь-внешней-информацией-и-ответьте-на-вопрос-—-в-каких-районах-Москвы-находятся-эти-улицы?\" data-toc-modified-id=\"Постройте-график-топ-10-улиц-по-количеству-объектов-общественного-питания.-Воспользуйтесь-внешней-информацией-и-ответьте-на-вопрос-—-в-каких-районах-Москвы-находятся-эти-улицы?-4.7\"><span class=\"toc-item-num\">4.7&nbsp;&nbsp;</span>Постройте график топ-10 улиц по количеству объектов общественного питания. Воспользуйтесь внешней информацией и ответьте на вопрос — в каких районах Москвы находятся эти улицы?</a></span></li><li><span><a href=\"#Найдите-число-улиц-с-одним-объектом-общественного-питания.-Воспользуйтесь-внешней-информацией-и-ответьте-на-вопрос-—-в-каких-районах-Москвы-находятся-эти-улицы?\" data-toc-modified-id=\"Найдите-число-улиц-с-одним-объектом-общественного-питания.-Воспользуйтесь-внешней-информацией-и-ответьте-на-вопрос-—-в-каких-районах-Москвы-находятся-эти-улицы?-4.8\"><span class=\"toc-item-num\">4.8&nbsp;&nbsp;</span>Найдите число улиц с одним объектом общественного питания. Воспользуйтесь внешней информацией и ответьте на вопрос — в каких районах Москвы находятся эти улицы?</a></span></li></ul></li><li><span><a href=\"#Общий-вывод\" data-toc-modified-id=\"Общий-вывод-5\"><span class=\"toc-item-num\">5&nbsp;&nbsp;</span>Общий вывод</a></span></li></ul></div>"
   ]
  },
  {
   "cell_type": "markdown",
   "id": "df4ba5fd",
   "metadata": {},
   "source": [
    "## Описание проекта \"Рынок заведений общественного питания Москвы\""
   ]
  },
  {
   "cell_type": "markdown",
   "id": "c325fa77",
   "metadata": {},
   "source": [
    "**Цель:** Исследовать рынок Москвы в части общественного питания чтобы установить будет ли актуально новое кафе, где гостей обслуживают роботы\n",
    "\n",
    "**Данные:** Открытые данные о заведениях общественного питания в Москве\n",
    "\n",
    "Таблица rest_data:\n",
    "* id — идентификатор объекта;\n",
    "* object_name — название объекта общественного питания;\n",
    "* chain — сетевой ресторан;\n",
    "* object_type — тип объекта общественного питания;\n",
    "* address  — адрес;\n",
    "* number — количество посадочных мест\n",
    "\n",
    "**Ход выполнения:**\n",
    "1. Загрузим и подготовим данные\n",
    "2. Проанализируем типы объектов размещения, сетевые рестораны и кол-во посадочных мест\n",
    "3. Выделим улицы и поймем где больше и где меньше объектов общественного питатания, определим районы\n",
    "4. Общий вывод"
   ]
  },
  {
   "cell_type": "markdown",
   "id": "1064f94a",
   "metadata": {},
   "source": [
    "## Загрузка данных"
   ]
  },
  {
   "cell_type": "code",
   "execution_count": 1,
   "id": "f8f852ae",
   "metadata": {},
   "outputs": [],
   "source": [
    "# импорт библиотек\n",
    "import pandas as pd\n",
    "import matplotlib.pyplot as plt\n",
    "import seaborn as sns\n",
    "#from plotly import graph_objects as go\n",
    "#import plotly.express as px"
   ]
  },
  {
   "cell_type": "code",
   "execution_count": 2,
   "id": "780ed22f",
   "metadata": {
    "scrolled": true
   },
   "outputs": [
    {
     "data": {
      "text/html": [
       "<div>\n",
       "<style scoped>\n",
       "    .dataframe tbody tr th:only-of-type {\n",
       "        vertical-align: middle;\n",
       "    }\n",
       "\n",
       "    .dataframe tbody tr th {\n",
       "        vertical-align: top;\n",
       "    }\n",
       "\n",
       "    .dataframe thead th {\n",
       "        text-align: right;\n",
       "    }\n",
       "</style>\n",
       "<table border=\"1\" class=\"dataframe\">\n",
       "  <thead>\n",
       "    <tr style=\"text-align: right;\">\n",
       "      <th></th>\n",
       "      <th>id</th>\n",
       "      <th>object_name</th>\n",
       "      <th>chain</th>\n",
       "      <th>object_type</th>\n",
       "      <th>address</th>\n",
       "      <th>number</th>\n",
       "    </tr>\n",
       "  </thead>\n",
       "  <tbody>\n",
       "    <tr>\n",
       "      <th>0</th>\n",
       "      <td>151635</td>\n",
       "      <td>СМЕТАНА</td>\n",
       "      <td>нет</td>\n",
       "      <td>кафе</td>\n",
       "      <td>город Москва, улица Егора Абакумова, дом 9</td>\n",
       "      <td>48</td>\n",
       "    </tr>\n",
       "    <tr>\n",
       "      <th>1</th>\n",
       "      <td>77874</td>\n",
       "      <td>Родник</td>\n",
       "      <td>нет</td>\n",
       "      <td>кафе</td>\n",
       "      <td>город Москва, улица Талалихина, дом 2/1, корпус 1</td>\n",
       "      <td>35</td>\n",
       "    </tr>\n",
       "    <tr>\n",
       "      <th>2</th>\n",
       "      <td>24309</td>\n",
       "      <td>Кафе «Академия»</td>\n",
       "      <td>нет</td>\n",
       "      <td>кафе</td>\n",
       "      <td>город Москва, Абельмановская улица, дом 6</td>\n",
       "      <td>95</td>\n",
       "    </tr>\n",
       "    <tr>\n",
       "      <th>3</th>\n",
       "      <td>21894</td>\n",
       "      <td>ПИЦЦЕТОРИЯ</td>\n",
       "      <td>да</td>\n",
       "      <td>кафе</td>\n",
       "      <td>город Москва, Абрамцевская улица, дом 1</td>\n",
       "      <td>40</td>\n",
       "    </tr>\n",
       "    <tr>\n",
       "      <th>4</th>\n",
       "      <td>119365</td>\n",
       "      <td>Кафе «Вишневая метель»</td>\n",
       "      <td>нет</td>\n",
       "      <td>кафе</td>\n",
       "      <td>город Москва, Абрамцевская улица, дом 9, корпус 1</td>\n",
       "      <td>50</td>\n",
       "    </tr>\n",
       "  </tbody>\n",
       "</table>\n",
       "</div>"
      ],
      "text/plain": [
       "       id             object_name chain object_type  \\\n",
       "0  151635                 СМЕТАНА   нет        кафе   \n",
       "1   77874                  Родник   нет        кафе   \n",
       "2   24309         Кафе «Академия»   нет        кафе   \n",
       "3   21894              ПИЦЦЕТОРИЯ    да        кафе   \n",
       "4  119365  Кафе «Вишневая метель»   нет        кафе   \n",
       "\n",
       "                                             address  number  \n",
       "0         город Москва, улица Егора Абакумова, дом 9      48  \n",
       "1  город Москва, улица Талалихина, дом 2/1, корпус 1      35  \n",
       "2          город Москва, Абельмановская улица, дом 6      95  \n",
       "3            город Москва, Абрамцевская улица, дом 1      40  \n",
       "4  город Москва, Абрамцевская улица, дом 9, корпус 1      50  "
      ]
     },
     "execution_count": 2,
     "metadata": {},
     "output_type": "execute_result"
    }
   ],
   "source": [
    "# загрузка данных\n",
    "path ='/datasets/rest_data.csv'\n",
    "\n",
    "try:\n",
    "    rest_data = pd.read_csv('rest_data.csv')\n",
    "except FileNotFoundError as e:\n",
    "    print(repr(e))\n",
    "    rest_data = pd.read_csv(path, sep=',')\n",
    "rest_data.head(5)"
   ]
  },
  {
   "cell_type": "markdown",
   "id": "787eb176",
   "metadata": {},
   "source": [
    "## Подготовка данных"
   ]
  },
  {
   "cell_type": "code",
   "execution_count": 3,
   "id": "20482ffd",
   "metadata": {},
   "outputs": [
    {
     "name": "stdout",
     "output_type": "stream",
     "text": [
      "<class 'pandas.core.frame.DataFrame'>\n",
      "RangeIndex: 15366 entries, 0 to 15365\n",
      "Data columns (total 6 columns):\n",
      " #   Column       Non-Null Count  Dtype \n",
      "---  ------       --------------  ----- \n",
      " 0   id           15366 non-null  int64 \n",
      " 1   object_name  15366 non-null  object\n",
      " 2   chain        15366 non-null  object\n",
      " 3   object_type  15366 non-null  object\n",
      " 4   address      15366 non-null  object\n",
      " 5   number       15366 non-null  int64 \n",
      "dtypes: int64(2), object(4)\n",
      "memory usage: 720.4+ KB\n"
     ]
    }
   ],
   "source": [
    "rest_data.info()"
   ]
  },
  {
   "cell_type": "code",
   "execution_count": 4,
   "id": "ffcd6b02",
   "metadata": {},
   "outputs": [
    {
     "data": {
      "text/plain": [
       "82"
      ]
     },
     "execution_count": 4,
     "metadata": {},
     "output_type": "execute_result"
    }
   ],
   "source": [
    "# Проверим наличие явных дубликатов\n",
    "test = rest_data.duplicated(['object_name', 'chain', 'object_type', 'address', 'number']).sum()\n",
    "test\n"
   ]
  },
  {
   "cell_type": "code",
   "execution_count": 5,
   "id": "0e95c0ab",
   "metadata": {},
   "outputs": [
    {
     "data": {
      "text/html": [
       "<div>\n",
       "<style scoped>\n",
       "    .dataframe tbody tr th:only-of-type {\n",
       "        vertical-align: middle;\n",
       "    }\n",
       "\n",
       "    .dataframe tbody tr th {\n",
       "        vertical-align: top;\n",
       "    }\n",
       "\n",
       "    .dataframe thead th {\n",
       "        text-align: right;\n",
       "    }\n",
       "</style>\n",
       "<table border=\"1\" class=\"dataframe\">\n",
       "  <thead>\n",
       "    <tr style=\"text-align: right;\">\n",
       "      <th></th>\n",
       "      <th>id</th>\n",
       "      <th>object_name</th>\n",
       "      <th>chain</th>\n",
       "      <th>object_type</th>\n",
       "      <th>address</th>\n",
       "      <th>number</th>\n",
       "    </tr>\n",
       "  </thead>\n",
       "  <tbody>\n",
       "    <tr>\n",
       "      <th>0</th>\n",
       "      <td>151635</td>\n",
       "      <td>СМЕТАНА</td>\n",
       "      <td>нет</td>\n",
       "      <td>кафе</td>\n",
       "      <td>город Москва, улица Егора Абакумова, дом 9</td>\n",
       "      <td>48</td>\n",
       "    </tr>\n",
       "    <tr>\n",
       "      <th>1</th>\n",
       "      <td>77874</td>\n",
       "      <td>Родник</td>\n",
       "      <td>нет</td>\n",
       "      <td>кафе</td>\n",
       "      <td>город Москва, улица Талалихина, дом 2/1, корпус 1</td>\n",
       "      <td>35</td>\n",
       "    </tr>\n",
       "    <tr>\n",
       "      <th>2</th>\n",
       "      <td>24309</td>\n",
       "      <td>Кафе «Академия»</td>\n",
       "      <td>нет</td>\n",
       "      <td>кафе</td>\n",
       "      <td>город Москва, Абельмановская улица, дом 6</td>\n",
       "      <td>95</td>\n",
       "    </tr>\n",
       "    <tr>\n",
       "      <th>3</th>\n",
       "      <td>21894</td>\n",
       "      <td>ПИЦЦЕТОРИЯ</td>\n",
       "      <td>да</td>\n",
       "      <td>кафе</td>\n",
       "      <td>город Москва, Абрамцевская улица, дом 1</td>\n",
       "      <td>40</td>\n",
       "    </tr>\n",
       "    <tr>\n",
       "      <th>4</th>\n",
       "      <td>119365</td>\n",
       "      <td>Кафе «Вишневая метель»</td>\n",
       "      <td>нет</td>\n",
       "      <td>кафе</td>\n",
       "      <td>город Москва, Абрамцевская улица, дом 9, корпус 1</td>\n",
       "      <td>50</td>\n",
       "    </tr>\n",
       "    <tr>\n",
       "      <th>...</th>\n",
       "      <td>...</td>\n",
       "      <td>...</td>\n",
       "      <td>...</td>\n",
       "      <td>...</td>\n",
       "      <td>...</td>\n",
       "      <td>...</td>\n",
       "    </tr>\n",
       "    <tr>\n",
       "      <th>15361</th>\n",
       "      <td>208537</td>\n",
       "      <td>Шоколадница</td>\n",
       "      <td>да</td>\n",
       "      <td>кафе</td>\n",
       "      <td>город Москва, 3-й Крутицкий переулок, дом 18</td>\n",
       "      <td>50</td>\n",
       "    </tr>\n",
       "    <tr>\n",
       "      <th>15362</th>\n",
       "      <td>209264</td>\n",
       "      <td>Шоколадница</td>\n",
       "      <td>да</td>\n",
       "      <td>кафе</td>\n",
       "      <td>город Москва, улица Земляной Вал, дом 33</td>\n",
       "      <td>10</td>\n",
       "    </tr>\n",
       "    <tr>\n",
       "      <th>15363</th>\n",
       "      <td>209186</td>\n",
       "      <td>Шоколадница</td>\n",
       "      <td>да</td>\n",
       "      <td>кафе</td>\n",
       "      <td>город Москва, улица Земляной Вал, дом 33</td>\n",
       "      <td>20</td>\n",
       "    </tr>\n",
       "    <tr>\n",
       "      <th>15364</th>\n",
       "      <td>221900</td>\n",
       "      <td>Шоколадница</td>\n",
       "      <td>да</td>\n",
       "      <td>кафе</td>\n",
       "      <td>город Москва, поселение Московский, Киевское ш...</td>\n",
       "      <td>36</td>\n",
       "    </tr>\n",
       "    <tr>\n",
       "      <th>15365</th>\n",
       "      <td>222535</td>\n",
       "      <td>Шоколадница</td>\n",
       "      <td>да</td>\n",
       "      <td>кафе</td>\n",
       "      <td>город Москва, Ходынский бульвар, дом 4</td>\n",
       "      <td>10</td>\n",
       "    </tr>\n",
       "  </tbody>\n",
       "</table>\n",
       "<p>15284 rows × 6 columns</p>\n",
       "</div>"
      ],
      "text/plain": [
       "           id             object_name chain object_type  \\\n",
       "0      151635                 СМЕТАНА   нет        кафе   \n",
       "1       77874                  Родник   нет        кафе   \n",
       "2       24309         Кафе «Академия»   нет        кафе   \n",
       "3       21894              ПИЦЦЕТОРИЯ    да        кафе   \n",
       "4      119365  Кафе «Вишневая метель»   нет        кафе   \n",
       "...       ...                     ...   ...         ...   \n",
       "15361  208537             Шоколадница    да        кафе   \n",
       "15362  209264             Шоколадница    да        кафе   \n",
       "15363  209186             Шоколадница    да        кафе   \n",
       "15364  221900             Шоколадница    да        кафе   \n",
       "15365  222535             Шоколадница    да        кафе   \n",
       "\n",
       "                                                 address  number  \n",
       "0             город Москва, улица Егора Абакумова, дом 9      48  \n",
       "1      город Москва, улица Талалихина, дом 2/1, корпус 1      35  \n",
       "2              город Москва, Абельмановская улица, дом 6      95  \n",
       "3                город Москва, Абрамцевская улица, дом 1      40  \n",
       "4      город Москва, Абрамцевская улица, дом 9, корпус 1      50  \n",
       "...                                                  ...     ...  \n",
       "15361       город Москва, 3-й Крутицкий переулок, дом 18      50  \n",
       "15362           город Москва, улица Земляной Вал, дом 33      10  \n",
       "15363           город Москва, улица Земляной Вал, дом 33      20  \n",
       "15364  город Москва, поселение Московский, Киевское ш...      36  \n",
       "15365             город Москва, Ходынский бульвар, дом 4      10  \n",
       "\n",
       "[15284 rows x 6 columns]"
      ]
     },
     "execution_count": 5,
     "metadata": {},
     "output_type": "execute_result"
    }
   ],
   "source": [
    "# Удалим явные дубликаты\n",
    "rest_data= rest_data.drop_duplicates(['object_name', 'chain', 'object_type', 'address', 'number']) #.reset_index(drop= True)\n",
    "rest_data"
   ]
  },
  {
   "cell_type": "code",
   "execution_count": 6,
   "id": "05c1b739",
   "metadata": {},
   "outputs": [
    {
     "data": {
      "text/plain": [
       "array(['нет', 'да'], dtype=object)"
      ]
     },
     "execution_count": 6,
     "metadata": {},
     "output_type": "execute_result"
    }
   ],
   "source": [
    "# Проверим корректность заполнения поля сети\n",
    "rest_data['chain'].unique()"
   ]
  },
  {
   "cell_type": "code",
   "execution_count": 7,
   "id": "f890dd30",
   "metadata": {},
   "outputs": [
    {
     "data": {
      "text/html": [
       "<div>\n",
       "<style scoped>\n",
       "    .dataframe tbody tr th:only-of-type {\n",
       "        vertical-align: middle;\n",
       "    }\n",
       "\n",
       "    .dataframe tbody tr th {\n",
       "        vertical-align: top;\n",
       "    }\n",
       "\n",
       "    .dataframe thead th {\n",
       "        text-align: right;\n",
       "    }\n",
       "</style>\n",
       "<table border=\"1\" class=\"dataframe\">\n",
       "  <thead>\n",
       "    <tr style=\"text-align: right;\">\n",
       "      <th></th>\n",
       "      <th>number_of_chair</th>\n",
       "      <th>count_place</th>\n",
       "    </tr>\n",
       "  </thead>\n",
       "  <tbody>\n",
       "    <tr>\n",
       "      <th>0</th>\n",
       "      <td>0</td>\n",
       "      <td>1589</td>\n",
       "    </tr>\n",
       "    <tr>\n",
       "      <th>32</th>\n",
       "      <td>1</td>\n",
       "      <td>100</td>\n",
       "    </tr>\n",
       "    <tr>\n",
       "      <th>26</th>\n",
       "      <td>2</td>\n",
       "      <td>187</td>\n",
       "    </tr>\n",
       "    <tr>\n",
       "      <th>40</th>\n",
       "      <td>3</td>\n",
       "      <td>84</td>\n",
       "    </tr>\n",
       "    <tr>\n",
       "      <th>19</th>\n",
       "      <td>4</td>\n",
       "      <td>231</td>\n",
       "    </tr>\n",
       "  </tbody>\n",
       "</table>\n",
       "</div>"
      ],
      "text/plain": [
       "    number_of_chair  count_place\n",
       "0                 0         1589\n",
       "32                1          100\n",
       "26                2          187\n",
       "40                3           84\n",
       "19                4          231"
      ]
     },
     "execution_count": 7,
     "metadata": {},
     "output_type": "execute_result"
    }
   ],
   "source": [
    "# Проверим корректность заполнения кол-ва посадочных мест\n",
    "rest_data['number'].value_counts().reset_index().rename(columns={'index': 'number_of_chair', 'number':'count_place'}).sort_values('number_of_chair').head()"
   ]
  },
  {
   "cell_type": "code",
   "execution_count": 8,
   "id": "8fe7efe9",
   "metadata": {
    "scrolled": true
   },
   "outputs": [
    {
     "data": {
      "text/plain": [
       "предприятие быстрого обслуживания    840\n",
       "кафе                                 414\n",
       "закусочная                           207\n",
       "магазин (отдел кулинарии)            172\n",
       "кафетерий                            143\n",
       "буфет                                 71\n",
       "ресторан                              45\n",
       "бар                                   44\n",
       "столовая                              24\n",
       "Name: object_type, dtype: int64"
      ]
     },
     "execution_count": 8,
     "metadata": {},
     "output_type": "execute_result"
    }
   ],
   "source": [
    "rest_data[rest_data['number'] < 4]['object_type'].value_counts()"
   ]
  },
  {
   "cell_type": "code",
   "execution_count": 9,
   "id": "88c71331",
   "metadata": {},
   "outputs": [],
   "source": [
    "#приведем длинные названия типов объектов к более понятным\n",
    "rest_data['object_type'] = rest_data['object_type'].str.replace('предприятие быстрого обслуживания', 'фаст-фуд')"
   ]
  },
  {
   "cell_type": "markdown",
   "id": "353e818c",
   "metadata": {},
   "source": [
    "**Выводы по подготовке данных:** \n",
    "* В исхоных данных нет пропусков данных и нет полных дубликатов\n",
    "* Существуют заведения с нулевым кол-вом посадочных мест. Считаю это нормальным, так как в основном без посадочных мест это быстрое питание, кафе, закусочные, магазины, где нормальным считается отсутвие возможности сидеть"
   ]
  },
  {
   "cell_type": "markdown",
   "id": "49f9bc1a",
   "metadata": {},
   "source": [
    "## Анализ данных"
   ]
  },
  {
   "cell_type": "markdown",
   "id": "448cca30",
   "metadata": {},
   "source": [
    "### Исследуйте соотношение видов объектов общественного питания по количеству. Постройте график."
   ]
  },
  {
   "cell_type": "code",
   "execution_count": 10,
   "id": "8ad58291",
   "metadata": {
    "scrolled": true
   },
   "outputs": [
    {
     "data": {
      "text/html": [
       "<div>\n",
       "<style scoped>\n",
       "    .dataframe tbody tr th:only-of-type {\n",
       "        vertical-align: middle;\n",
       "    }\n",
       "\n",
       "    .dataframe tbody tr th {\n",
       "        vertical-align: top;\n",
       "    }\n",
       "\n",
       "    .dataframe thead th {\n",
       "        text-align: right;\n",
       "    }\n",
       "</style>\n",
       "<table border=\"1\" class=\"dataframe\">\n",
       "  <thead>\n",
       "    <tr style=\"text-align: right;\">\n",
       "      <th></th>\n",
       "      <th>object_type</th>\n",
       "      <th>count</th>\n",
       "      <th>number</th>\n",
       "    </tr>\n",
       "  </thead>\n",
       "  <tbody>\n",
       "    <tr>\n",
       "      <th>0</th>\n",
       "      <td>кафе</td>\n",
       "      <td>6071</td>\n",
       "      <td>30.0</td>\n",
       "    </tr>\n",
       "    <tr>\n",
       "      <th>1</th>\n",
       "      <td>столовая</td>\n",
       "      <td>2584</td>\n",
       "      <td>103.0</td>\n",
       "    </tr>\n",
       "    <tr>\n",
       "      <th>2</th>\n",
       "      <td>ресторан</td>\n",
       "      <td>2282</td>\n",
       "      <td>80.0</td>\n",
       "    </tr>\n",
       "    <tr>\n",
       "      <th>3</th>\n",
       "      <td>фаст-фуд</td>\n",
       "      <td>1898</td>\n",
       "      <td>6.0</td>\n",
       "    </tr>\n",
       "    <tr>\n",
       "      <th>4</th>\n",
       "      <td>бар</td>\n",
       "      <td>855</td>\n",
       "      <td>35.0</td>\n",
       "    </tr>\n",
       "    <tr>\n",
       "      <th>5</th>\n",
       "      <td>буфет</td>\n",
       "      <td>577</td>\n",
       "      <td>32.0</td>\n",
       "    </tr>\n",
       "    <tr>\n",
       "      <th>6</th>\n",
       "      <td>кафетерий</td>\n",
       "      <td>395</td>\n",
       "      <td>6.0</td>\n",
       "    </tr>\n",
       "    <tr>\n",
       "      <th>7</th>\n",
       "      <td>закусочная</td>\n",
       "      <td>349</td>\n",
       "      <td>0.0</td>\n",
       "    </tr>\n",
       "    <tr>\n",
       "      <th>8</th>\n",
       "      <td>магазин (отдел кулинарии)</td>\n",
       "      <td>273</td>\n",
       "      <td>0.0</td>\n",
       "    </tr>\n",
       "  </tbody>\n",
       "</table>\n",
       "</div>"
      ],
      "text/plain": [
       "                 object_type  count  number\n",
       "0                       кафе   6071    30.0\n",
       "1                   столовая   2584   103.0\n",
       "2                   ресторан   2282    80.0\n",
       "3                   фаст-фуд   1898     6.0\n",
       "4                        бар    855    35.0\n",
       "5                      буфет    577    32.0\n",
       "6                  кафетерий    395     6.0\n",
       "7                 закусочная    349     0.0\n",
       "8  магазин (отдел кулинарии)    273     0.0"
      ]
     },
     "execution_count": 10,
     "metadata": {},
     "output_type": "execute_result"
    }
   ],
   "source": [
    "# Соберем данные по кол-ву объектов по виду\n",
    "data_by_object_type = (rest_data.groupby('object_type').agg({'id':'count', 'number':'median'})\n",
    "                                                       .rename(columns={'id': 'count'})                                \n",
    "                                                       .sort_values('count',ascending=False)\n",
    "                                                       .reset_index())\n",
    "data_by_object_type"
   ]
  },
  {
   "cell_type": "code",
   "execution_count": 11,
   "id": "cd15004d",
   "metadata": {
    "scrolled": true
   },
   "outputs": [
    {
     "data": {
      "image/png": "[encoded data removed]",
      "text/plain": [
       "<Figure size 432x288 with 1 Axes>"
      ]
     },
     "metadata": {},
     "output_type": "display_data"
    }
   ],
   "source": [
    "# Построим столбчатую диаграмму для каждого вида\n",
    "with plt.style.context('ggplot'):\n",
    "    plt.bar(data_by_object_type['object_type'],data_by_object_type['count'])\n",
    "plt.title('Кол-во заведений по виду в Москве',fontweight='bold')\n",
    "plt.ylabel('Кол-во заведений')\n",
    "plt.xticks(data_by_object_type['object_type'], rotation = 'vertical')\n",
    "plt.show()    "
   ]
  },
  {
   "cell_type": "markdown",
   "id": "3c240977",
   "metadata": {},
   "source": [
    "*Видно, что больше всего и с большим отрывом Кафе, дальше следуют приблизительно одинаковое кол-вл столовых, расторанов и быстрого обслуживания*"
   ]
  },
  {
   "cell_type": "markdown",
   "id": "455d3805",
   "metadata": {},
   "source": [
    "### Исследуйте соотношение сетевых и несетевых заведений по количеству. Постройте график."
   ]
  },
  {
   "cell_type": "code",
   "execution_count": 12,
   "id": "d6e63f46",
   "metadata": {},
   "outputs": [],
   "source": [
    "# Соберем данные по кол-ву заведение по сетевому типу\n",
    "data_by_chain = (rest_data.groupby('chain')['id']\n",
    "                         .count()\n",
    "                         .reset_index()\n",
    "                         .rename(columns={'id': 'count'})\n",
    "                         .sort_values('count',ascending=False))"
   ]
  },
  {
   "cell_type": "code",
   "execution_count": 13,
   "id": "7828fd9a",
   "metadata": {},
   "outputs": [
    {
     "data": {
      "text/html": [
       "<div>\n",
       "<style scoped>\n",
       "    .dataframe tbody tr th:only-of-type {\n",
       "        vertical-align: middle;\n",
       "    }\n",
       "\n",
       "    .dataframe tbody tr th {\n",
       "        vertical-align: top;\n",
       "    }\n",
       "\n",
       "    .dataframe thead th {\n",
       "        text-align: right;\n",
       "    }\n",
       "</style>\n",
       "<table border=\"1\" class=\"dataframe\">\n",
       "  <thead>\n",
       "    <tr style=\"text-align: right;\">\n",
       "      <th></th>\n",
       "      <th>chain</th>\n",
       "      <th>count</th>\n",
       "    </tr>\n",
       "  </thead>\n",
       "  <tbody>\n",
       "    <tr>\n",
       "      <th>1</th>\n",
       "      <td>не сетевой</td>\n",
       "      <td>12320</td>\n",
       "    </tr>\n",
       "    <tr>\n",
       "      <th>0</th>\n",
       "      <td>сетевой</td>\n",
       "      <td>2964</td>\n",
       "    </tr>\n",
       "  </tbody>\n",
       "</table>\n",
       "</div>"
      ],
      "text/plain": [
       "        chain  count\n",
       "1  не сетевой  12320\n",
       "0     сетевой   2964"
      ]
     },
     "execution_count": 13,
     "metadata": {},
     "output_type": "execute_result"
    }
   ],
   "source": [
    "#заменим сетевой тип в таблице на читаемый для вывода на графике\n",
    "data_by_chain.loc[0,'chain'] = 'сетевой'\n",
    "data_by_chain.loc[1,'chain'] = 'не сетевой'\n",
    "data_by_chain"
   ]
  },
  {
   "cell_type": "code",
   "execution_count": 14,
   "id": "e8b57cd1",
   "metadata": {
    "scrolled": true
   },
   "outputs": [
    {
     "data": {
      "image/png": "[encoded data removed]",
      "text/plain": [
       "<Figure size 432x288 with 1 Axes>"
      ]
     },
     "metadata": {},
     "output_type": "display_data"
    }
   ],
   "source": [
    "# Постоим столбчатую диаграмму для каждого сетевого типа\n",
    "with plt.style.context('ggplot'):\n",
    "    plt.bar(data_by_chain['chain'], data_by_chain['count'])\n",
    "    plt.title('Кол-во сетевых и не сетевых заведений в Москве',fontweight='bold')\n",
    "    plt.ylabel('Кол-во заведений')\n",
    "    plt.show()     "
   ]
  },
  {
   "cell_type": "markdown",
   "id": "db8c6bd6",
   "metadata": {},
   "source": [
    "*Сетевых заведений в 4 раза меньше чем не сетевых*"
   ]
  },
  {
   "cell_type": "markdown",
   "id": "1a45acea",
   "metadata": {},
   "source": [
    "### Для какого вида объекта общественного питания характерно сетевое распространение?"
   ]
  },
  {
   "cell_type": "code",
   "execution_count": 15,
   "id": "af7ea876",
   "metadata": {},
   "outputs": [
    {
     "data": {
      "text/html": [
       "<div>\n",
       "<style scoped>\n",
       "    .dataframe tbody tr th:only-of-type {\n",
       "        vertical-align: middle;\n",
       "    }\n",
       "\n",
       "    .dataframe tbody tr th {\n",
       "        vertical-align: top;\n",
       "    }\n",
       "\n",
       "    .dataframe thead th {\n",
       "        text-align: right;\n",
       "    }\n",
       "</style>\n",
       "<table border=\"1\" class=\"dataframe\">\n",
       "  <thead>\n",
       "    <tr style=\"text-align: right;\">\n",
       "      <th></th>\n",
       "      <th>object_type</th>\n",
       "      <th>chain</th>\n",
       "      <th>count</th>\n",
       "    </tr>\n",
       "  </thead>\n",
       "  <tbody>\n",
       "    <tr>\n",
       "      <th>0</th>\n",
       "      <td>бар</td>\n",
       "      <td>да</td>\n",
       "      <td>37</td>\n",
       "    </tr>\n",
       "    <tr>\n",
       "      <th>1</th>\n",
       "      <td>бар</td>\n",
       "      <td>нет</td>\n",
       "      <td>818</td>\n",
       "    </tr>\n",
       "    <tr>\n",
       "      <th>2</th>\n",
       "      <td>буфет</td>\n",
       "      <td>да</td>\n",
       "      <td>11</td>\n",
       "    </tr>\n",
       "  </tbody>\n",
       "</table>\n",
       "</div>"
      ],
      "text/plain": [
       "  object_type chain  count\n",
       "0         бар    да     37\n",
       "1         бар   нет    818\n",
       "2       буфет    да     11"
      ]
     },
     "execution_count": 15,
     "metadata": {},
     "output_type": "execute_result"
    }
   ],
   "source": [
    "#соберем в одну таблицу кол-во объектов питания по виду и сетевому признаку\n",
    "data_by_object_chain = (rest_data.groupby(['object_type','chain'])\n",
    "                                 .agg({'id':'count'})\n",
    "                                 .reset_index()\n",
    "                                 .rename(columns={'id': 'count'}))\n",
    "data_by_object_chain.head(3)"
   ]
  },
  {
   "cell_type": "code",
   "execution_count": 16,
   "id": "fec47df1",
   "metadata": {},
   "outputs": [],
   "source": [
    "#разделем данные по сетевому признаку\n",
    "data_by_chain = data_by_object_chain[data_by_object_chain['chain'] == 'да']\n",
    "data_by_no_chain = data_by_object_chain[data_by_object_chain['chain'] == 'нет']"
   ]
  },
  {
   "cell_type": "code",
   "execution_count": 17,
   "id": "11ed71a7",
   "metadata": {},
   "outputs": [
    {
     "data": {
      "image/png": "[encoded data removed]",
      "text/plain": [
       "<Figure size 432x288 with 1 Axes>"
      ]
     },
     "metadata": {},
     "output_type": "display_data"
    }
   ],
   "source": [
    "#постоим графики по кол-ву заведений для каждойго вида объекта для сетевых и не сетевых заведений\n",
    "with plt.style.context('ggplot'):\n",
    "    plt.plot(data_by_chain['object_type'],data_by_chain['count'], label = 'сетевое')\n",
    "    plt.plot(data_by_no_chain['object_type'],data_by_no_chain['count'], label = 'не сетевое')\n",
    "plt.legend()\n",
    "plt.title('Кол-во заведений по виду объектов', fontweight='bold')\n",
    "plt.ylabel('Кол-во заведений')\n",
    "plt.xticks(data_by_object_type['object_type'], rotation = 'vertical')\n",
    "plt.show()"
   ]
  },
  {
   "cell_type": "markdown",
   "id": "16ab27dd",
   "metadata": {},
   "source": [
    "* *Сетевое распространение характерно для кафе, ресторанов и фастфуда*\n",
    "* *Кафе приобладает ддля всех видов общественного питания*\n",
    "* *Инетресно, что столовых много и все они не сетевые*"
   ]
  },
  {
   "cell_type": "markdown",
   "id": "8b887c9d",
   "metadata": {},
   "source": [
    "### Что характерно для сетевых заведений: много заведений с небольшим числом посадочных мест в каждом или мало заведений с большим количеством посадочных мест?"
   ]
  },
  {
   "cell_type": "code",
   "execution_count": 18,
   "id": "019346b2",
   "metadata": {},
   "outputs": [
    {
     "data": {
      "text/html": [
       "<div>\n",
       "<style scoped>\n",
       "    .dataframe tbody tr th:only-of-type {\n",
       "        vertical-align: middle;\n",
       "    }\n",
       "\n",
       "    .dataframe tbody tr th {\n",
       "        vertical-align: top;\n",
       "    }\n",
       "\n",
       "    .dataframe thead th {\n",
       "        text-align: right;\n",
       "    }\n",
       "</style>\n",
       "<table border=\"1\" class=\"dataframe\">\n",
       "  <thead>\n",
       "    <tr style=\"text-align: right;\">\n",
       "      <th></th>\n",
       "      <th>id</th>\n",
       "      <th>object_name</th>\n",
       "      <th>chain</th>\n",
       "      <th>object_type</th>\n",
       "      <th>address</th>\n",
       "      <th>number</th>\n",
       "    </tr>\n",
       "  </thead>\n",
       "  <tbody>\n",
       "    <tr>\n",
       "      <th>3</th>\n",
       "      <td>21894</td>\n",
       "      <td>ПИЦЦЕТОРИЯ</td>\n",
       "      <td>да</td>\n",
       "      <td>кафе</td>\n",
       "      <td>город Москва, Абрамцевская улица, дом 1</td>\n",
       "      <td>40</td>\n",
       "    </tr>\n",
       "    <tr>\n",
       "      <th>6</th>\n",
       "      <td>148815</td>\n",
       "      <td>Брусника</td>\n",
       "      <td>да</td>\n",
       "      <td>кафе</td>\n",
       "      <td>город Москва, переулок Сивцев Вражек, дом 6/2</td>\n",
       "      <td>10</td>\n",
       "    </tr>\n",
       "    <tr>\n",
       "      <th>13</th>\n",
       "      <td>22579</td>\n",
       "      <td>Алло Пицца</td>\n",
       "      <td>да</td>\n",
       "      <td>кафе</td>\n",
       "      <td>город Москва, улица Авиаторов, дом 14</td>\n",
       "      <td>32</td>\n",
       "    </tr>\n",
       "  </tbody>\n",
       "</table>\n",
       "</div>"
      ],
      "text/plain": [
       "        id object_name chain object_type  \\\n",
       "3    21894  ПИЦЦЕТОРИЯ    да        кафе   \n",
       "6   148815    Брусника    да        кафе   \n",
       "13   22579  Алло Пицца    да        кафе   \n",
       "\n",
       "                                          address  number  \n",
       "3         город Москва, Абрамцевская улица, дом 1      40  \n",
       "6   город Москва, переулок Сивцев Вражек, дом 6/2      10  \n",
       "13          город Москва, улица Авиаторов, дом 14      32  "
      ]
     },
     "execution_count": 18,
     "metadata": {},
     "output_type": "execute_result"
    }
   ],
   "source": [
    "#отфильтруем сетевые заведения\n",
    "data_chain = rest_data[rest_data['chain'] == 'да']\n",
    "data_chain.head(3)"
   ]
  },
  {
   "cell_type": "code",
   "execution_count": 19,
   "id": "bf4e3c34",
   "metadata": {
    "scrolled": true
   },
   "outputs": [
    {
     "name": "stdout",
     "output_type": "stream",
     "text": [
      "Медиана 40.0\n"
     ]
    },
    {
     "name": "stderr",
     "output_type": "stream",
     "text": [
      "C:\\Users\\e.chernykh\\Anaconda3\\lib\\site-packages\\seaborn\\distributions.py:2619: FutureWarning: `distplot` is a deprecated function and will be removed in a future version. Please adapt your code to use either `displot` (a figure-level function with similar flexibility) or `histplot` (an axes-level function for histograms).\n",
      "  warnings.warn(msg, FutureWarning)\n"
     ]
    },
    {
     "data": {
      "text/plain": [
       "<function matplotlib.pyplot.show(close=None, block=None)>"
      ]
     },
     "execution_count": 19,
     "metadata": {},
     "output_type": "execute_result"
    },
    {
     "data": {
      "image/png": "[encoded data removed]",
      "text/plain": [
       "<Figure size 576x576 with 1 Axes>"
      ]
     },
     "metadata": {},
     "output_type": "display_data"
    }
   ],
   "source": [
    "# построим частотную гистограмму с линейным графиком\n",
    "with plt.style.context('ggplot'):\n",
    "    print('Медиана',data_chain['number'].median())\n",
    "    plt.figure(figsize=(8, 8))\n",
    "    sns.distplot(data_chain['number'], bins=200) \n",
    "    \n",
    "plt.axvline(data_chain['number'].median(), color='r', linestyle='dashed', linewidth=3, label='Mediana') \n",
    "plt.legend()\n",
    "plt.title('Кол-во заведений для разного числа посадочных мест', fontweight='bold')\n",
    "plt.ylabel('Кол-во заведений')\n",
    "plt.xlabel('Кол-во посадочных мест')\n",
    "plt.legend()\n",
    "plt.show"
   ]
  },
  {
   "cell_type": "markdown",
   "id": "6dca5bb5",
   "metadata": {},
   "source": [
    "В среднем кол-во посадочных мест не велико (медиана - 40) и видно большое кол-во заведений без посадочных мест"
   ]
  },
  {
   "cell_type": "code",
   "execution_count": 20,
   "id": "89f5446e",
   "metadata": {},
   "outputs": [
    {
     "data": {
      "text/html": [
       "<div>\n",
       "<style scoped>\n",
       "    .dataframe tbody tr th:only-of-type {\n",
       "        vertical-align: middle;\n",
       "    }\n",
       "\n",
       "    .dataframe tbody tr th {\n",
       "        vertical-align: top;\n",
       "    }\n",
       "\n",
       "    .dataframe thead th {\n",
       "        text-align: right;\n",
       "    }\n",
       "</style>\n",
       "<table border=\"1\" class=\"dataframe\">\n",
       "  <thead>\n",
       "    <tr style=\"text-align: right;\">\n",
       "      <th></th>\n",
       "      <th>Посадочные места</th>\n",
       "      <th>Кол-во заведений</th>\n",
       "    </tr>\n",
       "  </thead>\n",
       "  <tbody>\n",
       "    <tr>\n",
       "      <th>0</th>\n",
       "      <td>0</td>\n",
       "      <td>265</td>\n",
       "    </tr>\n",
       "    <tr>\n",
       "      <th>1</th>\n",
       "      <td>1</td>\n",
       "      <td>15</td>\n",
       "    </tr>\n",
       "    <tr>\n",
       "      <th>2</th>\n",
       "      <td>2</td>\n",
       "      <td>29</td>\n",
       "    </tr>\n",
       "  </tbody>\n",
       "</table>\n",
       "</div>"
      ],
      "text/plain": [
       "   Посадочные места  Кол-во заведений\n",
       "0                 0               265\n",
       "1                 1                15\n",
       "2                 2                29"
      ]
     },
     "execution_count": 20,
     "metadata": {},
     "output_type": "execute_result"
    }
   ],
   "source": [
    "# Для каждого кол-ва посадочных мест посчитаем кол-вo заведений\n",
    "data_chain_by_number = (data_chain.groupby('number')['id']\n",
    "                                 .count()\n",
    "                                 .reset_index()\n",
    "                                 .rename(columns={'number': 'Посадочные места', 'id':'Кол-во заведений'}))\n",
    "data_chain_by_number.head(3)"
   ]
  },
  {
   "cell_type": "code",
   "execution_count": 21,
   "id": "c312693e",
   "metadata": {},
   "outputs": [
    {
     "data": {
      "image/png": "[encoded data removed]",
      "text/plain": [
       "<Figure size 432x432 with 3 Axes>"
      ]
     },
     "metadata": {},
     "output_type": "display_data"
    }
   ],
   "source": [
    "# Построим диаграмму совместного разпределения кол-ва посадочных мест от кол-ва заведений\n",
    "with plt.style.context('ggplot'):\n",
    "    ax = sns.jointplot(x='Посадочные места', y='Кол-во заведений', data=data_chain_by_number)\n",
    "    ax.fig.suptitle('Диаграмма совместного разпределения кол-ва посадочных мест от кол-ва заведений')\n"
   ]
  },
  {
   "cell_type": "markdown",
   "id": "be4753fe",
   "metadata": {},
   "source": [
    "*Ситуация подтвержается, что кол-во посадочных мест не велико (до 100)*\n",
    "*Предлагаю посмотреть для какого вида заведения сколько посадочных мест характерно*"
   ]
  },
  {
   "cell_type": "code",
   "execution_count": 22,
   "id": "e051402a",
   "metadata": {},
   "outputs": [
    {
     "name": "stdout",
     "output_type": "stream",
     "text": [
      "Медиана для быстрого питания 25.0\n",
      "Минимум для быстрого питания 0\n",
      "Максимум для быстрого питания 580\n"
     ]
    },
    {
     "name": "stderr",
     "output_type": "stream",
     "text": [
      "C:\\Users\\e.chernykh\\Anaconda3\\lib\\site-packages\\seaborn\\distributions.py:2619: FutureWarning: `distplot` is a deprecated function and will be removed in a future version. Please adapt your code to use either `displot` (a figure-level function with similar flexibility) or `histplot` (an axes-level function for histograms).\n",
      "  warnings.warn(msg, FutureWarning)\n"
     ]
    },
    {
     "data": {
      "image/png": "[encoded data removed]",
      "text/plain": [
       "<Figure size 576x576 with 1 Axes>"
      ]
     },
     "metadata": {},
     "output_type": "display_data"
    }
   ],
   "source": [
    "# Проверим распределение для заведений быстного питания\n",
    "data_chain_fast = data_chain[data_chain['object_type'] == 'фаст-фуд']\n",
    "with plt.style.context('ggplot'):\n",
    "    print('Медиана для быстрого питания',data_chain_fast['number'].median())\n",
    "    print('Минимум для быстрого питания',data_chain_fast['number'].min())\n",
    "    print('Максимум для быстрого питания',data_chain_fast['number'].max())\n",
    "    plt.figure(figsize=(8, 8))\n",
    "    plt.title('Кол-во заведений бысторго питания для разного числа посадочных мест', fontweight='bold')\n",
    "    plt.ylabel('Кол-во заведений')\n",
    "    plt.xlabel('Кол-во посадочных мест')\n",
    "    plt.axvline(data_chain_fast['number'].median(), color='r', linestyle='dashed', linewidth=3, label='Mediana') \n",
    "    plt.legend()\n",
    "    plt.show\n",
    "    sns.distplot(data_chain_fast['number'], bins=200)   "
   ]
  },
  {
   "cell_type": "markdown",
   "id": "1c023387",
   "metadata": {},
   "source": [
    "В быстром питании преобладают заведения без посадочных мест, но есть редкие варианты и до 580 мест"
   ]
  },
  {
   "cell_type": "code",
   "execution_count": 23,
   "id": "1f4183d0",
   "metadata": {},
   "outputs": [
    {
     "name": "stdout",
     "output_type": "stream",
     "text": [
      "Медиана для кафе 40.0\n",
      "Минимум для кафе 0\n",
      "Максимум для кафе 456\n"
     ]
    },
    {
     "name": "stderr",
     "output_type": "stream",
     "text": [
      "C:\\Users\\e.chernykh\\Anaconda3\\lib\\site-packages\\seaborn\\distributions.py:2619: FutureWarning: `distplot` is a deprecated function and will be removed in a future version. Please adapt your code to use either `displot` (a figure-level function with similar flexibility) or `histplot` (an axes-level function for histograms).\n",
      "  warnings.warn(msg, FutureWarning)\n"
     ]
    },
    {
     "data": {
      "image/png": "[encoded data removed]",
      "text/plain": [
       "<Figure size 576x576 with 1 Axes>"
      ]
     },
     "metadata": {},
     "output_type": "display_data"
    }
   ],
   "source": [
    "# Построим диаграмму совместного разпреде\n",
    "data_chain_cafe = data_chain[data_chain['object_type'] == 'кафе']\n",
    "with plt.style.context('ggplot'):\n",
    "    print('Медиана для кафе',data_chain_cafe['number'].median())\n",
    "    print('Минимум для кафе',data_chain_cafe['number'].min())\n",
    "    print('Максимум для кафе',data_chain_cafe['number'].max())\n",
    "    plt.figure(figsize=(8, 8))\n",
    "    plt.title('Кол-во кафе для разного числа посадочных мест', fontweight='bold')\n",
    "    plt.ylabel('Кол-во кафе')\n",
    "    plt.xlabel('Кол-во посадочных мест')\n",
    "    plt.axvline(data_chain_cafe['number'].median(), color='r', linestyle='dashed', linewidth=3, label='Mediana') \n",
    "    plt.legend()\n",
    "    plt.show\n",
    "    sns.distplot(data_chain_cafe['number'], bins=200) \n"
   ]
  },
  {
   "cell_type": "markdown",
   "id": "5731e79e",
   "metadata": {},
   "source": [
    "Для кафе большой разброс вариантов кол-ва посадочных мест, но медианное значение 40. Кафе больше всего в сетевом бизнесе"
   ]
  },
  {
   "cell_type": "code",
   "execution_count": 24,
   "id": "6849afdc",
   "metadata": {},
   "outputs": [
    {
     "name": "stdout",
     "output_type": "stream",
     "text": [
      "Медиана для ресторанов 89.0\n",
      "Минимум для ресторанов 0\n",
      "Максимум для ресторанов 500\n"
     ]
    },
    {
     "name": "stderr",
     "output_type": "stream",
     "text": [
      "C:\\Users\\e.chernykh\\Anaconda3\\lib\\site-packages\\seaborn\\distributions.py:2619: FutureWarning: `distplot` is a deprecated function and will be removed in a future version. Please adapt your code to use either `displot` (a figure-level function with similar flexibility) or `histplot` (an axes-level function for histograms).\n",
      "  warnings.warn(msg, FutureWarning)\n"
     ]
    },
    {
     "data": {
      "image/png": "[encoded data removed]",
      "text/plain": [
       "<Figure size 576x576 with 1 Axes>"
      ]
     },
     "metadata": {},
     "output_type": "display_data"
    }
   ],
   "source": [
    "data_chain_restaurant = data_chain[data_chain['object_type'] == 'ресторан']\n",
    "with plt.style.context('ggplot'):\n",
    "    print('Медиана для ресторанов',data_chain_restaurant['number'].median())\n",
    "    print('Минимум для ресторанов',data_chain_restaurant['number'].min())\n",
    "    print('Максимум для ресторанов',data_chain_restaurant['number'].max())\n",
    "    plt.figure(figsize=(8, 8))\n",
    "    plt.title('Кол-во ресторанов для разного числа посадочных мест', fontweight='bold')\n",
    "    plt.ylabel('Кол-во ресторанов')\n",
    "    plt.xlabel('Кол-во посадочных мест')\n",
    "    plt.axvline(data_chain_restaurant['number'].median(), color='r', linestyle='dashed', linewidth=3, label='Mediana') \n",
    "    plt.legend()    \n",
    "    plt.show\n",
    "    sns.distplot(data_chain_restaurant['number'], bins=200) "
   ]
  },
  {
   "cell_type": "markdown",
   "id": "84b77008",
   "metadata": {},
   "source": [
    "В ресторанах больше посадочных мест чем в других заведениях. Максамльное кол-во ресторанов имеет около 100 посадочных мест"
   ]
  },
  {
   "cell_type": "markdown",
   "id": "8ffca04f",
   "metadata": {},
   "source": [
    "**Общий вывод:**\n",
    "В сетвых заведениях преобладают 3 типа заведений и для каждого из них характерно определенное кол-во посадочных мест:\n",
    "* быстрое питание - преобладают заведения без посадочных мест, но есть редкие варианты и до 580 мест\n",
    "* кафе - большой разброс вариантов кол-ва посадочных мест, но медианное значение 40. Кафе больше всего в сетевом бизнесе\n",
    "* ресторан - в ресторанах больше посадочных мест чем в других заведениях. Максамльное кол-во ресторанов имеет около 100 посадочных мест\n",
    "\n",
    "В целом видно, что большом кол-ве сетевых заведений преобладает малое кол-во посадочных мест (меньше 40) "
   ]
  },
  {
   "cell_type": "code",
   "execution_count": 37,
   "id": "b104a0db",
   "metadata": {},
   "outputs": [],
   "source": [
    "#отфильтруем сетеве заведения\n",
    "data_chain_new = (rest_data[rest_data['chain'] == 'да']\n",
    "                  .groupby('object_name')\n",
    "                  .agg({'number':'mean','id':'count'})\n",
    "                  .sort_values('id', ascending=False)\n",
    "                   .rename(columns={'number': 'Посадочные места', 'id':'Кол-во заведений'}))"
   ]
  },
  {
   "cell_type": "code",
   "execution_count": 38,
   "id": "284bbf51",
   "metadata": {},
   "outputs": [
    {
     "data": {
      "image/png": "[encoded data removed]",
      "text/plain": [
       "<Figure size 432x432 with 3 Axes>"
      ]
     },
     "metadata": {},
     "output_type": "display_data"
    }
   ],
   "source": [
    "# Построим диаграмму совместного разпределения кол-ва посадочных мест от кол-ва заведений\n",
    "with plt.style.context('ggplot'):\n",
    "    ax = sns.jointplot(x='Посадочные места', y='Кол-во заведений', data=data_chain_new, kind='reg')\n",
    "    ax.fig.suptitle('Диаграмма совместного разпределения кол-ва посадочных мест от кол-ва заведений')   "
   ]
  },
  {
   "cell_type": "code",
   "execution_count": 39,
   "id": "61a9151a",
   "metadata": {},
   "outputs": [
    {
     "data": {
      "text/plain": [
       "45.0"
      ]
     },
     "execution_count": 39,
     "metadata": {},
     "output_type": "execute_result"
    }
   ],
   "source": [
    "data_chain_new['Посадочные места'].median()"
   ]
  },
  {
   "cell_type": "markdown",
   "id": "a1d3c588",
   "metadata": {},
   "source": [
    "*Характерно небольшое кол-во заведений с медианным значением посадочных места равным 45*"
   ]
  },
  {
   "cell_type": "markdown",
   "id": "6604163f",
   "metadata": {},
   "source": [
    "### Для каждого вида объекта общественного питания опишите среднее количество посадочных мест. Какой вид предоставляет в среднем самое большое количество посадочных мест? Постройте графики."
   ]
  },
  {
   "cell_type": "code",
   "execution_count": 40,
   "id": "3dba5da0",
   "metadata": {},
   "outputs": [
    {
     "data": {
      "image/png": "[encoded data removed]",
      "text/plain": [
       "<Figure size 504x504 with 1 Axes>"
      ]
     },
     "metadata": {
      "needs_background": "light"
     },
     "output_type": "display_data"
    }
   ],
   "source": [
    "#Постоим столбчатую диаграмму по средним значениям посадочных мест\n",
    "plt.figure(figsize=(7,7))\n",
    "sns.barplot( x='number', y='object_type', data=rest_data, color = \"red\").set(title='Кол-во посадочных мест для каждого вида общественного питания', xlabel='Кол-во пасадочных мест', ylabel='')\n",
    "plt.show()"
   ]
  },
  {
   "cell_type": "markdown",
   "id": "3f1e85b3",
   "metadata": {},
   "source": [
    "*Больше всего посадочных мест у столовой и ресторана. Меньше всего мест в магазинах в отделе кулинарии.*"
   ]
  },
  {
   "cell_type": "code",
   "execution_count": 41,
   "id": "25e645d7",
   "metadata": {
    "scrolled": true
   },
   "outputs": [
    {
     "data": {
      "image/png": "[encoded data removed]",
      "text/plain": [
       "<Figure size 1080x360 with 1 Axes>"
      ]
     },
     "metadata": {
      "needs_background": "light"
     },
     "output_type": "display_data"
    }
   ],
   "source": [
    "#Построми ящик с усами увидеть больше информации для каждого вида общественного питания\n",
    "plt.figure(figsize=(15,5))\n",
    "rest_data_short = rest_data[rest_data['number']<500]\n",
    "sns.boxplot(x='object_type', y='number', data=rest_data_short, palette='bright').set(title='Среднее кол-во посадочных мест для каждого вида общественного питания', ylabel='Кол-во пасадочных мест', xlabel='')\n",
    "plt.xticks(rotation=20)\n",
    "plt.show()"
   ]
  },
  {
   "cell_type": "markdown",
   "id": "244c4d3f",
   "metadata": {},
   "source": [
    "*Столовая и ресторан в среднем имеют около 100 посадочных мести и имеют большое кол-во выбросов.\n",
    "У кафе в среднем около 40 посадочных мест\n",
    "У закусочных, магазинов, кафетерий и фаст-фуда -  близится в нулю*"
   ]
  },
  {
   "cell_type": "code",
   "execution_count": 42,
   "id": "722ba606",
   "metadata": {},
   "outputs": [
    {
     "data": {
      "image/png": "[encoded data removed]",
      "text/plain": [
       "<Figure size 576x576 with 1 Axes>"
      ]
     },
     "metadata": {
      "needs_background": "light"
     },
     "output_type": "display_data"
    }
   ],
   "source": [
    "plt.figure(figsize=(8,8))\n",
    "sns.barplot(y='object_type', x='number', hue = 'chain', data=rest_data, color = 'red').set(title='Кол-во посадочных мест для сетевых и не сетевых заведений', xlabel='Кол-во пасадочных мест', ylabel='')\n",
    "plt.show()"
   ]
  },
  {
   "cell_type": "markdown",
   "id": "2e5c6c7e",
   "metadata": {},
   "source": [
    "*Видно, что сетевые заведения чаще организуют посадочные места, чем не сетевые*"
   ]
  },
  {
   "cell_type": "markdown",
   "id": "798d4a8c",
   "metadata": {},
   "source": [
    "### Выделите в отдельный столбец информацию об улице из столбца address "
   ]
  },
  {
   "cell_type": "code",
   "execution_count": 139,
   "id": "0c9bf1e4",
   "metadata": {},
   "outputs": [],
   "source": [
    "# Напишем функцию выделения улицы\n",
    "def street_extraction(address):\n",
    "    street_variants = [\"улица\", \"проспект\", \"шоссе\", \"площадь\", \"бульвар\", \"переулок\", \"микрорайон\", 'проезд', 'набережная', 'аллея', 'линия', 'тупик' ]\n",
    "    #разобьем адрес на части\n",
    "    split_address = address.split(sep=',')\n",
    "    # в каждом кусочке адреса поищем ключевые слова, показывающие, что это улица и возвратим найденный кусочек\n",
    "    for i in range(len(split_address)):\n",
    "        for variant in street_variants:\n",
    "            if variant in split_address[i]:\n",
    "                return split_address[i]\n",
    "    return 'не определен'"
   ]
  },
  {
   "cell_type": "code",
   "execution_count": 141,
   "id": "34bdcbcc",
   "metadata": {
    "scrolled": true
   },
   "outputs": [
    {
     "data": {
      "text/html": [
       "<div>\n",
       "<style scoped>\n",
       "    .dataframe tbody tr th:only-of-type {\n",
       "        vertical-align: middle;\n",
       "    }\n",
       "\n",
       "    .dataframe tbody tr th {\n",
       "        vertical-align: top;\n",
       "    }\n",
       "\n",
       "    .dataframe thead th {\n",
       "        text-align: right;\n",
       "    }\n",
       "</style>\n",
       "<table border=\"1\" class=\"dataframe\">\n",
       "  <thead>\n",
       "    <tr style=\"text-align: right;\">\n",
       "      <th></th>\n",
       "      <th>id</th>\n",
       "      <th>object_name</th>\n",
       "      <th>chain</th>\n",
       "      <th>object_type</th>\n",
       "      <th>address</th>\n",
       "      <th>number</th>\n",
       "      <th>street</th>\n",
       "    </tr>\n",
       "  </thead>\n",
       "  <tbody>\n",
       "    <tr>\n",
       "      <th>0</th>\n",
       "      <td>151635</td>\n",
       "      <td>СМЕТАНА</td>\n",
       "      <td>нет</td>\n",
       "      <td>кафе</td>\n",
       "      <td>город Москва, улица Егора Абакумова, дом 9</td>\n",
       "      <td>48</td>\n",
       "      <td>улица Егора Абакумова</td>\n",
       "    </tr>\n",
       "    <tr>\n",
       "      <th>1</th>\n",
       "      <td>77874</td>\n",
       "      <td>Родник</td>\n",
       "      <td>нет</td>\n",
       "      <td>кафе</td>\n",
       "      <td>город Москва, улица Талалихина, дом 2/1, корпус 1</td>\n",
       "      <td>35</td>\n",
       "      <td>улица Талалихина</td>\n",
       "    </tr>\n",
       "    <tr>\n",
       "      <th>2</th>\n",
       "      <td>24309</td>\n",
       "      <td>Кафе «Академия»</td>\n",
       "      <td>нет</td>\n",
       "      <td>кафе</td>\n",
       "      <td>город Москва, Абельмановская улица, дом 6</td>\n",
       "      <td>95</td>\n",
       "      <td>Абельмановская улица</td>\n",
       "    </tr>\n",
       "    <tr>\n",
       "      <th>3</th>\n",
       "      <td>21894</td>\n",
       "      <td>ПИЦЦЕТОРИЯ</td>\n",
       "      <td>да</td>\n",
       "      <td>кафе</td>\n",
       "      <td>город Москва, Абрамцевская улица, дом 1</td>\n",
       "      <td>40</td>\n",
       "      <td>Абрамцевская улица</td>\n",
       "    </tr>\n",
       "    <tr>\n",
       "      <th>4</th>\n",
       "      <td>119365</td>\n",
       "      <td>Кафе «Вишневая метель»</td>\n",
       "      <td>нет</td>\n",
       "      <td>кафе</td>\n",
       "      <td>город Москва, Абрамцевская улица, дом 9, корпус 1</td>\n",
       "      <td>50</td>\n",
       "      <td>Абрамцевская улица</td>\n",
       "    </tr>\n",
       "  </tbody>\n",
       "</table>\n",
       "</div>"
      ],
      "text/plain": [
       "       id             object_name chain object_type  \\\n",
       "0  151635                 СМЕТАНА   нет        кафе   \n",
       "1   77874                  Родник   нет        кафе   \n",
       "2   24309         Кафе «Академия»   нет        кафе   \n",
       "3   21894              ПИЦЦЕТОРИЯ    да        кафе   \n",
       "4  119365  Кафе «Вишневая метель»   нет        кафе   \n",
       "\n",
       "                                             address  number  \\\n",
       "0         город Москва, улица Егора Абакумова, дом 9      48   \n",
       "1  город Москва, улица Талалихина, дом 2/1, корпус 1      35   \n",
       "2          город Москва, Абельмановская улица, дом 6      95   \n",
       "3            город Москва, Абрамцевская улица, дом 1      40   \n",
       "4  город Москва, Абрамцевская улица, дом 9, корпус 1      50   \n",
       "\n",
       "                   street  \n",
       "0   улица Егора Абакумова  \n",
       "1        улица Талалихина  \n",
       "2    Абельмановская улица  \n",
       "3      Абрамцевская улица  \n",
       "4      Абрамцевская улица  "
      ]
     },
     "execution_count": 141,
     "metadata": {},
     "output_type": "execute_result"
    }
   ],
   "source": [
    "# вызовим функцию поиска улицы\n",
    "rest_data['street']=rest_data['address'].apply(street_extraction)\n",
    "rest_data.head()"
   ]
  },
  {
   "cell_type": "markdown",
   "id": "00e0c5ab",
   "metadata": {},
   "source": [
    "### Постройте график топ-10 улиц по количеству объектов общественного питания. Воспользуйтесь внешней информацией и ответьте на вопрос — в каких районах Москвы находятся эти улицы?"
   ]
  },
  {
   "cell_type": "code",
   "execution_count": 142,
   "id": "3445bb64",
   "metadata": {},
   "outputs": [],
   "source": [
    "#Сгруппируем данные по улицам \n",
    "data_by_street = (rest_data.groupby('street')\n",
    "                           .agg({'id':'count'})\n",
    "                           .reset_index()\n",
    "                           .rename(columns={'id':'count', 'street':'street_name'})\n",
    "                           .sort_values('count', ascending=False))"
   ]
  },
  {
   "cell_type": "code",
   "execution_count": 143,
   "id": "18b39ec5",
   "metadata": {},
   "outputs": [],
   "source": [
    "# Уберем лишние пробелы в наименовании улицы\n",
    "data_by_street['street_name'] = data_by_street['street_name'].str.strip()"
   ]
  },
  {
   "cell_type": "code",
   "execution_count": 145,
   "id": "f89c5e77",
   "metadata": {},
   "outputs": [
    {
     "data": {
      "text/html": [
       "<div>\n",
       "<style scoped>\n",
       "    .dataframe tbody tr th:only-of-type {\n",
       "        vertical-align: middle;\n",
       "    }\n",
       "\n",
       "    .dataframe tbody tr th {\n",
       "        vertical-align: top;\n",
       "    }\n",
       "\n",
       "    .dataframe thead th {\n",
       "        text-align: right;\n",
       "    }\n",
       "</style>\n",
       "<table border=\"1\" class=\"dataframe\">\n",
       "  <thead>\n",
       "    <tr style=\"text-align: right;\">\n",
       "      <th></th>\n",
       "      <th>street_name</th>\n",
       "      <th>count</th>\n",
       "    </tr>\n",
       "  </thead>\n",
       "  <tbody>\n",
       "    <tr>\n",
       "      <th>1423</th>\n",
       "      <td>проспект Мира</td>\n",
       "      <td>204</td>\n",
       "    </tr>\n",
       "    <tr>\n",
       "      <th>1010</th>\n",
       "      <td>Профсоюзная улица</td>\n",
       "      <td>181</td>\n",
       "    </tr>\n",
       "    <tr>\n",
       "      <th>685</th>\n",
       "      <td>Ленинградский проспект</td>\n",
       "      <td>170</td>\n",
       "    </tr>\n",
       "    <tr>\n",
       "      <th>995</th>\n",
       "      <td>Пресненская набережная</td>\n",
       "      <td>167</td>\n",
       "    </tr>\n",
       "    <tr>\n",
       "      <th>399</th>\n",
       "      <td>Варшавское шоссе</td>\n",
       "      <td>164</td>\n",
       "    </tr>\n",
       "    <tr>\n",
       "      <th>688</th>\n",
       "      <td>Ленинский проспект</td>\n",
       "      <td>147</td>\n",
       "    </tr>\n",
       "    <tr>\n",
       "      <th>1419</th>\n",
       "      <td>проспект Вернадского</td>\n",
       "      <td>128</td>\n",
       "    </tr>\n",
       "    <tr>\n",
       "      <th>675</th>\n",
       "      <td>Кутузовский проспект</td>\n",
       "      <td>114</td>\n",
       "    </tr>\n",
       "    <tr>\n",
       "      <th>598</th>\n",
       "      <td>Каширское шоссе</td>\n",
       "      <td>111</td>\n",
       "    </tr>\n",
       "    <tr>\n",
       "      <th>605</th>\n",
       "      <td>Кировоградская улица</td>\n",
       "      <td>108</td>\n",
       "    </tr>\n",
       "  </tbody>\n",
       "</table>\n",
       "</div>"
      ],
      "text/plain": [
       "                 street_name  count\n",
       "1423           проспект Мира    204\n",
       "1010       Профсоюзная улица    181\n",
       "685   Ленинградский проспект    170\n",
       "995   Пресненская набережная    167\n",
       "399         Варшавское шоссе    164\n",
       "688       Ленинский проспект    147\n",
       "1419    проспект Вернадского    128\n",
       "675     Кутузовский проспект    114\n",
       "598          Каширское шоссе    111\n",
       "605     Кировоградская улица    108"
      ]
     },
     "execution_count": 145,
     "metadata": {},
     "output_type": "execute_result"
    }
   ],
   "source": [
    "# возьмет топ 10 улиц\n",
    "top_data_by_street = data_by_street[data_by_street['street_name']!='не определен'].head(10)\n",
    "top_data_by_street"
   ]
  },
  {
   "cell_type": "code",
   "execution_count": 146,
   "id": "5870b8dd",
   "metadata": {},
   "outputs": [
    {
     "data": {
      "text/plain": [
       "<function matplotlib.pyplot.show(close=None, block=None)>"
      ]
     },
     "execution_count": 146,
     "metadata": {},
     "output_type": "execute_result"
    },
    {
     "data": {
      "image/png": "[encoded data removed]",
      "text/plain": [
       "<Figure size 432x288 with 1 Axes>"
      ]
     },
     "metadata": {
      "needs_background": "light"
     },
     "output_type": "display_data"
    }
   ],
   "source": [
    "# Проиллюстрием улицы, где много заведений \n",
    "sns.barplot(y='street_name', x ='count', data=top_data_by_street, orient = 'h', color = 'red').set(title = 'Топ-10 улиц по кол-ву заведений', xlabel='Кол-во заведений')\n",
    "plt.show"
   ]
  },
  {
   "cell_type": "code",
   "execution_count": 149,
   "id": "2290aa82",
   "metadata": {},
   "outputs": [
    {
     "data": {
      "text/plain": [
       "Series([], Name: address, dtype: object)"
      ]
     },
     "execution_count": 149,
     "metadata": {},
     "output_type": "execute_result"
    }
   ],
   "source": [
    "test = rest_data[rest_data['street'] ==' город Зеленоград']\n",
    "test['address']"
   ]
  },
  {
   "cell_type": "code",
   "execution_count": 150,
   "id": "bf0bef0a",
   "metadata": {},
   "outputs": [],
   "source": [
    "#from io import BytesIO\n",
    "#import requests\n",
    "#spreadsheet_id = '1o0Rmxii5snYG8fk0Q81p9D5F9bZyslSPOGci7lpQ1Po'\n",
    "#file_name = 'https://docs.google.com/spreadsheets/d/{}/export?format=csv'.format(spreadsheet_id)\n",
    "#r = requests.get(file_name)\n",
    "#moscow_streets = pd.read_csv(BytesIO(r.content))"
   ]
  },
  {
   "cell_type": "code",
   "execution_count": 151,
   "id": "655b4e6b",
   "metadata": {},
   "outputs": [
    {
     "data": {
      "text/html": [
       "<div>\n",
       "<style scoped>\n",
       "    .dataframe tbody tr th:only-of-type {\n",
       "        vertical-align: middle;\n",
       "    }\n",
       "\n",
       "    .dataframe tbody tr th {\n",
       "        vertical-align: top;\n",
       "    }\n",
       "\n",
       "    .dataframe thead th {\n",
       "        text-align: right;\n",
       "    }\n",
       "</style>\n",
       "<table border=\"1\" class=\"dataframe\">\n",
       "  <thead>\n",
       "    <tr style=\"text-align: right;\">\n",
       "      <th></th>\n",
       "      <th>streetname</th>\n",
       "      <th>areaid</th>\n",
       "      <th>okrug</th>\n",
       "      <th>area</th>\n",
       "    </tr>\n",
       "  </thead>\n",
       "  <tbody>\n",
       "    <tr>\n",
       "      <th>0</th>\n",
       "      <td>Выставочный переулок</td>\n",
       "      <td>17.0</td>\n",
       "      <td>ЦАО</td>\n",
       "      <td>Пресненский район</td>\n",
       "    </tr>\n",
       "    <tr>\n",
       "      <th>1</th>\n",
       "      <td>улица Гашека</td>\n",
       "      <td>17.0</td>\n",
       "      <td>ЦАО</td>\n",
       "      <td>Пресненский район</td>\n",
       "    </tr>\n",
       "    <tr>\n",
       "      <th>2</th>\n",
       "      <td>Большая Никитская улица</td>\n",
       "      <td>17.0</td>\n",
       "      <td>ЦАО</td>\n",
       "      <td>Пресненский район</td>\n",
       "    </tr>\n",
       "    <tr>\n",
       "      <th>3</th>\n",
       "      <td>Глубокий переулок</td>\n",
       "      <td>17.0</td>\n",
       "      <td>ЦАО</td>\n",
       "      <td>Пресненский район</td>\n",
       "    </tr>\n",
       "    <tr>\n",
       "      <th>4</th>\n",
       "      <td>Большой Гнездниковский переулок</td>\n",
       "      <td>17.0</td>\n",
       "      <td>ЦАО</td>\n",
       "      <td>Пресненский район</td>\n",
       "    </tr>\n",
       "  </tbody>\n",
       "</table>\n",
       "</div>"
      ],
      "text/plain": [
       "                        streetname  areaid okrug               area\n",
       "0             Выставочный переулок    17.0   ЦАО  Пресненский район\n",
       "1                     улица Гашека    17.0   ЦАО  Пресненский район\n",
       "2          Большая Никитская улица    17.0   ЦАО  Пресненский район\n",
       "3                Глубокий переулок    17.0   ЦАО  Пресненский район\n",
       "4  Большой Гнездниковский переулок    17.0   ЦАО  Пресненский район"
      ]
     },
     "execution_count": 151,
     "metadata": {},
     "output_type": "execute_result"
    }
   ],
   "source": [
    "# Для того, чтобы узнать к каким районам принадлежат эти улицы, воспользуемся внешними данными\n",
    "path = 'https://docs.google.com/spreadsheets/d/1o0Rmxii5snYG8fk0Q81p9D5F9bZyslSPOGci7lpQ1Po/export?format=csv'\n",
    "streets = pd.read_csv(path)\n",
    "streets.head(5)"
   ]
  },
  {
   "cell_type": "code",
   "execution_count": 152,
   "id": "1b9116ae",
   "metadata": {},
   "outputs": [],
   "source": [
    "# Переименуем колонки в змеиный регистр\n",
    "streets.columns=['street_name', 'area_id', 'okrug', 'area']"
   ]
  },
  {
   "cell_type": "code",
   "execution_count": 153,
   "id": "4662d5b1",
   "metadata": {},
   "outputs": [
    {
     "data": {
      "text/html": [
       "<div>\n",
       "<style scoped>\n",
       "    .dataframe tbody tr th:only-of-type {\n",
       "        vertical-align: middle;\n",
       "    }\n",
       "\n",
       "    .dataframe tbody tr th {\n",
       "        vertical-align: top;\n",
       "    }\n",
       "\n",
       "    .dataframe thead th {\n",
       "        text-align: right;\n",
       "    }\n",
       "</style>\n",
       "<table border=\"1\" class=\"dataframe\">\n",
       "  <thead>\n",
       "    <tr style=\"text-align: right;\">\n",
       "      <th></th>\n",
       "      <th>street_name</th>\n",
       "      <th>count</th>\n",
       "      <th>area_id</th>\n",
       "      <th>okrug</th>\n",
       "      <th>area</th>\n",
       "    </tr>\n",
       "  </thead>\n",
       "  <tbody>\n",
       "    <tr>\n",
       "      <th>0</th>\n",
       "      <td>проспект Мира</td>\n",
       "      <td>204</td>\n",
       "      <td>70.0</td>\n",
       "      <td>СВАО</td>\n",
       "      <td>Алексеевский район</td>\n",
       "    </tr>\n",
       "    <tr>\n",
       "      <th>1</th>\n",
       "      <td>проспект Мира</td>\n",
       "      <td>204</td>\n",
       "      <td>86.0</td>\n",
       "      <td>СВАО</td>\n",
       "      <td>Ярославский Район</td>\n",
       "    </tr>\n",
       "    <tr>\n",
       "      <th>2</th>\n",
       "      <td>проспект Мира</td>\n",
       "      <td>204</td>\n",
       "      <td>78.0</td>\n",
       "      <td>СВАО</td>\n",
       "      <td>Район Марьина роща</td>\n",
       "    </tr>\n",
       "    <tr>\n",
       "      <th>3</th>\n",
       "      <td>проспект Мира</td>\n",
       "      <td>204</td>\n",
       "      <td>79.0</td>\n",
       "      <td>СВАО</td>\n",
       "      <td>Останкинский район</td>\n",
       "    </tr>\n",
       "    <tr>\n",
       "      <th>4</th>\n",
       "      <td>проспект Мира</td>\n",
       "      <td>204</td>\n",
       "      <td>81.0</td>\n",
       "      <td>СВАО</td>\n",
       "      <td>Район Ростокино</td>\n",
       "    </tr>\n",
       "  </tbody>\n",
       "</table>\n",
       "</div>"
      ],
      "text/plain": [
       "     street_name  count  area_id okrug                area\n",
       "0  проспект Мира    204     70.0  СВАО  Алексеевский район\n",
       "1  проспект Мира    204     86.0  СВАО   Ярославский Район\n",
       "2  проспект Мира    204     78.0  СВАО  Район Марьина роща\n",
       "3  проспект Мира    204     79.0  СВАО  Останкинский район\n",
       "4  проспект Мира    204     81.0  СВАО     Район Ростокино"
      ]
     },
     "execution_count": 153,
     "metadata": {},
     "output_type": "execute_result"
    }
   ],
   "source": [
    "# Добавим округ в общую таблицу с улицами  ив таблицу с топ-10 улицами\n",
    "data_by_street = data_by_street.merge(streets, on='street_name', how='left')\n",
    "top_data_by_street = top_data_by_street.merge(streets, on='street_name', how='left')\n",
    "top_data_by_street.head()"
   ]
  },
  {
   "cell_type": "code",
   "execution_count": 154,
   "id": "7c670b26",
   "metadata": {
    "scrolled": true
   },
   "outputs": [
    {
     "data": {
      "text/plain": [
       "0                  Алексеевский район\n",
       "1                   Ярославский Район\n",
       "2                  Район Марьина роща\n",
       "3                  Останкинский район\n",
       "4                     Район Ростокино\n",
       "5                      Район Свиблово\n",
       "6                     Мещанский район\n",
       "7                 Академический район\n",
       "8                     Район Черемушки\n",
       "9                       Район Ясенево\n",
       "10                     Район Коньково\n",
       "11                  Обручевский район\n",
       "12                  Район Теплый Стан\n",
       "13                     Район Аэропорт\n",
       "14                      Район Беговой\n",
       "15                  Хорошевский район\n",
       "16                        Район Сокол\n",
       "17                  Пресненский район\n",
       "18        Район Чертаново Центральное\n",
       "19           Район Чертаново Северное\n",
       "20              Район Чертаново Южное\n",
       "21                      Донской район\n",
       "22           Район Нагатино-Садовники\n",
       "23                     Нагорный район\n",
       "24              Район Северное Бутово\n",
       "25                 Район Южное Бутово\n",
       "26         Район Проспект Вернадского\n",
       "27           Район Тропарево-Никулино\n",
       "29                  Район Гагаринский\n",
       "30                Ломоносовский район\n",
       "33                     Район Якиманка\n",
       "35                      Район Раменки\n",
       "39                 Район Дорогомилово\n",
       "40               Район Фили-Давыдково\n",
       "41         Район Москворечье-Сабурово\n",
       "43       Район Орехово-Борисово Южное\n",
       "44    Район Орехово-Борисово Северное\n",
       "Name: area, dtype: object"
      ]
     },
     "execution_count": 154,
     "metadata": {},
     "output_type": "execute_result"
    }
   ],
   "source": [
    "#выберем районы, где больше всего заведений\n",
    "max_rest = top_data_by_street['area'].drop_duplicates()\n",
    "max_rest"
   ]
  },
  {
   "cell_type": "markdown",
   "id": "70b0a2ac",
   "metadata": {},
   "source": [
    "*Как видим, топ-10 улиц по кол-ву заведений располагаются в разных районах.*"
   ]
  },
  {
   "cell_type": "markdown",
   "id": "43d170c9",
   "metadata": {},
   "source": [
    "*Одна улица может быть в нескольних районах, по это вероятнее всего, что в выборку попали длинные улицы*"
   ]
  },
  {
   "cell_type": "markdown",
   "id": "1841d7d7",
   "metadata": {},
   "source": [
    "### Найдите число улиц с одним объектом общественного питания. Воспользуйтесь внешней информацией и ответьте на вопрос — в каких районах Москвы находятся эти улицы?"
   ]
  },
  {
   "cell_type": "code",
   "execution_count": 155,
   "id": "18d46969",
   "metadata": {},
   "outputs": [],
   "source": [
    "#выберем улицы с одним заведением\n",
    "min_rest = data_by_street[data_by_street['count']==1]"
   ]
  },
  {
   "cell_type": "code",
   "execution_count": 156,
   "id": "1209d292",
   "metadata": {},
   "outputs": [
    {
     "name": "stdout",
     "output_type": "stream",
     "text": [
      "Кол-во улиц с одним заведением: 680\n"
     ]
    }
   ],
   "source": [
    "print('Кол-во улиц с одним заведением:',len(min_rest))"
   ]
  },
  {
   "cell_type": "code",
   "execution_count": 157,
   "id": "24594874",
   "metadata": {},
   "outputs": [
    {
     "data": {
      "text/plain": [
       "1840                 Район Митино\n",
       "1841           Южнопортовый Район\n",
       "1842      Район Марьина роща СВАО\n",
       "1843            Даниловский район\n",
       "1844             Район Сокольники\n",
       "                  ...            \n",
       "2366                Район Марфино\n",
       "2381                    Ватутинки\n",
       "2392          Щаповское поселение\n",
       "2436    посёлок завода Мосрентген\n",
       "2445       Район Южное Медведково\n",
       "Name: area, Length: 124, dtype: object"
      ]
     },
     "execution_count": 157,
     "metadata": {},
     "output_type": "execute_result"
    }
   ],
   "source": [
    "# Соберем районы, где есть улицы только с одним завeденеим\n",
    "min_rest = min_rest['area'].drop_duplicates()\n",
    "min_rest "
   ]
  },
  {
   "cell_type": "markdown",
   "id": "bcd6e212",
   "metadata": {},
   "source": [
    "*На основе полученных данных можно сделать вывод, что в Москве: 649 улиц с одним объектом общественного питания"
   ]
  },
  {
   "cell_type": "code",
   "execution_count": 158,
   "id": "a017631e",
   "metadata": {},
   "outputs": [
    {
     "data": {
      "text/html": [
       "<div>\n",
       "<style scoped>\n",
       "    .dataframe tbody tr th:only-of-type {\n",
       "        vertical-align: middle;\n",
       "    }\n",
       "\n",
       "    .dataframe tbody tr th {\n",
       "        vertical-align: top;\n",
       "    }\n",
       "\n",
       "    .dataframe thead th {\n",
       "        text-align: right;\n",
       "    }\n",
       "</style>\n",
       "<table border=\"1\" class=\"dataframe\">\n",
       "  <thead>\n",
       "    <tr style=\"text-align: right;\">\n",
       "      <th></th>\n",
       "      <th>area</th>\n",
       "    </tr>\n",
       "  </thead>\n",
       "  <tbody>\n",
       "    <tr>\n",
       "      <th>0</th>\n",
       "      <td>Алексеевский район</td>\n",
       "    </tr>\n",
       "    <tr>\n",
       "      <th>1</th>\n",
       "      <td>Ярославский Район</td>\n",
       "    </tr>\n",
       "    <tr>\n",
       "      <th>2</th>\n",
       "      <td>Район Марьина роща</td>\n",
       "    </tr>\n",
       "    <tr>\n",
       "      <th>3</th>\n",
       "      <td>Останкинский район</td>\n",
       "    </tr>\n",
       "    <tr>\n",
       "      <th>4</th>\n",
       "      <td>Район Ростокино</td>\n",
       "    </tr>\n",
       "    <tr>\n",
       "      <th>5</th>\n",
       "      <td>Район Свиблово</td>\n",
       "    </tr>\n",
       "    <tr>\n",
       "      <th>6</th>\n",
       "      <td>Мещанский район</td>\n",
       "    </tr>\n",
       "    <tr>\n",
       "      <th>7</th>\n",
       "      <td>Академический район</td>\n",
       "    </tr>\n",
       "    <tr>\n",
       "      <th>8</th>\n",
       "      <td>Район Черемушки</td>\n",
       "    </tr>\n",
       "    <tr>\n",
       "      <th>9</th>\n",
       "      <td>Район Ясенево</td>\n",
       "    </tr>\n",
       "    <tr>\n",
       "      <th>10</th>\n",
       "      <td>Район Коньково</td>\n",
       "    </tr>\n",
       "    <tr>\n",
       "      <th>11</th>\n",
       "      <td>Обручевский район</td>\n",
       "    </tr>\n",
       "    <tr>\n",
       "      <th>12</th>\n",
       "      <td>Район Теплый Стан</td>\n",
       "    </tr>\n",
       "    <tr>\n",
       "      <th>13</th>\n",
       "      <td>Район Аэропорт</td>\n",
       "    </tr>\n",
       "    <tr>\n",
       "      <th>14</th>\n",
       "      <td>Район Беговой</td>\n",
       "    </tr>\n",
       "    <tr>\n",
       "      <th>15</th>\n",
       "      <td>Хорошевский район</td>\n",
       "    </tr>\n",
       "    <tr>\n",
       "      <th>16</th>\n",
       "      <td>Район Сокол</td>\n",
       "    </tr>\n",
       "    <tr>\n",
       "      <th>17</th>\n",
       "      <td>Пресненский район</td>\n",
       "    </tr>\n",
       "    <tr>\n",
       "      <th>18</th>\n",
       "      <td>Район Чертаново Центральное</td>\n",
       "    </tr>\n",
       "    <tr>\n",
       "      <th>19</th>\n",
       "      <td>Район Чертаново Северное</td>\n",
       "    </tr>\n",
       "    <tr>\n",
       "      <th>20</th>\n",
       "      <td>Район Чертаново Южное</td>\n",
       "    </tr>\n",
       "    <tr>\n",
       "      <th>21</th>\n",
       "      <td>Донской район</td>\n",
       "    </tr>\n",
       "    <tr>\n",
       "      <th>22</th>\n",
       "      <td>Район Нагатино-Садовники</td>\n",
       "    </tr>\n",
       "    <tr>\n",
       "      <th>23</th>\n",
       "      <td>Нагорный район</td>\n",
       "    </tr>\n",
       "    <tr>\n",
       "      <th>24</th>\n",
       "      <td>Район Северное Бутово</td>\n",
       "    </tr>\n",
       "    <tr>\n",
       "      <th>25</th>\n",
       "      <td>Район Южное Бутово</td>\n",
       "    </tr>\n",
       "    <tr>\n",
       "      <th>26</th>\n",
       "      <td>Район Проспект Вернадского</td>\n",
       "    </tr>\n",
       "    <tr>\n",
       "      <th>27</th>\n",
       "      <td>Район Тропарево-Никулино</td>\n",
       "    </tr>\n",
       "    <tr>\n",
       "      <th>28</th>\n",
       "      <td>Район Гагаринский</td>\n",
       "    </tr>\n",
       "    <tr>\n",
       "      <th>29</th>\n",
       "      <td>Ломоносовский район</td>\n",
       "    </tr>\n",
       "    <tr>\n",
       "      <th>30</th>\n",
       "      <td>Район Якиманка</td>\n",
       "    </tr>\n",
       "    <tr>\n",
       "      <th>31</th>\n",
       "      <td>Район Раменки</td>\n",
       "    </tr>\n",
       "    <tr>\n",
       "      <th>32</th>\n",
       "      <td>Район Дорогомилово</td>\n",
       "    </tr>\n",
       "    <tr>\n",
       "      <th>33</th>\n",
       "      <td>Район Фили-Давыдково</td>\n",
       "    </tr>\n",
       "    <tr>\n",
       "      <th>34</th>\n",
       "      <td>Район Москворечье-Сабурово</td>\n",
       "    </tr>\n",
       "  </tbody>\n",
       "</table>\n",
       "</div>"
      ],
      "text/plain": [
       "                           area\n",
       "0            Алексеевский район\n",
       "1             Ярославский Район\n",
       "2            Район Марьина роща\n",
       "3            Останкинский район\n",
       "4               Район Ростокино\n",
       "5                Район Свиблово\n",
       "6               Мещанский район\n",
       "7           Академический район\n",
       "8               Район Черемушки\n",
       "9                 Район Ясенево\n",
       "10               Район Коньково\n",
       "11            Обручевский район\n",
       "12            Район Теплый Стан\n",
       "13               Район Аэропорт\n",
       "14                Район Беговой\n",
       "15            Хорошевский район\n",
       "16                  Район Сокол\n",
       "17            Пресненский район\n",
       "18  Район Чертаново Центральное\n",
       "19     Район Чертаново Северное\n",
       "20        Район Чертаново Южное\n",
       "21                Донской район\n",
       "22     Район Нагатино-Садовники\n",
       "23               Нагорный район\n",
       "24        Район Северное Бутово\n",
       "25           Район Южное Бутово\n",
       "26   Район Проспект Вернадского\n",
       "27     Район Тропарево-Никулино\n",
       "28            Район Гагаринский\n",
       "29          Ломоносовский район\n",
       "30               Район Якиманка\n",
       "31                Район Раменки\n",
       "32           Район Дорогомилово\n",
       "33         Район Фили-Давыдково\n",
       "34   Район Москворечье-Сабурово"
      ]
     },
     "execution_count": 158,
     "metadata": {},
     "output_type": "execute_result"
    }
   ],
   "source": [
    "#выберем перспективыне районы, где много заведений, но при этом есть улицы только с одним заведением\n",
    "district = pd.merge(max_rest, min_rest, on =['area'], how='inner')\n",
    "district"
   ]
  },
  {
   "cell_type": "markdown",
   "id": "94afe934",
   "metadata": {},
   "source": [
    "*Нашли 33 перспективных района, где много заведений обществееного питания, но при этом есть улицы, где только одно заведение*"
   ]
  },
  {
   "cell_type": "markdown",
   "id": "e4d4e550",
   "metadata": {},
   "source": [
    "## Общий вывод"
   ]
  },
  {
   "cell_type": "markdown",
   "id": "5056e208",
   "metadata": {},
   "source": [
    "Сделайте общий вывод и дайте рекомендации о виде заведения, количестве посадочных мест, а также районе расположения. Прокомментируйте возможность развития сети."
   ]
  },
  {
   "cell_type": "markdown",
   "id": "3aa9c1c7",
   "metadata": {},
   "source": [
    "* Самые популярные форматы: кафе, столовая, ресторан и фаст-фуд; кафе лидирует с большим отрывом\n",
    "* Кафе, рестораны и фаст-фуд чаще являются сетевыми завдениями\n",
    "* На рынке Москвы преобладают в основном несетевые заведения\n",
    "* Сущетвуют заведения (закусочные, магазины, кафетерии и фаст-фуд) без посадочных мест или с минимальным кол-вом \n",
    "* Чаще всего посадочные места организуют не сетевые заведения\n",
    "* Наибольшим количеством посадочных мест обладают столовые и рестораны\n",
    "* В основном присутствуют заведения категории \"кафе« (как сети так и нет)\n",
    "* Наибольшее количество объектов питания расположены на главных артериях города: Ленинградском проспекте, Профсоюзной улице и проспекте Мира\n",
    "\n",
    "**Рекомендации:**\n",
    "* Открывать заведение, где обслуживают роботы, необходимо в формате \"кафе\" с количеством посадочных мест на 25-50 персон, так как это самый популярный формат как у сетевых так и не сетевых заведений. \n",
    "* Рекомендую рассмотреть открытие кафе в популярных районах, но на улице, где есть только одно заведение-конкурнет. Список прилагается выше\n",
    "* В дальнейшем возможно развитие в сеть, так как сетевых заведений значительно меньше на рынке"
   ]
  }
 ],
 "metadata": {
  "ExecuteTimeLog": [
   {
    "duration": 1176,
    "start_time": "2022-06-27T13:50:26.038Z"
   },
   {
    "duration": 128,
    "start_time": "2022-06-27T13:50:27.216Z"
   },
   {
    "duration": 18,
    "start_time": "2022-06-27T13:50:27.345Z"
   },
   {
    "duration": 51,
    "start_time": "2022-06-27T13:50:27.364Z"
   },
   {
    "duration": 5,
    "start_time": "2022-06-27T13:50:27.418Z"
   },
   {
    "duration": 14,
    "start_time": "2022-06-27T13:50:27.425Z"
   },
   {
    "duration": 8,
    "start_time": "2022-06-27T13:50:27.442Z"
   },
   {
    "duration": 30,
    "start_time": "2022-06-27T13:50:27.452Z"
   },
   {
    "duration": 43,
    "start_time": "2022-06-27T13:50:27.484Z"
   },
   {
    "duration": 211,
    "start_time": "2022-06-27T13:50:27.529Z"
   },
   {
    "duration": 8,
    "start_time": "2022-06-27T13:50:27.742Z"
   },
   {
    "duration": 50,
    "start_time": "2022-06-27T13:50:27.759Z"
   },
   {
    "duration": 178,
    "start_time": "2022-06-27T13:50:27.811Z"
   },
   {
    "duration": 13,
    "start_time": "2022-06-27T13:50:27.992Z"
   },
   {
    "duration": 5,
    "start_time": "2022-06-27T13:50:28.006Z"
   },
   {
    "duration": 191,
    "start_time": "2022-06-27T13:50:28.012Z"
   },
   {
    "duration": 12,
    "start_time": "2022-06-27T13:50:28.204Z"
   },
   {
    "duration": 687,
    "start_time": "2022-06-27T13:50:28.218Z"
   },
   {
    "duration": 10,
    "start_time": "2022-06-27T13:50:28.907Z"
   },
   {
    "duration": 546,
    "start_time": "2022-06-27T13:50:28.918Z"
   },
   {
    "duration": 707,
    "start_time": "2022-06-27T13:50:29.465Z"
   },
   {
    "duration": 649,
    "start_time": "2022-06-27T13:50:30.176Z"
   },
   {
    "duration": 640,
    "start_time": "2022-06-27T13:50:30.827Z"
   },
   {
    "duration": 445,
    "start_time": "2022-06-27T13:50:31.473Z"
   },
   {
    "duration": 372,
    "start_time": "2022-06-27T13:50:31.920Z"
   },
   {
    "duration": 715,
    "start_time": "2022-06-27T13:50:32.294Z"
   },
   {
    "duration": 5,
    "start_time": "2022-06-27T13:50:33.011Z"
   },
   {
    "duration": 57,
    "start_time": "2022-06-27T13:50:33.018Z"
   },
   {
    "duration": 43,
    "start_time": "2022-06-27T13:50:33.079Z"
   },
   {
    "duration": 6,
    "start_time": "2022-06-27T13:50:33.124Z"
   },
   {
    "duration": 10,
    "start_time": "2022-06-27T13:50:33.132Z"
   },
   {
    "duration": 192,
    "start_time": "2022-06-27T13:50:33.143Z"
   },
   {
    "duration": 3,
    "start_time": "2022-06-27T13:50:33.336Z"
   },
   {
    "duration": 1131,
    "start_time": "2022-06-27T13:50:33.340Z"
   },
   {
    "duration": 3,
    "start_time": "2022-06-27T13:50:34.473Z"
   },
   {
    "duration": 23,
    "start_time": "2022-06-27T13:50:34.489Z"
   },
   {
    "duration": 6,
    "start_time": "2022-06-27T13:50:34.513Z"
   },
   {
    "duration": 6,
    "start_time": "2022-06-27T13:50:34.521Z"
   },
   {
    "duration": 5,
    "start_time": "2022-06-27T13:50:34.528Z"
   },
   {
    "duration": 12,
    "start_time": "2022-06-27T13:50:34.534Z"
   },
   {
    "duration": 44,
    "start_time": "2022-06-27T13:50:34.558Z"
   }
  ],
  "kernelspec": {
   "display_name": "Python 3 (ipykernel)",
   "language": "python",
   "name": "python3"
  },
  "language_info": {
   "codemirror_mode": {
    "name": "ipython",
    "version": 3
   },
   "file_extension": ".py",
   "mimetype": "text/x-python",
   "name": "python",
   "nbconvert_exporter": "python",
   "pygments_lexer": "ipython3",
   "version": "3.9.7"
  },
  "toc": {
   "base_numbering": 1,
   "nav_menu": {
    "height": "12px",
    "width": "160px"
   },
   "number_sections": true,
   "sideBar": true,
   "skip_h1_title": true,
   "title_cell": "Table of Contents",
   "title_sidebar": "Contents",
   "toc_cell": true,
   "toc_position": {},
   "toc_section_display": true,
   "toc_window_display": false
  }
 },
 "nbformat": 4,
 "nbformat_minor": 5
}
