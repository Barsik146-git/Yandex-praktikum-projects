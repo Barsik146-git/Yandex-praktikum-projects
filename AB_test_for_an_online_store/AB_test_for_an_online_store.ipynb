{
 "cells": [
  {
   "cell_type": "markdown",
   "id": "4c41ce36",
   "metadata": {
    "toc": true
   },
   "source": [
    "<h1>Table of Contents<span class=\"tocSkip\"></span></h1>\n",
    "<div class=\"toc\"><ul class=\"toc-item\"><li><span><a href=\"#Описание-проекта-&quot;Проверка-гипотиз-для-интренет-магазина&quot;\" data-toc-modified-id=\"Описание-проекта-&quot;Проверка-гипотиз-для-интренет-магазина&quot;-1\"><span class=\"toc-item-num\">1&nbsp;&nbsp;</span>Описание проекта \"Проверка гипотиз для интренет магазина\"</a></span></li><li><span><a href=\"#Приоритизация-гипотез\" data-toc-modified-id=\"Приоритизация-гипотез-2\"><span class=\"toc-item-num\">2&nbsp;&nbsp;</span>Приоритизация гипотез</a></span></li><li><span><a href=\"#Анализ-A/B-теста\" data-toc-modified-id=\"Анализ-A/B-теста-3\"><span class=\"toc-item-num\">3&nbsp;&nbsp;</span>Анализ A/B-теста</a></span><ul class=\"toc-item\"><li><span><a href=\"#График-кумулятивной-выручки-по-группам\" data-toc-modified-id=\"График-кумулятивной-выручки-по-группам-3.1\"><span class=\"toc-item-num\">3.1&nbsp;&nbsp;</span>График кумулятивной выручки по группам</a></span></li><li><span><a href=\"#График-кумулятивного-среднего-чека-по-группам\" data-toc-modified-id=\"График-кумулятивного-среднего-чека-по-группам-3.2\"><span class=\"toc-item-num\">3.2&nbsp;&nbsp;</span>График кумулятивного среднего чека по группам</a></span></li><li><span><a href=\"#График-относительного-различия-для-среднего-чека\" data-toc-modified-id=\"График-относительного-различия-для-среднего-чека-3.3\"><span class=\"toc-item-num\">3.3&nbsp;&nbsp;</span>График относительного различия для среднего чека</a></span></li><li><span><a href=\"#График-кумулятивной-конверсии\" data-toc-modified-id=\"График-кумулятивной-конверсии-3.4\"><span class=\"toc-item-num\">3.4&nbsp;&nbsp;</span>График кумулятивной конверсии</a></span></li><li><span><a href=\"#График-относительного-изменения-кумулятивной-конверсии\" data-toc-modified-id=\"График-относительного-изменения-кумулятивной-конверсии-3.5\"><span class=\"toc-item-num\">3.5&nbsp;&nbsp;</span>График относительного изменения кумулятивной конверсии</a></span></li><li><span><a href=\"#Точечный-график-количества-заказов-по-пользователям\" data-toc-modified-id=\"Точечный-график-количества-заказов-по-пользователям-3.6\"><span class=\"toc-item-num\">3.6&nbsp;&nbsp;</span>Точечный график количества заказов по пользователям</a></span></li><li><span><a href=\"#Точечный-график-стоимостей-заказов\" data-toc-modified-id=\"Точечный-график-стоимостей-заказов-3.7\"><span class=\"toc-item-num\">3.7&nbsp;&nbsp;</span>Точечный график стоимостей заказов</a></span></li><li><span><a href=\"#Расчет-статистической-значимости-различий-в-конверсии-между-группами-по-«сырым»-данным\" data-toc-modified-id=\"Расчет-статистической-значимости-различий-в-конверсии-между-группами-по-«сырым»-данным-3.8\"><span class=\"toc-item-num\">3.8&nbsp;&nbsp;</span>Расчет статистической значимости различий в конверсии между группами по «сырым» данным</a></span></li><li><span><a href=\"#Расчет-статистической-значимости--различий-в-среднем-чеке-заказа-между-группами-по-«сырым»-данным.\" data-toc-modified-id=\"Расчет-статистической-значимости--различий-в-среднем-чеке-заказа-между-группами-по-«сырым»-данным.-3.9\"><span class=\"toc-item-num\">3.9&nbsp;&nbsp;</span>Расчет статистической значимости  различий в среднем чеке заказа между группами по «сырым» данным.</a></span></li><li><span><a href=\"#Расчет-статистической-значимости-различий-в-конверсии-между-группами-по-«очищенным»-данным\" data-toc-modified-id=\"Расчет-статистической-значимости-различий-в-конверсии-между-группами-по-«очищенным»-данным-3.10\"><span class=\"toc-item-num\">3.10&nbsp;&nbsp;</span>Расчет статистической значимости различий в конверсии между группами по «очищенным» данным</a></span></li><li><span><a href=\"#Расчет-статистической-значимости-различий-в-среднем-чеке-заказа-между-группами-по-«очищенным»-данным\" data-toc-modified-id=\"Расчет-статистической-значимости-различий-в-среднем-чеке-заказа-между-группами-по-«очищенным»-данным-3.11\"><span class=\"toc-item-num\">3.11&nbsp;&nbsp;</span>Расчет статистической значимости различий в среднем чеке заказа между группами по «очищенным» данным</a></span></li></ul></li></ul></div>"
   ]
  },
  {
   "cell_type": "markdown",
   "id": "600d96be",
   "metadata": {},
   "source": [
    "## Описание проекта \"Проверка гипотиз для интренет магазина\""
   ]
  },
  {
   "cell_type": "markdown",
   "id": "bab3d255",
   "metadata": {},
   "source": [
    "**Краткое описание:** Есть крупный интернет магазин для которого необходимо увеличить выручку\n",
    "**Цель:** Вместе с отделом маркетинга необходимо подготовить список гипотез для увеличения выручки. риоритизировать гипотезы, запустить A/B-тест и проанализировать результаты.\n",
    "\n",
    "**Данные:** Будут появляться и описываться в ходе работы\n",
    "\n",
    "**План работы:**\n",
    "1. Выбрать приоритетную гипотезу\n",
    "2. Исследовать и проанализировать результаты тестирования гипотезы"
   ]
  },
  {
   "cell_type": "code",
   "execution_count": 2,
   "id": "7d8b50f2",
   "metadata": {},
   "outputs": [],
   "source": [
    "# Необходимые библиотеки для исследования \n",
    "import pandas as pd\n",
    "import matplotlib.pyplot as plt\n",
    "import numpy as np    \n",
    "from scipy import stats as st\n",
    "import seaborn as sns\n",
    "import datetime as dt\n",
    "from datetime import datetime, timedelta"
   ]
  },
  {
   "cell_type": "markdown",
   "id": "e7e0d305",
   "metadata": {},
   "source": [
    "## Приоритизация гипотез"
   ]
  },
  {
   "cell_type": "markdown",
   "id": "733eddb8",
   "metadata": {
    "scrolled": false
   },
   "source": [
    "# Загрузим список гипотез"
   ]
  },
  {
   "cell_type": "code",
   "execution_count": null,
   "id": "a4ea89e1",
   "metadata": {},
   "outputs": [],
   "source": [
    "# Загрузим список гипотез\n",
    "try:\n",
    "    hypothesis = pd.read_csv('hypothesis.csv')\n",
    "except FileNotFoundError as e:\n",
    "    print(repr(e))\n",
    "    hypothesis = pd.read_csv('/datasets/hypothesis.csv')\n",
    "hypothesis"
   ]
  },
  {
   "cell_type": "markdown",
   "id": "2dc67597",
   "metadata": {},
   "source": [
    "**Описание данных:**\n",
    "* Hypothesis — краткое описание гипотезы;\n",
    "* Reach — охват пользователей по 10-балльной шкале;\n",
    "* Impact — влияние на пользователей по 10-балльной шкале;\n",
    "* Confidence — уверенность в гипотезе по 10-балльной шкале;\n",
    "* Efforts — затраты ресурсов на проверку гипотезы по 10-балльной шкале. Чем больше значение Efforts, тем дороже проверка гипотезы."
   ]
  },
  {
   "cell_type": "code",
   "execution_count": null,
   "id": "b4a5f0ce",
   "metadata": {},
   "outputs": [],
   "source": [
    "#Рассчитаем оценку по методоогии ICE\n",
    "hypothesis['ICE'] = round((hypothesis['Impact']*hypothesis['Confidence']) / hypothesis['Efforts'], 1)"
   ]
  },
  {
   "cell_type": "code",
   "execution_count": null,
   "id": "84aa62bb",
   "metadata": {},
   "outputs": [],
   "source": [
    "#Рассчитаем оценку по методоогии RICE\n",
    "hypothesis['RICE'] = (hypothesis['Reach']*hypothesis['Impact']*hypothesis['Confidence']) / hypothesis['Efforts']\n",
    "hypothesis.sort_values('RICE', ascending = False)\n",
    "#pd.options.display.max_colwidth = 100"
   ]
  },
  {
   "cell_type": "markdown",
   "id": "b741c765",
   "metadata": {},
   "source": [
    "**Вывод:** \n",
    "* По приоритезации RICE на первое и второе место вышли гипотизы \"Добавить форму подписки на все основные страницы\" и \"Добавить блоки рекомендаций товаров на сайт\", которая по ICE не вошли даже в первые 2\n",
    "* Это произошло из-за того, что RICH учитывает и продвигает гипотизы, которые больший охват и распространены на большее кол-во пользователей через параметр Reach"
   ]
  },
  {
   "cell_type": "markdown",
   "id": "9a9b819f",
   "metadata": {},
   "source": [
    "## Анализ A/B-теста"
   ]
  },
  {
   "cell_type": "code",
   "execution_count": 4,
   "id": "9a87a669",
   "metadata": {
    "scrolled": true
   },
   "outputs": [
    {
     "data": {
      "text/html": [
       "<div>\n",
       "<style scoped>\n",
       "    .dataframe tbody tr th:only-of-type {\n",
       "        vertical-align: middle;\n",
       "    }\n",
       "\n",
       "    .dataframe tbody tr th {\n",
       "        vertical-align: top;\n",
       "    }\n",
       "\n",
       "    .dataframe thead th {\n",
       "        text-align: right;\n",
       "    }\n",
       "</style>\n",
       "<table border=\"1\" class=\"dataframe\">\n",
       "  <thead>\n",
       "    <tr style=\"text-align: right;\">\n",
       "      <th></th>\n",
       "      <th>transactionId</th>\n",
       "      <th>visitorId</th>\n",
       "      <th>date</th>\n",
       "      <th>revenue</th>\n",
       "      <th>group</th>\n",
       "    </tr>\n",
       "  </thead>\n",
       "  <tbody>\n",
       "    <tr>\n",
       "      <th>0</th>\n",
       "      <td>3667963787</td>\n",
       "      <td>3312258926</td>\n",
       "      <td>2019-08-15</td>\n",
       "      <td>1650</td>\n",
       "      <td>B</td>\n",
       "    </tr>\n",
       "    <tr>\n",
       "      <th>1</th>\n",
       "      <td>2804400009</td>\n",
       "      <td>3642806036</td>\n",
       "      <td>2019-08-15</td>\n",
       "      <td>730</td>\n",
       "      <td>B</td>\n",
       "    </tr>\n",
       "    <tr>\n",
       "      <th>2</th>\n",
       "      <td>2961555356</td>\n",
       "      <td>4069496402</td>\n",
       "      <td>2019-08-15</td>\n",
       "      <td>400</td>\n",
       "      <td>A</td>\n",
       "    </tr>\n",
       "    <tr>\n",
       "      <th>3</th>\n",
       "      <td>3797467345</td>\n",
       "      <td>1196621759</td>\n",
       "      <td>2019-08-15</td>\n",
       "      <td>9759</td>\n",
       "      <td>B</td>\n",
       "    </tr>\n",
       "    <tr>\n",
       "      <th>4</th>\n",
       "      <td>2282983706</td>\n",
       "      <td>2322279887</td>\n",
       "      <td>2019-08-15</td>\n",
       "      <td>2308</td>\n",
       "      <td>B</td>\n",
       "    </tr>\n",
       "  </tbody>\n",
       "</table>\n",
       "</div>"
      ],
      "text/plain": [
       "   transactionId   visitorId        date  revenue group\n",
       "0     3667963787  3312258926  2019-08-15     1650     B\n",
       "1     2804400009  3642806036  2019-08-15      730     B\n",
       "2     2961555356  4069496402  2019-08-15      400     A\n",
       "3     3797467345  1196621759  2019-08-15     9759     B\n",
       "4     2282983706  2322279887  2019-08-15     2308     B"
      ]
     },
     "metadata": {},
     "output_type": "display_data"
    },
    {
     "data": {
      "text/html": [
       "<div>\n",
       "<style scoped>\n",
       "    .dataframe tbody tr th:only-of-type {\n",
       "        vertical-align: middle;\n",
       "    }\n",
       "\n",
       "    .dataframe tbody tr th {\n",
       "        vertical-align: top;\n",
       "    }\n",
       "\n",
       "    .dataframe thead th {\n",
       "        text-align: right;\n",
       "    }\n",
       "</style>\n",
       "<table border=\"1\" class=\"dataframe\">\n",
       "  <thead>\n",
       "    <tr style=\"text-align: right;\">\n",
       "      <th></th>\n",
       "      <th>date</th>\n",
       "      <th>group</th>\n",
       "      <th>visitors</th>\n",
       "    </tr>\n",
       "  </thead>\n",
       "  <tbody>\n",
       "    <tr>\n",
       "      <th>0</th>\n",
       "      <td>2019-08-01</td>\n",
       "      <td>A</td>\n",
       "      <td>719</td>\n",
       "    </tr>\n",
       "    <tr>\n",
       "      <th>1</th>\n",
       "      <td>2019-08-02</td>\n",
       "      <td>A</td>\n",
       "      <td>619</td>\n",
       "    </tr>\n",
       "    <tr>\n",
       "      <th>2</th>\n",
       "      <td>2019-08-03</td>\n",
       "      <td>A</td>\n",
       "      <td>507</td>\n",
       "    </tr>\n",
       "    <tr>\n",
       "      <th>3</th>\n",
       "      <td>2019-08-04</td>\n",
       "      <td>A</td>\n",
       "      <td>717</td>\n",
       "    </tr>\n",
       "    <tr>\n",
       "      <th>4</th>\n",
       "      <td>2019-08-05</td>\n",
       "      <td>A</td>\n",
       "      <td>756</td>\n",
       "    </tr>\n",
       "  </tbody>\n",
       "</table>\n",
       "</div>"
      ],
      "text/plain": [
       "         date group  visitors\n",
       "0  2019-08-01     A       719\n",
       "1  2019-08-02     A       619\n",
       "2  2019-08-03     A       507\n",
       "3  2019-08-04     A       717\n",
       "4  2019-08-05     A       756"
      ]
     },
     "execution_count": 4,
     "metadata": {},
     "output_type": "execute_result"
    }
   ],
   "source": [
    "# Загрузим файйлы с результами проведенной гипотезой\n",
    "try:\n",
    "    orders = pd.read_csv('orders.csv')\n",
    "    visitors = pd.read_csv('visitors.csv')\n",
    "except FileNotFoundError as e:\n",
    "    print(repr(e))\n",
    "    orders = pd.read_csv('/datasets/orders.csv')\n",
    "    visitors = pd.read_csv('/datasets/visitors.csv')    \n",
    "display(orders.head(5))\n",
    "visitors.head(5)                "
   ]
  },
  {
   "cell_type": "markdown",
   "id": "1192d62c",
   "metadata": {},
   "source": [
    "**Описание данных таблицы orders:**\n",
    "* transactionId — идентификатор заказа;\n",
    "* visitorId — идентификатор пользователя, совершившего заказ;\n",
    "* date — дата, когда был совершён заказ;\n",
    "* revenue — выручка заказа;\n",
    "* group — группа A/B-теста, в которую попал заказ.\n",
    "\n",
    "**Описание данных таблицы visitors:**\n",
    "* date — дата;\n",
    "* group — группа A/B-теста;\n",
    "* visitors — количество пользователей в указанную дату в указанной группе A/B-тестаь"
   ]
  },
  {
   "cell_type": "code",
   "execution_count": 5,
   "id": "58c26256",
   "metadata": {},
   "outputs": [
    {
     "name": "stdout",
     "output_type": "stream",
     "text": [
      "<class 'pandas.core.frame.DataFrame'>\n",
      "RangeIndex: 1197 entries, 0 to 1196\n",
      "Data columns (total 5 columns):\n",
      " #   Column         Non-Null Count  Dtype \n",
      "---  ------         --------------  ----- \n",
      " 0   transactionId  1197 non-null   int64 \n",
      " 1   visitorId      1197 non-null   int64 \n",
      " 2   date           1197 non-null   object\n",
      " 3   revenue        1197 non-null   int64 \n",
      " 4   group          1197 non-null   object\n",
      "dtypes: int64(3), object(2)\n",
      "memory usage: 46.9+ KB\n",
      "<class 'pandas.core.frame.DataFrame'>\n",
      "RangeIndex: 62 entries, 0 to 61\n",
      "Data columns (total 3 columns):\n",
      " #   Column    Non-Null Count  Dtype \n",
      "---  ------    --------------  ----- \n",
      " 0   date      62 non-null     object\n",
      " 1   group     62 non-null     object\n",
      " 2   visitors  62 non-null     int64 \n",
      "dtypes: int64(1), object(2)\n",
      "memory usage: 1.6+ KB\n"
     ]
    }
   ],
   "source": [
    "orders.info()\n",
    "visitors.info() "
   ]
  },
  {
   "cell_type": "code",
   "execution_count": 6,
   "id": "4632027c",
   "metadata": {},
   "outputs": [],
   "source": [
    "#приведем даты к формату дат\n",
    "orders['date'] = orders['date'].map(lambda x: dt.datetime.strptime(x, '%Y-%m-%d'))\n",
    "visitors['date'] = visitors['date'].map(lambda x: dt.datetime.strptime(x,'%Y-%m-%d'))"
   ]
  },
  {
   "cell_type": "code",
   "execution_count": 7,
   "id": "017e23c9",
   "metadata": {},
   "outputs": [
    {
     "data": {
      "text/plain": [
       "0"
      ]
     },
     "metadata": {},
     "output_type": "display_data"
    },
    {
     "data": {
      "text/plain": [
       "0"
      ]
     },
     "execution_count": 7,
     "metadata": {},
     "output_type": "execute_result"
    }
   ],
   "source": [
    "# Проверим наличие полных дубликатоd\n",
    "display(orders.duplicated().sum())\n",
    "visitors.duplicated().sum()"
   ]
  },
  {
   "cell_type": "markdown",
   "id": "91de76c9",
   "metadata": {},
   "source": [
    "**Вывод:** \n",
    "* Пустых значений и дубликатов в данных нет\n",
    "* Перевели даты в формат дат"
   ]
  },
  {
   "cell_type": "code",
   "execution_count": 8,
   "id": "355f1ea1",
   "metadata": {},
   "outputs": [
    {
     "data": {
      "text/plain": [
       "array(['B', 'A'], dtype=object)"
      ]
     },
     "execution_count": 8,
     "metadata": {},
     "output_type": "execute_result"
    }
   ],
   "source": [
    "# Посмотрим сколько групп в тесте\n",
    "orders['group'].unique()"
   ]
  },
  {
   "cell_type": "code",
   "execution_count": 9,
   "id": "a7ff500d",
   "metadata": {},
   "outputs": [
    {
     "name": "stdout",
     "output_type": "stream",
     "text": [
      "Дата старта теста 2019-08-01 00:00:00\n",
      "Дата окончания теста 2019-08-31 00:00:00\n"
     ]
    }
   ],
   "source": [
    "# Изучим временной интервал\n",
    "print('Дата старта теста', orders['date'].min())\n",
    "print('Дата окончания теста', orders['date'].max())"
   ]
  },
  {
   "cell_type": "code",
   "execution_count": 10,
   "id": "edb1a62f",
   "metadata": {},
   "outputs": [
    {
     "data": {
      "text/html": [
       "<div>\n",
       "<style scoped>\n",
       "    .dataframe tbody tr th:only-of-type {\n",
       "        vertical-align: middle;\n",
       "    }\n",
       "\n",
       "    .dataframe tbody tr th {\n",
       "        vertical-align: top;\n",
       "    }\n",
       "\n",
       "    .dataframe thead th {\n",
       "        text-align: right;\n",
       "    }\n",
       "</style>\n",
       "<table border=\"1\" class=\"dataframe\">\n",
       "  <thead>\n",
       "    <tr style=\"text-align: right;\">\n",
       "      <th></th>\n",
       "      <th>visitorId</th>\n",
       "    </tr>\n",
       "    <tr>\n",
       "      <th>group</th>\n",
       "      <th></th>\n",
       "    </tr>\n",
       "  </thead>\n",
       "  <tbody>\n",
       "    <tr>\n",
       "      <th>A</th>\n",
       "      <td>503</td>\n",
       "    </tr>\n",
       "    <tr>\n",
       "      <th>B</th>\n",
       "      <td>586</td>\n",
       "    </tr>\n",
       "  </tbody>\n",
       "</table>\n",
       "</div>"
      ],
      "text/plain": [
       "       visitorId\n",
       "group           \n",
       "A            503\n",
       "B            586"
      ]
     },
     "execution_count": 10,
     "metadata": {},
     "output_type": "execute_result"
    }
   ],
   "source": [
    "# Посмотрим кол-во пользователей в каждой группе\n",
    "orders.groupby('group').agg({'visitorId':'nunique'})"
   ]
  },
  {
   "cell_type": "code",
   "execution_count": 11,
   "id": "21c9d30c",
   "metadata": {},
   "outputs": [
    {
     "data": {
      "text/html": [
       "<div>\n",
       "<style scoped>\n",
       "    .dataframe tbody tr th:only-of-type {\n",
       "        vertical-align: middle;\n",
       "    }\n",
       "\n",
       "    .dataframe tbody tr th {\n",
       "        vertical-align: top;\n",
       "    }\n",
       "\n",
       "    .dataframe thead th {\n",
       "        text-align: right;\n",
       "    }\n",
       "</style>\n",
       "<table border=\"1\" class=\"dataframe\">\n",
       "  <thead>\n",
       "    <tr style=\"text-align: right;\">\n",
       "      <th></th>\n",
       "      <th>transactionId_x</th>\n",
       "      <th>visitorId</th>\n",
       "      <th>date_x</th>\n",
       "      <th>revenue_x</th>\n",
       "      <th>group_x</th>\n",
       "      <th>transactionId_y</th>\n",
       "      <th>date_y</th>\n",
       "      <th>revenue_y</th>\n",
       "      <th>group_y</th>\n",
       "    </tr>\n",
       "  </thead>\n",
       "  <tbody>\n",
       "    <tr>\n",
       "      <th>0</th>\n",
       "      <td>2961555356</td>\n",
       "      <td>4069496402</td>\n",
       "      <td>2019-08-15</td>\n",
       "      <td>400</td>\n",
       "      <td>A</td>\n",
       "      <td>1473132782</td>\n",
       "      <td>2019-08-12</td>\n",
       "      <td>640</td>\n",
       "      <td>B</td>\n",
       "    </tr>\n",
       "    <tr>\n",
       "      <th>1</th>\n",
       "      <td>2223239646</td>\n",
       "      <td>199603092</td>\n",
       "      <td>2019-08-15</td>\n",
       "      <td>3488</td>\n",
       "      <td>A</td>\n",
       "      <td>437656952</td>\n",
       "      <td>2019-08-02</td>\n",
       "      <td>3488</td>\n",
       "      <td>B</td>\n",
       "    </tr>\n",
       "    <tr>\n",
       "      <th>2</th>\n",
       "      <td>62794304</td>\n",
       "      <td>199603092</td>\n",
       "      <td>2019-08-22</td>\n",
       "      <td>6976</td>\n",
       "      <td>A</td>\n",
       "      <td>437656952</td>\n",
       "      <td>2019-08-02</td>\n",
       "      <td>3488</td>\n",
       "      <td>B</td>\n",
       "    </tr>\n",
       "    <tr>\n",
       "      <th>3</th>\n",
       "      <td>2971973105</td>\n",
       "      <td>199603092</td>\n",
       "      <td>2019-08-27</td>\n",
       "      <td>2790</td>\n",
       "      <td>A</td>\n",
       "      <td>437656952</td>\n",
       "      <td>2019-08-02</td>\n",
       "      <td>3488</td>\n",
       "      <td>B</td>\n",
       "    </tr>\n",
       "    <tr>\n",
       "      <th>4</th>\n",
       "      <td>1941707234</td>\n",
       "      <td>199603092</td>\n",
       "      <td>2019-08-12</td>\n",
       "      <td>6438</td>\n",
       "      <td>A</td>\n",
       "      <td>437656952</td>\n",
       "      <td>2019-08-02</td>\n",
       "      <td>3488</td>\n",
       "      <td>B</td>\n",
       "    </tr>\n",
       "    <tr>\n",
       "      <th>...</th>\n",
       "      <td>...</td>\n",
       "      <td>...</td>\n",
       "      <td>...</td>\n",
       "      <td>...</td>\n",
       "      <td>...</td>\n",
       "      <td>...</td>\n",
       "      <td>...</td>\n",
       "      <td>...</td>\n",
       "      <td>...</td>\n",
       "    </tr>\n",
       "    <tr>\n",
       "      <th>178</th>\n",
       "      <td>3757656646</td>\n",
       "      <td>4186807279</td>\n",
       "      <td>2019-08-14</td>\n",
       "      <td>4990</td>\n",
       "      <td>A</td>\n",
       "      <td>1759418862</td>\n",
       "      <td>2019-08-21</td>\n",
       "      <td>18560</td>\n",
       "      <td>B</td>\n",
       "    </tr>\n",
       "    <tr>\n",
       "      <th>179</th>\n",
       "      <td>3757656646</td>\n",
       "      <td>4186807279</td>\n",
       "      <td>2019-08-14</td>\n",
       "      <td>4990</td>\n",
       "      <td>A</td>\n",
       "      <td>380064637</td>\n",
       "      <td>2019-08-27</td>\n",
       "      <td>13740</td>\n",
       "      <td>B</td>\n",
       "    </tr>\n",
       "    <tr>\n",
       "      <th>180</th>\n",
       "      <td>3612788481</td>\n",
       "      <td>2712142231</td>\n",
       "      <td>2019-08-14</td>\n",
       "      <td>2490</td>\n",
       "      <td>A</td>\n",
       "      <td>1251767592</td>\n",
       "      <td>2019-08-16</td>\n",
       "      <td>790</td>\n",
       "      <td>B</td>\n",
       "    </tr>\n",
       "    <tr>\n",
       "      <th>181</th>\n",
       "      <td>4052155355</td>\n",
       "      <td>2949041841</td>\n",
       "      <td>2019-08-14</td>\n",
       "      <td>190</td>\n",
       "      <td>A</td>\n",
       "      <td>1329499668</td>\n",
       "      <td>2019-08-14</td>\n",
       "      <td>10380</td>\n",
       "      <td>B</td>\n",
       "    </tr>\n",
       "    <tr>\n",
       "      <th>182</th>\n",
       "      <td>1458356232</td>\n",
       "      <td>963407295</td>\n",
       "      <td>2019-08-14</td>\n",
       "      <td>4940</td>\n",
       "      <td>A</td>\n",
       "      <td>2904772834</td>\n",
       "      <td>2019-08-15</td>\n",
       "      <td>300</td>\n",
       "      <td>B</td>\n",
       "    </tr>\n",
       "  </tbody>\n",
       "</table>\n",
       "<p>183 rows × 9 columns</p>\n",
       "</div>"
      ],
      "text/plain": [
       "     transactionId_x   visitorId     date_x  revenue_x group_x  \\\n",
       "0         2961555356  4069496402 2019-08-15        400       A   \n",
       "1         2223239646   199603092 2019-08-15       3488       A   \n",
       "2           62794304   199603092 2019-08-22       6976       A   \n",
       "3         2971973105   199603092 2019-08-27       2790       A   \n",
       "4         1941707234   199603092 2019-08-12       6438       A   \n",
       "..               ...         ...        ...        ...     ...   \n",
       "178       3757656646  4186807279 2019-08-14       4990       A   \n",
       "179       3757656646  4186807279 2019-08-14       4990       A   \n",
       "180       3612788481  2712142231 2019-08-14       2490       A   \n",
       "181       4052155355  2949041841 2019-08-14        190       A   \n",
       "182       1458356232   963407295 2019-08-14       4940       A   \n",
       "\n",
       "     transactionId_y     date_y  revenue_y group_y  \n",
       "0         1473132782 2019-08-12        640       B  \n",
       "1          437656952 2019-08-02       3488       B  \n",
       "2          437656952 2019-08-02       3488       B  \n",
       "3          437656952 2019-08-02       3488       B  \n",
       "4          437656952 2019-08-02       3488       B  \n",
       "..               ...        ...        ...     ...  \n",
       "178       1759418862 2019-08-21      18560       B  \n",
       "179        380064637 2019-08-27      13740       B  \n",
       "180       1251767592 2019-08-16        790       B  \n",
       "181       1329499668 2019-08-14      10380       B  \n",
       "182       2904772834 2019-08-15        300       B  \n",
       "\n",
       "[183 rows x 9 columns]"
      ]
     },
     "execution_count": 11,
     "metadata": {},
     "output_type": "execute_result"
    }
   ],
   "source": [
    "# Посмотреть не попадают ли какие-то пользователи в обе группы - по таблице с заказами\n",
    "ordersA = orders[orders['group']=='A']\n",
    "ordersB = orders[orders['group']=='B']\n",
    "test = ordersA.merge(ordersB, on='visitorId')\n",
    "test"
   ]
  },
  {
   "cell_type": "markdown",
   "id": "a965d8dc",
   "metadata": {},
   "source": [
    "Видим, что 183 пользователя были в двух группах"
   ]
  },
  {
   "cell_type": "code",
   "execution_count": null,
   "id": "f54e9d68",
   "metadata": {},
   "outputs": [],
   "source": [
    "# Посмотрим динамику посетителей по дням по группам \n",
    "visitorsA = visitors[visitors['group']=='A']\n",
    "visitorsB = visitors[visitors['group']=='B']\n",
    "                     \n",
    "plt.plot(visitorsA['date'],visitorsA['visitors'], label = 'A')\n",
    "plt.plot(visitorsA['date'],visitorsB['visitors'], label = 'B')\n",
    "plt.title('Динамика посетителей по дням по группам',fontweight='bold')\n",
    "plt.xlabel('Время')\n",
    "plt.ylabel('Кол-во постетителей')\n",
    "plt.xticks(visitorsA['date'], rotation = 'vertical')\n",
    "plt.legend()\n",
    "plt.show()"
   ]
  },
  {
   "cell_type": "markdown",
   "id": "ef0bbbd7",
   "metadata": {},
   "source": [
    "В целом посетителей одинаковое кол-во в обоих  группах, но в группе В  чуть больше посетителей"
   ]
  },
  {
   "cell_type": "markdown",
   "id": "758510a4",
   "metadata": {},
   "source": [
    "### График кумулятивной выручки по группам"
   ]
  },
  {
   "cell_type": "code",
   "execution_count": 13,
   "id": "0e549678",
   "metadata": {},
   "outputs": [
    {
     "data": {
      "text/html": [
       "<div>\n",
       "<style scoped>\n",
       "    .dataframe tbody tr th:only-of-type {\n",
       "        vertical-align: middle;\n",
       "    }\n",
       "\n",
       "    .dataframe tbody tr th {\n",
       "        vertical-align: top;\n",
       "    }\n",
       "\n",
       "    .dataframe thead th {\n",
       "        text-align: right;\n",
       "    }\n",
       "</style>\n",
       "<table border=\"1\" class=\"dataframe\">\n",
       "  <thead>\n",
       "    <tr style=\"text-align: right;\">\n",
       "      <th></th>\n",
       "      <th>date</th>\n",
       "      <th>group</th>\n",
       "      <th>transactionId</th>\n",
       "      <th>visitorId</th>\n",
       "      <th>revenue</th>\n",
       "      <th>visitors</th>\n",
       "    </tr>\n",
       "  </thead>\n",
       "  <tbody>\n",
       "    <tr>\n",
       "      <th>0</th>\n",
       "      <td>2019-08-01</td>\n",
       "      <td>A</td>\n",
       "      <td>24</td>\n",
       "      <td>20</td>\n",
       "      <td>148579</td>\n",
       "      <td>719</td>\n",
       "    </tr>\n",
       "    <tr>\n",
       "      <th>1</th>\n",
       "      <td>2019-08-01</td>\n",
       "      <td>B</td>\n",
       "      <td>21</td>\n",
       "      <td>20</td>\n",
       "      <td>101217</td>\n",
       "      <td>713</td>\n",
       "    </tr>\n",
       "    <tr>\n",
       "      <th>2</th>\n",
       "      <td>2019-08-02</td>\n",
       "      <td>A</td>\n",
       "      <td>44</td>\n",
       "      <td>38</td>\n",
       "      <td>242401</td>\n",
       "      <td>1338</td>\n",
       "    </tr>\n",
       "    <tr>\n",
       "      <th>3</th>\n",
       "      <td>2019-08-02</td>\n",
       "      <td>B</td>\n",
       "      <td>45</td>\n",
       "      <td>43</td>\n",
       "      <td>266748</td>\n",
       "      <td>1294</td>\n",
       "    </tr>\n",
       "    <tr>\n",
       "      <th>4</th>\n",
       "      <td>2019-08-03</td>\n",
       "      <td>A</td>\n",
       "      <td>68</td>\n",
       "      <td>62</td>\n",
       "      <td>354874</td>\n",
       "      <td>1845</td>\n",
       "    </tr>\n",
       "  </tbody>\n",
       "</table>\n",
       "</div>"
      ],
      "text/plain": [
       "        date group  transactionId  visitorId  revenue  visitors\n",
       "0 2019-08-01     A             24         20   148579       719\n",
       "1 2019-08-01     B             21         20   101217       713\n",
       "2 2019-08-02     A             44         38   242401      1338\n",
       "3 2019-08-02     B             45         43   266748      1294\n",
       "4 2019-08-03     A             68         62   354874      1845"
      ]
     },
     "metadata": {},
     "output_type": "display_data"
    },
    {
     "data": {
      "text/html": [
       "<div>\n",
       "<style scoped>\n",
       "    .dataframe tbody tr th:only-of-type {\n",
       "        vertical-align: middle;\n",
       "    }\n",
       "\n",
       "    .dataframe tbody tr th {\n",
       "        vertical-align: top;\n",
       "    }\n",
       "\n",
       "    .dataframe thead th {\n",
       "        text-align: right;\n",
       "    }\n",
       "</style>\n",
       "<table border=\"1\" class=\"dataframe\">\n",
       "  <thead>\n",
       "    <tr style=\"text-align: right;\">\n",
       "      <th></th>\n",
       "      <th>date</th>\n",
       "      <th>group</th>\n",
       "      <th>orders</th>\n",
       "      <th>buyers</th>\n",
       "      <th>revenue</th>\n",
       "      <th>visitors</th>\n",
       "    </tr>\n",
       "  </thead>\n",
       "  <tbody>\n",
       "    <tr>\n",
       "      <th>0</th>\n",
       "      <td>2019-08-01</td>\n",
       "      <td>A</td>\n",
       "      <td>24</td>\n",
       "      <td>20</td>\n",
       "      <td>148579</td>\n",
       "      <td>719</td>\n",
       "    </tr>\n",
       "    <tr>\n",
       "      <th>1</th>\n",
       "      <td>2019-08-01</td>\n",
       "      <td>B</td>\n",
       "      <td>21</td>\n",
       "      <td>20</td>\n",
       "      <td>101217</td>\n",
       "      <td>713</td>\n",
       "    </tr>\n",
       "    <tr>\n",
       "      <th>2</th>\n",
       "      <td>2019-08-02</td>\n",
       "      <td>A</td>\n",
       "      <td>44</td>\n",
       "      <td>38</td>\n",
       "      <td>242401</td>\n",
       "      <td>1338</td>\n",
       "    </tr>\n",
       "    <tr>\n",
       "      <th>3</th>\n",
       "      <td>2019-08-02</td>\n",
       "      <td>B</td>\n",
       "      <td>45</td>\n",
       "      <td>43</td>\n",
       "      <td>266748</td>\n",
       "      <td>1294</td>\n",
       "    </tr>\n",
       "    <tr>\n",
       "      <th>4</th>\n",
       "      <td>2019-08-03</td>\n",
       "      <td>A</td>\n",
       "      <td>68</td>\n",
       "      <td>62</td>\n",
       "      <td>354874</td>\n",
       "      <td>1845</td>\n",
       "    </tr>\n",
       "  </tbody>\n",
       "</table>\n",
       "</div>"
      ],
      "text/plain": [
       "        date group  orders  buyers  revenue  visitors\n",
       "0 2019-08-01     A      24      20   148579       719\n",
       "1 2019-08-01     B      21      20   101217       713\n",
       "2 2019-08-02     A      44      38   242401      1338\n",
       "3 2019-08-02     B      45      43   266748      1294\n",
       "4 2019-08-03     A      68      62   354874      1845"
      ]
     },
     "execution_count": 13,
     "metadata": {},
     "output_type": "execute_result"
    }
   ],
   "source": [
    "## Рассчитаем кумулятивные данные\n",
    "\n",
    "# создаем массив уникальных пар значений дат и групп теста\n",
    "datesGroups = orders[['date','group']].drop_duplicates()\n",
    "\n",
    "# получаем агрегированные кумулятивные по дням данные о заказах \n",
    "ordersAggregated = datesGroups.apply(lambda x: orders[np.logical_and(orders['date'] <= x['date'], orders['group'] == x['group'])].agg({'date' : 'max', 'group' : 'max', 'transactionId' : 'nunique', 'visitorId' : 'nunique', 'revenue' : 'sum'}), axis=1).sort_values(by=['date','group'])\n",
    "\n",
    "# получаем агрегированные кумулятивные по дням данные о посетителях интернет-магазина \n",
    "visitorsAggregated = datesGroups.apply(lambda x: visitors[np.logical_and(visitors['date'] <= x['date'], visitors['group'] == x['group'])].agg({'date' : 'max', 'group' : 'max', 'visitors' : 'sum'}), axis=1).sort_values(by=['date','group'])\n",
    "\n",
    "# объединяем кумулятивные данные в одной таблице и присваиваем ее столбцам понятные названия\n",
    "cumulativeData = ordersAggregated.merge(visitorsAggregated, left_on=['date', 'group'], right_on=['date', 'group'])\n",
    "display(cumulativeData.head(5))\n",
    "cumulativeData.columns = ['date', 'group', 'orders', 'buyers', 'revenue', 'visitors']\n",
    "\n",
    "cumulativeData.head(5)"
   ]
  },
  {
   "cell_type": "code",
   "execution_count": 14,
   "id": "6c1c33a7",
   "metadata": {},
   "outputs": [
    {
     "name": "stdout",
     "output_type": "stream",
     "text": [
      "Дата старта теста 2019-08-01 00:00:00\n",
      "Дата окончания теста 2019-08-31 00:00:00\n"
     ]
    }
   ],
   "source": [
    "# Проверим, корректно ли был создан датафрейм cummulativeData\n",
    "print('Дата старта теста', cumulativeData['date'].min())\n",
    "print('Дата окончания теста', cumulativeData['date'].max())"
   ]
  },
  {
   "cell_type": "markdown",
   "id": "9454cc1e",
   "metadata": {},
   "source": [
    "Максимальная и минимальная даты совпадают, значит датафрейм cummulativeData создан правильно"
   ]
  },
  {
   "cell_type": "code",
   "execution_count": 15,
   "id": "db445447",
   "metadata": {
    "scrolled": true
   },
   "outputs": [
    {
     "data": {
      "image/png": "[encoded data removed]",
      "text/plain": [
       "<Figure size 432x288 with 1 Axes>"
      ]
     },
     "metadata": {
      "needs_background": "light"
     },
     "output_type": "display_data"
    }
   ],
   "source": [
    "## Построим графики кумулятивной выручки по дням\n",
    "\n",
    "# датафрейм с кумулятивным количеством заказов и кумулятивной выручкой по дням в группе А\n",
    "cumulativeRevenueA = cumulativeData[cumulativeData['group']=='A'][['date','revenue', 'orders']]\n",
    "\n",
    "# датафрейм с кумулятивным количеством заказов и кумулятивной выручкой по дням в группе B\n",
    "cumulativeRevenueB = cumulativeData[cumulativeData['group']=='B'][['date','revenue', 'orders']]\n",
    "\n",
    "# Строим график выручки группы А\n",
    "plt.plot(cumulativeRevenueA['date'], cumulativeRevenueA['revenue'], label='A')\n",
    "\n",
    "# Строим график выручки группы B\n",
    "plt.plot(cumulativeRevenueB['date'], cumulativeRevenueB['revenue'], label='B')\n",
    "plt.xticks(cumulativeRevenueB['date'], rotation = 'vertical')\n",
    "plt.title('Кумулятивная выручка по дням')\n",
    "plt.xlabel('Время')\n",
    "plt.ylabel('Выручка')\n",
    "plt.legend() \n",
    "plt.show()"
   ]
  },
  {
   "cell_type": "markdown",
   "id": "16d35cd5",
   "metadata": {},
   "source": [
    "**Вывод:** Выручки обоих графиков растут. В группе В в средине теста произошел резкий скачок (или увеличилось кол-во заказов или был какой-то крупный заказ-выброс)"
   ]
  },
  {
   "cell_type": "markdown",
   "id": "41bf329e",
   "metadata": {},
   "source": [
    "### График кумулятивного среднего чека по группам"
   ]
  },
  {
   "cell_type": "code",
   "execution_count": 16,
   "id": "1e1556f8",
   "metadata": {},
   "outputs": [
    {
     "data": {
      "image/png": "[encoded data removed]",
      "text/plain": [
       "<Figure size 432x288 with 1 Axes>"
      ]
     },
     "metadata": {
      "needs_background": "light"
     },
     "output_type": "display_data"
    }
   ],
   "source": [
    "## Построим график кумулятивного среднего чека по дням\n",
    "\n",
    "plt.plot(cumulativeRevenueA['date'], cumulativeRevenueA['revenue']/cumulativeRevenueA['orders'], label='A')\n",
    "plt.plot(cumulativeRevenueB['date'], cumulativeRevenueB['revenue']/cumulativeRevenueB['orders'], label='B')\n",
    "plt.xticks(cumulativeRevenueB['date'], rotation = 'vertical')\n",
    "plt.title('Кумулятивный средний чек по дням')\n",
    "plt.xlabel('Время')\n",
    "plt.ylabel('Средний чек')\n",
    "plt.legend() \n",
    "plt.show()"
   ]
  },
  {
   "cell_type": "markdown",
   "id": "6bb8b7c4",
   "metadata": {},
   "source": [
    "**Вывод:** \n",
    "* Средний чек в середине резко вырос, а потом стал медленно падать для группы В. Явно что-то произошло! (?) попали крупные заказы и нужно время, чтобы прийти к реальному среднему чеку и установиться на его уровне.\n",
    "* Для группы А средний чек изначал был низким из-за малого кол-ва заказов, а потом поднялся и установился"
   ]
  },
  {
   "cell_type": "markdown",
   "id": "2e6bb24e",
   "metadata": {},
   "source": [
    "###  График относительного различия для среднего чека"
   ]
  },
  {
   "cell_type": "code",
   "execution_count": 17,
   "id": "babb9b5f",
   "metadata": {
    "scrolled": false
   },
   "outputs": [
    {
     "data": {
      "image/png": "[encoded data removed]",
      "text/plain": [
       "<Figure size 432x288 with 1 Axes>"
      ]
     },
     "metadata": {
      "needs_background": "light"
     },
     "output_type": "display_data"
    }
   ],
   "source": [
    "## Построим график относительного различия для среднего чека\n",
    "\n",
    "# собираем данные в одном датафрейме\n",
    "mergedCumulativeRevenue = cumulativeRevenueA.merge(cumulativeRevenueB, left_on='date', right_on='date', how='left', suffixes=['A', 'B'])\n",
    "\n",
    "# cтроим отношение средних чеков\n",
    "plt.plot(mergedCumulativeRevenue['date'], (mergedCumulativeRevenue['revenueB']/mergedCumulativeRevenue['ordersB'])/(mergedCumulativeRevenue['revenueA']/mergedCumulativeRevenue['ordersA'])-1)\n",
    "plt.xticks(mergedCumulativeRevenue['date'], rotation = 'vertical')\n",
    "plt.title('График относительного различия для среднего чека')\n",
    "plt.xlabel('Время')\n",
    "plt.ylabel('Отношение среднего чека группы В к группе А')\n",
    "\n",
    "# добавляем ось X\n",
    "plt.axhline(y=0, color='black', linestyle='--') \n",
    "plt.show()"
   ]
  },
  {
   "cell_type": "markdown",
   "id": "a18d1e6a",
   "metadata": {},
   "source": [
    "**Вывод:** В нескольких точках график различия между сегментами резко «скачет». Явно тут есть крупные заказы и выбросы!"
   ]
  },
  {
   "cell_type": "markdown",
   "id": "cad443c1",
   "metadata": {},
   "source": [
    "###  График кумулятивной конверсии"
   ]
  },
  {
   "cell_type": "code",
   "execution_count": 18,
   "id": "261ba956",
   "metadata": {},
   "outputs": [
    {
     "data": {
      "image/png": "[encoded data removed]",
      "text/plain": [
       "<Figure size 432x288 with 1 Axes>"
      ]
     },
     "metadata": {
      "needs_background": "light"
     },
     "output_type": "display_data"
    }
   ],
   "source": [
    "# считаем кумулятивную конверсию\n",
    "cumulativeData['conversion'] = cumulativeData['orders']/cumulativeData['visitors']\n",
    "\n",
    "# отделяем данные по группе A\n",
    "cumulativeDataA = cumulativeData[cumulativeData['group']=='A']\n",
    "\n",
    "# отделяем данные по группе B\n",
    "cumulativeDataB = cumulativeData[cumulativeData['group']=='B']\n",
    "\n",
    "# строим графики\n",
    "plt.plot(cumulativeDataA['date'], cumulativeDataA['conversion'], label='A')\n",
    "plt.plot(cumulativeDataB['date'], cumulativeDataB['conversion'], label='B')\n",
    "plt.xticks(cumulativeDataB['date'], rotation = 'vertical')\n",
    "plt.legend()\n",
    "plt.title('График кумулятивной конверсии')\n",
    "plt.xlabel('Время')\n",
    "plt.ylabel('Кумулятивная конверсия')\n",
    "plt.show()"
   ]
  },
  {
   "cell_type": "markdown",
   "id": "ccbb38d0",
   "metadata": {},
   "source": [
    "**Вывод:** Сначала конверсии колебались из-за недостатска данных в начале, но потом cтало видно, что конверсия В значительно выше А. А так же видно, что обе конверсии зафиксировались."
   ]
  },
  {
   "cell_type": "markdown",
   "id": "936e12a4",
   "metadata": {},
   "source": [
    "### График относительного изменения кумулятивной конверсии"
   ]
  },
  {
   "cell_type": "code",
   "execution_count": 19,
   "id": "7a931488",
   "metadata": {
    "scrolled": true
   },
   "outputs": [
    {
     "name": "stderr",
     "output_type": "stream",
     "text": [
      "No handles with labels found to put in legend.\n"
     ]
    },
    {
     "data": {
      "image/png": "[encoded data removed]",
      "text/plain": [
       "<Figure size 432x288 with 1 Axes>"
      ]
     },
     "metadata": {
      "needs_background": "light"
     },
     "output_type": "display_data"
    }
   ],
   "source": [
    "## Соберем в одну таблицу конверсии А и В\n",
    "mergedCumulativeConversions = cumulativeDataA[['date','conversion']].merge(cumulativeDataB[['date','conversion']], left_on='date', right_on='date', how='left', suffixes=['A', 'B'])\n",
    "\n",
    "## Постоим график\n",
    "plt.plot(mergedCumulativeConversions['date'], mergedCumulativeConversions['conversionB']/mergedCumulativeConversions['conversionA']-1)\n",
    "plt.xticks(mergedCumulativeConversions['date'], rotation = 'vertical')\n",
    "plt.title('Относительный прирост конверсии группы B относительно группы A')\n",
    "plt.xlabel('Время')\n",
    "plt.ylabel('Прирост конверсии В относительно А')\n",
    "plt.legend()\n",
    "plt.show()"
   ]
  },
  {
   "cell_type": "markdown",
   "id": "5a9da420",
   "metadata": {},
   "source": [
    "**Вывод:** В начале теста были колебания, но дальше яавно видно, что группа B выигрывает группе A"
   ]
  },
  {
   "cell_type": "markdown",
   "id": "cbe287c4",
   "metadata": {},
   "source": [
    "### Точечный график количества заказов по пользователям"
   ]
  },
  {
   "cell_type": "code",
   "execution_count": 20,
   "id": "08407a30",
   "metadata": {},
   "outputs": [
    {
     "data": {
      "text/html": [
       "<div>\n",
       "<style scoped>\n",
       "    .dataframe tbody tr th:only-of-type {\n",
       "        vertical-align: middle;\n",
       "    }\n",
       "\n",
       "    .dataframe tbody tr th {\n",
       "        vertical-align: top;\n",
       "    }\n",
       "\n",
       "    .dataframe thead th {\n",
       "        text-align: right;\n",
       "    }\n",
       "</style>\n",
       "<table border=\"1\" class=\"dataframe\">\n",
       "  <thead>\n",
       "    <tr style=\"text-align: right;\">\n",
       "      <th></th>\n",
       "      <th>transactionId</th>\n",
       "      <th>visitorId</th>\n",
       "      <th>date</th>\n",
       "      <th>revenue</th>\n",
       "      <th>group</th>\n",
       "    </tr>\n",
       "  </thead>\n",
       "  <tbody>\n",
       "    <tr>\n",
       "      <th>0</th>\n",
       "      <td>3667963787</td>\n",
       "      <td>3312258926</td>\n",
       "      <td>2019-08-15</td>\n",
       "      <td>1650</td>\n",
       "      <td>B</td>\n",
       "    </tr>\n",
       "    <tr>\n",
       "      <th>1</th>\n",
       "      <td>2804400009</td>\n",
       "      <td>3642806036</td>\n",
       "      <td>2019-08-15</td>\n",
       "      <td>730</td>\n",
       "      <td>B</td>\n",
       "    </tr>\n",
       "    <tr>\n",
       "      <th>2</th>\n",
       "      <td>2961555356</td>\n",
       "      <td>4069496402</td>\n",
       "      <td>2019-08-15</td>\n",
       "      <td>400</td>\n",
       "      <td>A</td>\n",
       "    </tr>\n",
       "    <tr>\n",
       "      <th>3</th>\n",
       "      <td>3797467345</td>\n",
       "      <td>1196621759</td>\n",
       "      <td>2019-08-15</td>\n",
       "      <td>9759</td>\n",
       "      <td>B</td>\n",
       "    </tr>\n",
       "    <tr>\n",
       "      <th>4</th>\n",
       "      <td>2282983706</td>\n",
       "      <td>2322279887</td>\n",
       "      <td>2019-08-15</td>\n",
       "      <td>2308</td>\n",
       "      <td>B</td>\n",
       "    </tr>\n",
       "  </tbody>\n",
       "</table>\n",
       "</div>"
      ],
      "text/plain": [
       "   transactionId   visitorId       date  revenue group\n",
       "0     3667963787  3312258926 2019-08-15     1650     B\n",
       "1     2804400009  3642806036 2019-08-15      730     B\n",
       "2     2961555356  4069496402 2019-08-15      400     A\n",
       "3     3797467345  1196621759 2019-08-15     9759     B\n",
       "4     2282983706  2322279887 2019-08-15     2308     B"
      ]
     },
     "execution_count": 20,
     "metadata": {},
     "output_type": "execute_result"
    }
   ],
   "source": [
    "orders.head(5)"
   ]
  },
  {
   "cell_type": "code",
   "execution_count": 21,
   "id": "7a23641d",
   "metadata": {},
   "outputs": [
    {
     "data": {
      "text/html": [
       "<div>\n",
       "<style scoped>\n",
       "    .dataframe tbody tr th:only-of-type {\n",
       "        vertical-align: middle;\n",
       "    }\n",
       "\n",
       "    .dataframe tbody tr th {\n",
       "        vertical-align: top;\n",
       "    }\n",
       "\n",
       "    .dataframe thead th {\n",
       "        text-align: right;\n",
       "    }\n",
       "</style>\n",
       "<table border=\"1\" class=\"dataframe\">\n",
       "  <thead>\n",
       "    <tr style=\"text-align: right;\">\n",
       "      <th></th>\n",
       "      <th>userId</th>\n",
       "      <th>orders</th>\n",
       "    </tr>\n",
       "  </thead>\n",
       "  <tbody>\n",
       "    <tr>\n",
       "      <th>0</th>\n",
       "      <td>5114589</td>\n",
       "      <td>1</td>\n",
       "    </tr>\n",
       "    <tr>\n",
       "      <th>1</th>\n",
       "      <td>6958315</td>\n",
       "      <td>1</td>\n",
       "    </tr>\n",
       "    <tr>\n",
       "      <th>2</th>\n",
       "      <td>8300375</td>\n",
       "      <td>2</td>\n",
       "    </tr>\n",
       "  </tbody>\n",
       "</table>\n",
       "</div>"
      ],
      "text/plain": [
       "    userId  orders\n",
       "0  5114589       1\n",
       "1  6958315       1\n",
       "2  8300375       2"
      ]
     },
     "execution_count": 21,
     "metadata": {},
     "output_type": "execute_result"
    }
   ],
   "source": [
    "# Сгруппируем заказы по пользователям\n",
    "ordersByUsers = (\n",
    "    orders.groupby('visitorId', as_index=False)\n",
    "    .agg({'transactionId': 'nunique'})\n",
    ")\n",
    "\n",
    "ordersByUsers.columns = ['userId', 'orders']\n",
    "ordersByUsers.head(3)"
   ]
  },
  {
   "cell_type": "code",
   "execution_count": 22,
   "id": "c9120c12",
   "metadata": {},
   "outputs": [
    {
     "data": {
      "image/png": "[encoded data removed]",
      "text/plain": [
       "<Figure size 432x288 with 1 Axes>"
      ]
     },
     "metadata": {
      "needs_background": "light"
     },
     "output_type": "display_data"
    }
   ],
   "source": [
    "# Построим точечный график количества заказов по пользователям\n",
    "x_values = pd.Series(range(0,len(ordersByUsers)))\n",
    "\n",
    "plt.scatter(x_values, ordersByUsers['orders']) \n",
    "plt.title('Точечный график количества заказов по пользователям')\n",
    "plt.xlabel('Порядковый номер пользователя')\n",
    "plt.ylabel('Кол-во заказов')\n",
    "plt.show()"
   ]
  },
  {
   "cell_type": "markdown",
   "id": "b11464d3",
   "metadata": {},
   "source": [
    "**Вывод:** Видно, что больше всего раз делали один заказ и основная масса делала не более 3-х заказов. Проверим это, посчитав перцентили количества заказов на пользователя"
   ]
  },
  {
   "cell_type": "code",
   "execution_count": 23,
   "id": "2748a1d5",
   "metadata": {},
   "outputs": [
    {
     "name": "stdout",
     "output_type": "stream",
     "text": [
      "[1. 2. 4.]\n"
     ]
    }
   ],
   "source": [
    "# Посчитаем перцентили количества заказов на пользователя\n",
    "print(np.percentile(ordersByUsers['orders'], [90, 95, 99])) "
   ]
  },
  {
   "cell_type": "markdown",
   "id": "5b0d0294",
   "metadata": {},
   "source": [
    "**Вывод:** Только 5% пользователей делают больше 2 заказов"
   ]
  },
  {
   "cell_type": "code",
   "execution_count": 24,
   "id": "92e7893f",
   "metadata": {
    "scrolled": true
   },
   "outputs": [
    {
     "data": {
      "image/png": "[encoded data removed]",
      "text/plain": [
       "<Figure size 432x288 with 1 Axes>"
      ]
     },
     "metadata": {
      "needs_background": "light"
     },
     "output_type": "display_data"
    }
   ],
   "source": [
    "## Построим гистрограмму распределения количества заказов на одного пользователя\n",
    "plt.hist(ordersByUsers['orders'])\n",
    "plt.title('Гистрограмма распределения количества заказов на одного пользователя')\n",
    "plt.xlabel('Кол-во заказов')\n",
    "plt.ylabel('Частота')\n",
    "plt.show()"
   ]
  },
  {
   "cell_type": "markdown",
   "id": "8529056e",
   "metadata": {},
   "source": [
    "**Вывод:** Большинство покупателей делают только 2 заказа. Аномальными пользователями будем считать, которые сделали более 2 заказов"
   ]
  },
  {
   "cell_type": "markdown",
   "id": "6d6a88a7",
   "metadata": {},
   "source": [
    "### Точечный график стоимостей заказов"
   ]
  },
  {
   "cell_type": "code",
   "execution_count": 25,
   "id": "8136f436",
   "metadata": {
    "scrolled": true
   },
   "outputs": [
    {
     "data": {
      "image/png": "[encoded data removed]",
      "text/plain": [
       "<Figure size 432x288 with 1 Axes>"
      ]
     },
     "metadata": {
      "needs_background": "light"
     },
     "output_type": "display_data"
    }
   ],
   "source": [
    "x_values = pd.Series(range(0,len(orders['revenue'])))\n",
    "plt.scatter(x_values, orders['revenue'])\n",
    "plt.title('Точечный график стоимостей заказов')\n",
    "plt.xlabel('Порядковый номер пользователя')\n",
    "plt.ylabel('Стоимость одного заказа')\n",
    "plt.show()"
   ]
  },
  {
   "cell_type": "markdown",
   "id": "652e6220",
   "metadata": {},
   "source": [
    "**Вывод:** Явно виден огромный выброс, который скорее всего и повлиял на кумулятивную выручку и средний чек для группы В"
   ]
  },
  {
   "cell_type": "code",
   "execution_count": 26,
   "id": "cca16e8a",
   "metadata": {},
   "outputs": [
    {
     "name": "stdout",
     "output_type": "stream",
     "text": [
      "[18168.  28000.  58233.2]\n"
     ]
    }
   ],
   "source": [
    "print(np.percentile(orders['revenue'], [90, 95, 99])) "
   ]
  },
  {
   "cell_type": "markdown",
   "id": "f8d76189",
   "metadata": {},
   "source": [
    "**Вывод:** Не более 5% заказов дороже 28000 рублей, не более 10% дороже 18168"
   ]
  },
  {
   "cell_type": "raw",
   "id": "4d9bc7a2",
   "metadata": {},
   "source": [
    "## Убедимя, что выброс на графике относится в группе Б\n",
    "orders[orders['revenue'] == orders['revenue'].max()]"
   ]
  },
  {
   "cell_type": "code",
   "execution_count": 28,
   "id": "e4c932ef",
   "metadata": {},
   "outputs": [
    {
     "data": {
      "text/plain": [
       "Timestamp('2019-08-31 00:00:00')"
      ]
     },
     "metadata": {},
     "output_type": "display_data"
    },
    {
     "data": {
      "text/plain": [
       "Timestamp('2019-08-01 00:00:00')"
      ]
     },
     "execution_count": 28,
     "metadata": {},
     "output_type": "execute_result"
    }
   ],
   "source": [
    "## Убедимя, что этот выброс в середине исследования\n",
    "display(orders['date'].max())\n",
    "orders['date'].min()"
   ]
  },
  {
   "cell_type": "code",
   "execution_count": 29,
   "id": "d2867d67",
   "metadata": {},
   "outputs": [
    {
     "data": {
      "image/png": "[encoded data removed]",
      "text/plain": [
       "<Figure size 432x288 with 1 Axes>"
      ]
     },
     "metadata": {
      "needs_background": "light"
     },
     "output_type": "display_data"
    }
   ],
   "source": [
    "## Построим гистрограмму распределения стоимости заказов\n",
    "plt.hist(orders['revenue'])\n",
    "plt.title('Гистрограмма распределения распределения стоимости заказов')\n",
    "plt.xlabel('Стоимость заказа')\n",
    "plt.ylabel('Частота')\n",
    "plt.show()"
   ]
  },
  {
   "cell_type": "markdown",
   "id": "906b2b82",
   "metadata": {},
   "source": [
    "**Вывод:** Большенство заказов до 20000. Заказы будем считать аномальными после 18168, по первому персантилю  "
   ]
  },
  {
   "cell_type": "markdown",
   "id": "b8acd94b",
   "metadata": {},
   "source": [
    "### Расчет статистической значимости различий в конверсии между группами по «сырым» данным"
   ]
  },
  {
   "cell_type": "code",
   "execution_count": 30,
   "id": "935d5653",
   "metadata": {},
   "outputs": [
    {
     "data": {
      "text/html": [
       "<div>\n",
       "<style scoped>\n",
       "    .dataframe tbody tr th:only-of-type {\n",
       "        vertical-align: middle;\n",
       "    }\n",
       "\n",
       "    .dataframe tbody tr th {\n",
       "        vertical-align: top;\n",
       "    }\n",
       "\n",
       "    .dataframe thead th {\n",
       "        text-align: right;\n",
       "    }\n",
       "</style>\n",
       "<table border=\"1\" class=\"dataframe\">\n",
       "  <thead>\n",
       "    <tr style=\"text-align: right;\">\n",
       "      <th></th>\n",
       "      <th>date</th>\n",
       "      <th>group</th>\n",
       "      <th>orders</th>\n",
       "      <th>buyers</th>\n",
       "      <th>revenue</th>\n",
       "      <th>visitors</th>\n",
       "      <th>conversion</th>\n",
       "    </tr>\n",
       "  </thead>\n",
       "  <tbody>\n",
       "    <tr>\n",
       "      <th>0</th>\n",
       "      <td>2019-08-01</td>\n",
       "      <td>A</td>\n",
       "      <td>24</td>\n",
       "      <td>20</td>\n",
       "      <td>148579</td>\n",
       "      <td>719</td>\n",
       "      <td>0.033380</td>\n",
       "    </tr>\n",
       "    <tr>\n",
       "      <th>2</th>\n",
       "      <td>2019-08-02</td>\n",
       "      <td>A</td>\n",
       "      <td>44</td>\n",
       "      <td>38</td>\n",
       "      <td>242401</td>\n",
       "      <td>1338</td>\n",
       "      <td>0.032885</td>\n",
       "    </tr>\n",
       "    <tr>\n",
       "      <th>4</th>\n",
       "      <td>2019-08-03</td>\n",
       "      <td>A</td>\n",
       "      <td>68</td>\n",
       "      <td>62</td>\n",
       "      <td>354874</td>\n",
       "      <td>1845</td>\n",
       "      <td>0.036856</td>\n",
       "    </tr>\n",
       "  </tbody>\n",
       "</table>\n",
       "</div>"
      ],
      "text/plain": [
       "        date group  orders  buyers  revenue  visitors  conversion\n",
       "0 2019-08-01     A      24      20   148579       719    0.033380\n",
       "2 2019-08-02     A      44      38   242401      1338    0.032885\n",
       "4 2019-08-03     A      68      62   354874      1845    0.036856"
      ]
     },
     "execution_count": 30,
     "metadata": {},
     "output_type": "execute_result"
    }
   ],
   "source": [
    "# Разобьем таблицу с кумулятивными данными на две по группам А и В\n",
    "cumulativeAData = cumulativeData[cumulativeData['group'] == 'A']\n",
    "cumulativeBData = cumulativeData[cumulativeData['group'] == 'B']\n",
    "cumulativeAData.head(3)"
   ]
  },
  {
   "cell_type": "code",
   "execution_count": 31,
   "id": "88d7c327",
   "metadata": {},
   "outputs": [],
   "source": [
    "# Посчитаем кол-во заказов для каждого пользователя\n",
    "ordersByUsersA = (\n",
    "    orders[orders['group'] == 'A']\n",
    "    .groupby('visitorId', as_index=False)\n",
    "    .agg({'transactionId': pd.Series.nunique})\n",
    ")\n",
    "ordersByUsersA.columns = ['userId', 'orders']\n",
    "\n",
    "ordersByUsersB = (\n",
    "    orders[orders['group'] == 'B']\n",
    "    .groupby('visitorId', as_index=False)\n",
    "    .agg({'transactionId': pd.Series.nunique})\n",
    ")\n",
    "ordersByUsersB.columns = ['userId', 'orders']"
   ]
  },
  {
   "cell_type": "code",
   "execution_count": 32,
   "id": "009fe5da",
   "metadata": {},
   "outputs": [],
   "source": [
    "# Соберем всех пользователй с заказами и без в одну таблицу\n",
    "sampleA = pd.concat(\n",
    "    [\n",
    "        ordersByUsersA['orders'],\n",
    "        pd.Series(\n",
    "            0,\n",
    "            index=np.arange(\n",
    "                cumulativeAData['visitors'].sum() - len(ordersByUsersA['orders'])\n",
    "            ),\n",
    "            name='orders',\n",
    "        ),\n",
    "    ],\n",
    "    axis=0,\n",
    ")\n",
    "\n",
    "sampleB = pd.concat(\n",
    "    [\n",
    "        ordersByUsersB['orders'],\n",
    "        pd.Series(\n",
    "            0,\n",
    "            index=np.arange(\n",
    "                cumulativeBData['visitors'].sum() - len(ordersByUsersB['orders'])\n",
    "            ),\n",
    "            name='orders',\n",
    "        ),\n",
    "    ],\n",
    "    axis=0,\n",
    ")"
   ]
  },
  {
   "cell_type": "markdown",
   "id": "a477421f",
   "metadata": {},
   "source": [
    "**Проверим гипотезы:**\n",
    "\n",
    "**H0**: Статистически значимых различий в конверсии по сырым данным нет между группами А и В \n",
    "\n",
    "**H1**: Есть статистически значимые различий в конверсии по сырым данным между группами А и В \n",
    "\n",
    "Для проверки будем использовать статистический критерий Манна-Уитни"
   ]
  },
  {
   "cell_type": "code",
   "execution_count": 33,
   "id": "37d1bef2",
   "metadata": {},
   "outputs": [],
   "source": [
    "# Зададим уровень значимости\n",
    "alpha = 0.05"
   ]
  },
  {
   "cell_type": "code",
   "execution_count": 34,
   "id": "0c39de59",
   "metadata": {},
   "outputs": [
    {
     "name": "stdout",
     "output_type": "stream",
     "text": [
      "p-value: 0.015  < alpha => Отвергаем нулевую гипотезу: есть статистически значимые различий в конверсии по сырым данным между группами А и В\n",
      "Относительное различие в конверсии между группам составляет: 0.144\n"
     ]
    }
   ],
   "source": [
    "# Посчитаем статистическую значимость различия в конверсии между группами\n",
    "results = st.mannwhitneyu(sampleA, sampleB)[1]\n",
    "\n",
    "if results < alpha:\n",
    "    print('p-value:',\"{0:.3f}\".format(results),\" < alpha => Отвергаем нулевую гипотезу: есть статистически значимые различий в конверсии по сырым данным между группами А и В\")\n",
    "else:\n",
    "    print(\"Не получилось отвергнуть нулевую гипотезу -> Статистически значимых различия в конверсии по сырым данным между группами А и В нет\")\n",
    "\n",
    "print('Относительное различие в конверсии между группам составляет:',\"{0:.3f}\".format(sampleB.mean() / sampleA.mean() - 1))"
   ]
  },
  {
   "cell_type": "markdown",
   "id": "019df428",
   "metadata": {},
   "source": [
    "### Расчет статистической значимости  различий в среднем чеке заказа между группами по «сырым» данным."
   ]
  },
  {
   "cell_type": "markdown",
   "id": "a1c032ea",
   "metadata": {},
   "source": [
    "**Проверим гипотезы:**\n",
    "\n",
    "**H0**: Статистически значимых различий в среднем чеке по сырым данным нет между группами А и В нет\n",
    "\n",
    "**H1**: Есть статистически значимые различий в среднем чеке по сырым данным между группами А и В \n",
    "\n",
    "Для проверки будем использовать статистический критерий  Манна-Уитни"
   ]
  },
  {
   "cell_type": "code",
   "execution_count": 35,
   "id": "3d0f6e47",
   "metadata": {},
   "outputs": [
    {
     "name": "stdout",
     "output_type": "stream",
     "text": [
      "p-value: 0.729  > alpha => Не получилось отвергнуть нулевую гипотезу: статистически значимых различий в среднем чеке по сырым данным нет между группами А и В нет\n",
      "Относительное различие в среднем чеке между группам составляет: 0.259\n"
     ]
    }
   ],
   "source": [
    "results = st.mannwhitneyu(orders[orders['group']=='A']['revenue'], orders[orders['group']=='B']['revenue'])[1]\n",
    "\n",
    "if results < alpha:\n",
    "    print('p-value:',\"{0:.3f}\".format(results),\" < alpha => Отвергаем нулевую гипотезу: есть статистически значимые различий в среднем чеке по сырым данным между группами А и В\")\n",
    "else:\n",
    "    print('p-value:',\"{0:.3f}\".format(results), \" > alpha => Не получилось отвергнуть нулевую гипотезу: статистически значимых различий в среднем чеке по сырым данным нет между группами А и В нет\")\n",
    "\n",
    "print('Относительное различие в среднем чеке между группам составляет:','{0:.3f}'.format(orders[orders['group']=='B']['revenue'].mean()/orders[orders['group']=='A']['revenue'].mean()-1))"
   ]
  },
  {
   "cell_type": "markdown",
   "id": "a2bba9a7",
   "metadata": {},
   "source": [
    "### Расчет статистической значимости различий в конверсии между группами по «очищенным» данным"
   ]
  },
  {
   "cell_type": "code",
   "execution_count": 36,
   "id": "a090ffa6",
   "metadata": {},
   "outputs": [
    {
     "name": "stdout",
     "output_type": "stream",
     "text": [
      "568     113298937\n",
      "1099    148427295\n",
      "461     154576532\n",
      "18      199603092\n",
      "928     204675465\n",
      "dtype: int64\n",
      "126\n"
     ]
    }
   ],
   "source": [
    "ManyOrders = 2\n",
    "ExpensiveOrders = 18168\n",
    "\n",
    "\n",
    "# Узнаем, сколько всего аномальных пользователей \n",
    "usersWithManyOrders = pd.concat(\n",
    "    [\n",
    "        ordersByUsersA[ordersByUsersA['orders'] > ManyOrders]['userId'],\n",
    "        ordersByUsersB[ordersByUsersB['orders'] > ManyOrders]['userId'],\n",
    "    ],\n",
    "    axis=0,\n",
    ")\n",
    "usersWithExpensiveOrders = orders[orders['revenue'] > ExpensiveOrders]['visitorId']\n",
    "\n",
    "abnormalUsers = (\n",
    "    pd.concat([usersWithManyOrders, usersWithExpensiveOrders], axis=0)\n",
    "    .drop_duplicates()\n",
    "    .sort_values()\n",
    ")\n",
    "print(abnormalUsers.head(5))\n",
    "print(abnormalUsers.shape[0]) "
   ]
  },
  {
   "cell_type": "code",
   "execution_count": 37,
   "id": "eecb7abc",
   "metadata": {},
   "outputs": [
    {
     "name": "stdout",
     "output_type": "stream",
     "text": [
      "      visitorId\n",
      "0             1\n",
      "1             1\n",
      "2             2\n",
      "3             1\n",
      "4             1\n",
      "...         ...\n",
      "1026          2\n",
      "1027          1\n",
      "1028          1\n",
      "1029          1\n",
      "1030          1\n",
      "\n",
      "[1031 rows x 1 columns]\n",
      "Аномальных пользователей: 100\n",
      "% аномальных пользователей от общего числа 9.7\n"
     ]
    }
   ],
   "source": [
    "print(orders.groupby('visitorId', as_index=False)['visitorId'].count())\n",
    "print('Аномальных пользователей: 100')\n",
    "print('% аномальных пользователей от общего числа', round(100/1031*100,2))"
   ]
  },
  {
   "cell_type": "code",
   "execution_count": 38,
   "id": "0087efaf",
   "metadata": {},
   "outputs": [],
   "source": [
    "# Исключим аномальных пользователей\n",
    "sampleAFiltered = pd.concat(\n",
    "    [\n",
    "        ordersByUsersA[\n",
    "            np.logical_not(ordersByUsersA['userId'].isin(abnormalUsers))\n",
    "        ]['orders'],\n",
    "        pd.Series(\n",
    "            0,\n",
    "            index=np.arange(\n",
    "                cumulativeAData['visitors'].sum() - len(ordersByUsersA['orders'])\n",
    "            ),\n",
    "            name='orders',\n",
    "        ),\n",
    "    ],\n",
    "    axis=0,\n",
    ")\n",
    "\n",
    "sampleBFiltered = pd.concat(\n",
    "    [\n",
    "        ordersByUsersB[\n",
    "            np.logical_not(ordersByUsersB['userId'].isin(abnormalUsers))\n",
    "        ]['orders'],\n",
    "        pd.Series(\n",
    "            0,\n",
    "            index=np.arange(\n",
    "                cumulativeAData['visitors'].sum() - len(ordersByUsersB['orders'])\n",
    "            ),\n",
    "            name='orders',\n",
    "        ),\n",
    "    ],\n",
    "    axis=0,\n",
    ") "
   ]
  },
  {
   "cell_type": "code",
   "execution_count": 68,
   "id": "d0d888c0",
   "metadata": {},
   "outputs": [
    {
     "data": {
      "text/plain": [
       "0         1\n",
       "1         1\n",
       "2         1\n",
       "3         1\n",
       "4         1\n",
       "         ..\n",
       "305165    0\n",
       "305166    0\n",
       "305167    0\n",
       "305168    0\n",
       "305169    0\n",
       "Name: orders, Length: 305601, dtype: int64"
      ]
     },
     "execution_count": 68,
     "metadata": {},
     "output_type": "execute_result"
    }
   ],
   "source": [
    "sampleAFiltered"
   ]
  },
  {
   "cell_type": "markdown",
   "id": "0c80385c",
   "metadata": {},
   "source": [
    "**Проверим гипотезы:**\n",
    "\n",
    "**H0**: Статистически значимых различий в конверсии между группами А и В по «очищенным» данным нет\n",
    "\n",
    "**H1**: Есть статистически значимые различия в конверсии между группами А и В по «очищенным»\n",
    "\n",
    "Для проверки будем использовать статистический критерий  Манна-Уитни"
   ]
  },
  {
   "cell_type": "code",
   "execution_count": 40,
   "id": "0929fa8a",
   "metadata": {},
   "outputs": [
    {
     "name": "stdout",
     "output_type": "stream",
     "text": [
      "p-value: 0.014  < alpha => Отвергаем нулевую гипотезу: есть статистически значимые различия в конверсии между группами А и В по «очищенным» данным\n",
      "Относительное различие в конверсии между группам составляет: 0.182\n"
     ]
    }
   ],
   "source": [
    "results = st.mannwhitneyu(sampleAFiltered, sampleBFiltered)[1]\n",
    "\n",
    "if results < alpha:\n",
    "    print('p-value:',\"{0:.3f}\".format(results),\" < alpha => Отвергаем нулевую гипотезу: есть статистически значимые различия в конверсии между группами А и В по «очищенным» данным\")\n",
    "else:\n",
    "    print('p-value:',\"{0:.3f}\".format(results), \" > alpha => Не получилось отвергнуть нулевую гипотезу: статистически значимых различий в конверсии по очищеным данным нет между группами А и В нет\")\n",
    "\n",
    "print('Относительное различие в конверсии между группам составляет:','{0:.3f}'.format(sampleBFiltered.mean()/sampleAFiltered.mean()-1))"
   ]
  },
  {
   "cell_type": "markdown",
   "id": "a8e99f61",
   "metadata": {},
   "source": [
    "### Расчет статистической значимости различий в среднем чеке заказа между группами по «очищенным» данным"
   ]
  },
  {
   "cell_type": "markdown",
   "id": "cf651eb8",
   "metadata": {},
   "source": [
    "**Проверим гипотезы:** \n",
    "\n",
    "**H0**: Статистически значимых различий в среднем чеке между группами А и В по «очищенным» данным нет\n",
    "\n",
    "**H1**: Есть статистически значимые различия в среднем чеке  между группами А и В по «очищенным»\n",
    "\n",
    "Для проверки будем использовать статистический критерий  Манна-Уитни"
   ]
  },
  {
   "cell_type": "code",
   "execution_count": 41,
   "id": "4c06e68e",
   "metadata": {},
   "outputs": [],
   "source": [
    "# Посчитаем статистическую занчимость различий в среднем чеке заказа между группами по «очищенным» группами\n",
    "results = st.mannwhitneyu(\n",
    "            orders[\n",
    "                np.logical_and(\n",
    "                    orders['group'] == 'A',\n",
    "                    np.logical_not(orders['visitorId'].isin(abnormalUsers)),\n",
    "                )\n",
    "            ]['revenue'],\n",
    "            orders[\n",
    "                np.logical_and(\n",
    "                    orders['group'] == 'B',\n",
    "                    np.logical_not(orders['visitorId'].isin(abnormalUsers)),\n",
    "                )\n",
    "            ]['revenue'],\n",
    "        )[1]"
   ]
  },
  {
   "cell_type": "code",
   "execution_count": 42,
   "id": "dca278b9",
   "metadata": {},
   "outputs": [
    {
     "name": "stdout",
     "output_type": "stream",
     "text": [
      "p-value: 0.619  > alpha => Не получилось отвергнуть нулевую гипотезу: статистически значимых различий в среднем чеке по очищеным данным нет между группами А и В\n"
     ]
    }
   ],
   "source": [
    "if results < alpha:\n",
    "    print('p-value:',\"{0:.3f}\".format(results),\" < alpha => Отвергаем нулевую гипотезу: есть статистически значимые различия в среднем чеке между группами А и В по «очищенным» данным\")\n",
    "else:\n",
    "    print('p-value:',\"{0:.3f}\".format(results), \" > alpha => Не получилось отвергнуть нулевую гипотезу: статистически значимых различий в среднем чеке по очищеным данным нет между группами А и В\")"
   ]
  },
  {
   "cell_type": "code",
   "execution_count": 43,
   "id": "5ee750e0",
   "metadata": {},
   "outputs": [
    {
     "name": "stdout",
     "output_type": "stream",
     "text": [
      "Относительное различие в среднем чеке между группам составляет: -0.049\n"
     ]
    }
   ],
   "source": [
    "# Посчитаем относительное различие в среднем чеке в группах\n",
    "\n",
    "print('Относительное различие в среднем чеке между группам составляет:',\n",
    "    \"{0:.3f}\".format(\n",
    "        orders[\n",
    "            np.logical_and(\n",
    "                orders['group'] == 'B',\n",
    "                np.logical_not(orders['visitorId'].isin(abnormalUsers)),\n",
    "            )\n",
    "        ]['revenue'].mean()\n",
    "        / orders[\n",
    "            np.logical_and(\n",
    "                orders['group'] == 'A',\n",
    "                np.logical_not(orders['visitorId'].isin(abnormalUsers)),\n",
    "            )\n",
    "        ]['revenue'].mean()\n",
    "        - 1\n",
    "    )\n",
    ") "
   ]
  },
  {
   "attachments": {
    "image-3.png": {
     "image/png": "[encoded data removed]"
    },
    "image.png": {
     "image/png": "[encoded data removed]"
    }
   },
   "cell_type": "markdown",
   "id": "f09833f0",
   "metadata": {},
   "source": [
    "**Общий вывод:**\n",
    "- Конверсия: В группах зафикстрованы статистические различия в конверсии и на сырых и на очищеных данных, а так же это подтвержается графиком, где видно больших колебаний. Конвервия В превышает А на 18 % \n",
    "   ![image.png](attachment:image.png)\n",
    "- Средний чек: Сырые данные не показали стастистических различий в группах, но после очистки выбросов (были сделаны заказы на большие суммы в группе В), статистические различия появились и стало видно, что средний чек В меньше среднего чека А на 5%. График это подтверждает и показывает динамику по снижению среднего чека\n",
    "![image-3.png](attachment:image-3.png)"
   ]
  },
  {
   "cell_type": "code",
   "execution_count": 79,
   "id": "e464ce3d",
   "metadata": {},
   "outputs": [
    {
     "data": {
      "image/png": "[encoded data removed]",
      "text/plain": [
       "<Figure size 432x288 with 1 Axes>"
      ]
     },
     "metadata": {
      "needs_background": "light"
     },
     "output_type": "display_data"
    }
   ],
   "source": [
    "# Проверим как изменится выручка после очистики от выбросов\n",
    "\n",
    "# соберем заказы очищеные от выбросов\n",
    "orders_pure =  orders[~orders['visitorId'].isin(abnormalUsers)]\n",
    "# создаем массив уникальных пар значений дат и групп теста\n",
    "datesGroups_pure = orders_pure[['date','group']].drop_duplicates()\n",
    "# получаем агрегированные кумулятивные по дням данные о заказах \n",
    "ordersAggregated_pure = datesGroups_pure.apply(lambda x: orders_pure[np.logical_and(orders_pure['date'] <= x['date'], orders_pure['group'] == x['group'])].agg({'date' : 'max', 'group' : 'max', 'transactionId' : 'nunique', 'visitorId' : 'nunique', 'revenue' : 'sum'}), axis=1).sort_values(by=['date','group'])\n",
    "# датафрейм с кумулятивным количеством заказов и кумулятивной выручкой по дням в группах\n",
    "cumulativeRevenueA_pure  = ordersAggregated_pure[ordersAggregated_pure['group']=='A'][['date','revenue']]\n",
    "cumulativeRevenueB_pure  = ordersAggregated_pure[ordersAggregated_pure['group']=='B'][['date','revenue']]\n",
    "# Строим график выручки группы А\n",
    "plt.plot(cumulativeRevenueA_pure['date'], cumulativeRevenueA_pure['revenue'], label='A')\n",
    "# Строим график выручки группы B\n",
    "plt.plot(cumulativeRevenueB_pure['date'], cumulativeRevenueB_pure['revenue'], label='B')\n",
    "plt.xticks(cumulativeRevenueB_pure['date'], rotation = 'vertical')\n",
    "plt.title('                         Кумулятивная выручка по дням после очистки от выбросов')\n",
    "plt.xlabel('Время')\n",
    "plt.ylabel('Выручка')\n",
    "plt.legend() \n",
    "plt.show()"
   ]
  },
  {
   "cell_type": "markdown",
   "id": "02ff9295",
   "metadata": {},
   "source": [
    "**Рекомендации:** \n",
    "Из графика видно, что даже при снижении среднего чека в группе В на 5%, выручка в группе В все равно выше за счет повышения конверсии на  18%\n",
    "\n",
    "Остановить тест, зафиксировать победу групп B"
   ]
  }
 ],
 "metadata": {
  "ExecuteTimeLog": [
   {
    "duration": 1273,
    "start_time": "2022-06-02T12:11:12.196Z"
   },
   {
    "duration": 104,
    "start_time": "2022-06-02T12:11:13.471Z"
   },
   {
    "duration": 0,
    "start_time": "2022-06-02T12:11:13.577Z"
   },
   {
    "duration": 0,
    "start_time": "2022-06-02T12:11:13.579Z"
   },
   {
    "duration": 0,
    "start_time": "2022-06-02T12:11:13.580Z"
   },
   {
    "duration": 0,
    "start_time": "2022-06-02T12:11:13.581Z"
   },
   {
    "duration": 0,
    "start_time": "2022-06-02T12:11:13.582Z"
   },
   {
    "duration": 0,
    "start_time": "2022-06-02T12:11:13.591Z"
   },
   {
    "duration": 0,
    "start_time": "2022-06-02T12:11:13.592Z"
   },
   {
    "duration": 0,
    "start_time": "2022-06-02T12:11:13.593Z"
   },
   {
    "duration": 1,
    "start_time": "2022-06-02T12:11:13.594Z"
   },
   {
    "duration": 0,
    "start_time": "2022-06-02T12:11:13.596Z"
   },
   {
    "duration": 0,
    "start_time": "2022-06-02T12:11:13.597Z"
   },
   {
    "duration": 0,
    "start_time": "2022-06-02T12:11:13.598Z"
   },
   {
    "duration": 0,
    "start_time": "2022-06-02T12:11:13.599Z"
   },
   {
    "duration": 0,
    "start_time": "2022-06-02T12:11:13.600Z"
   },
   {
    "duration": 0,
    "start_time": "2022-06-02T12:11:13.601Z"
   },
   {
    "duration": 0,
    "start_time": "2022-06-02T12:11:13.602Z"
   },
   {
    "duration": 0,
    "start_time": "2022-06-02T12:11:13.603Z"
   },
   {
    "duration": 0,
    "start_time": "2022-06-02T12:11:13.604Z"
   },
   {
    "duration": 0,
    "start_time": "2022-06-02T12:11:13.605Z"
   },
   {
    "duration": 0,
    "start_time": "2022-06-02T12:11:13.606Z"
   },
   {
    "duration": 0,
    "start_time": "2022-06-02T12:11:13.607Z"
   },
   {
    "duration": 0,
    "start_time": "2022-06-02T12:11:13.608Z"
   },
   {
    "duration": 0,
    "start_time": "2022-06-02T12:11:13.609Z"
   },
   {
    "duration": 0,
    "start_time": "2022-06-02T12:11:13.611Z"
   },
   {
    "duration": 0,
    "start_time": "2022-06-02T12:11:13.612Z"
   },
   {
    "duration": 0,
    "start_time": "2022-06-02T12:11:13.613Z"
   },
   {
    "duration": 0,
    "start_time": "2022-06-02T12:11:13.615Z"
   },
   {
    "duration": 0,
    "start_time": "2022-06-02T12:11:13.616Z"
   },
   {
    "duration": 0,
    "start_time": "2022-06-02T12:11:13.617Z"
   },
   {
    "duration": 0,
    "start_time": "2022-06-02T12:11:13.618Z"
   },
   {
    "duration": 0,
    "start_time": "2022-06-02T12:11:13.620Z"
   },
   {
    "duration": 0,
    "start_time": "2022-06-02T12:11:13.621Z"
   },
   {
    "duration": 91,
    "start_time": "2022-06-02T12:13:26.497Z"
   },
   {
    "duration": 70,
    "start_time": "2022-06-02T12:15:33.100Z"
   },
   {
    "duration": 1153,
    "start_time": "2022-06-02T12:15:48.280Z"
   },
   {
    "duration": 36,
    "start_time": "2022-06-02T12:15:49.436Z"
   },
   {
    "duration": 6,
    "start_time": "2022-06-02T12:15:49.474Z"
   },
   {
    "duration": 13,
    "start_time": "2022-06-02T12:15:49.482Z"
   },
   {
    "duration": 148,
    "start_time": "2022-06-02T12:15:49.497Z"
   },
   {
    "duration": 17,
    "start_time": "2022-06-02T12:15:49.647Z"
   },
   {
    "duration": 22,
    "start_time": "2022-06-02T12:15:49.665Z"
   },
   {
    "duration": 11,
    "start_time": "2022-06-02T12:15:49.688Z"
   },
   {
    "duration": 303,
    "start_time": "2022-06-02T12:15:49.700Z"
   },
   {
    "duration": 385,
    "start_time": "2022-06-02T12:15:50.007Z"
   },
   {
    "duration": 178,
    "start_time": "2022-06-02T12:15:50.393Z"
   },
   {
    "duration": 300,
    "start_time": "2022-06-02T12:15:50.572Z"
   },
   {
    "duration": 200,
    "start_time": "2022-06-02T12:15:50.874Z"
   },
   {
    "duration": 224,
    "start_time": "2022-06-02T12:15:51.076Z"
   },
   {
    "duration": 10,
    "start_time": "2022-06-02T12:15:51.302Z"
   },
   {
    "duration": 13,
    "start_time": "2022-06-02T12:15:51.313Z"
   },
   {
    "duration": 135,
    "start_time": "2022-06-02T12:15:51.327Z"
   },
   {
    "duration": 4,
    "start_time": "2022-06-02T12:15:51.464Z"
   },
   {
    "duration": 136,
    "start_time": "2022-06-02T12:15:51.470Z"
   },
   {
    "duration": 143,
    "start_time": "2022-06-02T12:15:51.608Z"
   },
   {
    "duration": 4,
    "start_time": "2022-06-02T12:15:51.753Z"
   },
   {
    "duration": 20,
    "start_time": "2022-06-02T12:15:51.759Z"
   },
   {
    "duration": 11,
    "start_time": "2022-06-02T12:15:51.781Z"
   },
   {
    "duration": 138,
    "start_time": "2022-06-02T12:15:51.794Z"
   },
   {
    "duration": 9,
    "start_time": "2022-06-02T12:15:51.934Z"
   },
   {
    "duration": 147,
    "start_time": "2022-06-02T12:15:51.945Z"
   },
   {
    "duration": 17,
    "start_time": "2022-06-02T12:15:52.093Z"
   },
   {
    "duration": 444,
    "start_time": "2022-06-02T12:15:52.114Z"
   },
   {
    "duration": 10,
    "start_time": "2022-06-02T12:15:52.559Z"
   },
   {
    "duration": 30,
    "start_time": "2022-06-02T12:15:52.570Z"
   },
   {
    "duration": 8,
    "start_time": "2022-06-02T12:15:52.602Z"
   },
   {
    "duration": 32,
    "start_time": "2022-06-02T12:15:52.612Z"
   },
   {
    "duration": 406,
    "start_time": "2022-06-02T12:15:52.646Z"
   },
   {
    "duration": 14,
    "start_time": "2022-06-02T12:15:53.054Z"
   },
   {
    "duration": 5,
    "start_time": "2022-06-02T12:16:44.171Z"
   },
   {
    "duration": 39,
    "start_time": "2022-06-02T12:16:51.780Z"
   },
   {
    "duration": 1152,
    "start_time": "2022-06-07T11:52:50.951Z"
   },
   {
    "duration": 38,
    "start_time": "2022-06-07T11:52:52.105Z"
   },
   {
    "duration": 6,
    "start_time": "2022-06-07T11:52:52.144Z"
   },
   {
    "duration": 13,
    "start_time": "2022-06-07T11:52:52.152Z"
   },
   {
    "duration": 69,
    "start_time": "2022-06-07T11:52:52.166Z"
   },
   {
    "duration": 17,
    "start_time": "2022-06-07T11:52:52.237Z"
   },
   {
    "duration": 17,
    "start_time": "2022-06-07T11:52:52.256Z"
   },
   {
    "duration": 12,
    "start_time": "2022-06-07T11:52:52.274Z"
   },
   {
    "duration": 5,
    "start_time": "2022-06-07T11:52:52.288Z"
   },
   {
    "duration": 7,
    "start_time": "2022-06-07T11:52:52.296Z"
   },
   {
    "duration": 12,
    "start_time": "2022-06-07T11:52:52.304Z"
   },
   {
    "duration": 23,
    "start_time": "2022-06-07T11:52:52.317Z"
   },
   {
    "duration": 507,
    "start_time": "2022-06-07T11:52:52.342Z"
   },
   {
    "duration": 295,
    "start_time": "2022-06-07T11:52:52.850Z"
   },
   {
    "duration": 5,
    "start_time": "2022-06-07T11:52:53.146Z"
   },
   {
    "duration": 280,
    "start_time": "2022-06-07T11:52:53.164Z"
   },
   {
    "duration": 294,
    "start_time": "2022-06-07T11:52:53.446Z"
   },
   {
    "duration": 402,
    "start_time": "2022-06-07T11:52:53.741Z"
   },
   {
    "duration": 302,
    "start_time": "2022-06-07T11:52:54.145Z"
   },
   {
    "duration": 299,
    "start_time": "2022-06-07T11:52:54.448Z"
   },
   {
    "duration": 15,
    "start_time": "2022-06-07T11:52:54.750Z"
   },
   {
    "duration": 10,
    "start_time": "2022-06-07T11:52:54.767Z"
   },
   {
    "duration": 143,
    "start_time": "2022-06-07T11:52:54.779Z"
   },
   {
    "duration": 4,
    "start_time": "2022-06-07T11:52:54.924Z"
   },
   {
    "duration": 148,
    "start_time": "2022-06-07T11:52:54.930Z"
   },
   {
    "duration": 162,
    "start_time": "2022-06-07T11:52:55.080Z"
   },
   {
    "duration": 6,
    "start_time": "2022-06-07T11:52:55.244Z"
   },
   {
    "duration": 9,
    "start_time": "2022-06-07T11:52:55.264Z"
   },
   {
    "duration": 14,
    "start_time": "2022-06-07T11:52:55.275Z"
   },
   {
    "duration": 164,
    "start_time": "2022-06-07T11:52:55.290Z"
   },
   {
    "duration": 19,
    "start_time": "2022-06-07T11:52:55.456Z"
   },
   {
    "duration": 136,
    "start_time": "2022-06-07T11:52:55.477Z"
   },
   {
    "duration": 17,
    "start_time": "2022-06-07T11:52:55.615Z"
   },
   {
    "duration": 3,
    "start_time": "2022-06-07T11:52:55.634Z"
   },
   {
    "duration": 595,
    "start_time": "2022-06-07T11:52:55.638Z"
   },
   {
    "duration": 11,
    "start_time": "2022-06-07T11:52:56.237Z"
   },
   {
    "duration": 21,
    "start_time": "2022-06-07T11:52:56.250Z"
   },
   {
    "duration": 35,
    "start_time": "2022-06-07T11:52:56.273Z"
   },
   {
    "duration": 44,
    "start_time": "2022-06-07T11:52:56.310Z"
   },
   {
    "duration": 432,
    "start_time": "2022-06-07T11:52:56.357Z"
   },
   {
    "duration": 8,
    "start_time": "2022-06-07T11:52:56.791Z"
   },
   {
    "duration": 27,
    "start_time": "2022-06-07T11:52:56.801Z"
   },
   {
    "duration": 33,
    "start_time": "2022-06-07T11:52:56.829Z"
   }
  ],
  "kernelspec": {
   "display_name": "Python 3 (ipykernel)",
   "language": "python",
   "name": "python3"
  },
  "language_info": {
   "codemirror_mode": {
    "name": "ipython",
    "version": 3
   },
   "file_extension": ".py",
   "mimetype": "text/x-python",
   "name": "python",
   "nbconvert_exporter": "python",
   "pygments_lexer": "ipython3",
   "version": "3.9.7"
  },
  "toc": {
   "base_numbering": 1,
   "nav_menu": {},
   "number_sections": true,
   "sideBar": true,
   "skip_h1_title": true,
   "title_cell": "Table of Contents",
   "title_sidebar": "Contents",
   "toc_cell": true,
   "toc_position": {},
   "toc_section_display": true,
   "toc_window_display": false
  }
 },
 "nbformat": 4,
 "nbformat_minor": 5
}
