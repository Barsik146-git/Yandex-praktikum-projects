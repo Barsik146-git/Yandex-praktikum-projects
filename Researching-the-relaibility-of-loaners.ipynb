{
 "cells": [
  {
   "cell_type": "markdown",
   "id": "ad3842a5",
   "metadata": {},
   "source": [
    "# Исследование надежности заемщиков\n",
    "\n",
    "**Цель исследования** — проверить 4 гипотезы, чтобы принять решение об учете дополнительных фактороа в модели кредитного скоринга:\n",
    "1. Наличие детей влияет на факт погашения кредита в срок, т.е. если есть хотя бы один ребенок, то кредит будет погашен в срок с большей вероятностью.\n",
    "2. Семейное положение влияет на факт погашения кредита в срок, т.е. если заемщик находится в браке или граждонском браке, то кредит будет погашен в срок с большей вероятностью.\n",
    "3. Чем выше уровень дохода, тем вероятнее возврат кредита в срок\n",
    "4. Разные цели кредита влияют на его возврат в срок\n",
    "\n",
    "**Ход исследования**\n",
    "Данные о поведении пользователей получены из файла. О качестве данных ничего не известно. Поэтому перед проверкой гипотез понадобится обзор и исправление данных. \n",
    "\n",
    "**Исследование пройдёт в три этапа**:\n",
    " 1. Обзор данных.\n",
    " 2. Предобработка данных.\n",
    " 3. Проверка гипотез."
   ]
  },
  {
   "cell_type": "markdown",
   "id": "4f85da8f",
   "metadata": {},
   "source": [
    "### Шаг 1. Обзор данных"
   ]
  },
  {
   "cell_type": "code",
   "execution_count": 1,
   "id": "1ffff0c0",
   "metadata": {},
   "outputs": [
    {
     "data": {
      "text/html": [
       "<div>\n",
       "<style scoped>\n",
       "    .dataframe tbody tr th:only-of-type {\n",
       "        vertical-align: middle;\n",
       "    }\n",
       "\n",
       "    .dataframe tbody tr th {\n",
       "        vertical-align: top;\n",
       "    }\n",
       "\n",
       "    .dataframe thead th {\n",
       "        text-align: right;\n",
       "    }\n",
       "</style>\n",
       "<table border=\"1\" class=\"dataframe\">\n",
       "  <thead>\n",
       "    <tr style=\"text-align: right;\">\n",
       "      <th></th>\n",
       "      <th>children</th>\n",
       "      <th>days_employed</th>\n",
       "      <th>dob_years</th>\n",
       "      <th>education</th>\n",
       "      <th>education_id</th>\n",
       "      <th>family_status</th>\n",
       "      <th>family_status_id</th>\n",
       "      <th>gender</th>\n",
       "      <th>income_type</th>\n",
       "      <th>debt</th>\n",
       "      <th>total_income</th>\n",
       "      <th>purpose</th>\n",
       "    </tr>\n",
       "  </thead>\n",
       "  <tbody>\n",
       "    <tr>\n",
       "      <th>0</th>\n",
       "      <td>1</td>\n",
       "      <td>-8437.673028</td>\n",
       "      <td>42</td>\n",
       "      <td>высшее</td>\n",
       "      <td>0</td>\n",
       "      <td>женат / замужем</td>\n",
       "      <td>0</td>\n",
       "      <td>F</td>\n",
       "      <td>сотрудник</td>\n",
       "      <td>0</td>\n",
       "      <td>253875.639453</td>\n",
       "      <td>покупка жилья</td>\n",
       "    </tr>\n",
       "    <tr>\n",
       "      <th>1</th>\n",
       "      <td>1</td>\n",
       "      <td>-4024.803754</td>\n",
       "      <td>36</td>\n",
       "      <td>среднее</td>\n",
       "      <td>1</td>\n",
       "      <td>женат / замужем</td>\n",
       "      <td>0</td>\n",
       "      <td>F</td>\n",
       "      <td>сотрудник</td>\n",
       "      <td>0</td>\n",
       "      <td>112080.014102</td>\n",
       "      <td>приобретение автомобиля</td>\n",
       "    </tr>\n",
       "    <tr>\n",
       "      <th>2</th>\n",
       "      <td>0</td>\n",
       "      <td>-5623.422610</td>\n",
       "      <td>33</td>\n",
       "      <td>Среднее</td>\n",
       "      <td>1</td>\n",
       "      <td>женат / замужем</td>\n",
       "      <td>0</td>\n",
       "      <td>M</td>\n",
       "      <td>сотрудник</td>\n",
       "      <td>0</td>\n",
       "      <td>145885.952297</td>\n",
       "      <td>покупка жилья</td>\n",
       "    </tr>\n",
       "    <tr>\n",
       "      <th>3</th>\n",
       "      <td>3</td>\n",
       "      <td>-4124.747207</td>\n",
       "      <td>32</td>\n",
       "      <td>среднее</td>\n",
       "      <td>1</td>\n",
       "      <td>женат / замужем</td>\n",
       "      <td>0</td>\n",
       "      <td>M</td>\n",
       "      <td>сотрудник</td>\n",
       "      <td>0</td>\n",
       "      <td>267628.550329</td>\n",
       "      <td>дополнительное образование</td>\n",
       "    </tr>\n",
       "    <tr>\n",
       "      <th>4</th>\n",
       "      <td>0</td>\n",
       "      <td>340266.072047</td>\n",
       "      <td>53</td>\n",
       "      <td>среднее</td>\n",
       "      <td>1</td>\n",
       "      <td>гражданский брак</td>\n",
       "      <td>1</td>\n",
       "      <td>F</td>\n",
       "      <td>пенсионер</td>\n",
       "      <td>0</td>\n",
       "      <td>158616.077870</td>\n",
       "      <td>сыграть свадьбу</td>\n",
       "    </tr>\n",
       "  </tbody>\n",
       "</table>\n",
       "</div>"
      ],
      "text/plain": [
       "   children  days_employed  dob_years education  education_id  \\\n",
       "0         1   -8437.673028         42    высшее             0   \n",
       "1         1   -4024.803754         36   среднее             1   \n",
       "2         0   -5623.422610         33   Среднее             1   \n",
       "3         3   -4124.747207         32   среднее             1   \n",
       "4         0  340266.072047         53   среднее             1   \n",
       "\n",
       "      family_status  family_status_id gender income_type  debt   total_income  \\\n",
       "0   женат / замужем                 0      F   сотрудник     0  253875.639453   \n",
       "1   женат / замужем                 0      F   сотрудник     0  112080.014102   \n",
       "2   женат / замужем                 0      M   сотрудник     0  145885.952297   \n",
       "3   женат / замужем                 0      M   сотрудник     0  267628.550329   \n",
       "4  гражданский брак                 1      F   пенсионер     0  158616.077870   \n",
       "\n",
       "                      purpose  \n",
       "0               покупка жилья  \n",
       "1     приобретение автомобиля  \n",
       "2               покупка жилья  \n",
       "3  дополнительное образование  \n",
       "4             сыграть свадьбу  "
      ]
     },
     "execution_count": 1,
     "metadata": {},
     "output_type": "execute_result"
    }
   ],
   "source": [
    "import pandas as pd\n",
    "data = pd.read_csv('data_2.csv')\n",
    "data.head()"
   ]
  },
  {
   "cell_type": "markdown",
   "id": "6f9e9415",
   "metadata": {},
   "source": [
    "В каждой строке таблицы — данные о заемщике, целе заема и наличия задолженности:\n",
    "    \n",
    "* childreт — количество детей\n",
    "* days_employed — трудовой стаж в месяцах \n",
    "* dob_years — возраст заемщика скорее всего\n",
    "* education — образование\n",
    "* education_id — идентификатор образования\n",
    "* family_status — семейное положение ['женат / замужем', 'гражданский брак', 'вдовец / вдова', 'в разводе', 'Не женат / не замужем']\n",
    "* family_status_id — идентификатор семейного положения\n",
    "* gender —  пол\n",
    "* income_type — статус, влияющий на способ прихода денег ['сотрудник', 'пенсионер', 'компаньон', 'госслужащий', 'безработный', 'предприниматель', 'студент', 'в декрете']\n",
    "* debt — есть ли еще заемы: 0-нет, 1- да(?)\n",
    "* total_income — доход, получаемый в месяц в рублях (?)\n",
    "* purpose — цель заема\n",
    "     "
   ]
  },
  {
   "cell_type": "code",
   "execution_count": 2,
   "id": "6aac0760",
   "metadata": {},
   "outputs": [
    {
     "name": "stdout",
     "output_type": "stream",
     "text": [
      "<class 'pandas.core.frame.DataFrame'>\n",
      "RangeIndex: 21525 entries, 0 to 21524\n",
      "Data columns (total 12 columns):\n",
      " #   Column            Non-Null Count  Dtype  \n",
      "---  ------            --------------  -----  \n",
      " 0   children          21525 non-null  int64  \n",
      " 1   days_employed     19351 non-null  float64\n",
      " 2   dob_years         21525 non-null  int64  \n",
      " 3   education         21525 non-null  object \n",
      " 4   education_id      21525 non-null  int64  \n",
      " 5   family_status     21525 non-null  object \n",
      " 6   family_status_id  21525 non-null  int64  \n",
      " 7   gender            21525 non-null  object \n",
      " 8   income_type       21525 non-null  object \n",
      " 9   debt              21525 non-null  int64  \n",
      " 10  total_income      19351 non-null  float64\n",
      " 11  purpose           21525 non-null  object \n",
      "dtypes: float64(2), int64(5), object(5)\n",
      "memory usage: 2.0+ MB\n"
     ]
    }
   ],
   "source": [
    "data.info()\n",
    "#data['income_type'].unique()"
   ]
  },
  {
   "cell_type": "markdown",
   "id": "0c07d684",
   "metadata": {},
   "source": [
    "В таблице 12 столбцов. Тип данных разный.\n",
    "В названиях колонок нет пробем (все на англ, змеиный регистр, строчные буквы, нет пробелов)\n",
    "Количество значений в столбцах различается. Значит, в данных есть пропущенные значения."
   ]
  },
  {
   "cell_type": "markdown",
   "id": "da6fb7e4",
   "metadata": {},
   "source": [
    "### Шаг 2.1 Заполнение пропусков"
   ]
  },
  {
   "cell_type": "markdown",
   "id": "25d51cf3",
   "metadata": {},
   "source": [
    "Посмотрим сколько и где в таблице пропущенных значений"
   ]
  },
  {
   "cell_type": "code",
   "execution_count": 3,
   "id": "b89e8c6d",
   "metadata": {},
   "outputs": [
    {
     "data": {
      "text/plain": [
       "children               0\n",
       "days_employed       2174\n",
       "dob_years              0\n",
       "education              0\n",
       "education_id           0\n",
       "family_status          0\n",
       "family_status_id       0\n",
       "gender                 0\n",
       "income_type            0\n",
       "debt                   0\n",
       "total_income        2174\n",
       "purpose                0\n",
       "dtype: int64"
      ]
     },
     "execution_count": 3,
     "metadata": {},
     "output_type": "execute_result"
    }
   ],
   "source": [
    "cell_with_null = data.isna().sum()\n",
    "cell_with_null"
   ]
  },
  {
   "cell_type": "markdown",
   "id": "824a02fd",
   "metadata": {},
   "source": [
    "Поймем какую долю составляют пропущенные значения в каждом из колонок, где есть пропуски: 'days_employed' и 'total_income'. "
   ]
  },
  {
   "cell_type": "code",
   "execution_count": 4,
   "id": "77823e50",
   "metadata": {},
   "outputs": [
    {
     "name": "stdout",
     "output_type": "stream",
     "text": [
      "days_employed 0.10099883855981417\n",
      "total_income  0.10099883855981417\n"
     ]
    }
   ],
   "source": [
    "total_row = 21525 #взято шага 1\n",
    "    \n",
    "print('days_employed', data['days_employed'].isna().sum()/total_row)\n",
    "print('total_income ', data['total_income'].isna().sum()/total_row)"
   ]
  },
  {
   "cell_type": "markdown",
   "id": "8673a708",
   "metadata": {},
   "source": [
    "Так как количество и доля пропущенных значений одинаковая, то можно предположить, что пропуски в обоих колонках в одинаковых строчках. Например, если заемщик ни разу не работал, то у него и не будет дохода, например, у студентов или в декрете "
   ]
  },
  {
   "cell_type": "code",
   "execution_count": 5,
   "id": "a5304c3c",
   "metadata": {},
   "outputs": [
    {
     "data": {
      "text/plain": [
       "income_type\n",
       "госслужащий        0.0\n",
       "компаньон          0.0\n",
       "пенсионер          0.0\n",
       "предприниматель    0.0\n",
       "сотрудник          0.0\n",
       "Name: total_income, dtype: float64"
      ]
     },
     "execution_count": 5,
     "metadata": {},
     "output_type": "execute_result"
    }
   ],
   "source": [
    "data_test = data[data['days_employed'].isna()]\n",
    "data_test.groupby('income_type')['total_income'].sum()"
   ]
  },
  {
   "cell_type": "markdown",
   "id": "bfd39d1d",
   "metadata": {},
   "source": [
    "Из полученных данных видно, что если кол-во дней стажа пустое, то и доход заемщика тоже пустой.\n",
    "При этом такая ситуация наблюдается не для студентов, которые могли еще не работать.\n",
    "Получается пустые данные - это результат ошибки ввода.\n",
    "\n",
    "Доля пропущеных значений не маленькая - 10%, и удалять такие стоки не стоит, чтобы не уменишать полезную выборку\n",
    "Так как пропуски обнарушены в колонках с количественными переменными, то имеет смысл их заполнить значениями, характеризующими состояния выборки. Подойдет медианное значение, а не среднее, чтобы не было влияния на сильно выделющиеся значения выборки.\n",
    "\n",
    "Перед тем как рассчитывать медины и запонять ими пустые значения проверим остальные данные в этих колонках на адекватность"
   ]
  },
  {
   "cell_type": "code",
   "execution_count": 6,
   "id": "f347217d",
   "metadata": {},
   "outputs": [
    {
     "data": {
      "text/plain": [
       "15906"
      ]
     },
     "execution_count": 6,
     "metadata": {},
     "output_type": "execute_result"
    }
   ],
   "source": [
    "# data[data['days_employed'] < 0]\n",
    "data.loc[data['days_employed'] < 0, 'days_employed' ].count()"
   ]
  },
  {
   "cell_type": "code",
   "execution_count": 7,
   "id": "6c6239cf",
   "metadata": {},
   "outputs": [
    {
     "data": {
      "text/plain": [
       "0"
      ]
     },
     "execution_count": 7,
     "metadata": {},
     "output_type": "execute_result"
    }
   ],
   "source": [
    "# data[data['total_income'] < 0]\n",
    "data.loc[data['total_income'] < 0, 'total_income' ].count()"
   ]
  },
  {
   "cell_type": "markdown",
   "id": "8cdd7074",
   "metadata": {},
   "source": [
    "Заполнить пустые значения мы можем только для дохода 'total_income', так как там нет отрицательных значений\n",
    "Для трудового стажа 'days_employed' сделаем это после исправления данных."
   ]
  },
  {
   "cell_type": "code",
   "execution_count": 8,
   "id": "e47a5077",
   "metadata": {},
   "outputs": [],
   "source": [
    "total_income_median = data['total_income'].median()\n",
    "\n",
    "# Заполняем пропуски медианой для доходв\n",
    "data['total_income'] = data['total_income'].fillna(total_income_median)\n",
    "#data.loc[data['total_income'].isna(),'total_income'] = total_income_median  - второй вариант"
   ]
  },
  {
   "cell_type": "code",
   "execution_count": 9,
   "id": "286eb038",
   "metadata": {},
   "outputs": [
    {
     "data": {
      "text/plain": [
       "children               0\n",
       "days_employed       2174\n",
       "dob_years              0\n",
       "education              0\n",
       "education_id           0\n",
       "family_status          0\n",
       "family_status_id       0\n",
       "gender                 0\n",
       "income_type            0\n",
       "debt                   0\n",
       "total_income           0\n",
       "purpose                0\n",
       "dtype: int64"
      ]
     },
     "execution_count": 9,
     "metadata": {},
     "output_type": "execute_result"
    }
   ],
   "source": [
    "# Проверим себя\n",
    "data.isna().sum()\n",
    "\n",
    "# Дригие варианты\n",
    "#data[data['total_income'].isna()]['total_income']\n",
    "# data.loc[data['total_income'] < 0, 'total_income' ].count()"
   ]
  },
  {
   "cell_type": "markdown",
   "id": "43a0e405",
   "metadata": {},
   "source": [
    "### Шаг 2.2 Проверка данных на аномалии и исправления."
   ]
  },
  {
   "cell_type": "markdown",
   "id": "5dcb3a07",
   "metadata": {},
   "source": [
    "**Разберемся аномалиями в колонке \"days_employed\"**\n",
    "\n",
    "Сначала узнаем у каких заемщиков отрицательный стаж, а у каких положительный, потому что кол-во дней работы зависит от таго чем человек занимается и косвенно помно понять сколько он уже проработал."
   ]
  },
  {
   "cell_type": "code",
   "execution_count": 10,
   "id": "70522302",
   "metadata": {},
   "outputs": [
    {
     "data": {
      "text/plain": [
       "income_type\n",
       "в декрете              1\n",
       "предприниматель        1\n",
       "студент                1\n",
       "госслужащий         1312\n",
       "компаньон           4577\n",
       "сотрудник          10014\n",
       "Name: income_type, dtype: int64"
      ]
     },
     "execution_count": 10,
     "metadata": {},
     "output_type": "execute_result"
    }
   ],
   "source": [
    "test = data[data['days_employed'] < 0]\n",
    "test.groupby('income_type')['income_type'].count().sort_values()"
   ]
  },
  {
   "cell_type": "code",
   "execution_count": 11,
   "id": "895da63a",
   "metadata": {},
   "outputs": [
    {
     "data": {
      "text/plain": [
       "income_type\n",
       "безработный       2\n",
       "пенсионер      3443\n",
       "Name: income_type, dtype: int64"
      ]
     },
     "execution_count": 11,
     "metadata": {},
     "output_type": "execute_result"
    }
   ],
   "source": [
    "test = data[data['days_employed'] > 0]\n",
    "test.groupby('income_type')['income_type'].count().sort_values()"
   ]
  },
  {
   "cell_type": "markdown",
   "id": "256323dd",
   "metadata": {},
   "source": [
    "Всего 8 типов заемщиков. Для 6-ти типов заемщиков указывался стаж как отрицательный, для остальных 2-х типов - положительный.\n",
    "Похоже на ошибку ввода данных, по этому отрацательные значения взьмем по модулю, чтобы привести к единому виду"
   ]
  },
  {
   "cell_type": "code",
   "execution_count": 12,
   "id": "f1be0c07",
   "metadata": {},
   "outputs": [],
   "source": [
    "# Применем модуль к отрицательным данным\n",
    "data['days_employed'] = data['days_employed'].abs()"
   ]
  },
  {
   "cell_type": "code",
   "execution_count": 13,
   "id": "d54a7613",
   "metadata": {},
   "outputs": [
    {
     "data": {
      "text/plain": [
       "0"
      ]
     },
     "execution_count": 13,
     "metadata": {},
     "output_type": "execute_result"
    }
   ],
   "source": [
    "#Проверим себя\n",
    "data.loc[data['days_employed'] < 0, 'days_employed' ].count()"
   ]
  },
  {
   "cell_type": "code",
   "execution_count": 14,
   "id": "52f7d9b5",
   "metadata": {},
   "outputs": [
    {
     "name": "stdout",
     "output_type": "stream",
     "text": [
      "Возраст заемщика с максимальным стажем 6954    56\n",
      "Name: dob_years, dtype: int64\n",
      "Стаж заемщика с максимальным возрастом 8880    1678.969771\n",
      "Name: days_employed, dtype: float64\n"
     ]
    }
   ],
   "source": [
    "print('Возраст заемщика с максимальным стажем', data.loc[data['days_employed'] == data['days_employed'].max(), 'dob_years'])\n",
    "print('Стаж заемщика с максимальным возрастом', data.loc[data['dob_years'] == data['dob_years'].max(), 'days_employed'])"
   ]
  },
  {
   "cell_type": "markdown",
   "id": "b96d024e",
   "metadata": {},
   "source": [
    "Выведенные результат пока ничего не говорят, так как не обязательно большой стаж должен быть у самого взрослого займщика.\n",
    "\n",
    "Начнем с того, что попытаемся понять в каких единицах измерения стаж в таблице - дни или часы.\n",
    "\n",
    "Для этого посчитаем максимальный стаж для заемщика с максимальным возрастом из данных - 75 лет и, допустим, он работал с 16 лет, тогда получается что его стаж должен быть 59 лет. \n",
    "Если среднее кол-во рабочих дней в году 247, то максимальный стаж должен быть:\n",
    "14573 - дней \n",
    "или \n",
    "116584 - часов\n",
    "\n",
    "Проверим кол-во записей удовлеворяющим данным условиям и их долю"
   ]
  },
  {
   "cell_type": "code",
   "execution_count": 15,
   "id": "6cd216b9",
   "metadata": {},
   "outputs": [
    {
     "name": "stdout",
     "output_type": "stream",
     "text": [
      "Кол-во заемщиков, где стаж больше 14573 дней - 3463\n",
      "Доля заемщиков с аномалиями в стаже - 0.16088269454123114\n"
     ]
    }
   ],
   "source": [
    "a = data.loc[data['days_employed'] > 14573, 'dob_years'].count()\n",
    "print('Кол-во заемщиков, где стаж больше 14573 дней -', a)\n",
    "print('Доля заемщиков с аномалиями в стаже -', a / total_row)"
   ]
  },
  {
   "cell_type": "code",
   "execution_count": 16,
   "id": "7066793a",
   "metadata": {},
   "outputs": [
    {
     "name": "stdout",
     "output_type": "stream",
     "text": [
      "Кол-во заемщиков, где стаж больше 116584 часов - 3445\n",
      "Доля заемщиков с аномалиями в стаже - 0.16004645760743322\n"
     ]
    }
   ],
   "source": [
    "a = data.loc[data['days_employed'] > 116584, 'dob_years'].count()\n",
    "print('Кол-во заемщиков, где стаж больше 116584 часов -', a)\n",
    "print('Доля заемщиков с аномалиями в стаже -', a / total_row)"
   ]
  },
  {
   "cell_type": "markdown",
   "id": "c1fb0dd4",
   "metadata": {},
   "source": [
    "Итак:\n",
    "1. Так как кол-во записей, где стаж превышает стаж в часах и в минутах практически одинаковое, то можно сделать вывод, что стаж в таблице в днях и это ошибочные данные\n",
    "2. Доля заемщиков со слишком большим стажем около 16%, но этому такие строки стоит исправить. Предлагаю указать там максимальный стаж в днях"
   ]
  },
  {
   "cell_type": "code",
   "execution_count": 17,
   "id": "25d1c6cd",
   "metadata": {},
   "outputs": [],
   "source": [
    "# Заполним большие значения максимальным в днях\n",
    "max_days_employed = 14573\n",
    "data.loc[data['days_employed'] > max_days_employed, 'days_employed'] = max_days_employed"
   ]
  },
  {
   "cell_type": "code",
   "execution_count": 18,
   "id": "9d0946da",
   "metadata": {},
   "outputs": [
    {
     "data": {
      "text/plain": [
       "14573.0"
      ]
     },
     "execution_count": 18,
     "metadata": {},
     "output_type": "execute_result"
    }
   ],
   "source": [
    "#Проверим себя\n",
    "\n",
    "data['days_employed'].max()\n",
    "#data.loc[data['days_employed'] >= 14573, 'dob_years'].count()"
   ]
  },
  {
   "cell_type": "markdown",
   "id": "511cae0d",
   "metadata": {},
   "source": [
    "А теперь можно посчитать медиану и заполнить пропуски:"
   ]
  },
  {
   "cell_type": "code",
   "execution_count": 19,
   "id": "735b4f40",
   "metadata": {},
   "outputs": [
    {
     "data": {
      "text/plain": [
       "2194.220566878695"
      ]
     },
     "execution_count": 19,
     "metadata": {},
     "output_type": "execute_result"
    }
   ],
   "source": [
    "days_employed_median = data['days_employed'].median()\n",
    "days_employed_median"
   ]
  },
  {
   "cell_type": "code",
   "execution_count": 20,
   "id": "98865c48",
   "metadata": {},
   "outputs": [],
   "source": [
    "# Заполним пустые значения медианным\n",
    "data['days_employed'] = data['days_employed'].fillna(days_employed_median)"
   ]
  },
  {
   "cell_type": "code",
   "execution_count": 21,
   "id": "c9f8831d",
   "metadata": {},
   "outputs": [
    {
     "data": {
      "text/plain": [
       "children            0\n",
       "days_employed       0\n",
       "dob_years           0\n",
       "education           0\n",
       "education_id        0\n",
       "family_status       0\n",
       "family_status_id    0\n",
       "gender              0\n",
       "income_type         0\n",
       "debt                0\n",
       "total_income        0\n",
       "purpose             0\n",
       "dtype: int64"
      ]
     },
     "execution_count": 21,
     "metadata": {},
     "output_type": "execute_result"
    }
   ],
   "source": [
    "# Проверим, что пропусков нет\n",
    "data.isna().sum()  \n",
    "\n",
    "\n",
    "#data[data['days_employed'].isna(), 'days_employed']"
   ]
  },
  {
   "cell_type": "markdown",
   "id": "bffab856",
   "metadata": {},
   "source": [
    "**Размеремся аномалиями в колонке \"children\"**\n",
    "\n",
    "Проверим какие значения принимает колонка с количестовм детей"
   ]
  },
  {
   "cell_type": "code",
   "execution_count": 22,
   "id": "aea55072",
   "metadata": {},
   "outputs": [
    {
     "data": {
      "text/plain": [
       " 5         9\n",
       " 4        41\n",
       "-1        47\n",
       " 20       76\n",
       " 3       330\n",
       " 2      2055\n",
       " 1      4818\n",
       " 0     14149\n",
       "Name: children, dtype: int64"
      ]
     },
     "execution_count": 22,
     "metadata": {},
     "output_type": "execute_result"
    }
   ],
   "source": [
    "data['children'].value_counts().sort_values()"
   ]
  },
  {
   "cell_type": "markdown",
   "id": "6d22bb69",
   "metadata": {},
   "source": [
    "*Нужно исправить аноманию детей равное '-1'*\n",
    "1. Возьмем заемщиков, у которых есть дети и проверим распределение их family_status (можно, конечно, еще и по доходу посмотреть, но симейное положение важнее)\n",
    "2. Проверим, как распределился family_status для тех, у котого есть дети и тех, у кото отрицательное кол-во детей\n",
    "3. Если распеределение похожее, то принимем решение, что знак \"минус\" становлен по ошибке "
   ]
  },
  {
   "cell_type": "code",
   "execution_count": 23,
   "id": "0a2cecb1",
   "metadata": {},
   "outputs": [
    {
     "data": {
      "text/plain": [
       "family_status\n",
       "Не женат / не замужем     5\n",
       "в разводе                 4\n",
       "вдовец / вдова            4\n",
       "гражданский брак          5\n",
       "женат / замужем          29\n",
       "Name: family_status, dtype: int64"
      ]
     },
     "execution_count": 23,
     "metadata": {},
     "output_type": "execute_result"
    }
   ],
   "source": [
    "test = data[data['children'] < 0]\n",
    "test.groupby('family_status')['family_status'].count()"
   ]
  },
  {
   "cell_type": "code",
   "execution_count": 24,
   "id": "3c63149c",
   "metadata": {},
   "outputs": [
    {
     "data": {
      "text/plain": [
       "family_status\n",
       "Не женат / не замужем     543\n",
       "в разводе                 407\n",
       "вдовец / вдова            108\n",
       "гражданский брак         1420\n",
       "женат / замужем          4851\n",
       "Name: family_status, dtype: int64"
      ]
     },
     "execution_count": 24,
     "metadata": {},
     "output_type": "execute_result"
    }
   ],
   "source": [
    "test = data[data['children'] > 0]\n",
    "test.groupby('family_status')['family_status'].count()"
   ]
  },
  {
   "cell_type": "markdown",
   "id": "d69fafc7",
   "metadata": {},
   "source": [
    "Распределение в обоих случаях похожее, соответвенно, можно сделать вывод, что отрицательным знаком не помечали отсутствие детей, а просто ошиблись.\n",
    "По этому заменим -1 на 1"
   ]
  },
  {
   "cell_type": "code",
   "execution_count": 25,
   "id": "7e21315c",
   "metadata": {},
   "outputs": [
    {
     "data": {
      "text/plain": [
       "5         9\n",
       "4        41\n",
       "20       76\n",
       "3       330\n",
       "2      2055\n",
       "1      4865\n",
       "0     14149\n",
       "Name: children, dtype: int64"
      ]
     },
     "execution_count": 25,
     "metadata": {},
     "output_type": "execute_result"
    }
   ],
   "source": [
    "data.loc[data['children'] == -1, 'children'] = 1\n",
    "#Проверим себя\n",
    "data['children'].value_counts().sort_values()"
   ]
  },
  {
   "cell_type": "markdown",
   "id": "a60e7777",
   "metadata": {},
   "source": [
    "Посмотрев на распределение кол-ва детей, можно сделать вывод, что есть большой выброс, когда детей 20. Это явная аномалия, которую нужно исправить.\n",
    "Есть два варианта:\n",
    "1. Это ошибка ввода и должно быть не дватцать, а  два ребенка\n",
    "2. 20 - так отмечали детей, когда знали, что их достаточно много, но не хотели указывать сколько \n",
    "\n",
    "Если не считать выброса (20 детей), распределение показывает, что максимально 5 детей было только у 9 человек и, соответвенно, если следовать распределению, то следующее значение по кол-ву детей должно быть у менее 9 заемщиков, а у нас для 20 детей - 76 заемщиков. По этому своем решении я предлагаю использовать 1 вариант и исправить 20 на 2"
   ]
  },
  {
   "cell_type": "code",
   "execution_count": 26,
   "id": "40590f4a",
   "metadata": {},
   "outputs": [
    {
     "data": {
      "text/plain": [
       "5        9\n",
       "4       41\n",
       "3      330\n",
       "2     2131\n",
       "1     4865\n",
       "0    14149\n",
       "Name: children, dtype: int64"
      ]
     },
     "execution_count": 26,
     "metadata": {},
     "output_type": "execute_result"
    }
   ],
   "source": [
    "data.loc[data['children'] == 20, 'children'] = 2\n",
    "#Проверим себя\n",
    "data['children'].value_counts().sort_values()"
   ]
  },
  {
   "cell_type": "markdown",
   "id": "014ccccf",
   "metadata": {},
   "source": [
    "**Разберемся аномалиями в колонке \"dob_years \"**\n",
    "* Проверим, что заемщику больше 18 лет\n",
    "* Проверим максимальный возраст заемщика"
   ]
  },
  {
   "cell_type": "code",
   "execution_count": 27,
   "id": "544e80ff",
   "metadata": {},
   "outputs": [
    {
     "name": "stdout",
     "output_type": "stream",
     "text": [
      "Какой возраст заемщиков и сколько таких строк  0    101\n",
      "Name: dob_years, dtype: int64\n",
      "Доля заемщиков меньше 18 лет =  0.004692218350754936\n",
      "Семейный статус заемщиков меньше 18 лет ['женат / замужем' 'в разводе' 'Не женат / не замужем' 'вдовец / вдова'\n",
      " 'гражданский брак']\n"
     ]
    }
   ],
   "source": [
    "print('Какой возраст заемщиков и сколько таких строк ', data.loc[data['dob_years'] < 18, 'dob_years'].value_counts())\n",
    "print('Доля заемщиков меньше 18 лет = ', data[data['dob_years'] < 18]['dob_years'].count() / total_row)\n",
    "\n",
    "print('Семейный статус заемщиков меньше 18 лет', data.loc[data['dob_years'] < 18, 'family_status'].unique())"
   ]
  },
  {
   "cell_type": "markdown",
   "id": "b437d0e7",
   "metadata": {},
   "source": [
    "Из полученной информации можно сделать вывод, что возраст меньше 18 лет - это ошибка.\n",
    "Вижу 2 варианта как исправть:\n",
    "1. Так как доля заемщиков меньше 18 лет меньше процента, то такие строки можно исключить\n",
    "2. Такие строки можно оставить, заполнив среднем значением, так как в рамках проверяемых гипотиз возраст имеет не самое важное значения \n",
    "\n",
    "Выбираю второй вариает, предварительно только проверю адекватное ли максимальное значение"
   ]
  },
  {
   "cell_type": "code",
   "execution_count": 28,
   "id": "9c417cd3",
   "metadata": {},
   "outputs": [
    {
     "name": "stdout",
     "output_type": "stream",
     "text": [
      "75\n"
     ]
    }
   ],
   "source": [
    "print(data['dob_years'].max())"
   ]
  },
  {
   "cell_type": "markdown",
   "id": "65885a79",
   "metadata": {},
   "source": [
    "Посчитаем среднее и заполним из возраст, равный нулю:"
   ]
  },
  {
   "cell_type": "code",
   "execution_count": 29,
   "id": "e0e00838",
   "metadata": {},
   "outputs": [],
   "source": [
    "mean_years = data.loc[data['dob_years'] > 18, 'dob_years'].mean()\n",
    "data.loc[data['dob_years'] == 0,'dob_years'] = mean_years"
   ]
  },
  {
   "cell_type": "code",
   "execution_count": 30,
   "id": "8a49b653",
   "metadata": {},
   "outputs": [
    {
     "data": {
      "text/plain": [
       "Series([], Name: dob_years, dtype: float64)"
      ]
     },
     "execution_count": 30,
     "metadata": {},
     "output_type": "execute_result"
    }
   ],
   "source": [
    "# Проверим, что пропусков нет\n",
    "data[data['dob_years'] == 0]['dob_years']\n",
    "#data['dob_years'].value_counts()"
   ]
  },
  {
   "cell_type": "markdown",
   "id": "15cc45ee",
   "metadata": {},
   "source": [
    "### Шаг 2.3. Изменение типов данных\n",
    "Заменим вещественный тип данных в столбце total_income на целочисленный"
   ]
  },
  {
   "cell_type": "code",
   "execution_count": 31,
   "id": "24468fbf",
   "metadata": {},
   "outputs": [],
   "source": [
    "data['total_income'] = data['total_income'].astype('int')"
   ]
  },
  {
   "cell_type": "code",
   "execution_count": 32,
   "id": "ff846793",
   "metadata": {},
   "outputs": [
    {
     "name": "stdout",
     "output_type": "stream",
     "text": [
      "<class 'pandas.core.frame.DataFrame'>\n",
      "RangeIndex: 21525 entries, 0 to 21524\n",
      "Data columns (total 12 columns):\n",
      " #   Column            Non-Null Count  Dtype  \n",
      "---  ------            --------------  -----  \n",
      " 0   children          21525 non-null  int64  \n",
      " 1   days_employed     21525 non-null  float64\n",
      " 2   dob_years         21525 non-null  float64\n",
      " 3   education         21525 non-null  object \n",
      " 4   education_id      21525 non-null  int64  \n",
      " 5   family_status     21525 non-null  object \n",
      " 6   family_status_id  21525 non-null  int64  \n",
      " 7   gender            21525 non-null  object \n",
      " 8   income_type       21525 non-null  object \n",
      " 9   debt              21525 non-null  int64  \n",
      " 10  total_income      21525 non-null  int32  \n",
      " 11  purpose           21525 non-null  object \n",
      "dtypes: float64(2), int32(1), int64(4), object(5)\n",
      "memory usage: 1.9+ MB\n"
     ]
    }
   ],
   "source": [
    "data.info()"
   ]
  },
  {
   "cell_type": "markdown",
   "id": "dadaeda9",
   "metadata": {},
   "source": [
    "### Шаг 2.4. Удаление дубликатов\n",
    "Проверим явные и не явные дубликаты"
   ]
  },
  {
   "cell_type": "code",
   "execution_count": 33,
   "id": "20973326",
   "metadata": {},
   "outputs": [
    {
     "data": {
      "text/plain": [
       "54"
      ]
     },
     "execution_count": 33,
     "metadata": {},
     "output_type": "execute_result"
    }
   ],
   "source": [
    "data.duplicated().sum()"
   ]
  },
  {
   "cell_type": "code",
   "execution_count": 34,
   "id": "3e89e9e1",
   "metadata": {},
   "outputs": [],
   "source": [
    "# Удалим явные дубликаты\n",
    "data = data.drop_duplicates().reset_index(drop=True)"
   ]
  },
  {
   "cell_type": "code",
   "execution_count": 35,
   "id": "13388978",
   "metadata": {},
   "outputs": [
    {
     "data": {
      "text/plain": [
       "0"
      ]
     },
     "execution_count": 35,
     "metadata": {},
     "output_type": "execute_result"
    }
   ],
   "source": [
    "# Убедимся, что полностью избавились от явных дубликатов\n",
    "data.duplicated().sum()"
   ]
  },
  {
   "cell_type": "code",
   "execution_count": 36,
   "id": "ae8a1c4b",
   "metadata": {},
   "outputs": [
    {
     "data": {
      "text/plain": [
       "array(['автомобили', 'автомобиль', 'высшее образование',\n",
       "       'дополнительное образование', 'жилье',\n",
       "       'заняться высшим образованием', 'заняться образованием',\n",
       "       'на покупку автомобиля', 'на покупку подержанного автомобиля',\n",
       "       'на покупку своего автомобиля', 'на проведение свадьбы',\n",
       "       'недвижимость', 'образование', 'операции с жильем',\n",
       "       'операции с коммерческой недвижимостью',\n",
       "       'операции с недвижимостью', 'операции со своей недвижимостью',\n",
       "       'покупка жилой недвижимости', 'покупка жилья',\n",
       "       'покупка жилья для сдачи', 'покупка жилья для семьи',\n",
       "       'покупка коммерческой недвижимости', 'покупка недвижимости',\n",
       "       'покупка своего жилья', 'получение высшего образования',\n",
       "       'получение дополнительного образования', 'получение образования',\n",
       "       'приобретение автомобиля', 'профильное образование',\n",
       "       'ремонт жилью', 'свадьба', 'свой автомобиль',\n",
       "       'сделка с автомобилем', 'сделка с подержанным автомобилем',\n",
       "       'строительство жилой недвижимости', 'строительство недвижимости',\n",
       "       'строительство собственной недвижимости', 'сыграть свадьбу'],\n",
       "      dtype=object)"
      ]
     },
     "execution_count": 36,
     "metadata": {},
     "output_type": "execute_result"
    }
   ],
   "source": [
    "# Поищем неявные дубликаты в колонке \"purpose\"\n",
    "purpose_test = data['purpose'].sort_values()\n",
    "purpose_test.unique()"
   ]
  },
  {
   "cell_type": "code",
   "execution_count": 37,
   "id": "c0700261",
   "metadata": {},
   "outputs": [],
   "source": [
    "# Функция для замены неявных дубликатов\n",
    "\n",
    "def replace_wrong_genres(wrong, correct):\n",
    "    for wrong_value in wrong: \n",
    "          data['purpose']= data['purpose'].replace(wrong_value, correct)"
   ]
  },
  {
   "cell_type": "code",
   "execution_count": 38,
   "id": "819b3f3f",
   "metadata": {},
   "outputs": [],
   "source": [
    "# Разберемся с автомобилями\n",
    "wrong = ['автомобили', 'на покупку автомобиля', 'на покупку подержанного автомобиля', 'на покупку своего автомобиля', 'приобретение автомобиля', 'свой автомобиль','сделка с автомобилем', 'сделка с подержанным автомобилем']\n",
    "correct = 'автомобиль'\n",
    "\n",
    "replace_wrong_genres(wrong, correct)"
   ]
  },
  {
   "cell_type": "code",
   "execution_count": 39,
   "id": "3976a2b7",
   "metadata": {},
   "outputs": [],
   "source": [
    "# Разберемся с образованием\n",
    "wrong = [ 'высшее образование', 'дополнительное образование', 'заняться высшим образованием', 'заняться образованием', 'получение высшего образования', 'получение дополнительного образования', 'получение образования', 'профильное образование']\n",
    "correct = 'образование'\n",
    "\n",
    "replace_wrong_genres(wrong, correct)"
   ]
  },
  {
   "cell_type": "code",
   "execution_count": 40,
   "id": "23bb657f",
   "metadata": {},
   "outputs": [],
   "source": [
    "# Разберемся с недвижимостью\n",
    "wrong = ['операции с жильем', 'жилье', 'операции с коммерческой недвижимостью','операции с недвижимостью', 'операции со своей недвижимостью','покупка жилой недвижимости', 'покупка жилья','покупка жилья для сдачи', 'покупка жилья для семьи','покупка коммерческой недвижимости', 'покупка недвижимости','покупка своего жилья']\n",
    "correct = 'недвижимость'\n",
    "\n",
    "replace_wrong_genres(wrong, correct)"
   ]
  },
  {
   "cell_type": "code",
   "execution_count": 41,
   "id": "c5f5dd04",
   "metadata": {},
   "outputs": [],
   "source": [
    "# Разберемся со свадьбой\n",
    "wrong = ['на проведение свадьбы', 'сыграть свадьбу']\n",
    "correct = 'свадьба'\n",
    "\n",
    "replace_wrong_genres(wrong, correct)"
   ]
  },
  {
   "cell_type": "code",
   "execution_count": 42,
   "id": "81eddfb7",
   "metadata": {},
   "outputs": [],
   "source": [
    "# Разберемся со строительством\n",
    "wrong = ['строительство жилой недвижимости', 'строительство недвижимости','строительство собственной недвижимости']\n",
    "correct = 'строительство'\n",
    "\n",
    "replace_wrong_genres(wrong, correct)"
   ]
  },
  {
   "cell_type": "code",
   "execution_count": 43,
   "id": "42478d51",
   "metadata": {},
   "outputs": [],
   "source": [
    "# Разберемся со ремонтом\n",
    "wrong = ['ремонт жилью']\n",
    "correct = 'ремонт'\n",
    "\n",
    "replace_wrong_genres(wrong, correct)"
   ]
  },
  {
   "cell_type": "code",
   "execution_count": 44,
   "id": "e9e47493",
   "metadata": {},
   "outputs": [
    {
     "data": {
      "text/plain": [
       "array(['автомобиль', 'недвижимость', 'образование', 'ремонт', 'свадьба',\n",
       "       'строительство'], dtype=object)"
      ]
     },
     "execution_count": 44,
     "metadata": {},
     "output_type": "execute_result"
    }
   ],
   "source": [
    "# Проверим дубликаты в колонке \"purpose\"\n",
    "purpose_test = data['purpose'].sort_values()\n",
    "purpose_test.unique()"
   ]
  },
  {
   "cell_type": "markdown",
   "id": "fc6515df",
   "metadata": {},
   "source": [
    "Теперь цели привидены в порядок и четко классифицированы"
   ]
  },
  {
   "cell_type": "code",
   "execution_count": 45,
   "id": "ffe5245f",
   "metadata": {},
   "outputs": [
    {
     "data": {
      "text/plain": [
       "array(['ВЫСШЕЕ', 'Высшее', 'НАЧАЛЬНОЕ', 'НЕОКОНЧЕННОЕ ВЫСШЕЕ',\n",
       "       'Начальное', 'Неоконченное высшее', 'СРЕДНЕЕ', 'Среднее',\n",
       "       'УЧЕНАЯ СТЕПЕНЬ', 'Ученая степень', 'высшее', 'начальное',\n",
       "       'неоконченное высшее', 'среднее', 'ученая степень'], dtype=object)"
      ]
     },
     "execution_count": 45,
     "metadata": {},
     "output_type": "execute_result"
    }
   ],
   "source": [
    "# Поищем неявные дубликаты в колонке 'education'\n",
    "education_test = data['education'].sort_values()\n",
    "education_test.unique()"
   ]
  },
  {
   "cell_type": "markdown",
   "id": "bb5252d7",
   "metadata": {},
   "source": [
    "В данном случае нужно привести все образование к нижнему регистру"
   ]
  },
  {
   "cell_type": "code",
   "execution_count": 46,
   "id": "d49b0e1c",
   "metadata": {},
   "outputs": [
    {
     "data": {
      "text/plain": [
       "54"
      ]
     },
     "execution_count": 46,
     "metadata": {},
     "output_type": "execute_result"
    }
   ],
   "source": [
    "wrong_values_count = 0\n",
    "\n",
    "for i in range(total_row): \n",
    "    try:\n",
    "        data.loc[i,'education'] = data.loc[i,'education'].lower()   \n",
    "    except:\n",
    "        wrong_values_count += 1\n",
    "\n",
    "wrong_values_count \n",
    "\n",
    "# Потом нашла, что это можно сделать проще для всего столбца:\n",
    "# df=data['education']\n",
    "# df.str.lower()"
   ]
  },
  {
   "cell_type": "code",
   "execution_count": 47,
   "id": "b49710f5",
   "metadata": {},
   "outputs": [
    {
     "data": {
      "text/plain": [
       "array(['высшее', 'начальное', 'неоконченное высшее', 'среднее',\n",
       "       'ученая степень'], dtype=object)"
      ]
     },
     "execution_count": 47,
     "metadata": {},
     "output_type": "execute_result"
    }
   ],
   "source": [
    "#Проверим смену регистра\n",
    "education_test = data['education'].sort_values()\n",
    "education_test.unique()"
   ]
  },
  {
   "cell_type": "markdown",
   "id": "a002f49d",
   "metadata": {},
   "source": [
    "Остальные качественные колонки проверила и там нет проблем, не буду тут эти строки выводить"
   ]
  },
  {
   "cell_type": "markdown",
   "id": "5f4067f5",
   "metadata": {},
   "source": [
    "### Шаг 2.5. Формирование дополнительных датафреймов словарей, декомпозиция исходного датафрейма."
   ]
  },
  {
   "cell_type": "markdown",
   "id": "68de3632",
   "metadata": {},
   "source": [
    "Создадим два новых датафрейма, в которых:\n",
    "* каждому уникальному значению из education соответствует уникальное значение education_id — в первом;\n",
    "* каждому уникальному значению из family_status соответствует уникальное значение family_status_id — во втором.\n",
    "\n",
    "Чтобы:\n",
    "* Не увеличивался размер файла и время обработки данных\n",
    "* Не ошибаться при фильтрации данных по типу обращения\n",
    "* создание новых категорий и изменение старых не отнимло много времени"
   ]
  },
  {
   "cell_type": "code",
   "execution_count": 48,
   "id": "c33a9315",
   "metadata": {},
   "outputs": [],
   "source": [
    "# выделим столбцы для справочника\n",
    "education_dict = data[['education', 'education_id']]\n",
    "family_dict = data[['family_status', 'family_status_id']]"
   ]
  },
  {
   "cell_type": "code",
   "execution_count": 49,
   "id": "e8a29a78",
   "metadata": {},
   "outputs": [
    {
     "data": {
      "text/html": [
       "<div>\n",
       "<style scoped>\n",
       "    .dataframe tbody tr th:only-of-type {\n",
       "        vertical-align: middle;\n",
       "    }\n",
       "\n",
       "    .dataframe tbody tr th {\n",
       "        vertical-align: top;\n",
       "    }\n",
       "\n",
       "    .dataframe thead th {\n",
       "        text-align: right;\n",
       "    }\n",
       "</style>\n",
       "<table border=\"1\" class=\"dataframe\">\n",
       "  <thead>\n",
       "    <tr style=\"text-align: right;\">\n",
       "      <th></th>\n",
       "      <th>education</th>\n",
       "      <th>education_id</th>\n",
       "    </tr>\n",
       "  </thead>\n",
       "  <tbody>\n",
       "    <tr>\n",
       "      <th>0</th>\n",
       "      <td>высшее</td>\n",
       "      <td>0</td>\n",
       "    </tr>\n",
       "    <tr>\n",
       "      <th>1</th>\n",
       "      <td>среднее</td>\n",
       "      <td>1</td>\n",
       "    </tr>\n",
       "    <tr>\n",
       "      <th>2</th>\n",
       "      <td>неоконченное высшее</td>\n",
       "      <td>2</td>\n",
       "    </tr>\n",
       "    <tr>\n",
       "      <th>3</th>\n",
       "      <td>начальное</td>\n",
       "      <td>3</td>\n",
       "    </tr>\n",
       "    <tr>\n",
       "      <th>4</th>\n",
       "      <td>ученая степень</td>\n",
       "      <td>4</td>\n",
       "    </tr>\n",
       "  </tbody>\n",
       "</table>\n",
       "</div>"
      ],
      "text/plain": [
       "             education  education_id\n",
       "0               высшее             0\n",
       "1              среднее             1\n",
       "2  неоконченное высшее             2\n",
       "3            начальное             3\n",
       "4       ученая степень             4"
      ]
     },
     "execution_count": 49,
     "metadata": {},
     "output_type": "execute_result"
    }
   ],
   "source": [
    "# удалим дубликаты в справочнике\n",
    "education_dict = education_dict.drop_duplicates().reset_index(drop=True)\n",
    "education_dict"
   ]
  },
  {
   "cell_type": "code",
   "execution_count": 50,
   "id": "ed2027df",
   "metadata": {},
   "outputs": [
    {
     "data": {
      "text/plain": [
       "<bound method NDFrame.head of            family_status  family_status_id\n",
       "0        женат / замужем                 0\n",
       "1       гражданский брак                 1\n",
       "2         вдовец / вдова                 2\n",
       "3              в разводе                 3\n",
       "4  Не женат / не замужем                 4>"
      ]
     },
     "execution_count": 50,
     "metadata": {},
     "output_type": "execute_result"
    }
   ],
   "source": [
    "# удалим дубликаты в справочнике\n",
    "family_dict = family_dict.drop_duplicates().reset_index(drop=True)\n",
    "family_dict.head"
   ]
  },
  {
   "cell_type": "code",
   "execution_count": 51,
   "id": "9969d3b1",
   "metadata": {},
   "outputs": [
    {
     "data": {
      "text/html": [
       "<div>\n",
       "<style scoped>\n",
       "    .dataframe tbody tr th:only-of-type {\n",
       "        vertical-align: middle;\n",
       "    }\n",
       "\n",
       "    .dataframe tbody tr th {\n",
       "        vertical-align: top;\n",
       "    }\n",
       "\n",
       "    .dataframe thead th {\n",
       "        text-align: right;\n",
       "    }\n",
       "</style>\n",
       "<table border=\"1\" class=\"dataframe\">\n",
       "  <thead>\n",
       "    <tr style=\"text-align: right;\">\n",
       "      <th></th>\n",
       "      <th>children</th>\n",
       "      <th>days_employed</th>\n",
       "      <th>dob_years</th>\n",
       "      <th>education_id</th>\n",
       "      <th>family_status_id</th>\n",
       "      <th>gender</th>\n",
       "      <th>income_type</th>\n",
       "      <th>debt</th>\n",
       "      <th>total_income</th>\n",
       "      <th>purpose</th>\n",
       "    </tr>\n",
       "  </thead>\n",
       "  <tbody>\n",
       "    <tr>\n",
       "      <th>0</th>\n",
       "      <td>1</td>\n",
       "      <td>8437.673028</td>\n",
       "      <td>42.0</td>\n",
       "      <td>0</td>\n",
       "      <td>0</td>\n",
       "      <td>F</td>\n",
       "      <td>сотрудник</td>\n",
       "      <td>0</td>\n",
       "      <td>253875</td>\n",
       "      <td>недвижимость</td>\n",
       "    </tr>\n",
       "    <tr>\n",
       "      <th>1</th>\n",
       "      <td>1</td>\n",
       "      <td>4024.803754</td>\n",
       "      <td>36.0</td>\n",
       "      <td>1</td>\n",
       "      <td>0</td>\n",
       "      <td>F</td>\n",
       "      <td>сотрудник</td>\n",
       "      <td>0</td>\n",
       "      <td>112080</td>\n",
       "      <td>автомобиль</td>\n",
       "    </tr>\n",
       "    <tr>\n",
       "      <th>2</th>\n",
       "      <td>0</td>\n",
       "      <td>5623.422610</td>\n",
       "      <td>33.0</td>\n",
       "      <td>1</td>\n",
       "      <td>0</td>\n",
       "      <td>M</td>\n",
       "      <td>сотрудник</td>\n",
       "      <td>0</td>\n",
       "      <td>145885</td>\n",
       "      <td>недвижимость</td>\n",
       "    </tr>\n",
       "    <tr>\n",
       "      <th>3</th>\n",
       "      <td>3</td>\n",
       "      <td>4124.747207</td>\n",
       "      <td>32.0</td>\n",
       "      <td>1</td>\n",
       "      <td>0</td>\n",
       "      <td>M</td>\n",
       "      <td>сотрудник</td>\n",
       "      <td>0</td>\n",
       "      <td>267628</td>\n",
       "      <td>образование</td>\n",
       "    </tr>\n",
       "    <tr>\n",
       "      <th>4</th>\n",
       "      <td>0</td>\n",
       "      <td>14573.000000</td>\n",
       "      <td>53.0</td>\n",
       "      <td>1</td>\n",
       "      <td>1</td>\n",
       "      <td>F</td>\n",
       "      <td>пенсионер</td>\n",
       "      <td>0</td>\n",
       "      <td>158616</td>\n",
       "      <td>свадьба</td>\n",
       "    </tr>\n",
       "    <tr>\n",
       "      <th>...</th>\n",
       "      <td>...</td>\n",
       "      <td>...</td>\n",
       "      <td>...</td>\n",
       "      <td>...</td>\n",
       "      <td>...</td>\n",
       "      <td>...</td>\n",
       "      <td>...</td>\n",
       "      <td>...</td>\n",
       "      <td>...</td>\n",
       "      <td>...</td>\n",
       "    </tr>\n",
       "    <tr>\n",
       "      <th>21466</th>\n",
       "      <td>1</td>\n",
       "      <td>4529.316663</td>\n",
       "      <td>43.0</td>\n",
       "      <td>1</td>\n",
       "      <td>1</td>\n",
       "      <td>F</td>\n",
       "      <td>компаньон</td>\n",
       "      <td>0</td>\n",
       "      <td>224791</td>\n",
       "      <td>недвижимость</td>\n",
       "    </tr>\n",
       "    <tr>\n",
       "      <th>21467</th>\n",
       "      <td>0</td>\n",
       "      <td>14573.000000</td>\n",
       "      <td>67.0</td>\n",
       "      <td>1</td>\n",
       "      <td>0</td>\n",
       "      <td>F</td>\n",
       "      <td>пенсионер</td>\n",
       "      <td>0</td>\n",
       "      <td>155999</td>\n",
       "      <td>автомобиль</td>\n",
       "    </tr>\n",
       "    <tr>\n",
       "      <th>21468</th>\n",
       "      <td>1</td>\n",
       "      <td>2113.346888</td>\n",
       "      <td>38.0</td>\n",
       "      <td>1</td>\n",
       "      <td>1</td>\n",
       "      <td>M</td>\n",
       "      <td>сотрудник</td>\n",
       "      <td>1</td>\n",
       "      <td>89672</td>\n",
       "      <td>недвижимость</td>\n",
       "    </tr>\n",
       "    <tr>\n",
       "      <th>21469</th>\n",
       "      <td>3</td>\n",
       "      <td>3112.481705</td>\n",
       "      <td>38.0</td>\n",
       "      <td>1</td>\n",
       "      <td>0</td>\n",
       "      <td>M</td>\n",
       "      <td>сотрудник</td>\n",
       "      <td>1</td>\n",
       "      <td>244093</td>\n",
       "      <td>автомобиль</td>\n",
       "    </tr>\n",
       "    <tr>\n",
       "      <th>21470</th>\n",
       "      <td>2</td>\n",
       "      <td>1984.507589</td>\n",
       "      <td>40.0</td>\n",
       "      <td>1</td>\n",
       "      <td>0</td>\n",
       "      <td>F</td>\n",
       "      <td>сотрудник</td>\n",
       "      <td>0</td>\n",
       "      <td>82047</td>\n",
       "      <td>автомобиль</td>\n",
       "    </tr>\n",
       "  </tbody>\n",
       "</table>\n",
       "<p>21471 rows × 10 columns</p>\n",
       "</div>"
      ],
      "text/plain": [
       "       children  days_employed  dob_years  education_id  family_status_id  \\\n",
       "0             1    8437.673028       42.0             0                 0   \n",
       "1             1    4024.803754       36.0             1                 0   \n",
       "2             0    5623.422610       33.0             1                 0   \n",
       "3             3    4124.747207       32.0             1                 0   \n",
       "4             0   14573.000000       53.0             1                 1   \n",
       "...         ...            ...        ...           ...               ...   \n",
       "21466         1    4529.316663       43.0             1                 1   \n",
       "21467         0   14573.000000       67.0             1                 0   \n",
       "21468         1    2113.346888       38.0             1                 1   \n",
       "21469         3    3112.481705       38.0             1                 0   \n",
       "21470         2    1984.507589       40.0             1                 0   \n",
       "\n",
       "      gender income_type  debt  total_income       purpose  \n",
       "0          F   сотрудник     0        253875  недвижимость  \n",
       "1          F   сотрудник     0        112080    автомобиль  \n",
       "2          M   сотрудник     0        145885  недвижимость  \n",
       "3          M   сотрудник     0        267628   образование  \n",
       "4          F   пенсионер     0        158616       свадьба  \n",
       "...      ...         ...   ...           ...           ...  \n",
       "21466      F   компаньон     0        224791  недвижимость  \n",
       "21467      F   пенсионер     0        155999    автомобиль  \n",
       "21468      M   сотрудник     1         89672  недвижимость  \n",
       "21469      M   сотрудник     1        244093    автомобиль  \n",
       "21470      F   сотрудник     0         82047    автомобиль  \n",
       "\n",
       "[21471 rows x 10 columns]"
      ]
     },
     "execution_count": 51,
     "metadata": {},
     "output_type": "execute_result"
    }
   ],
   "source": [
    "# Оставим в исходном датафрейме только id\n",
    "data = data.drop(['family_status', 'education'], axis=1)\n",
    "data"
   ]
  },
  {
   "cell_type": "markdown",
   "id": "b50733dc",
   "metadata": {},
   "source": [
    "### Шаг 2.6. Категоризация дохода\n",
    "\n",
    "На основании диапазонов, указанных ниже, создадим столбец total_income_category с категориями:\n",
    "* 0–30000 — 'E';\n",
    "* 30001–50000 — 'D';\n",
    "* 50001–200000 — 'C';\n",
    "* 200001–1000000 — 'B';\n",
    "* 1000001 и выше — 'A'."
   ]
  },
  {
   "cell_type": "code",
   "execution_count": 52,
   "id": "a0bdcf21",
   "metadata": {},
   "outputs": [],
   "source": [
    "#  Функция для определения категории\n",
    "def income_category(total_income):\n",
    "    try:\n",
    "        if total_income <= 30000:\n",
    "            return 'E'\n",
    "        elif (total_income >= 30001 and total_income <= 50000):\n",
    "            return 'D'\n",
    "        elif (total_income >= 50001 and total_income <= 200000):\n",
    "            return 'C'  \n",
    "        elif (total_income >= 200001 and total_income <= 1000000):\n",
    "            return 'B' \n",
    "        elif total_income >= 1000001:\n",
    "            return 'A' \n",
    "    except:\n",
    "        'категория не определена'\n",
    "        "
   ]
  },
  {
   "cell_type": "code",
   "execution_count": 53,
   "id": "292d044b",
   "metadata": {},
   "outputs": [
    {
     "data": {
      "text/html": [
       "<div>\n",
       "<style scoped>\n",
       "    .dataframe tbody tr th:only-of-type {\n",
       "        vertical-align: middle;\n",
       "    }\n",
       "\n",
       "    .dataframe tbody tr th {\n",
       "        vertical-align: top;\n",
       "    }\n",
       "\n",
       "    .dataframe thead th {\n",
       "        text-align: right;\n",
       "    }\n",
       "</style>\n",
       "<table border=\"1\" class=\"dataframe\">\n",
       "  <thead>\n",
       "    <tr style=\"text-align: right;\">\n",
       "      <th></th>\n",
       "      <th>children</th>\n",
       "      <th>days_employed</th>\n",
       "      <th>dob_years</th>\n",
       "      <th>education_id</th>\n",
       "      <th>family_status_id</th>\n",
       "      <th>gender</th>\n",
       "      <th>income_type</th>\n",
       "      <th>debt</th>\n",
       "      <th>total_income</th>\n",
       "      <th>purpose</th>\n",
       "      <th>total_income_category</th>\n",
       "    </tr>\n",
       "  </thead>\n",
       "  <tbody>\n",
       "    <tr>\n",
       "      <th>0</th>\n",
       "      <td>1</td>\n",
       "      <td>8437.673028</td>\n",
       "      <td>42.0</td>\n",
       "      <td>0</td>\n",
       "      <td>0</td>\n",
       "      <td>F</td>\n",
       "      <td>сотрудник</td>\n",
       "      <td>0</td>\n",
       "      <td>253875</td>\n",
       "      <td>недвижимость</td>\n",
       "      <td>B</td>\n",
       "    </tr>\n",
       "    <tr>\n",
       "      <th>1</th>\n",
       "      <td>1</td>\n",
       "      <td>4024.803754</td>\n",
       "      <td>36.0</td>\n",
       "      <td>1</td>\n",
       "      <td>0</td>\n",
       "      <td>F</td>\n",
       "      <td>сотрудник</td>\n",
       "      <td>0</td>\n",
       "      <td>112080</td>\n",
       "      <td>автомобиль</td>\n",
       "      <td>C</td>\n",
       "    </tr>\n",
       "    <tr>\n",
       "      <th>2</th>\n",
       "      <td>0</td>\n",
       "      <td>5623.422610</td>\n",
       "      <td>33.0</td>\n",
       "      <td>1</td>\n",
       "      <td>0</td>\n",
       "      <td>M</td>\n",
       "      <td>сотрудник</td>\n",
       "      <td>0</td>\n",
       "      <td>145885</td>\n",
       "      <td>недвижимость</td>\n",
       "      <td>C</td>\n",
       "    </tr>\n",
       "  </tbody>\n",
       "</table>\n",
       "</div>"
      ],
      "text/plain": [
       "   children  days_employed  dob_years  education_id  family_status_id gender  \\\n",
       "0         1    8437.673028       42.0             0                 0      F   \n",
       "1         1    4024.803754       36.0             1                 0      F   \n",
       "2         0    5623.422610       33.0             1                 0      M   \n",
       "\n",
       "  income_type  debt  total_income       purpose total_income_category  \n",
       "0   сотрудник     0        253875  недвижимость                     B  \n",
       "1   сотрудник     0        112080    автомобиль                     C  \n",
       "2   сотрудник     0        145885  недвижимость                     C  "
      ]
     },
     "execution_count": 53,
     "metadata": {},
     "output_type": "execute_result"
    }
   ],
   "source": [
    "# Определим категорию для кажой ячейки\n",
    "data['total_income_category'] = data['total_income'].apply(income_category)\n",
    "data.head(3)"
   ]
  },
  {
   "cell_type": "code",
   "execution_count": 54,
   "id": "9c00511d",
   "metadata": {},
   "outputs": [
    {
     "data": {
      "text/plain": [
       "total_income_category\n",
       "C    16033\n",
       "B     5041\n",
       "D      350\n",
       "A       25\n",
       "E       22\n",
       "dtype: int64"
      ]
     },
     "execution_count": 54,
     "metadata": {},
     "output_type": "execute_result"
    }
   ],
   "source": [
    "# Проверим категории\n",
    "data.value_counts('total_income_category')"
   ]
  },
  {
   "cell_type": "markdown",
   "id": "4f57bca8",
   "metadata": {},
   "source": [
    "### Шаг 2.7. Категоризация целей кредита\n",
    "Создадим функцию, которая на основании данных из столбца purpose сформирует новый столбец purpose_category, в который войдут следующие категории:\n",
    "* 'операции с автомобилем',\n",
    "* 'операции с недвижимостью',\n",
    "* 'проведение свадьбы',\n",
    "* 'получение образования'\n",
    "\n",
    "Практически полностью я эту задачу решила в этапе 2.4 Удаление дубликатов.\n",
    "Я создала следующие цели - 'автомобиль', 'недвижимость', 'образование', 'ремонт', 'свадьба', 'строительство'\n",
    "В рамках данной задачи предлагаю цели 'ремонт' и 'строительство' перенести в новую категорию -> 'операции с недвижимостью'"
   ]
  },
  {
   "cell_type": "code",
   "execution_count": 55,
   "id": "cf958a10",
   "metadata": {},
   "outputs": [],
   "source": [
    "#  Функция для категориизации целей\n",
    "def purpose_category(row):\n",
    "    purpose = row['purpose']\n",
    "    try:\n",
    "        if purpose == 'автомобиль':\n",
    "            return 'операции с автомобилем'\n",
    "        elif (purpose == 'недвижимость' or purpose == 'ремонт' or purpose == 'строительство'):\n",
    "            return 'операции с недвижимостью'\n",
    "        elif purpose == 'образование':\n",
    "            return 'получение образования'    \n",
    "        elif purpose == 'свадьба':\n",
    "            return 'проведение свадьбы' \n",
    "    except:\n",
    "        return 'не определено'"
   ]
  },
  {
   "cell_type": "code",
   "execution_count": 56,
   "id": "b4fb17d4",
   "metadata": {},
   "outputs": [
    {
     "data": {
      "text/html": [
       "<div>\n",
       "<style scoped>\n",
       "    .dataframe tbody tr th:only-of-type {\n",
       "        vertical-align: middle;\n",
       "    }\n",
       "\n",
       "    .dataframe tbody tr th {\n",
       "        vertical-align: top;\n",
       "    }\n",
       "\n",
       "    .dataframe thead th {\n",
       "        text-align: right;\n",
       "    }\n",
       "</style>\n",
       "<table border=\"1\" class=\"dataframe\">\n",
       "  <thead>\n",
       "    <tr style=\"text-align: right;\">\n",
       "      <th></th>\n",
       "      <th>children</th>\n",
       "      <th>days_employed</th>\n",
       "      <th>dob_years</th>\n",
       "      <th>education_id</th>\n",
       "      <th>family_status_id</th>\n",
       "      <th>gender</th>\n",
       "      <th>income_type</th>\n",
       "      <th>debt</th>\n",
       "      <th>total_income</th>\n",
       "      <th>purpose</th>\n",
       "      <th>total_income_category</th>\n",
       "      <th>purpose_category</th>\n",
       "    </tr>\n",
       "  </thead>\n",
       "  <tbody>\n",
       "    <tr>\n",
       "      <th>0</th>\n",
       "      <td>1</td>\n",
       "      <td>8437.673028</td>\n",
       "      <td>42.0</td>\n",
       "      <td>0</td>\n",
       "      <td>0</td>\n",
       "      <td>F</td>\n",
       "      <td>сотрудник</td>\n",
       "      <td>0</td>\n",
       "      <td>253875</td>\n",
       "      <td>недвижимость</td>\n",
       "      <td>B</td>\n",
       "      <td>операции с недвижимостью</td>\n",
       "    </tr>\n",
       "    <tr>\n",
       "      <th>1</th>\n",
       "      <td>1</td>\n",
       "      <td>4024.803754</td>\n",
       "      <td>36.0</td>\n",
       "      <td>1</td>\n",
       "      <td>0</td>\n",
       "      <td>F</td>\n",
       "      <td>сотрудник</td>\n",
       "      <td>0</td>\n",
       "      <td>112080</td>\n",
       "      <td>автомобиль</td>\n",
       "      <td>C</td>\n",
       "      <td>операции с автомобилем</td>\n",
       "    </tr>\n",
       "    <tr>\n",
       "      <th>2</th>\n",
       "      <td>0</td>\n",
       "      <td>5623.422610</td>\n",
       "      <td>33.0</td>\n",
       "      <td>1</td>\n",
       "      <td>0</td>\n",
       "      <td>M</td>\n",
       "      <td>сотрудник</td>\n",
       "      <td>0</td>\n",
       "      <td>145885</td>\n",
       "      <td>недвижимость</td>\n",
       "      <td>C</td>\n",
       "      <td>операции с недвижимостью</td>\n",
       "    </tr>\n",
       "  </tbody>\n",
       "</table>\n",
       "</div>"
      ],
      "text/plain": [
       "   children  days_employed  dob_years  education_id  family_status_id gender  \\\n",
       "0         1    8437.673028       42.0             0                 0      F   \n",
       "1         1    4024.803754       36.0             1                 0      F   \n",
       "2         0    5623.422610       33.0             1                 0      M   \n",
       "\n",
       "  income_type  debt  total_income       purpose total_income_category  \\\n",
       "0   сотрудник     0        253875  недвижимость                     B   \n",
       "1   сотрудник     0        112080    автомобиль                     C   \n",
       "2   сотрудник     0        145885  недвижимость                     C   \n",
       "\n",
       "           purpose_category  \n",
       "0  операции с недвижимостью  \n",
       "1    операции с автомобилем  \n",
       "2  операции с недвижимостью  "
      ]
     },
     "execution_count": 56,
     "metadata": {},
     "output_type": "execute_result"
    }
   ],
   "source": [
    "#  Установим категории и проверим что получилось\n",
    "data['purpose_category'] = data.apply(purpose_category, axis=1)\n",
    "data.head(3)"
   ]
  },
  {
   "cell_type": "markdown",
   "id": "7dc61bcd",
   "metadata": {},
   "source": [
    "### Ответы на вопросы."
   ]
  },
  {
   "cell_type": "markdown",
   "id": "ce03dde4",
   "metadata": {},
   "source": [
    "##### Вопрос 1: Есть ли зависимость между количеством детей и возвратом кредита в срок?"
   ]
  },
  {
   "cell_type": "code",
   "execution_count": 57,
   "id": "c97b9977",
   "metadata": {
    "scrolled": true
   },
   "outputs": [
    {
     "name": "stdout",
     "output_type": "stream",
     "text": [
      "Детей -  0 , Доля задолжностей -  0.07535266179910682\n",
      "Детей -  1 , Доля задолжностей -  0.09163920922570017\n",
      "Детей -  2 , Доля задолжностей -  0.09492481203007519\n",
      "Детей -  3 , Доля задолжностей -  0.08181818181818182\n",
      "Детей -  4 , Доля задолжностей -  0.0975609756097561\n",
      "Детей -  5 , Доля задолжностей -  0.0\n"
     ]
    }
   ],
   "source": [
    "# Для семей с разным кол-вом детей опредеим долю наличия заполжностей\n",
    "for i in range(6):\n",
    "        print('Детей - ', i, ', Доля задолжностей - ', data[(data['children'] == i) & (data['debt'] == 1)]['debt'].count() / data[data['children'] == i]['debt'].count())        "
   ]
  },
  {
   "cell_type": "code",
   "execution_count": 58,
   "id": "e44a651a",
   "metadata": {},
   "outputs": [
    {
     "name": "stdout",
     "output_type": "stream",
     "text": [
      "Средняя доля задолжностей для семей с детьми:  0.09148579467092832\n",
      "Отклонение доли задолжностей самай с детьми и без :  0.0161331328718215\n"
     ]
    }
   ],
   "source": [
    "print ('Средняя доля задолжностей для семей с детьми: ', (0.09163920922570017 + 0.09492481203007519 + 0.08181818181818182 + 0.0975609756097561) / 4)\n",
    "print ('Отклонение доли задолжностей самай с детьми и без : ', 0.09148579467092832 - 0.07535266179910682)"
   ]
  },
  {
   "cell_type": "markdown",
   "id": "c4ea2e63",
   "metadata": {},
   "source": [
    "Из данных видно, что на возврат заема в срок влияет не кол-во детей, скорее влияет факт наличия хотя бы одного ребенк, но это влияние не значительное.\n",
    "Для семей с 5 детьми не найдено ни одной задолжности, это скорее всего связано с тем, что таких семей мало относительно других и выборка получилась не показательная.\n",
    "Общий вывод, что семьи с детьми чаше на возвращают заемы (9%), чем без детей"
   ]
  },
  {
   "cell_type": "markdown",
   "id": "7d454854",
   "metadata": {},
   "source": [
    "##### Вопрос 2: Есть ли зависимость между семейным положением и возвратом кредита в срок?"
   ]
  },
  {
   "cell_type": "code",
   "execution_count": 59,
   "id": "a3ccb85f",
   "metadata": {},
   "outputs": [
    {
     "data": {
      "text/html": [
       "<div>\n",
       "<style scoped>\n",
       "    .dataframe tbody tr th:only-of-type {\n",
       "        vertical-align: middle;\n",
       "    }\n",
       "\n",
       "    .dataframe tbody tr th {\n",
       "        vertical-align: top;\n",
       "    }\n",
       "\n",
       "    .dataframe thead tr th {\n",
       "        text-align: left;\n",
       "    }\n",
       "\n",
       "    .dataframe thead tr:last-of-type th {\n",
       "        text-align: right;\n",
       "    }\n",
       "</style>\n",
       "<table border=\"1\" class=\"dataframe\">\n",
       "  <thead>\n",
       "    <tr>\n",
       "      <th></th>\n",
       "      <th colspan=\"2\" halign=\"left\">debt</th>\n",
       "    </tr>\n",
       "    <tr>\n",
       "      <th></th>\n",
       "      <th>count</th>\n",
       "      <th>sum</th>\n",
       "    </tr>\n",
       "    <tr>\n",
       "      <th>family_status_id</th>\n",
       "      <th></th>\n",
       "      <th></th>\n",
       "    </tr>\n",
       "  </thead>\n",
       "  <tbody>\n",
       "    <tr>\n",
       "      <th>0</th>\n",
       "      <td>12344</td>\n",
       "      <td>931</td>\n",
       "    </tr>\n",
       "    <tr>\n",
       "      <th>1</th>\n",
       "      <td>4163</td>\n",
       "      <td>388</td>\n",
       "    </tr>\n",
       "    <tr>\n",
       "      <th>2</th>\n",
       "      <td>959</td>\n",
       "      <td>63</td>\n",
       "    </tr>\n",
       "    <tr>\n",
       "      <th>3</th>\n",
       "      <td>1195</td>\n",
       "      <td>85</td>\n",
       "    </tr>\n",
       "    <tr>\n",
       "      <th>4</th>\n",
       "      <td>2810</td>\n",
       "      <td>274</td>\n",
       "    </tr>\n",
       "  </tbody>\n",
       "</table>\n",
       "</div>"
      ],
      "text/plain": [
       "                   debt     \n",
       "                  count  sum\n",
       "family_status_id            \n",
       "0                 12344  931\n",
       "1                  4163  388\n",
       "2                   959   63\n",
       "3                  1195   85\n",
       "4                  2810  274"
      ]
     },
     "execution_count": 59,
     "metadata": {},
     "output_type": "execute_result"
    }
   ],
   "source": [
    "# Для каждого семейного положения считаем кол-во кредиов и ко-во не возвратов\n",
    "family_status_grouped = data.groupby('family_status_id').agg({'debt': ['count', 'sum']})\n",
    "family_status_grouped"
   ]
  },
  {
   "cell_type": "code",
   "execution_count": 60,
   "id": "bce5e261",
   "metadata": {},
   "outputs": [
    {
     "data": {
      "text/html": [
       "<div>\n",
       "<style scoped>\n",
       "    .dataframe tbody tr th:only-of-type {\n",
       "        vertical-align: middle;\n",
       "    }\n",
       "\n",
       "    .dataframe tbody tr th {\n",
       "        vertical-align: top;\n",
       "    }\n",
       "\n",
       "    .dataframe thead tr th {\n",
       "        text-align: left;\n",
       "    }\n",
       "\n",
       "    .dataframe thead tr:last-of-type th {\n",
       "        text-align: right;\n",
       "    }\n",
       "</style>\n",
       "<table border=\"1\" class=\"dataframe\">\n",
       "  <thead>\n",
       "    <tr>\n",
       "      <th></th>\n",
       "      <th colspan=\"2\" halign=\"left\">debt</th>\n",
       "      <th>dole</th>\n",
       "    </tr>\n",
       "    <tr>\n",
       "      <th></th>\n",
       "      <th>count</th>\n",
       "      <th>sum</th>\n",
       "      <th></th>\n",
       "    </tr>\n",
       "    <tr>\n",
       "      <th>family_status_id</th>\n",
       "      <th></th>\n",
       "      <th></th>\n",
       "      <th></th>\n",
       "    </tr>\n",
       "  </thead>\n",
       "  <tbody>\n",
       "    <tr>\n",
       "      <th>0</th>\n",
       "      <td>12344</td>\n",
       "      <td>931</td>\n",
       "      <td>0.075421</td>\n",
       "    </tr>\n",
       "    <tr>\n",
       "      <th>1</th>\n",
       "      <td>4163</td>\n",
       "      <td>388</td>\n",
       "      <td>0.093202</td>\n",
       "    </tr>\n",
       "    <tr>\n",
       "      <th>2</th>\n",
       "      <td>959</td>\n",
       "      <td>63</td>\n",
       "      <td>0.065693</td>\n",
       "    </tr>\n",
       "    <tr>\n",
       "      <th>3</th>\n",
       "      <td>1195</td>\n",
       "      <td>85</td>\n",
       "      <td>0.071130</td>\n",
       "    </tr>\n",
       "    <tr>\n",
       "      <th>4</th>\n",
       "      <td>2810</td>\n",
       "      <td>274</td>\n",
       "      <td>0.097509</td>\n",
       "    </tr>\n",
       "  </tbody>\n",
       "</table>\n",
       "</div>"
      ],
      "text/plain": [
       "                   debt           dole\n",
       "                  count  sum          \n",
       "family_status_id                      \n",
       "0                 12344  931  0.075421\n",
       "1                  4163  388  0.093202\n",
       "2                   959   63  0.065693\n",
       "3                  1195   85  0.071130\n",
       "4                  2810  274  0.097509"
      ]
     },
     "execution_count": 60,
     "metadata": {},
     "output_type": "execute_result"
    }
   ],
   "source": [
    "# Для каждого семейного положения считаем % не возвратов\n",
    "family_status_grouped['dole'] = family_status_grouped['debt']['sum'] / family_status_grouped['debt']['count']\n",
    "family_status_grouped"
   ]
  },
  {
   "cell_type": "code",
   "execution_count": 61,
   "id": "bdee9ec1",
   "metadata": {},
   "outputs": [
    {
     "name": "stderr",
     "output_type": "stream",
     "text": [
      "C:\\Users\\e.chernykh\\Anaconda3\\lib\\site-packages\\pandas\\core\\frame.py:9190: FutureWarning: merging between different levels is deprecated and will be removed in a future version. (2 levels on the left,1 on the right)\n",
      "  return merge(\n"
     ]
    },
    {
     "data": {
      "text/html": [
       "<div>\n",
       "<style scoped>\n",
       "    .dataframe tbody tr th:only-of-type {\n",
       "        vertical-align: middle;\n",
       "    }\n",
       "\n",
       "    .dataframe tbody tr th {\n",
       "        vertical-align: top;\n",
       "    }\n",
       "\n",
       "    .dataframe thead th {\n",
       "        text-align: right;\n",
       "    }\n",
       "</style>\n",
       "<table border=\"1\" class=\"dataframe\">\n",
       "  <thead>\n",
       "    <tr style=\"text-align: right;\">\n",
       "      <th></th>\n",
       "      <th>family_status_id</th>\n",
       "      <th>(debt, count)</th>\n",
       "      <th>(debt, sum)</th>\n",
       "      <th>(dole, )</th>\n",
       "      <th>family_status</th>\n",
       "    </tr>\n",
       "  </thead>\n",
       "  <tbody>\n",
       "    <tr>\n",
       "      <th>0</th>\n",
       "      <td>0</td>\n",
       "      <td>12344</td>\n",
       "      <td>931</td>\n",
       "      <td>0.075421</td>\n",
       "      <td>женат / замужем</td>\n",
       "    </tr>\n",
       "    <tr>\n",
       "      <th>1</th>\n",
       "      <td>1</td>\n",
       "      <td>4163</td>\n",
       "      <td>388</td>\n",
       "      <td>0.093202</td>\n",
       "      <td>гражданский брак</td>\n",
       "    </tr>\n",
       "    <tr>\n",
       "      <th>2</th>\n",
       "      <td>2</td>\n",
       "      <td>959</td>\n",
       "      <td>63</td>\n",
       "      <td>0.065693</td>\n",
       "      <td>вдовец / вдова</td>\n",
       "    </tr>\n",
       "    <tr>\n",
       "      <th>3</th>\n",
       "      <td>3</td>\n",
       "      <td>1195</td>\n",
       "      <td>85</td>\n",
       "      <td>0.071130</td>\n",
       "      <td>в разводе</td>\n",
       "    </tr>\n",
       "    <tr>\n",
       "      <th>4</th>\n",
       "      <td>4</td>\n",
       "      <td>2810</td>\n",
       "      <td>274</td>\n",
       "      <td>0.097509</td>\n",
       "      <td>Не женат / не замужем</td>\n",
       "    </tr>\n",
       "  </tbody>\n",
       "</table>\n",
       "</div>"
      ],
      "text/plain": [
       "   family_status_id  (debt, count)  (debt, sum)  (dole, )  \\\n",
       "0                 0          12344          931  0.075421   \n",
       "1                 1           4163          388  0.093202   \n",
       "2                 2            959           63  0.065693   \n",
       "3                 3           1195           85  0.071130   \n",
       "4                 4           2810          274  0.097509   \n",
       "\n",
       "           family_status  \n",
       "0        женат / замужем  \n",
       "1       гражданский брак  \n",
       "2         вдовец / вдова  \n",
       "3              в разводе  \n",
       "4  Не женат / не замужем  "
      ]
     },
     "execution_count": 61,
     "metadata": {},
     "output_type": "execute_result"
    }
   ],
   "source": [
    "# Добавляем тектовый семейный статус из справочника\n",
    "family_status_grouped.merge(family_dict, on='family_status_id', how='left')"
   ]
  },
  {
   "cell_type": "markdown",
   "id": "af6bcbec",
   "metadata": {},
   "source": [
    "Вывод сделать сложно, возможно, есть еще какие-то дополнительные факторы (возможно дети?), которые влияют на результат. Тут нужно дополниельное исследование.\n",
    "\n",
    "Но явно видно, что не жетатые и не замужние и, в целом, более свободные люди более склонны не возвращать заемы."
   ]
  },
  {
   "cell_type": "markdown",
   "id": "e075b051",
   "metadata": {},
   "source": [
    "##### Вопрос 3: Есть ли зависимость между уровнем дохода и возвратом кредита в срок?"
   ]
  },
  {
   "cell_type": "code",
   "execution_count": 62,
   "id": "c3a1ce7b",
   "metadata": {},
   "outputs": [
    {
     "data": {
      "text/html": [
       "<div>\n",
       "<style scoped>\n",
       "    .dataframe tbody tr th:only-of-type {\n",
       "        vertical-align: middle;\n",
       "    }\n",
       "\n",
       "    .dataframe tbody tr th {\n",
       "        vertical-align: top;\n",
       "    }\n",
       "\n",
       "    .dataframe thead th {\n",
       "        text-align: right;\n",
       "    }\n",
       "</style>\n",
       "<table border=\"1\" class=\"dataframe\">\n",
       "  <thead>\n",
       "    <tr style=\"text-align: right;\">\n",
       "      <th>debt</th>\n",
       "      <th>0</th>\n",
       "      <th>1</th>\n",
       "    </tr>\n",
       "    <tr>\n",
       "      <th>total_income_category</th>\n",
       "      <th></th>\n",
       "      <th></th>\n",
       "    </tr>\n",
       "  </thead>\n",
       "  <tbody>\n",
       "    <tr>\n",
       "      <th>A</th>\n",
       "      <td>23</td>\n",
       "      <td>2</td>\n",
       "    </tr>\n",
       "    <tr>\n",
       "      <th>B</th>\n",
       "      <td>4685</td>\n",
       "      <td>356</td>\n",
       "    </tr>\n",
       "    <tr>\n",
       "      <th>C</th>\n",
       "      <td>14673</td>\n",
       "      <td>1360</td>\n",
       "    </tr>\n",
       "    <tr>\n",
       "      <th>D</th>\n",
       "      <td>329</td>\n",
       "      <td>21</td>\n",
       "    </tr>\n",
       "    <tr>\n",
       "      <th>E</th>\n",
       "      <td>20</td>\n",
       "      <td>2</td>\n",
       "    </tr>\n",
       "  </tbody>\n",
       "</table>\n",
       "</div>"
      ],
      "text/plain": [
       "debt                       0     1\n",
       "total_income_category             \n",
       "A                         23     2\n",
       "B                       4685   356\n",
       "C                      14673  1360\n",
       "D                        329    21\n",
       "E                         20     2"
      ]
     },
     "execution_count": 62,
     "metadata": {},
     "output_type": "execute_result"
    }
   ],
   "source": [
    "# Создадим сводную таблицу\n",
    "data_pivot = data.pivot_table(index='total_income_category', columns = 'debt', values='purpose', aggfunc='count')\n",
    "data_pivot"
   ]
  },
  {
   "cell_type": "code",
   "execution_count": 63,
   "id": "8bc670a4",
   "metadata": {},
   "outputs": [
    {
     "data": {
      "text/html": [
       "<div>\n",
       "<style scoped>\n",
       "    .dataframe tbody tr th:only-of-type {\n",
       "        vertical-align: middle;\n",
       "    }\n",
       "\n",
       "    .dataframe tbody tr th {\n",
       "        vertical-align: top;\n",
       "    }\n",
       "\n",
       "    .dataframe thead th {\n",
       "        text-align: right;\n",
       "    }\n",
       "</style>\n",
       "<table border=\"1\" class=\"dataframe\">\n",
       "  <thead>\n",
       "    <tr style=\"text-align: right;\">\n",
       "      <th>debt</th>\n",
       "      <th>0</th>\n",
       "      <th>1</th>\n",
       "      <th>dole</th>\n",
       "    </tr>\n",
       "    <tr>\n",
       "      <th>total_income_category</th>\n",
       "      <th></th>\n",
       "      <th></th>\n",
       "      <th></th>\n",
       "    </tr>\n",
       "  </thead>\n",
       "  <tbody>\n",
       "    <tr>\n",
       "      <th>A</th>\n",
       "      <td>23</td>\n",
       "      <td>2</td>\n",
       "      <td>0.080000</td>\n",
       "    </tr>\n",
       "    <tr>\n",
       "      <th>B</th>\n",
       "      <td>4685</td>\n",
       "      <td>356</td>\n",
       "      <td>0.070621</td>\n",
       "    </tr>\n",
       "    <tr>\n",
       "      <th>C</th>\n",
       "      <td>14673</td>\n",
       "      <td>1360</td>\n",
       "      <td>0.084825</td>\n",
       "    </tr>\n",
       "    <tr>\n",
       "      <th>D</th>\n",
       "      <td>329</td>\n",
       "      <td>21</td>\n",
       "      <td>0.060000</td>\n",
       "    </tr>\n",
       "    <tr>\n",
       "      <th>E</th>\n",
       "      <td>20</td>\n",
       "      <td>2</td>\n",
       "      <td>0.090909</td>\n",
       "    </tr>\n",
       "  </tbody>\n",
       "</table>\n",
       "</div>"
      ],
      "text/plain": [
       "debt                       0     1      dole\n",
       "total_income_category                       \n",
       "A                         23     2  0.080000\n",
       "B                       4685   356  0.070621\n",
       "C                      14673  1360  0.084825\n",
       "D                        329    21  0.060000\n",
       "E                         20     2  0.090909"
      ]
     },
     "execution_count": 63,
     "metadata": {},
     "output_type": "execute_result"
    }
   ],
   "source": [
    "# Посчитаем долю невозвратов\n",
    "data_pivot['dole'] = data_pivot[1] / (data_pivot[1] + data_pivot[0])\n",
    "data_pivot"
   ]
  },
  {
   "cell_type": "markdown",
   "id": "ace83fa9",
   "metadata": {},
   "source": [
    "Когда посчитали долю невозвратов, оказалось, что % невозвратов у всех категорий доходов приблизительно одинаков и отличается на 3%. Из них максимальный - 9% у категории E, где самя низкая сумма заема, а минимальный у  категории D (30001–50000)"
   ]
  },
  {
   "cell_type": "markdown",
   "id": "e66c7442",
   "metadata": {},
   "source": [
    "##### Вопрос 3: Как разные цели кредита влияют на его возврат в срок?"
   ]
  },
  {
   "cell_type": "code",
   "execution_count": 64,
   "id": "efba492a",
   "metadata": {},
   "outputs": [
    {
     "data": {
      "text/html": [
       "<div>\n",
       "<style scoped>\n",
       "    .dataframe tbody tr th:only-of-type {\n",
       "        vertical-align: middle;\n",
       "    }\n",
       "\n",
       "    .dataframe tbody tr th {\n",
       "        vertical-align: top;\n",
       "    }\n",
       "\n",
       "    .dataframe thead th {\n",
       "        text-align: right;\n",
       "    }\n",
       "</style>\n",
       "<table border=\"1\" class=\"dataframe\">\n",
       "  <thead>\n",
       "    <tr style=\"text-align: right;\">\n",
       "      <th>debt</th>\n",
       "      <th>0</th>\n",
       "      <th>1</th>\n",
       "    </tr>\n",
       "    <tr>\n",
       "      <th>purpose_category</th>\n",
       "      <th></th>\n",
       "      <th></th>\n",
       "    </tr>\n",
       "  </thead>\n",
       "  <tbody>\n",
       "    <tr>\n",
       "      <th>операции с автомобилем</th>\n",
       "      <td>3905</td>\n",
       "      <td>403</td>\n",
       "    </tr>\n",
       "    <tr>\n",
       "      <th>операции с недвижимостью</th>\n",
       "      <td>10032</td>\n",
       "      <td>782</td>\n",
       "    </tr>\n",
       "    <tr>\n",
       "      <th>получение образования</th>\n",
       "      <td>3644</td>\n",
       "      <td>370</td>\n",
       "    </tr>\n",
       "    <tr>\n",
       "      <th>проведение свадьбы</th>\n",
       "      <td>2149</td>\n",
       "      <td>186</td>\n",
       "    </tr>\n",
       "  </tbody>\n",
       "</table>\n",
       "</div>"
      ],
      "text/plain": [
       "debt                          0    1\n",
       "purpose_category                    \n",
       "операции с автомобилем     3905  403\n",
       "операции с недвижимостью  10032  782\n",
       "получение образования      3644  370\n",
       "проведение свадьбы         2149  186"
      ]
     },
     "execution_count": 64,
     "metadata": {},
     "output_type": "execute_result"
    }
   ],
   "source": [
    "# Создадим сводную таблицу\n",
    "data_pivot = data.pivot_table(index='purpose_category', columns = 'debt', values='purpose', aggfunc='count')\n",
    "data_pivot"
   ]
  },
  {
   "cell_type": "code",
   "execution_count": 65,
   "id": "5ad7054f",
   "metadata": {
    "scrolled": true
   },
   "outputs": [
    {
     "data": {
      "text/html": [
       "<div>\n",
       "<style scoped>\n",
       "    .dataframe tbody tr th:only-of-type {\n",
       "        vertical-align: middle;\n",
       "    }\n",
       "\n",
       "    .dataframe tbody tr th {\n",
       "        vertical-align: top;\n",
       "    }\n",
       "\n",
       "    .dataframe thead th {\n",
       "        text-align: right;\n",
       "    }\n",
       "</style>\n",
       "<table border=\"1\" class=\"dataframe\">\n",
       "  <thead>\n",
       "    <tr style=\"text-align: right;\">\n",
       "      <th>debt</th>\n",
       "      <th>0</th>\n",
       "      <th>1</th>\n",
       "      <th>dole</th>\n",
       "    </tr>\n",
       "    <tr>\n",
       "      <th>purpose_category</th>\n",
       "      <th></th>\n",
       "      <th></th>\n",
       "      <th></th>\n",
       "    </tr>\n",
       "  </thead>\n",
       "  <tbody>\n",
       "    <tr>\n",
       "      <th>операции с автомобилем</th>\n",
       "      <td>3905</td>\n",
       "      <td>403</td>\n",
       "      <td>0.093547</td>\n",
       "    </tr>\n",
       "    <tr>\n",
       "      <th>операции с недвижимостью</th>\n",
       "      <td>10032</td>\n",
       "      <td>782</td>\n",
       "      <td>0.072314</td>\n",
       "    </tr>\n",
       "    <tr>\n",
       "      <th>получение образования</th>\n",
       "      <td>3644</td>\n",
       "      <td>370</td>\n",
       "      <td>0.092177</td>\n",
       "    </tr>\n",
       "    <tr>\n",
       "      <th>проведение свадьбы</th>\n",
       "      <td>2149</td>\n",
       "      <td>186</td>\n",
       "      <td>0.079657</td>\n",
       "    </tr>\n",
       "  </tbody>\n",
       "</table>\n",
       "</div>"
      ],
      "text/plain": [
       "debt                          0    1      dole\n",
       "purpose_category                              \n",
       "операции с автомобилем     3905  403  0.093547\n",
       "операции с недвижимостью  10032  782  0.072314\n",
       "получение образования      3644  370  0.092177\n",
       "проведение свадьбы         2149  186  0.079657"
      ]
     },
     "execution_count": 65,
     "metadata": {},
     "output_type": "execute_result"
    }
   ],
   "source": [
    "# Посчитаем долю невозвратов\n",
    "data_pivot['dole'] = data_pivot[1] / (data_pivot[1] + data_pivot[0])\n",
    "data_pivot"
   ]
  },
  {
   "cell_type": "markdown",
   "id": "388b53fa",
   "metadata": {},
   "source": [
    "Для операций с недвижимостью кол-во невозвратом минимальное, возможно это связно с дополнительными условиями стахования. Заемы на проведение свадьбы тоже хорошо возвращаются относительно друх категорий.\n",
    "Более 9% невозвратов у оперций с автомобилями и образованием, возможно свзано с авариями и изменением планов у студентов."
   ]
  },
  {
   "cell_type": "markdown",
   "id": "15b2affc",
   "metadata": {},
   "source": [
    "## Общий вывод:"
   ]
  },
  {
   "cell_type": "markdown",
   "id": "1d4c3261",
   "metadata": {},
   "source": [
    "1. Семьи с детьми чаше на возвращают заемы (9%), чем без детей\n",
    "2. Не состоящие в браке люди склонны не возвращать заемы, таких практически 10%\n",
    "3. Максимальная вероятность невозврата - 9% у заемов на маленькие суммы(менее 30.000р)\n",
    "4. Более 9% невозвратов у оперций с автомобилями и образованием, возможно свзано с авариями и изменением планов у студентов.\n",
    "\n",
    "В целом процент невозратов в районе 9%, максимальный - у не состоящих в браке людей. Предлагаю добавить в скоритнговую модель в первую очередь этот фактор.\n"
   ]
  }
 ],
 "metadata": {
  "ExecuteTimeLog": [
   {
    "duration": 709,
    "start_time": "2022-03-02T20:34:43.050Z"
   },
   {
    "duration": 74,
    "start_time": "2022-03-02T20:34:53.468Z"
   },
   {
    "duration": 22,
    "start_time": "2022-03-02T20:38:38.055Z"
   },
   {
    "duration": 362,
    "start_time": "2022-03-02T20:39:16.549Z"
   },
   {
    "duration": 266,
    "start_time": "2022-03-02T20:39:36.892Z"
   },
   {
    "duration": 5,
    "start_time": "2022-03-02T20:39:53.896Z"
   },
   {
    "duration": 5,
    "start_time": "2022-03-02T20:40:03.908Z"
   },
   {
    "duration": 5,
    "start_time": "2022-03-02T20:40:15.819Z"
   },
   {
    "duration": 6,
    "start_time": "2022-03-02T20:40:37.278Z"
   },
   {
    "duration": 70,
    "start_time": "2022-03-02T20:41:31.006Z"
   },
   {
    "duration": 90,
    "start_time": "2022-03-02T20:45:50.058Z"
   },
   {
    "duration": 85,
    "start_time": "2022-03-02T20:45:57.625Z"
   },
   {
    "duration": 88,
    "start_time": "2022-03-02T20:46:24.081Z"
   },
   {
    "duration": 6618,
    "start_time": "2022-03-02T20:46:48.558Z"
   },
   {
    "duration": 6368,
    "start_time": "2022-03-02T20:47:08.315Z"
   },
   {
    "duration": 6452,
    "start_time": "2022-03-02T20:47:36.919Z"
   },
   {
    "duration": 13,
    "start_time": "2022-03-02T20:48:17.090Z"
   },
   {
    "duration": 75,
    "start_time": "2022-03-02T21:02:30.424Z"
   },
   {
    "duration": 326,
    "start_time": "2022-03-02T21:03:45.697Z"
   },
   {
    "duration": 310,
    "start_time": "2022-03-02T21:04:32.184Z"
   },
   {
    "duration": 347,
    "start_time": "2022-03-02T21:04:50.225Z"
   },
   {
    "duration": 303,
    "start_time": "2022-03-02T21:05:07.691Z"
   },
   {
    "duration": 90,
    "start_time": "2022-03-02T21:05:29.507Z"
   },
   {
    "duration": 54,
    "start_time": "2022-03-02T21:05:36.643Z"
   },
   {
    "duration": 58,
    "start_time": "2022-03-02T21:08:33.712Z"
   },
   {
    "duration": 75,
    "start_time": "2022-03-02T21:12:56.042Z"
   },
   {
    "duration": 279,
    "start_time": "2022-03-02T21:13:56.173Z"
   },
   {
    "duration": 263,
    "start_time": "2022-03-02T21:14:15.686Z"
   },
   {
    "duration": 15,
    "start_time": "2022-03-02T21:14:31.923Z"
   },
   {
    "duration": 88,
    "start_time": "2022-03-02T21:14:55.070Z"
   },
   {
    "duration": 14,
    "start_time": "2022-03-02T21:15:02.108Z"
   },
   {
    "duration": 21,
    "start_time": "2022-03-02T21:15:48.546Z"
   },
   {
    "duration": 14,
    "start_time": "2022-03-02T21:15:59.571Z"
   },
   {
    "duration": 22,
    "start_time": "2022-03-02T21:17:28.063Z"
   }
  ],
  "kernelspec": {
   "display_name": "Python 3 (ipykernel)",
   "language": "python",
   "name": "python3"
  },
  "language_info": {
   "codemirror_mode": {
    "name": "ipython",
    "version": 3
   },
   "file_extension": ".py",
   "mimetype": "text/x-python",
   "name": "python",
   "nbconvert_exporter": "python",
   "pygments_lexer": "ipython3",
   "version": "3.9.7"
  },
  "toc": {
   "base_numbering": 1,
   "nav_menu": {},
   "number_sections": true,
   "sideBar": true,
   "skip_h1_title": true,
   "title_cell": "Table of Contents",
   "title_sidebar": "Contents",
   "toc_cell": false,
   "toc_position": {},
   "toc_section_display": true,
   "toc_window_display": false
  }
 },
 "nbformat": 4,
 "nbformat_minor": 5
}
