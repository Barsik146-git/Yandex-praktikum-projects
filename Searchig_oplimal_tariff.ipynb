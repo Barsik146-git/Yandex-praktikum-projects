{
 "cells": [
  {
   "cell_type": "markdown",
   "id": "3c7c9bc0",
   "metadata": {},
   "source": [
    "## Описание проекта\n",
    "\n",
    "**Цель:** Чтобы скорректировать рекламный бюджет, коммерческий департамент хочет понять, какой тариф приносит больше денег.Нужно выбрать из двух тарифных планов **«Смарт»** и **«Ультра»**\n",
    "\n",
    "**Выборка**: В вашем распоряжении данные 500 пользователей «Мегалайна»: кто они, откуда, каким тарифом пользуются, сколько звонков и сообщений каждый отправил за 2018 год. \n",
    "\n",
    "**Примечание:**\n",
    "«Мегалайн» всегда округляет секунды до минут, а мегабайты — до гигабайт. Каждый звонок округляется отдельно: даже если он длился всего 1 секунду, будет засчитан как 1 минута.\n",
    "Для веб-трафика отдельные сессии не считаются. Вместо этого общая сумма за месяц округляется в бо́льшую сторону. Если абонент использует 1025 мегабайт в этом месяце, с него возьмут плату за 2 гигабайта.\n",
    "\n",
    "**Описание данных**\n",
    "\n",
    "***Таблица users (информация о пользователях):***\n",
    "* user_id — уникальный идентификатор пользователя\n",
    "* first_name — имя пользователя\n",
    "* last_name — фамилия пользователя\n",
    "* age — возраст пользователя (годы)\n",
    "* reg_date — дата подключения тарифа (день, месяц, год)\n",
    "* churn_date — дата прекращения пользования тарифом (если значение пропущено, то тариф ещё действовал на момент выгрузки данных)\n",
    "* city — город проживания пользователя\n",
    "* tariff — название тарифного плана\n",
    "\n",
    "***Таблица calls (информация о звонках):***\n",
    "* id — уникальный номер звонка\n",
    "* call_date — дата звонка\n",
    "* duration — длительность звонка в минутах\n",
    "* user_id — идентификатор пользователя, сделавшего звонок\n",
    "\n",
    "***Таблица messages (информация о сообщениях):***\n",
    "* id — уникальный номер сообщения\n",
    "* message_date — дата сообщения\n",
    "* user_id — идентификатор пользователя, отправившего сообщение\n",
    "\n",
    "***Таблица internet (информация об интернет-сессиях):***\n",
    "* id — уникальный номер сессии\n",
    "* mb_used — объём потраченного за сессию интернет-трафика (в мегабайтах)\n",
    "* session_date — дата интернет-сессии\n",
    "* user_id — идентификатор пользователя\n",
    "\n",
    "***Таблица tariffs (информация о тарифах):***\n",
    "* tariff_name — название тарифа\n",
    "* rub_monthly_fee — ежемесячная абонентская плата в рублях\n",
    "* vminutes_included — количество минут разговора в месяц, включённых в абонентскую плату\n",
    "* messages_included — количество сообщений в месяц, включённых в абонентскую плату\n",
    "* mb_per_month_included — объём интернет-трафика, включённого в абонентскую плату (в мегабайтах)\n",
    "* rub_per_minute — стоимость минуты разговора сверх тарифного пакета (например, если в тарифе 100 минут разговора в месяц, то со 101 минуты будет взиматься плата)\n",
    "* rub_per_message — стоимость отправки сообщения сверх тарифного пакета\n",
    "* vrub_per_gb — стоимость дополнительного гигабайта интернет-трафика сверх тарифного пакета (1 гигабайт = 1024 мегабайта)"
   ]
  },
  {
   "cell_type": "code",
   "execution_count": 1,
   "id": "82338e75",
   "metadata": {},
   "outputs": [],
   "source": [
    "# Необходимые библиотеки для исследования \n",
    "\n",
    "import pandas as pd\n",
    "import matplotlib.pyplot as plt\n",
    "import numpy as np    \n",
    "from scipy import stats as st\n",
    "import seaborn as sns"
   ]
  },
  {
   "cell_type": "code",
   "execution_count": 2,
   "id": "54881225",
   "metadata": {
    "scrolled": true
   },
   "outputs": [
    {
     "name": "stdout",
     "output_type": "stream",
     "text": [
      "FileNotFoundError(2, 'No such file or directory')\n"
     ]
    },
    {
     "data": {
      "text/html": [
       "<div>\n",
       "<style scoped>\n",
       "    .dataframe tbody tr th:only-of-type {\n",
       "        vertical-align: middle;\n",
       "    }\n",
       "\n",
       "    .dataframe tbody tr th {\n",
       "        vertical-align: top;\n",
       "    }\n",
       "\n",
       "    .dataframe thead th {\n",
       "        text-align: right;\n",
       "    }\n",
       "</style>\n",
       "<table border=\"1\" class=\"dataframe\">\n",
       "  <thead>\n",
       "    <tr style=\"text-align: right;\">\n",
       "      <th></th>\n",
       "      <th>id</th>\n",
       "      <th>call_date</th>\n",
       "      <th>duration</th>\n",
       "      <th>user_id</th>\n",
       "    </tr>\n",
       "  </thead>\n",
       "  <tbody>\n",
       "    <tr>\n",
       "      <th>0</th>\n",
       "      <td>1000_0</td>\n",
       "      <td>2018-07-25</td>\n",
       "      <td>0.00</td>\n",
       "      <td>1000</td>\n",
       "    </tr>\n",
       "    <tr>\n",
       "      <th>1</th>\n",
       "      <td>1000_1</td>\n",
       "      <td>2018-08-17</td>\n",
       "      <td>0.00</td>\n",
       "      <td>1000</td>\n",
       "    </tr>\n",
       "    <tr>\n",
       "      <th>2</th>\n",
       "      <td>1000_2</td>\n",
       "      <td>2018-06-11</td>\n",
       "      <td>2.85</td>\n",
       "      <td>1000</td>\n",
       "    </tr>\n",
       "  </tbody>\n",
       "</table>\n",
       "</div>"
      ],
      "text/plain": [
       "       id   call_date  duration  user_id\n",
       "0  1000_0  2018-07-25      0.00     1000\n",
       "1  1000_1  2018-08-17      0.00     1000\n",
       "2  1000_2  2018-06-11      2.85     1000"
      ]
     },
     "execution_count": 2,
     "metadata": {},
     "output_type": "execute_result"
    }
   ],
   "source": [
    "# Загрузим входные данные по очереди\n",
    "\n",
    "try:\n",
    "    df_calls = pd.read_csv('calls.csv')\n",
    "except FileNotFoundError as e:\n",
    "    print(repr(e))\n",
    "    df_calls = pd.read_csv('/datasets/calls.csv')\n",
    "df_calls.head(3)"
   ]
  },
  {
   "cell_type": "code",
   "execution_count": 3,
   "id": "20437767",
   "metadata": {},
   "outputs": [
    {
     "name": "stdout",
     "output_type": "stream",
     "text": [
      "FileNotFoundError(2, 'No such file or directory')\n"
     ]
    },
    {
     "data": {
      "text/html": [
       "<div>\n",
       "<style scoped>\n",
       "    .dataframe tbody tr th:only-of-type {\n",
       "        vertical-align: middle;\n",
       "    }\n",
       "\n",
       "    .dataframe tbody tr th {\n",
       "        vertical-align: top;\n",
       "    }\n",
       "\n",
       "    .dataframe thead th {\n",
       "        text-align: right;\n",
       "    }\n",
       "</style>\n",
       "<table border=\"1\" class=\"dataframe\">\n",
       "  <thead>\n",
       "    <tr style=\"text-align: right;\">\n",
       "      <th></th>\n",
       "      <th>Unnamed: 0</th>\n",
       "      <th>id</th>\n",
       "      <th>mb_used</th>\n",
       "      <th>session_date</th>\n",
       "      <th>user_id</th>\n",
       "    </tr>\n",
       "  </thead>\n",
       "  <tbody>\n",
       "    <tr>\n",
       "      <th>0</th>\n",
       "      <td>0</td>\n",
       "      <td>1000_0</td>\n",
       "      <td>112.95</td>\n",
       "      <td>2018-11-25</td>\n",
       "      <td>1000</td>\n",
       "    </tr>\n",
       "    <tr>\n",
       "      <th>1</th>\n",
       "      <td>1</td>\n",
       "      <td>1000_1</td>\n",
       "      <td>1052.81</td>\n",
       "      <td>2018-09-07</td>\n",
       "      <td>1000</td>\n",
       "    </tr>\n",
       "    <tr>\n",
       "      <th>2</th>\n",
       "      <td>2</td>\n",
       "      <td>1000_2</td>\n",
       "      <td>1197.26</td>\n",
       "      <td>2018-06-25</td>\n",
       "      <td>1000</td>\n",
       "    </tr>\n",
       "  </tbody>\n",
       "</table>\n",
       "</div>"
      ],
      "text/plain": [
       "   Unnamed: 0      id  mb_used session_date  user_id\n",
       "0           0  1000_0   112.95   2018-11-25     1000\n",
       "1           1  1000_1  1052.81   2018-09-07     1000\n",
       "2           2  1000_2  1197.26   2018-06-25     1000"
      ]
     },
     "execution_count": 3,
     "metadata": {},
     "output_type": "execute_result"
    }
   ],
   "source": [
    "try:\n",
    "    df_internet = pd.read_csv('internet.csv')\n",
    "except FileNotFoundError as e:\n",
    "    print(repr(e))\n",
    "    df_internet = pd.read_csv('/datasets/internet.csv')\n",
    "df_internet.head(3)"
   ]
  },
  {
   "cell_type": "code",
   "execution_count": 4,
   "id": "408ae960",
   "metadata": {},
   "outputs": [
    {
     "name": "stdout",
     "output_type": "stream",
     "text": [
      "FileNotFoundError(2, 'No such file or directory')\n"
     ]
    },
    {
     "data": {
      "text/html": [
       "<div>\n",
       "<style scoped>\n",
       "    .dataframe tbody tr th:only-of-type {\n",
       "        vertical-align: middle;\n",
       "    }\n",
       "\n",
       "    .dataframe tbody tr th {\n",
       "        vertical-align: top;\n",
       "    }\n",
       "\n",
       "    .dataframe thead th {\n",
       "        text-align: right;\n",
       "    }\n",
       "</style>\n",
       "<table border=\"1\" class=\"dataframe\">\n",
       "  <thead>\n",
       "    <tr style=\"text-align: right;\">\n",
       "      <th></th>\n",
       "      <th>id</th>\n",
       "      <th>message_date</th>\n",
       "      <th>user_id</th>\n",
       "    </tr>\n",
       "  </thead>\n",
       "  <tbody>\n",
       "    <tr>\n",
       "      <th>0</th>\n",
       "      <td>1000_0</td>\n",
       "      <td>2018-06-27</td>\n",
       "      <td>1000</td>\n",
       "    </tr>\n",
       "    <tr>\n",
       "      <th>1</th>\n",
       "      <td>1000_1</td>\n",
       "      <td>2018-10-08</td>\n",
       "      <td>1000</td>\n",
       "    </tr>\n",
       "    <tr>\n",
       "      <th>2</th>\n",
       "      <td>1000_2</td>\n",
       "      <td>2018-08-04</td>\n",
       "      <td>1000</td>\n",
       "    </tr>\n",
       "  </tbody>\n",
       "</table>\n",
       "</div>"
      ],
      "text/plain": [
       "       id message_date  user_id\n",
       "0  1000_0   2018-06-27     1000\n",
       "1  1000_1   2018-10-08     1000\n",
       "2  1000_2   2018-08-04     1000"
      ]
     },
     "execution_count": 4,
     "metadata": {},
     "output_type": "execute_result"
    }
   ],
   "source": [
    "try:\n",
    "    df_messages = pd.read_csv('messages.csv')\n",
    "except FileNotFoundError as e:\n",
    "    print(repr(e))\n",
    "    df_messages = pd.read_csv('/datasets/messages.csv')\n",
    "df_messages.head(3)"
   ]
  },
  {
   "cell_type": "code",
   "execution_count": 5,
   "id": "af651c81",
   "metadata": {},
   "outputs": [
    {
     "name": "stdout",
     "output_type": "stream",
     "text": [
      "FileNotFoundError(2, 'No such file or directory')\n"
     ]
    },
    {
     "data": {
      "text/html": [
       "<div>\n",
       "<style scoped>\n",
       "    .dataframe tbody tr th:only-of-type {\n",
       "        vertical-align: middle;\n",
       "    }\n",
       "\n",
       "    .dataframe tbody tr th {\n",
       "        vertical-align: top;\n",
       "    }\n",
       "\n",
       "    .dataframe thead th {\n",
       "        text-align: right;\n",
       "    }\n",
       "</style>\n",
       "<table border=\"1\" class=\"dataframe\">\n",
       "  <thead>\n",
       "    <tr style=\"text-align: right;\">\n",
       "      <th></th>\n",
       "      <th>messages_included</th>\n",
       "      <th>mb_per_month_included</th>\n",
       "      <th>minutes_included</th>\n",
       "      <th>rub_monthly_fee</th>\n",
       "      <th>rub_per_gb</th>\n",
       "      <th>rub_per_message</th>\n",
       "      <th>rub_per_minute</th>\n",
       "      <th>tariff_name</th>\n",
       "    </tr>\n",
       "  </thead>\n",
       "  <tbody>\n",
       "    <tr>\n",
       "      <th>0</th>\n",
       "      <td>50</td>\n",
       "      <td>15360</td>\n",
       "      <td>500</td>\n",
       "      <td>550</td>\n",
       "      <td>200</td>\n",
       "      <td>3</td>\n",
       "      <td>3</td>\n",
       "      <td>smart</td>\n",
       "    </tr>\n",
       "    <tr>\n",
       "      <th>1</th>\n",
       "      <td>1000</td>\n",
       "      <td>30720</td>\n",
       "      <td>3000</td>\n",
       "      <td>1950</td>\n",
       "      <td>150</td>\n",
       "      <td>1</td>\n",
       "      <td>1</td>\n",
       "      <td>ultra</td>\n",
       "    </tr>\n",
       "  </tbody>\n",
       "</table>\n",
       "</div>"
      ],
      "text/plain": [
       "   messages_included  mb_per_month_included  minutes_included  \\\n",
       "0                 50                  15360               500   \n",
       "1               1000                  30720              3000   \n",
       "\n",
       "   rub_monthly_fee  rub_per_gb  rub_per_message  rub_per_minute tariff_name  \n",
       "0              550         200                3               3       smart  \n",
       "1             1950         150                1               1       ultra  "
      ]
     },
     "execution_count": 5,
     "metadata": {},
     "output_type": "execute_result"
    }
   ],
   "source": [
    "try:\n",
    "    df_tariffs = pd.read_csv('tariffs.csv')\n",
    "except FileNotFoundError as e:\n",
    "    print(repr(e))\n",
    "    df_tariffs = pd.read_csv('/datasets/tariffs.csv')\n",
    "df_tariffs.head(3)"
   ]
  },
  {
   "cell_type": "code",
   "execution_count": 6,
   "id": "e44d21fa",
   "metadata": {},
   "outputs": [
    {
     "name": "stdout",
     "output_type": "stream",
     "text": [
      "FileNotFoundError(2, 'No such file or directory')\n"
     ]
    },
    {
     "data": {
      "text/html": [
       "<div>\n",
       "<style scoped>\n",
       "    .dataframe tbody tr th:only-of-type {\n",
       "        vertical-align: middle;\n",
       "    }\n",
       "\n",
       "    .dataframe tbody tr th {\n",
       "        vertical-align: top;\n",
       "    }\n",
       "\n",
       "    .dataframe thead th {\n",
       "        text-align: right;\n",
       "    }\n",
       "</style>\n",
       "<table border=\"1\" class=\"dataframe\">\n",
       "  <thead>\n",
       "    <tr style=\"text-align: right;\">\n",
       "      <th></th>\n",
       "      <th>user_id</th>\n",
       "      <th>age</th>\n",
       "      <th>churn_date</th>\n",
       "      <th>city</th>\n",
       "      <th>first_name</th>\n",
       "      <th>last_name</th>\n",
       "      <th>reg_date</th>\n",
       "      <th>tariff</th>\n",
       "    </tr>\n",
       "  </thead>\n",
       "  <tbody>\n",
       "    <tr>\n",
       "      <th>0</th>\n",
       "      <td>1000</td>\n",
       "      <td>52</td>\n",
       "      <td>NaN</td>\n",
       "      <td>Краснодар</td>\n",
       "      <td>Рафаил</td>\n",
       "      <td>Верещагин</td>\n",
       "      <td>2018-05-25</td>\n",
       "      <td>ultra</td>\n",
       "    </tr>\n",
       "    <tr>\n",
       "      <th>1</th>\n",
       "      <td>1001</td>\n",
       "      <td>41</td>\n",
       "      <td>NaN</td>\n",
       "      <td>Москва</td>\n",
       "      <td>Иван</td>\n",
       "      <td>Ежов</td>\n",
       "      <td>2018-11-01</td>\n",
       "      <td>smart</td>\n",
       "    </tr>\n",
       "    <tr>\n",
       "      <th>2</th>\n",
       "      <td>1002</td>\n",
       "      <td>59</td>\n",
       "      <td>NaN</td>\n",
       "      <td>Стерлитамак</td>\n",
       "      <td>Евгений</td>\n",
       "      <td>Абрамович</td>\n",
       "      <td>2018-06-17</td>\n",
       "      <td>smart</td>\n",
       "    </tr>\n",
       "  </tbody>\n",
       "</table>\n",
       "</div>"
      ],
      "text/plain": [
       "   user_id  age churn_date         city first_name  last_name    reg_date  \\\n",
       "0     1000   52        NaN    Краснодар     Рафаил  Верещагин  2018-05-25   \n",
       "1     1001   41        NaN       Москва       Иван       Ежов  2018-11-01   \n",
       "2     1002   59        NaN  Стерлитамак    Евгений  Абрамович  2018-06-17   \n",
       "\n",
       "  tariff  \n",
       "0  ultra  \n",
       "1  smart  \n",
       "2  smart  "
      ]
     },
     "execution_count": 6,
     "metadata": {},
     "output_type": "execute_result"
    }
   ],
   "source": [
    "try:\n",
    "    df_users = pd.read_csv('users.csv')\n",
    "except FileNotFoundError as e:\n",
    "    print(repr(e))\n",
    "    df_users = pd.read_csv('/datasets/users.csv')\n",
    "df_users.head(3)"
   ]
  },
  {
   "cell_type": "markdown",
   "id": "17573e04",
   "metadata": {},
   "source": [
    "### Подготовка данных\n",
    "\n",
    "* Пропуски\n",
    "* Дубликаты\n",
    "* Типы данных"
   ]
  },
  {
   "cell_type": "code",
   "execution_count": 7,
   "id": "43969b99",
   "metadata": {},
   "outputs": [],
   "source": [
    "def first_look(df):\n",
    "    print('-------- Первые 3 строки --------')\n",
    "    display(df.head(3))\n",
    "    \n",
    "    print('-------- Типы данных --------')\n",
    "    df.info()\n",
    "    print('-------- Пропуски --------')\n",
    "    \n",
    "    if df.isna().sum().sum() == 0:\n",
    "        print('Пропусков нет')\n",
    "    else:\n",
    "        print('Пропуски есть')\n",
    "        print(df.isna().sum())        \n",
    "        \n",
    "    print('-------- Явные дубликаты --------')\n",
    "    if df.duplicated().sum() <= 0:\n",
    "        print('Дубликатов нет')\n",
    "    else:\n",
    "        print('Дубликаты есть', df.duplicated().sum())"
   ]
  },
  {
   "cell_type": "code",
   "execution_count": 8,
   "id": "c8860301",
   "metadata": {},
   "outputs": [],
   "source": [
    "def hist_maker(column):\n",
    "    print(column.describe())\n",
    "    plt.figure(figsize=(10,3))\n",
    "    plt.hist(column, bins=30, color='blue', edgecolor='grey', alpha=0.4)\n",
    "    plt.axvline(column.describe()['mean'], color='r', linestyle='dashed', linewidth=3, label='Mean value')\n",
    "    plt.axvline(column.describe()['50%'], color='b', linestyle='dotted', linewidth=3, label='50% value')\n",
    "    plt.legend()\n",
    "    plt.title('Histogramm {}'.format(column.name))"
   ]
  },
  {
   "cell_type": "code",
   "execution_count": 9,
   "id": "a6bbf206",
   "metadata": {},
   "outputs": [
    {
     "name": "stdout",
     "output_type": "stream",
     "text": [
      "-------- Первые 3 строки --------\n"
     ]
    },
    {
     "data": {
      "text/html": [
       "<div>\n",
       "<style scoped>\n",
       "    .dataframe tbody tr th:only-of-type {\n",
       "        vertical-align: middle;\n",
       "    }\n",
       "\n",
       "    .dataframe tbody tr th {\n",
       "        vertical-align: top;\n",
       "    }\n",
       "\n",
       "    .dataframe thead th {\n",
       "        text-align: right;\n",
       "    }\n",
       "</style>\n",
       "<table border=\"1\" class=\"dataframe\">\n",
       "  <thead>\n",
       "    <tr style=\"text-align: right;\">\n",
       "      <th></th>\n",
       "      <th>id</th>\n",
       "      <th>call_date</th>\n",
       "      <th>duration</th>\n",
       "      <th>user_id</th>\n",
       "    </tr>\n",
       "  </thead>\n",
       "  <tbody>\n",
       "    <tr>\n",
       "      <th>0</th>\n",
       "      <td>1000_0</td>\n",
       "      <td>2018-07-25</td>\n",
       "      <td>0.00</td>\n",
       "      <td>1000</td>\n",
       "    </tr>\n",
       "    <tr>\n",
       "      <th>1</th>\n",
       "      <td>1000_1</td>\n",
       "      <td>2018-08-17</td>\n",
       "      <td>0.00</td>\n",
       "      <td>1000</td>\n",
       "    </tr>\n",
       "    <tr>\n",
       "      <th>2</th>\n",
       "      <td>1000_2</td>\n",
       "      <td>2018-06-11</td>\n",
       "      <td>2.85</td>\n",
       "      <td>1000</td>\n",
       "    </tr>\n",
       "  </tbody>\n",
       "</table>\n",
       "</div>"
      ],
      "text/plain": [
       "       id   call_date  duration  user_id\n",
       "0  1000_0  2018-07-25      0.00     1000\n",
       "1  1000_1  2018-08-17      0.00     1000\n",
       "2  1000_2  2018-06-11      2.85     1000"
      ]
     },
     "metadata": {},
     "output_type": "display_data"
    },
    {
     "name": "stdout",
     "output_type": "stream",
     "text": [
      "-------- Типы данных --------\n",
      "<class 'pandas.core.frame.DataFrame'>\n",
      "RangeIndex: 202607 entries, 0 to 202606\n",
      "Data columns (total 4 columns):\n",
      " #   Column     Non-Null Count   Dtype  \n",
      "---  ------     --------------   -----  \n",
      " 0   id         202607 non-null  object \n",
      " 1   call_date  202607 non-null  object \n",
      " 2   duration   202607 non-null  float64\n",
      " 3   user_id    202607 non-null  int64  \n",
      "dtypes: float64(1), int64(1), object(2)\n",
      "memory usage: 6.2+ MB\n",
      "-------- Пропуски --------\n",
      "Пропусков нет\n",
      "-------- Явные дубликаты --------\n",
      "Дубликатов нет\n",
      "count    202607.000000\n",
      "mean          6.755887\n",
      "std           5.843365\n",
      "min           0.000000\n",
      "25%           1.300000\n",
      "50%           6.000000\n",
      "75%          10.700000\n",
      "max          38.000000\n",
      "Name: duration, dtype: float64\n"
     ]
    },
    {
     "data": {
      "image/png": "[encoded data removed]",
      "text/plain": [
       "<Figure size 720x216 with 1 Axes>"
      ]
     },
     "metadata": {
      "needs_background": "light"
     },
     "output_type": "display_data"
    }
   ],
   "source": [
    "first_look(df_calls)\n",
    "hist_maker(df_calls['duration'])"
   ]
  },
  {
   "cell_type": "markdown",
   "id": "19882fe8",
   "metadata": {},
   "source": [
    "**Интресное про звонки:**\n",
    "* Большенство звонков нулевые, возможно это не состоявшиеся\\не дозвонившиеся звонки\n",
    "* В среднем клинеты разговаривают чуть около 7 минут \n",
    "* Максимальный разговор 38 минут"
   ]
  },
  {
   "cell_type": "code",
   "execution_count": 10,
   "id": "dc334a96",
   "metadata": {},
   "outputs": [
    {
     "name": "stdout",
     "output_type": "stream",
     "text": [
      "-------- Первые 3 строки --------\n"
     ]
    },
    {
     "data": {
      "text/html": [
       "<div>\n",
       "<style scoped>\n",
       "    .dataframe tbody tr th:only-of-type {\n",
       "        vertical-align: middle;\n",
       "    }\n",
       "\n",
       "    .dataframe tbody tr th {\n",
       "        vertical-align: top;\n",
       "    }\n",
       "\n",
       "    .dataframe thead th {\n",
       "        text-align: right;\n",
       "    }\n",
       "</style>\n",
       "<table border=\"1\" class=\"dataframe\">\n",
       "  <thead>\n",
       "    <tr style=\"text-align: right;\">\n",
       "      <th></th>\n",
       "      <th>Unnamed: 0</th>\n",
       "      <th>id</th>\n",
       "      <th>mb_used</th>\n",
       "      <th>session_date</th>\n",
       "      <th>user_id</th>\n",
       "    </tr>\n",
       "  </thead>\n",
       "  <tbody>\n",
       "    <tr>\n",
       "      <th>0</th>\n",
       "      <td>0</td>\n",
       "      <td>1000_0</td>\n",
       "      <td>112.95</td>\n",
       "      <td>2018-11-25</td>\n",
       "      <td>1000</td>\n",
       "    </tr>\n",
       "    <tr>\n",
       "      <th>1</th>\n",
       "      <td>1</td>\n",
       "      <td>1000_1</td>\n",
       "      <td>1052.81</td>\n",
       "      <td>2018-09-07</td>\n",
       "      <td>1000</td>\n",
       "    </tr>\n",
       "    <tr>\n",
       "      <th>2</th>\n",
       "      <td>2</td>\n",
       "      <td>1000_2</td>\n",
       "      <td>1197.26</td>\n",
       "      <td>2018-06-25</td>\n",
       "      <td>1000</td>\n",
       "    </tr>\n",
       "  </tbody>\n",
       "</table>\n",
       "</div>"
      ],
      "text/plain": [
       "   Unnamed: 0      id  mb_used session_date  user_id\n",
       "0           0  1000_0   112.95   2018-11-25     1000\n",
       "1           1  1000_1  1052.81   2018-09-07     1000\n",
       "2           2  1000_2  1197.26   2018-06-25     1000"
      ]
     },
     "metadata": {},
     "output_type": "display_data"
    },
    {
     "name": "stdout",
     "output_type": "stream",
     "text": [
      "-------- Типы данных --------\n",
      "<class 'pandas.core.frame.DataFrame'>\n",
      "RangeIndex: 149396 entries, 0 to 149395\n",
      "Data columns (total 5 columns):\n",
      " #   Column        Non-Null Count   Dtype  \n",
      "---  ------        --------------   -----  \n",
      " 0   Unnamed: 0    149396 non-null  int64  \n",
      " 1   id            149396 non-null  object \n",
      " 2   mb_used       149396 non-null  float64\n",
      " 3   session_date  149396 non-null  object \n",
      " 4   user_id       149396 non-null  int64  \n",
      "dtypes: float64(1), int64(2), object(2)\n",
      "memory usage: 5.7+ MB\n",
      "-------- Пропуски --------\n",
      "Пропусков нет\n",
      "-------- Явные дубликаты --------\n",
      "Дубликатов нет\n",
      "count    149396.000000\n",
      "mean        370.192426\n",
      "std         278.300951\n",
      "min           0.000000\n",
      "25%         138.187500\n",
      "50%         348.015000\n",
      "75%         559.552500\n",
      "max        1724.830000\n",
      "Name: mb_used, dtype: float64\n"
     ]
    },
    {
     "data": {
      "image/png": "[encoded data removed]",
      "text/plain": [
       "<Figure size 720x216 with 1 Axes>"
      ]
     },
     "metadata": {
      "needs_background": "light"
     },
     "output_type": "display_data"
    }
   ],
   "source": [
    "first_look(df_internet)\n",
    "hist_maker(df_internet['mb_used'])"
   ]
  },
  {
   "cell_type": "markdown",
   "id": "c7d114e6",
   "metadata": {},
   "source": [
    "**Интресное про интернет:**\n",
    "* Так же большое колличество нулевого трафика, будем считать это или сбоями или пользователие мессенджерами, которое не тарифицируется и обнуляется компанией\n",
    "* Среднее значение и 50% практически совпадает и находится в районе 350 мб за одну сессию\n",
    "* Форма распередления очень похоже на нормальное распределение"
   ]
  },
  {
   "cell_type": "code",
   "execution_count": 11,
   "id": "74f5b565",
   "metadata": {
    "scrolled": true
   },
   "outputs": [
    {
     "name": "stdout",
     "output_type": "stream",
     "text": [
      "-------- Первые 3 строки --------\n"
     ]
    },
    {
     "data": {
      "text/html": [
       "<div>\n",
       "<style scoped>\n",
       "    .dataframe tbody tr th:only-of-type {\n",
       "        vertical-align: middle;\n",
       "    }\n",
       "\n",
       "    .dataframe tbody tr th {\n",
       "        vertical-align: top;\n",
       "    }\n",
       "\n",
       "    .dataframe thead th {\n",
       "        text-align: right;\n",
       "    }\n",
       "</style>\n",
       "<table border=\"1\" class=\"dataframe\">\n",
       "  <thead>\n",
       "    <tr style=\"text-align: right;\">\n",
       "      <th></th>\n",
       "      <th>id</th>\n",
       "      <th>message_date</th>\n",
       "      <th>user_id</th>\n",
       "    </tr>\n",
       "  </thead>\n",
       "  <tbody>\n",
       "    <tr>\n",
       "      <th>0</th>\n",
       "      <td>1000_0</td>\n",
       "      <td>2018-06-27</td>\n",
       "      <td>1000</td>\n",
       "    </tr>\n",
       "    <tr>\n",
       "      <th>1</th>\n",
       "      <td>1000_1</td>\n",
       "      <td>2018-10-08</td>\n",
       "      <td>1000</td>\n",
       "    </tr>\n",
       "    <tr>\n",
       "      <th>2</th>\n",
       "      <td>1000_2</td>\n",
       "      <td>2018-08-04</td>\n",
       "      <td>1000</td>\n",
       "    </tr>\n",
       "  </tbody>\n",
       "</table>\n",
       "</div>"
      ],
      "text/plain": [
       "       id message_date  user_id\n",
       "0  1000_0   2018-06-27     1000\n",
       "1  1000_1   2018-10-08     1000\n",
       "2  1000_2   2018-08-04     1000"
      ]
     },
     "metadata": {},
     "output_type": "display_data"
    },
    {
     "name": "stdout",
     "output_type": "stream",
     "text": [
      "-------- Типы данных --------\n",
      "<class 'pandas.core.frame.DataFrame'>\n",
      "RangeIndex: 123036 entries, 0 to 123035\n",
      "Data columns (total 3 columns):\n",
      " #   Column        Non-Null Count   Dtype \n",
      "---  ------        --------------   ----- \n",
      " 0   id            123036 non-null  object\n",
      " 1   message_date  123036 non-null  object\n",
      " 2   user_id       123036 non-null  int64 \n",
      "dtypes: int64(1), object(2)\n",
      "memory usage: 2.8+ MB\n",
      "-------- Пропуски --------\n",
      "Пропусков нет\n",
      "-------- Явные дубликаты --------\n",
      "Дубликатов нет\n",
      "              id  user_id\n",
      "message_date             \n",
      "2018-01-02    10       10\n",
      "2018-01-03     4        4\n",
      "2018-01-04    10       10\n",
      "count    364.000000\n",
      "mean     338.010989\n",
      "std      207.856660\n",
      "min        4.000000\n",
      "25%      147.750000\n",
      "50%      335.000000\n",
      "75%      521.250000\n",
      "max      859.000000\n",
      "Name: id, dtype: float64\n"
     ]
    },
    {
     "data": {
      "image/png": "[encoded data removed]",
      "text/plain": [
       "<Figure size 720x216 with 1 Axes>"
      ]
     },
     "metadata": {
      "needs_background": "light"
     },
     "output_type": "display_data"
    }
   ],
   "source": [
    "first_look(df_messages)\n",
    "df_messages_group = df_messages.groupby('message_date').count()\n",
    "print(df_messages_group.head(3))\n",
    "hist_maker(df_messages_group['id'])"
   ]
  },
  {
   "cell_type": "markdown",
   "id": "7ca53bd6",
   "metadata": {},
   "source": [
    "**Интресное про сообщения:**\n",
    "* На гисторграмме видно, что явного пика с максимумом нет и у Клинетов разные стили использования сообщений\n",
    "* В среднем это 300 сообщений в день, но более 600 сообщений уже мало кто рассылает в день"
   ]
  },
  {
   "cell_type": "code",
   "execution_count": 12,
   "id": "57d97927",
   "metadata": {},
   "outputs": [
    {
     "name": "stdout",
     "output_type": "stream",
     "text": [
      "-------- Первые 3 строки --------\n"
     ]
    },
    {
     "data": {
      "text/html": [
       "<div>\n",
       "<style scoped>\n",
       "    .dataframe tbody tr th:only-of-type {\n",
       "        vertical-align: middle;\n",
       "    }\n",
       "\n",
       "    .dataframe tbody tr th {\n",
       "        vertical-align: top;\n",
       "    }\n",
       "\n",
       "    .dataframe thead th {\n",
       "        text-align: right;\n",
       "    }\n",
       "</style>\n",
       "<table border=\"1\" class=\"dataframe\">\n",
       "  <thead>\n",
       "    <tr style=\"text-align: right;\">\n",
       "      <th></th>\n",
       "      <th>messages_included</th>\n",
       "      <th>mb_per_month_included</th>\n",
       "      <th>minutes_included</th>\n",
       "      <th>rub_monthly_fee</th>\n",
       "      <th>rub_per_gb</th>\n",
       "      <th>rub_per_message</th>\n",
       "      <th>rub_per_minute</th>\n",
       "      <th>tariff_name</th>\n",
       "    </tr>\n",
       "  </thead>\n",
       "  <tbody>\n",
       "    <tr>\n",
       "      <th>0</th>\n",
       "      <td>50</td>\n",
       "      <td>15360</td>\n",
       "      <td>500</td>\n",
       "      <td>550</td>\n",
       "      <td>200</td>\n",
       "      <td>3</td>\n",
       "      <td>3</td>\n",
       "      <td>smart</td>\n",
       "    </tr>\n",
       "    <tr>\n",
       "      <th>1</th>\n",
       "      <td>1000</td>\n",
       "      <td>30720</td>\n",
       "      <td>3000</td>\n",
       "      <td>1950</td>\n",
       "      <td>150</td>\n",
       "      <td>1</td>\n",
       "      <td>1</td>\n",
       "      <td>ultra</td>\n",
       "    </tr>\n",
       "  </tbody>\n",
       "</table>\n",
       "</div>"
      ],
      "text/plain": [
       "   messages_included  mb_per_month_included  minutes_included  \\\n",
       "0                 50                  15360               500   \n",
       "1               1000                  30720              3000   \n",
       "\n",
       "   rub_monthly_fee  rub_per_gb  rub_per_message  rub_per_minute tariff_name  \n",
       "0              550         200                3               3       smart  \n",
       "1             1950         150                1               1       ultra  "
      ]
     },
     "metadata": {},
     "output_type": "display_data"
    },
    {
     "name": "stdout",
     "output_type": "stream",
     "text": [
      "-------- Типы данных --------\n",
      "<class 'pandas.core.frame.DataFrame'>\n",
      "RangeIndex: 2 entries, 0 to 1\n",
      "Data columns (total 8 columns):\n",
      " #   Column                 Non-Null Count  Dtype \n",
      "---  ------                 --------------  ----- \n",
      " 0   messages_included      2 non-null      int64 \n",
      " 1   mb_per_month_included  2 non-null      int64 \n",
      " 2   minutes_included       2 non-null      int64 \n",
      " 3   rub_monthly_fee        2 non-null      int64 \n",
      " 4   rub_per_gb             2 non-null      int64 \n",
      " 5   rub_per_message        2 non-null      int64 \n",
      " 6   rub_per_minute         2 non-null      int64 \n",
      " 7   tariff_name            2 non-null      object\n",
      "dtypes: int64(7), object(1)\n",
      "memory usage: 256.0+ bytes\n",
      "-------- Пропуски --------\n",
      "Пропусков нет\n",
      "-------- Явные дубликаты --------\n",
      "Дубликатов нет\n"
     ]
    }
   ],
   "source": [
    "first_look(df_tariffs)"
   ]
  },
  {
   "cell_type": "code",
   "execution_count": 13,
   "id": "295f3241",
   "metadata": {},
   "outputs": [],
   "source": [
    "# Переименуем колонку tariff_name на tariff, чтобы потом можно было соединять таблицы\n",
    "df_tariffs = df_tariffs.rename(columns={'tariff_name': 'tariff'})"
   ]
  },
  {
   "cell_type": "code",
   "execution_count": 14,
   "id": "08906a2f",
   "metadata": {
    "scrolled": true
   },
   "outputs": [
    {
     "name": "stdout",
     "output_type": "stream",
     "text": [
      "-------- Первые 3 строки --------\n"
     ]
    },
    {
     "data": {
      "text/html": [
       "<div>\n",
       "<style scoped>\n",
       "    .dataframe tbody tr th:only-of-type {\n",
       "        vertical-align: middle;\n",
       "    }\n",
       "\n",
       "    .dataframe tbody tr th {\n",
       "        vertical-align: top;\n",
       "    }\n",
       "\n",
       "    .dataframe thead th {\n",
       "        text-align: right;\n",
       "    }\n",
       "</style>\n",
       "<table border=\"1\" class=\"dataframe\">\n",
       "  <thead>\n",
       "    <tr style=\"text-align: right;\">\n",
       "      <th></th>\n",
       "      <th>user_id</th>\n",
       "      <th>age</th>\n",
       "      <th>churn_date</th>\n",
       "      <th>city</th>\n",
       "      <th>first_name</th>\n",
       "      <th>last_name</th>\n",
       "      <th>reg_date</th>\n",
       "      <th>tariff</th>\n",
       "    </tr>\n",
       "  </thead>\n",
       "  <tbody>\n",
       "    <tr>\n",
       "      <th>0</th>\n",
       "      <td>1000</td>\n",
       "      <td>52</td>\n",
       "      <td>NaN</td>\n",
       "      <td>Краснодар</td>\n",
       "      <td>Рафаил</td>\n",
       "      <td>Верещагин</td>\n",
       "      <td>2018-05-25</td>\n",
       "      <td>ultra</td>\n",
       "    </tr>\n",
       "    <tr>\n",
       "      <th>1</th>\n",
       "      <td>1001</td>\n",
       "      <td>41</td>\n",
       "      <td>NaN</td>\n",
       "      <td>Москва</td>\n",
       "      <td>Иван</td>\n",
       "      <td>Ежов</td>\n",
       "      <td>2018-11-01</td>\n",
       "      <td>smart</td>\n",
       "    </tr>\n",
       "    <tr>\n",
       "      <th>2</th>\n",
       "      <td>1002</td>\n",
       "      <td>59</td>\n",
       "      <td>NaN</td>\n",
       "      <td>Стерлитамак</td>\n",
       "      <td>Евгений</td>\n",
       "      <td>Абрамович</td>\n",
       "      <td>2018-06-17</td>\n",
       "      <td>smart</td>\n",
       "    </tr>\n",
       "  </tbody>\n",
       "</table>\n",
       "</div>"
      ],
      "text/plain": [
       "   user_id  age churn_date         city first_name  last_name    reg_date  \\\n",
       "0     1000   52        NaN    Краснодар     Рафаил  Верещагин  2018-05-25   \n",
       "1     1001   41        NaN       Москва       Иван       Ежов  2018-11-01   \n",
       "2     1002   59        NaN  Стерлитамак    Евгений  Абрамович  2018-06-17   \n",
       "\n",
       "  tariff  \n",
       "0  ultra  \n",
       "1  smart  \n",
       "2  smart  "
      ]
     },
     "metadata": {},
     "output_type": "display_data"
    },
    {
     "name": "stdout",
     "output_type": "stream",
     "text": [
      "-------- Типы данных --------\n",
      "<class 'pandas.core.frame.DataFrame'>\n",
      "RangeIndex: 500 entries, 0 to 499\n",
      "Data columns (total 8 columns):\n",
      " #   Column      Non-Null Count  Dtype \n",
      "---  ------      --------------  ----- \n",
      " 0   user_id     500 non-null    int64 \n",
      " 1   age         500 non-null    int64 \n",
      " 2   churn_date  38 non-null     object\n",
      " 3   city        500 non-null    object\n",
      " 4   first_name  500 non-null    object\n",
      " 5   last_name   500 non-null    object\n",
      " 6   reg_date    500 non-null    object\n",
      " 7   tariff      500 non-null    object\n",
      "dtypes: int64(2), object(6)\n",
      "memory usage: 31.4+ KB\n",
      "-------- Пропуски --------\n",
      "Пропуски есть\n",
      "user_id         0\n",
      "age             0\n",
      "churn_date    462\n",
      "city            0\n",
      "first_name      0\n",
      "last_name       0\n",
      "reg_date        0\n",
      "tariff          0\n",
      "dtype: int64\n",
      "-------- Явные дубликаты --------\n",
      "Дубликатов нет\n"
     ]
    }
   ],
   "source": [
    "first_look(df_users)"
   ]
  },
  {
   "cell_type": "markdown",
   "id": "5e1c6166",
   "metadata": {},
   "source": [
    "**Какие можно сделать выводы**\n",
    "* Необходимо для дат изменить тип данных на date: call_date, message_date, reg_date, session_date \n",
    "* Необходимо произветси округления длительность звонка до целого числа минут в большую сторону, а так же для интернета, но по месяцам\n",
    "* Обнаружилось, что есть пустые значения в поле дата оттока (churn_date) - это значит, что клиент является клиентом «Мегалайн» на текущий момент\n",
    "* по условию задачи - нулями обозначены пропущенные звонки, поэтому их не нужно удалять, а посчитем как не отвеченные зконки"
   ]
  },
  {
   "cell_type": "markdown",
   "id": "10ea8551",
   "metadata": {},
   "source": [
    "### Проведем предобработку  и  агрегацию данных\n",
    "\n",
    "Агрегация из задания: \n",
    "* количество сделанных звонков и израсходованных минут разговора по месяцам;\n",
    "* количество отправленных сообщений по месяцам;\n",
    "* объем израсходованного интернет-трафика по месяцам;"
   ]
  },
  {
   "cell_type": "code",
   "execution_count": 15,
   "id": "26ee02b1",
   "metadata": {},
   "outputs": [],
   "source": [
    "# Перевод дат из объектного типа в тип datetime64\n",
    "df_calls['call_date'] = pd.to_datetime(df_calls['call_date'], format='%Y-%m-%d')\n",
    "df_internet['session_date'] = pd.to_datetime(df_internet['session_date'], format='%Y-%m-%d')\n",
    "df_messages['message_date'] = pd.to_datetime(df_messages['message_date'], format='%Y-%m-%d')\n",
    "df_users['reg_date'] = pd.to_datetime(df_users['reg_date'], format='%Y-%m-%d')"
   ]
  },
  {
   "cell_type": "code",
   "execution_count": 16,
   "id": "aebc97a4",
   "metadata": {
    "scrolled": true
   },
   "outputs": [
    {
     "data": {
      "text/html": [
       "<div>\n",
       "<style scoped>\n",
       "    .dataframe tbody tr th:only-of-type {\n",
       "        vertical-align: middle;\n",
       "    }\n",
       "\n",
       "    .dataframe tbody tr th {\n",
       "        vertical-align: top;\n",
       "    }\n",
       "\n",
       "    .dataframe thead th {\n",
       "        text-align: right;\n",
       "    }\n",
       "</style>\n",
       "<table border=\"1\" class=\"dataframe\">\n",
       "  <thead>\n",
       "    <tr style=\"text-align: right;\">\n",
       "      <th></th>\n",
       "      <th>id</th>\n",
       "      <th>call_date</th>\n",
       "      <th>duration</th>\n",
       "      <th>user_id</th>\n",
       "    </tr>\n",
       "  </thead>\n",
       "  <tbody>\n",
       "    <tr>\n",
       "      <th>0</th>\n",
       "      <td>1000_0</td>\n",
       "      <td>2018-07-25</td>\n",
       "      <td>0</td>\n",
       "      <td>1000</td>\n",
       "    </tr>\n",
       "    <tr>\n",
       "      <th>1</th>\n",
       "      <td>1000_1</td>\n",
       "      <td>2018-08-17</td>\n",
       "      <td>0</td>\n",
       "      <td>1000</td>\n",
       "    </tr>\n",
       "    <tr>\n",
       "      <th>2</th>\n",
       "      <td>1000_2</td>\n",
       "      <td>2018-06-11</td>\n",
       "      <td>3</td>\n",
       "      <td>1000</td>\n",
       "    </tr>\n",
       "  </tbody>\n",
       "</table>\n",
       "</div>"
      ],
      "text/plain": [
       "       id  call_date  duration  user_id\n",
       "0  1000_0 2018-07-25         0     1000\n",
       "1  1000_1 2018-08-17         0     1000\n",
       "2  1000_2 2018-06-11         3     1000"
      ]
     },
     "execution_count": 16,
     "metadata": {},
     "output_type": "execute_result"
    }
   ],
   "source": [
    "# Округляем длительность звонков и меняем тип данных на целочисленный\n",
    "df_calls['duration'] = np.ceil(df_calls['duration']).astype('int')\n",
    "df_calls.head(3)"
   ]
  },
  {
   "cell_type": "code",
   "execution_count": 17,
   "id": "5a9a3a7b",
   "metadata": {},
   "outputs": [],
   "source": [
    "# Добавляем столбец с началом календарного месяца, чтобы потом можно было по этому полю сгруппироваться\n",
    "df_calls['month'] = df_calls['call_date'].astype('datetime64[M]') \n",
    "df_internet['month'] = df_internet['session_date'].astype('datetime64[M]')\n",
    "df_messages['month'] = df_messages['message_date'].astype('datetime64[M]')"
   ]
  },
  {
   "cell_type": "code",
   "execution_count": 18,
   "id": "fefa043d",
   "metadata": {
    "scrolled": true
   },
   "outputs": [
    {
     "data": {
      "text/html": [
       "<div>\n",
       "<style scoped>\n",
       "    .dataframe tbody tr th:only-of-type {\n",
       "        vertical-align: middle;\n",
       "    }\n",
       "\n",
       "    .dataframe tbody tr th {\n",
       "        vertical-align: top;\n",
       "    }\n",
       "\n",
       "    .dataframe thead th {\n",
       "        text-align: right;\n",
       "    }\n",
       "</style>\n",
       "<table border=\"1\" class=\"dataframe\">\n",
       "  <thead>\n",
       "    <tr style=\"text-align: right;\">\n",
       "      <th></th>\n",
       "      <th>user_id</th>\n",
       "      <th>month</th>\n",
       "      <th>calls_count</th>\n",
       "      <th>calls_duration</th>\n",
       "    </tr>\n",
       "  </thead>\n",
       "  <tbody>\n",
       "    <tr>\n",
       "      <th>0</th>\n",
       "      <td>1000</td>\n",
       "      <td>2018-05-01</td>\n",
       "      <td>22</td>\n",
       "      <td>159</td>\n",
       "    </tr>\n",
       "    <tr>\n",
       "      <th>1</th>\n",
       "      <td>1000</td>\n",
       "      <td>2018-06-01</td>\n",
       "      <td>43</td>\n",
       "      <td>172</td>\n",
       "    </tr>\n",
       "    <tr>\n",
       "      <th>2</th>\n",
       "      <td>1000</td>\n",
       "      <td>2018-07-01</td>\n",
       "      <td>47</td>\n",
       "      <td>340</td>\n",
       "    </tr>\n",
       "    <tr>\n",
       "      <th>3</th>\n",
       "      <td>1000</td>\n",
       "      <td>2018-08-01</td>\n",
       "      <td>52</td>\n",
       "      <td>408</td>\n",
       "    </tr>\n",
       "    <tr>\n",
       "      <th>4</th>\n",
       "      <td>1000</td>\n",
       "      <td>2018-09-01</td>\n",
       "      <td>58</td>\n",
       "      <td>466</td>\n",
       "    </tr>\n",
       "    <tr>\n",
       "      <th>5</th>\n",
       "      <td>1000</td>\n",
       "      <td>2018-10-01</td>\n",
       "      <td>57</td>\n",
       "      <td>350</td>\n",
       "    </tr>\n",
       "    <tr>\n",
       "      <th>6</th>\n",
       "      <td>1000</td>\n",
       "      <td>2018-11-01</td>\n",
       "      <td>43</td>\n",
       "      <td>338</td>\n",
       "    </tr>\n",
       "    <tr>\n",
       "      <th>7</th>\n",
       "      <td>1000</td>\n",
       "      <td>2018-12-01</td>\n",
       "      <td>46</td>\n",
       "      <td>333</td>\n",
       "    </tr>\n",
       "    <tr>\n",
       "      <th>8</th>\n",
       "      <td>1001</td>\n",
       "      <td>2018-11-01</td>\n",
       "      <td>59</td>\n",
       "      <td>430</td>\n",
       "    </tr>\n",
       "    <tr>\n",
       "      <th>9</th>\n",
       "      <td>1001</td>\n",
       "      <td>2018-12-01</td>\n",
       "      <td>63</td>\n",
       "      <td>414</td>\n",
       "    </tr>\n",
       "  </tbody>\n",
       "</table>\n",
       "</div>"
      ],
      "text/plain": [
       "   user_id      month  calls_count  calls_duration\n",
       "0     1000 2018-05-01           22             159\n",
       "1     1000 2018-06-01           43             172\n",
       "2     1000 2018-07-01           47             340\n",
       "3     1000 2018-08-01           52             408\n",
       "4     1000 2018-09-01           58             466\n",
       "5     1000 2018-10-01           57             350\n",
       "6     1000 2018-11-01           43             338\n",
       "7     1000 2018-12-01           46             333\n",
       "8     1001 2018-11-01           59             430\n",
       "9     1001 2018-12-01           63             414"
      ]
     },
     "execution_count": 18,
     "metadata": {},
     "output_type": "execute_result"
    }
   ],
   "source": [
    "# Рассчитаем количество сделанных звонков и израсходованные минуты по месяцам\n",
    "group_call = df_calls.groupby(['user_id','month']).agg({'id':'count', 'duration':'sum'}).reset_index()\n",
    "group_call = group_call.rename(columns={'id': 'calls_count', 'duration': 'calls_duration'})\n",
    "group_call.head(10)\n",
    "\n",
    "#calls = df_calls.groupby(['user_id','month']).agg(\n",
    " #       calls_duration = pd.NamedAgg(column = 'duration', aggfunc = 'sum'),\n",
    "  #      calls_number = ( 'id', 'count'),\n",
    "   # ).reset_index()"
   ]
  },
  {
   "cell_type": "code",
   "execution_count": 19,
   "id": "f35af161",
   "metadata": {},
   "outputs": [
    {
     "name": "stdout",
     "output_type": "stream",
     "text": [
      "<class 'pandas.core.frame.DataFrame'>\n",
      "RangeIndex: 3174 entries, 0 to 3173\n",
      "Data columns (total 4 columns):\n",
      " #   Column          Non-Null Count  Dtype         \n",
      "---  ------          --------------  -----         \n",
      " 0   user_id         3174 non-null   int64         \n",
      " 1   month           3174 non-null   datetime64[ns]\n",
      " 2   calls_count     3174 non-null   int64         \n",
      " 3   calls_duration  3174 non-null   int64         \n",
      "dtypes: datetime64[ns](1), int64(3)\n",
      "memory usage: 99.3 KB\n"
     ]
    }
   ],
   "source": [
    "group_call.info()"
   ]
  },
  {
   "cell_type": "code",
   "execution_count": 20,
   "id": "f095b519",
   "metadata": {
    "scrolled": true
   },
   "outputs": [
    {
     "data": {
      "text/html": [
       "<div>\n",
       "<style scoped>\n",
       "    .dataframe tbody tr th:only-of-type {\n",
       "        vertical-align: middle;\n",
       "    }\n",
       "\n",
       "    .dataframe tbody tr th {\n",
       "        vertical-align: top;\n",
       "    }\n",
       "\n",
       "    .dataframe thead th {\n",
       "        text-align: right;\n",
       "    }\n",
       "</style>\n",
       "<table border=\"1\" class=\"dataframe\">\n",
       "  <thead>\n",
       "    <tr style=\"text-align: right;\">\n",
       "      <th></th>\n",
       "      <th>user_id</th>\n",
       "      <th>month</th>\n",
       "      <th>messages_count</th>\n",
       "    </tr>\n",
       "  </thead>\n",
       "  <tbody>\n",
       "    <tr>\n",
       "      <th>0</th>\n",
       "      <td>1000</td>\n",
       "      <td>2018-05-01</td>\n",
       "      <td>22</td>\n",
       "    </tr>\n",
       "    <tr>\n",
       "      <th>1</th>\n",
       "      <td>1000</td>\n",
       "      <td>2018-06-01</td>\n",
       "      <td>60</td>\n",
       "    </tr>\n",
       "    <tr>\n",
       "      <th>2</th>\n",
       "      <td>1000</td>\n",
       "      <td>2018-07-01</td>\n",
       "      <td>75</td>\n",
       "    </tr>\n",
       "    <tr>\n",
       "      <th>3</th>\n",
       "      <td>1000</td>\n",
       "      <td>2018-08-01</td>\n",
       "      <td>81</td>\n",
       "    </tr>\n",
       "    <tr>\n",
       "      <th>4</th>\n",
       "      <td>1000</td>\n",
       "      <td>2018-09-01</td>\n",
       "      <td>57</td>\n",
       "    </tr>\n",
       "    <tr>\n",
       "      <th>5</th>\n",
       "      <td>1000</td>\n",
       "      <td>2018-10-01</td>\n",
       "      <td>73</td>\n",
       "    </tr>\n",
       "    <tr>\n",
       "      <th>6</th>\n",
       "      <td>1000</td>\n",
       "      <td>2018-11-01</td>\n",
       "      <td>58</td>\n",
       "    </tr>\n",
       "    <tr>\n",
       "      <th>7</th>\n",
       "      <td>1000</td>\n",
       "      <td>2018-12-01</td>\n",
       "      <td>70</td>\n",
       "    </tr>\n",
       "  </tbody>\n",
       "</table>\n",
       "</div>"
      ],
      "text/plain": [
       "   user_id      month  messages_count\n",
       "0     1000 2018-05-01              22\n",
       "1     1000 2018-06-01              60\n",
       "2     1000 2018-07-01              75\n",
       "3     1000 2018-08-01              81\n",
       "4     1000 2018-09-01              57\n",
       "5     1000 2018-10-01              73\n",
       "6     1000 2018-11-01              58\n",
       "7     1000 2018-12-01              70"
      ]
     },
     "execution_count": 20,
     "metadata": {},
     "output_type": "execute_result"
    }
   ],
   "source": [
    "# Рассчитаем количество отправленных сообщений по месяцам\n",
    "group_messages = df_messages.groupby(['user_id','month']).agg('id').count().reset_index()\n",
    "group_messages = group_messages.rename(columns={'id': 'messages_count'})\n",
    "\n",
    "group_messages.head(8)"
   ]
  },
  {
   "cell_type": "code",
   "execution_count": 21,
   "id": "c9dfc943",
   "metadata": {},
   "outputs": [
    {
     "name": "stdout",
     "output_type": "stream",
     "text": [
      "<class 'pandas.core.frame.DataFrame'>\n",
      "RangeIndex: 2717 entries, 0 to 2716\n",
      "Data columns (total 3 columns):\n",
      " #   Column          Non-Null Count  Dtype         \n",
      "---  ------          --------------  -----         \n",
      " 0   user_id         2717 non-null   int64         \n",
      " 1   month           2717 non-null   datetime64[ns]\n",
      " 2   messages_count  2717 non-null   int64         \n",
      "dtypes: datetime64[ns](1), int64(2)\n",
      "memory usage: 63.8 KB\n"
     ]
    }
   ],
   "source": [
    "group_messages.info()"
   ]
  },
  {
   "cell_type": "code",
   "execution_count": 22,
   "id": "e7dc7ae7",
   "metadata": {},
   "outputs": [
    {
     "data": {
      "text/html": [
       "<div>\n",
       "<style scoped>\n",
       "    .dataframe tbody tr th:only-of-type {\n",
       "        vertical-align: middle;\n",
       "    }\n",
       "\n",
       "    .dataframe tbody tr th {\n",
       "        vertical-align: top;\n",
       "    }\n",
       "\n",
       "    .dataframe thead th {\n",
       "        text-align: right;\n",
       "    }\n",
       "</style>\n",
       "<table border=\"1\" class=\"dataframe\">\n",
       "  <thead>\n",
       "    <tr style=\"text-align: right;\">\n",
       "      <th></th>\n",
       "      <th>user_id</th>\n",
       "      <th>month</th>\n",
       "      <th>mb_used</th>\n",
       "    </tr>\n",
       "  </thead>\n",
       "  <tbody>\n",
       "    <tr>\n",
       "      <th>0</th>\n",
       "      <td>1000</td>\n",
       "      <td>2018-05-01</td>\n",
       "      <td>2253.49</td>\n",
       "    </tr>\n",
       "    <tr>\n",
       "      <th>1</th>\n",
       "      <td>1000</td>\n",
       "      <td>2018-06-01</td>\n",
       "      <td>23233.77</td>\n",
       "    </tr>\n",
       "    <tr>\n",
       "      <th>2</th>\n",
       "      <td>1000</td>\n",
       "      <td>2018-07-01</td>\n",
       "      <td>14003.64</td>\n",
       "    </tr>\n",
       "    <tr>\n",
       "      <th>3</th>\n",
       "      <td>1000</td>\n",
       "      <td>2018-08-01</td>\n",
       "      <td>14055.93</td>\n",
       "    </tr>\n",
       "    <tr>\n",
       "      <th>4</th>\n",
       "      <td>1000</td>\n",
       "      <td>2018-09-01</td>\n",
       "      <td>14568.91</td>\n",
       "    </tr>\n",
       "    <tr>\n",
       "      <th>5</th>\n",
       "      <td>1000</td>\n",
       "      <td>2018-10-01</td>\n",
       "      <td>14702.49</td>\n",
       "    </tr>\n",
       "    <tr>\n",
       "      <th>6</th>\n",
       "      <td>1000</td>\n",
       "      <td>2018-11-01</td>\n",
       "      <td>14756.47</td>\n",
       "    </tr>\n",
       "    <tr>\n",
       "      <th>7</th>\n",
       "      <td>1000</td>\n",
       "      <td>2018-12-01</td>\n",
       "      <td>9817.61</td>\n",
       "    </tr>\n",
       "    <tr>\n",
       "      <th>8</th>\n",
       "      <td>1001</td>\n",
       "      <td>2018-11-01</td>\n",
       "      <td>18429.34</td>\n",
       "    </tr>\n",
       "    <tr>\n",
       "      <th>9</th>\n",
       "      <td>1001</td>\n",
       "      <td>2018-12-01</td>\n",
       "      <td>14036.66</td>\n",
       "    </tr>\n",
       "  </tbody>\n",
       "</table>\n",
       "</div>"
      ],
      "text/plain": [
       "   user_id      month   mb_used\n",
       "0     1000 2018-05-01   2253.49\n",
       "1     1000 2018-06-01  23233.77\n",
       "2     1000 2018-07-01  14003.64\n",
       "3     1000 2018-08-01  14055.93\n",
       "4     1000 2018-09-01  14568.91\n",
       "5     1000 2018-10-01  14702.49\n",
       "6     1000 2018-11-01  14756.47\n",
       "7     1000 2018-12-01   9817.61\n",
       "8     1001 2018-11-01  18429.34\n",
       "9     1001 2018-12-01  14036.66"
      ]
     },
     "execution_count": 22,
     "metadata": {},
     "output_type": "execute_result"
    }
   ],
   "source": [
    "# Рассчитаем месячный трафик каждого пользователя\n",
    "group_internet = df_internet.groupby(['user_id', 'month']).agg('mb_used').sum().reset_index()\n",
    "group_internet.head(10)"
   ]
  },
  {
   "cell_type": "code",
   "execution_count": 23,
   "id": "b9d4ef82",
   "metadata": {},
   "outputs": [
    {
     "data": {
      "text/html": [
       "<div>\n",
       "<style scoped>\n",
       "    .dataframe tbody tr th:only-of-type {\n",
       "        vertical-align: middle;\n",
       "    }\n",
       "\n",
       "    .dataframe tbody tr th {\n",
       "        vertical-align: top;\n",
       "    }\n",
       "\n",
       "    .dataframe thead th {\n",
       "        text-align: right;\n",
       "    }\n",
       "</style>\n",
       "<table border=\"1\" class=\"dataframe\">\n",
       "  <thead>\n",
       "    <tr style=\"text-align: right;\">\n",
       "      <th></th>\n",
       "      <th>user_id</th>\n",
       "      <th>month</th>\n",
       "      <th>mb_used</th>\n",
       "      <th>gb_used</th>\n",
       "    </tr>\n",
       "  </thead>\n",
       "  <tbody>\n",
       "    <tr>\n",
       "      <th>0</th>\n",
       "      <td>1000</td>\n",
       "      <td>2018-05-01</td>\n",
       "      <td>2253.49</td>\n",
       "      <td>3</td>\n",
       "    </tr>\n",
       "    <tr>\n",
       "      <th>1</th>\n",
       "      <td>1000</td>\n",
       "      <td>2018-06-01</td>\n",
       "      <td>23233.77</td>\n",
       "      <td>23</td>\n",
       "    </tr>\n",
       "    <tr>\n",
       "      <th>2</th>\n",
       "      <td>1000</td>\n",
       "      <td>2018-07-01</td>\n",
       "      <td>14003.64</td>\n",
       "      <td>14</td>\n",
       "    </tr>\n",
       "    <tr>\n",
       "      <th>3</th>\n",
       "      <td>1000</td>\n",
       "      <td>2018-08-01</td>\n",
       "      <td>14055.93</td>\n",
       "      <td>14</td>\n",
       "    </tr>\n",
       "    <tr>\n",
       "      <th>4</th>\n",
       "      <td>1000</td>\n",
       "      <td>2018-09-01</td>\n",
       "      <td>14568.91</td>\n",
       "      <td>15</td>\n",
       "    </tr>\n",
       "    <tr>\n",
       "      <th>5</th>\n",
       "      <td>1000</td>\n",
       "      <td>2018-10-01</td>\n",
       "      <td>14702.49</td>\n",
       "      <td>15</td>\n",
       "    </tr>\n",
       "    <tr>\n",
       "      <th>6</th>\n",
       "      <td>1000</td>\n",
       "      <td>2018-11-01</td>\n",
       "      <td>14756.47</td>\n",
       "      <td>15</td>\n",
       "    </tr>\n",
       "    <tr>\n",
       "      <th>7</th>\n",
       "      <td>1000</td>\n",
       "      <td>2018-12-01</td>\n",
       "      <td>9817.61</td>\n",
       "      <td>10</td>\n",
       "    </tr>\n",
       "  </tbody>\n",
       "</table>\n",
       "</div>"
      ],
      "text/plain": [
       "   user_id      month   mb_used  gb_used\n",
       "0     1000 2018-05-01   2253.49        3\n",
       "1     1000 2018-06-01  23233.77       23\n",
       "2     1000 2018-07-01  14003.64       14\n",
       "3     1000 2018-08-01  14055.93       14\n",
       "4     1000 2018-09-01  14568.91       15\n",
       "5     1000 2018-10-01  14702.49       15\n",
       "6     1000 2018-11-01  14756.47       15\n",
       "7     1000 2018-12-01   9817.61       10"
      ]
     },
     "execution_count": 23,
     "metadata": {},
     "output_type": "execute_result"
    }
   ],
   "source": [
    "# Округлим месячный трафик каждого пользователя до ближайшего гБ\n",
    "group_internet['gb_used'] = group_internet['mb_used']/1024\n",
    "group_internet['gb_used'] = np.ceil(group_internet['gb_used']).astype('int')\n",
    "group_internet.head(8)"
   ]
  },
  {
   "cell_type": "code",
   "execution_count": 24,
   "id": "971952d2",
   "metadata": {},
   "outputs": [
    {
     "data": {
      "text/html": [
       "<div>\n",
       "<style scoped>\n",
       "    .dataframe tbody tr th:only-of-type {\n",
       "        vertical-align: middle;\n",
       "    }\n",
       "\n",
       "    .dataframe tbody tr th {\n",
       "        vertical-align: top;\n",
       "    }\n",
       "\n",
       "    .dataframe thead th {\n",
       "        text-align: right;\n",
       "    }\n",
       "</style>\n",
       "<table border=\"1\" class=\"dataframe\">\n",
       "  <thead>\n",
       "    <tr style=\"text-align: right;\">\n",
       "      <th></th>\n",
       "      <th>user_id</th>\n",
       "      <th>month</th>\n",
       "      <th>messages_count</th>\n",
       "      <th>mb_used</th>\n",
       "      <th>gb_used</th>\n",
       "    </tr>\n",
       "  </thead>\n",
       "  <tbody>\n",
       "    <tr>\n",
       "      <th>0</th>\n",
       "      <td>1000</td>\n",
       "      <td>2018-05-01</td>\n",
       "      <td>22.0</td>\n",
       "      <td>2253.49</td>\n",
       "      <td>3.0</td>\n",
       "    </tr>\n",
       "    <tr>\n",
       "      <th>1</th>\n",
       "      <td>1000</td>\n",
       "      <td>2018-06-01</td>\n",
       "      <td>60.0</td>\n",
       "      <td>23233.77</td>\n",
       "      <td>23.0</td>\n",
       "    </tr>\n",
       "    <tr>\n",
       "      <th>2</th>\n",
       "      <td>1000</td>\n",
       "      <td>2018-07-01</td>\n",
       "      <td>75.0</td>\n",
       "      <td>14003.64</td>\n",
       "      <td>14.0</td>\n",
       "    </tr>\n",
       "    <tr>\n",
       "      <th>3</th>\n",
       "      <td>1000</td>\n",
       "      <td>2018-08-01</td>\n",
       "      <td>81.0</td>\n",
       "      <td>14055.93</td>\n",
       "      <td>14.0</td>\n",
       "    </tr>\n",
       "    <tr>\n",
       "      <th>4</th>\n",
       "      <td>1000</td>\n",
       "      <td>2018-09-01</td>\n",
       "      <td>57.0</td>\n",
       "      <td>14568.91</td>\n",
       "      <td>15.0</td>\n",
       "    </tr>\n",
       "  </tbody>\n",
       "</table>\n",
       "</div>"
      ],
      "text/plain": [
       "   user_id      month  messages_count   mb_used  gb_used\n",
       "0     1000 2018-05-01            22.0   2253.49      3.0\n",
       "1     1000 2018-06-01            60.0  23233.77     23.0\n",
       "2     1000 2018-07-01            75.0  14003.64     14.0\n",
       "3     1000 2018-08-01            81.0  14055.93     14.0\n",
       "4     1000 2018-09-01            57.0  14568.91     15.0"
      ]
     },
     "metadata": {},
     "output_type": "display_data"
    },
    {
     "name": "stdout",
     "output_type": "stream",
     "text": [
      "<class 'pandas.core.frame.DataFrame'>\n",
      "Int64Index: 3214 entries, 0 to 3213\n",
      "Data columns (total 5 columns):\n",
      " #   Column          Non-Null Count  Dtype         \n",
      "---  ------          --------------  -----         \n",
      " 0   user_id         3214 non-null   int64         \n",
      " 1   month           3214 non-null   datetime64[ns]\n",
      " 2   messages_count  2717 non-null   float64       \n",
      " 3   mb_used         3203 non-null   float64       \n",
      " 4   gb_used         3203 non-null   float64       \n",
      "dtypes: datetime64[ns](1), float64(3), int64(1)\n",
      "memory usage: 150.7 KB\n"
     ]
    }
   ],
   "source": [
    "# Cоберем данные о смс и интренете в одну таблицу\n",
    "data = group_messages.merge(group_internet, on=['user_id', 'month'], how='outer')\n",
    "display(data.head(5))\n",
    "data.info()"
   ]
  },
  {
   "cell_type": "code",
   "execution_count": 25,
   "id": "62afde90",
   "metadata": {},
   "outputs": [
    {
     "name": "stdout",
     "output_type": "stream",
     "text": [
      "<class 'pandas.core.frame.DataFrame'>\n",
      "Int64Index: 3214 entries, 0 to 3213\n",
      "Data columns (total 5 columns):\n",
      " #   Column          Non-Null Count  Dtype         \n",
      "---  ------          --------------  -----         \n",
      " 0   user_id         3214 non-null   int64         \n",
      " 1   month           3214 non-null   datetime64[ns]\n",
      " 2   messages_count  3214 non-null   float64       \n",
      " 3   mb_used         3214 non-null   float64       \n",
      " 4   gb_used         3214 non-null   float64       \n",
      "dtypes: datetime64[ns](1), float64(3), int64(1)\n",
      "memory usage: 150.7 KB\n"
     ]
    }
   ],
   "source": [
    "# У Клинетов, которые использоваль только одной услугой, могут быть Nan. \n",
    "# Предлагаю для них заполнить пустые значение нулем\n",
    "data = data.fillna(0)\n",
    "data.info()"
   ]
  },
  {
   "cell_type": "code",
   "execution_count": 26,
   "id": "b94c38df",
   "metadata": {},
   "outputs": [
    {
     "data": {
      "text/html": [
       "<div>\n",
       "<style scoped>\n",
       "    .dataframe tbody tr th:only-of-type {\n",
       "        vertical-align: middle;\n",
       "    }\n",
       "\n",
       "    .dataframe tbody tr th {\n",
       "        vertical-align: top;\n",
       "    }\n",
       "\n",
       "    .dataframe thead th {\n",
       "        text-align: right;\n",
       "    }\n",
       "</style>\n",
       "<table border=\"1\" class=\"dataframe\">\n",
       "  <thead>\n",
       "    <tr style=\"text-align: right;\">\n",
       "      <th></th>\n",
       "      <th>user_id</th>\n",
       "      <th>month</th>\n",
       "      <th>messages_count</th>\n",
       "      <th>mb_used</th>\n",
       "      <th>gb_used</th>\n",
       "      <th>calls_count</th>\n",
       "      <th>calls_duration</th>\n",
       "    </tr>\n",
       "  </thead>\n",
       "  <tbody>\n",
       "    <tr>\n",
       "      <th>0</th>\n",
       "      <td>1000</td>\n",
       "      <td>2018-05-01</td>\n",
       "      <td>22.0</td>\n",
       "      <td>2253.49</td>\n",
       "      <td>3.0</td>\n",
       "      <td>22.0</td>\n",
       "      <td>159.0</td>\n",
       "    </tr>\n",
       "    <tr>\n",
       "      <th>1</th>\n",
       "      <td>1000</td>\n",
       "      <td>2018-06-01</td>\n",
       "      <td>60.0</td>\n",
       "      <td>23233.77</td>\n",
       "      <td>23.0</td>\n",
       "      <td>43.0</td>\n",
       "      <td>172.0</td>\n",
       "    </tr>\n",
       "    <tr>\n",
       "      <th>2</th>\n",
       "      <td>1000</td>\n",
       "      <td>2018-07-01</td>\n",
       "      <td>75.0</td>\n",
       "      <td>14003.64</td>\n",
       "      <td>14.0</td>\n",
       "      <td>47.0</td>\n",
       "      <td>340.0</td>\n",
       "    </tr>\n",
       "    <tr>\n",
       "      <th>3</th>\n",
       "      <td>1000</td>\n",
       "      <td>2018-08-01</td>\n",
       "      <td>81.0</td>\n",
       "      <td>14055.93</td>\n",
       "      <td>14.0</td>\n",
       "      <td>52.0</td>\n",
       "      <td>408.0</td>\n",
       "    </tr>\n",
       "    <tr>\n",
       "      <th>4</th>\n",
       "      <td>1000</td>\n",
       "      <td>2018-09-01</td>\n",
       "      <td>57.0</td>\n",
       "      <td>14568.91</td>\n",
       "      <td>15.0</td>\n",
       "      <td>58.0</td>\n",
       "      <td>466.0</td>\n",
       "    </tr>\n",
       "  </tbody>\n",
       "</table>\n",
       "</div>"
      ],
      "text/plain": [
       "   user_id      month  messages_count   mb_used  gb_used  calls_count  \\\n",
       "0     1000 2018-05-01            22.0   2253.49      3.0         22.0   \n",
       "1     1000 2018-06-01            60.0  23233.77     23.0         43.0   \n",
       "2     1000 2018-07-01            75.0  14003.64     14.0         47.0   \n",
       "3     1000 2018-08-01            81.0  14055.93     14.0         52.0   \n",
       "4     1000 2018-09-01            57.0  14568.91     15.0         58.0   \n",
       "\n",
       "   calls_duration  \n",
       "0           159.0  \n",
       "1           172.0  \n",
       "2           340.0  \n",
       "3           408.0  \n",
       "4           466.0  "
      ]
     },
     "metadata": {},
     "output_type": "display_data"
    },
    {
     "name": "stdout",
     "output_type": "stream",
     "text": [
      "<class 'pandas.core.frame.DataFrame'>\n",
      "Int64Index: 3214 entries, 0 to 3213\n",
      "Data columns (total 7 columns):\n",
      " #   Column          Non-Null Count  Dtype         \n",
      "---  ------          --------------  -----         \n",
      " 0   user_id         3214 non-null   int64         \n",
      " 1   month           3214 non-null   datetime64[ns]\n",
      " 2   messages_count  3214 non-null   float64       \n",
      " 3   mb_used         3214 non-null   float64       \n",
      " 4   gb_used         3214 non-null   float64       \n",
      " 5   calls_count     3214 non-null   float64       \n",
      " 6   calls_duration  3214 non-null   float64       \n",
      "dtypes: datetime64[ns](1), float64(5), int64(1)\n",
      "memory usage: 200.9 KB\n"
     ]
    }
   ],
   "source": [
    "# Добавим данные о звонках в одну таблицу и у клиентов не пользующихся звонками заполним пустые значения нулем\n",
    "data = data.merge(group_call, on=['user_id', 'month'], how='outer')\n",
    "data = data.fillna(0)\n",
    "display(data.head(5))\n",
    "data.info()"
   ]
  },
  {
   "cell_type": "code",
   "execution_count": 27,
   "id": "f27afec5",
   "metadata": {
    "scrolled": true
   },
   "outputs": [
    {
     "data": {
      "text/html": [
       "<div>\n",
       "<style scoped>\n",
       "    .dataframe tbody tr th:only-of-type {\n",
       "        vertical-align: middle;\n",
       "    }\n",
       "\n",
       "    .dataframe tbody tr th {\n",
       "        vertical-align: top;\n",
       "    }\n",
       "\n",
       "    .dataframe thead th {\n",
       "        text-align: right;\n",
       "    }\n",
       "</style>\n",
       "<table border=\"1\" class=\"dataframe\">\n",
       "  <thead>\n",
       "    <tr style=\"text-align: right;\">\n",
       "      <th></th>\n",
       "      <th>user_id</th>\n",
       "      <th>month</th>\n",
       "      <th>messages_count</th>\n",
       "      <th>mb_used</th>\n",
       "      <th>gb_used</th>\n",
       "      <th>calls_count</th>\n",
       "      <th>calls_duration</th>\n",
       "      <th>age</th>\n",
       "      <th>churn_date</th>\n",
       "      <th>city</th>\n",
       "      <th>first_name</th>\n",
       "      <th>last_name</th>\n",
       "      <th>reg_date</th>\n",
       "      <th>tariff</th>\n",
       "    </tr>\n",
       "  </thead>\n",
       "  <tbody>\n",
       "    <tr>\n",
       "      <th>0</th>\n",
       "      <td>1000</td>\n",
       "      <td>2018-05-01</td>\n",
       "      <td>22.0</td>\n",
       "      <td>2253.49</td>\n",
       "      <td>3.0</td>\n",
       "      <td>22.0</td>\n",
       "      <td>159.0</td>\n",
       "      <td>52</td>\n",
       "      <td>NaN</td>\n",
       "      <td>Краснодар</td>\n",
       "      <td>Рафаил</td>\n",
       "      <td>Верещагин</td>\n",
       "      <td>2018-05-25</td>\n",
       "      <td>ultra</td>\n",
       "    </tr>\n",
       "    <tr>\n",
       "      <th>1</th>\n",
       "      <td>1000</td>\n",
       "      <td>2018-06-01</td>\n",
       "      <td>60.0</td>\n",
       "      <td>23233.77</td>\n",
       "      <td>23.0</td>\n",
       "      <td>43.0</td>\n",
       "      <td>172.0</td>\n",
       "      <td>52</td>\n",
       "      <td>NaN</td>\n",
       "      <td>Краснодар</td>\n",
       "      <td>Рафаил</td>\n",
       "      <td>Верещагин</td>\n",
       "      <td>2018-05-25</td>\n",
       "      <td>ultra</td>\n",
       "    </tr>\n",
       "    <tr>\n",
       "      <th>2</th>\n",
       "      <td>1000</td>\n",
       "      <td>2018-07-01</td>\n",
       "      <td>75.0</td>\n",
       "      <td>14003.64</td>\n",
       "      <td>14.0</td>\n",
       "      <td>47.0</td>\n",
       "      <td>340.0</td>\n",
       "      <td>52</td>\n",
       "      <td>NaN</td>\n",
       "      <td>Краснодар</td>\n",
       "      <td>Рафаил</td>\n",
       "      <td>Верещагин</td>\n",
       "      <td>2018-05-25</td>\n",
       "      <td>ultra</td>\n",
       "    </tr>\n",
       "    <tr>\n",
       "      <th>3</th>\n",
       "      <td>1000</td>\n",
       "      <td>2018-08-01</td>\n",
       "      <td>81.0</td>\n",
       "      <td>14055.93</td>\n",
       "      <td>14.0</td>\n",
       "      <td>52.0</td>\n",
       "      <td>408.0</td>\n",
       "      <td>52</td>\n",
       "      <td>NaN</td>\n",
       "      <td>Краснодар</td>\n",
       "      <td>Рафаил</td>\n",
       "      <td>Верещагин</td>\n",
       "      <td>2018-05-25</td>\n",
       "      <td>ultra</td>\n",
       "    </tr>\n",
       "    <tr>\n",
       "      <th>4</th>\n",
       "      <td>1000</td>\n",
       "      <td>2018-09-01</td>\n",
       "      <td>57.0</td>\n",
       "      <td>14568.91</td>\n",
       "      <td>15.0</td>\n",
       "      <td>58.0</td>\n",
       "      <td>466.0</td>\n",
       "      <td>52</td>\n",
       "      <td>NaN</td>\n",
       "      <td>Краснодар</td>\n",
       "      <td>Рафаил</td>\n",
       "      <td>Верещагин</td>\n",
       "      <td>2018-05-25</td>\n",
       "      <td>ultra</td>\n",
       "    </tr>\n",
       "  </tbody>\n",
       "</table>\n",
       "</div>"
      ],
      "text/plain": [
       "   user_id      month  messages_count   mb_used  gb_used  calls_count  \\\n",
       "0     1000 2018-05-01            22.0   2253.49      3.0         22.0   \n",
       "1     1000 2018-06-01            60.0  23233.77     23.0         43.0   \n",
       "2     1000 2018-07-01            75.0  14003.64     14.0         47.0   \n",
       "3     1000 2018-08-01            81.0  14055.93     14.0         52.0   \n",
       "4     1000 2018-09-01            57.0  14568.91     15.0         58.0   \n",
       "\n",
       "   calls_duration  age churn_date       city first_name  last_name   reg_date  \\\n",
       "0           159.0   52        NaN  Краснодар     Рафаил  Верещагин 2018-05-25   \n",
       "1           172.0   52        NaN  Краснодар     Рафаил  Верещагин 2018-05-25   \n",
       "2           340.0   52        NaN  Краснодар     Рафаил  Верещагин 2018-05-25   \n",
       "3           408.0   52        NaN  Краснодар     Рафаил  Верещагин 2018-05-25   \n",
       "4           466.0   52        NaN  Краснодар     Рафаил  Верещагин 2018-05-25   \n",
       "\n",
       "  tariff  \n",
       "0  ultra  \n",
       "1  ultra  \n",
       "2  ultra  \n",
       "3  ultra  \n",
       "4  ultra  "
      ]
     },
     "metadata": {},
     "output_type": "display_data"
    },
    {
     "name": "stdout",
     "output_type": "stream",
     "text": [
      "<class 'pandas.core.frame.DataFrame'>\n",
      "Int64Index: 3214 entries, 0 to 3213\n",
      "Data columns (total 14 columns):\n",
      " #   Column          Non-Null Count  Dtype         \n",
      "---  ------          --------------  -----         \n",
      " 0   user_id         3214 non-null   int64         \n",
      " 1   month           3214 non-null   datetime64[ns]\n",
      " 2   messages_count  3214 non-null   float64       \n",
      " 3   mb_used         3214 non-null   float64       \n",
      " 4   gb_used         3214 non-null   float64       \n",
      " 5   calls_count     3214 non-null   float64       \n",
      " 6   calls_duration  3214 non-null   float64       \n",
      " 7   age             3214 non-null   int64         \n",
      " 8   churn_date      187 non-null    object        \n",
      " 9   city            3214 non-null   object        \n",
      " 10  first_name      3214 non-null   object        \n",
      " 11  last_name       3214 non-null   object        \n",
      " 12  reg_date        3214 non-null   datetime64[ns]\n",
      " 13  tariff          3214 non-null   object        \n",
      "dtypes: datetime64[ns](2), float64(5), int64(2), object(5)\n",
      "memory usage: 376.6+ KB\n"
     ]
    }
   ],
   "source": [
    "# Добавим данные о пользоватале в одну таблицу\n",
    "# data = data.merge(df_users, on=['user_id'], how='outer') \n",
    "# есть пользователи, которые не пользовались услугами, для анализа они нам не нужны по этому удалим их, используя how='left'\n",
    "data = data.merge(df_users, on=['user_id'], how='left')\n",
    "display(data.head(5))\n",
    "data.info()"
   ]
  },
  {
   "cell_type": "code",
   "execution_count": 28,
   "id": "8b209554",
   "metadata": {
    "scrolled": true
   },
   "outputs": [
    {
     "data": {
      "text/html": [
       "<div>\n",
       "<style scoped>\n",
       "    .dataframe tbody tr th:only-of-type {\n",
       "        vertical-align: middle;\n",
       "    }\n",
       "\n",
       "    .dataframe tbody tr th {\n",
       "        vertical-align: top;\n",
       "    }\n",
       "\n",
       "    .dataframe thead th {\n",
       "        text-align: right;\n",
       "    }\n",
       "</style>\n",
       "<table border=\"1\" class=\"dataframe\">\n",
       "  <thead>\n",
       "    <tr style=\"text-align: right;\">\n",
       "      <th></th>\n",
       "      <th>user_id</th>\n",
       "      <th>month</th>\n",
       "      <th>messages_count</th>\n",
       "      <th>mb_used</th>\n",
       "      <th>gb_used</th>\n",
       "      <th>calls_count</th>\n",
       "      <th>calls_duration</th>\n",
       "      <th>age</th>\n",
       "      <th>churn_date</th>\n",
       "      <th>city</th>\n",
       "      <th>...</th>\n",
       "      <th>last_name</th>\n",
       "      <th>reg_date</th>\n",
       "      <th>tariff</th>\n",
       "      <th>messages_included</th>\n",
       "      <th>mb_per_month_included</th>\n",
       "      <th>minutes_included</th>\n",
       "      <th>rub_monthly_fee</th>\n",
       "      <th>rub_per_gb</th>\n",
       "      <th>rub_per_message</th>\n",
       "      <th>rub_per_minute</th>\n",
       "    </tr>\n",
       "  </thead>\n",
       "  <tbody>\n",
       "    <tr>\n",
       "      <th>0</th>\n",
       "      <td>1000</td>\n",
       "      <td>2018-05-01</td>\n",
       "      <td>22.0</td>\n",
       "      <td>2253.49</td>\n",
       "      <td>3.0</td>\n",
       "      <td>22.0</td>\n",
       "      <td>159.0</td>\n",
       "      <td>52</td>\n",
       "      <td>NaN</td>\n",
       "      <td>Краснодар</td>\n",
       "      <td>...</td>\n",
       "      <td>Верещагин</td>\n",
       "      <td>2018-05-25</td>\n",
       "      <td>ultra</td>\n",
       "      <td>1000</td>\n",
       "      <td>30720</td>\n",
       "      <td>3000</td>\n",
       "      <td>1950</td>\n",
       "      <td>150</td>\n",
       "      <td>1</td>\n",
       "      <td>1</td>\n",
       "    </tr>\n",
       "    <tr>\n",
       "      <th>1</th>\n",
       "      <td>1000</td>\n",
       "      <td>2018-06-01</td>\n",
       "      <td>60.0</td>\n",
       "      <td>23233.77</td>\n",
       "      <td>23.0</td>\n",
       "      <td>43.0</td>\n",
       "      <td>172.0</td>\n",
       "      <td>52</td>\n",
       "      <td>NaN</td>\n",
       "      <td>Краснодар</td>\n",
       "      <td>...</td>\n",
       "      <td>Верещагин</td>\n",
       "      <td>2018-05-25</td>\n",
       "      <td>ultra</td>\n",
       "      <td>1000</td>\n",
       "      <td>30720</td>\n",
       "      <td>3000</td>\n",
       "      <td>1950</td>\n",
       "      <td>150</td>\n",
       "      <td>1</td>\n",
       "      <td>1</td>\n",
       "    </tr>\n",
       "    <tr>\n",
       "      <th>2</th>\n",
       "      <td>1000</td>\n",
       "      <td>2018-07-01</td>\n",
       "      <td>75.0</td>\n",
       "      <td>14003.64</td>\n",
       "      <td>14.0</td>\n",
       "      <td>47.0</td>\n",
       "      <td>340.0</td>\n",
       "      <td>52</td>\n",
       "      <td>NaN</td>\n",
       "      <td>Краснодар</td>\n",
       "      <td>...</td>\n",
       "      <td>Верещагин</td>\n",
       "      <td>2018-05-25</td>\n",
       "      <td>ultra</td>\n",
       "      <td>1000</td>\n",
       "      <td>30720</td>\n",
       "      <td>3000</td>\n",
       "      <td>1950</td>\n",
       "      <td>150</td>\n",
       "      <td>1</td>\n",
       "      <td>1</td>\n",
       "    </tr>\n",
       "    <tr>\n",
       "      <th>3</th>\n",
       "      <td>1000</td>\n",
       "      <td>2018-08-01</td>\n",
       "      <td>81.0</td>\n",
       "      <td>14055.93</td>\n",
       "      <td>14.0</td>\n",
       "      <td>52.0</td>\n",
       "      <td>408.0</td>\n",
       "      <td>52</td>\n",
       "      <td>NaN</td>\n",
       "      <td>Краснодар</td>\n",
       "      <td>...</td>\n",
       "      <td>Верещагин</td>\n",
       "      <td>2018-05-25</td>\n",
       "      <td>ultra</td>\n",
       "      <td>1000</td>\n",
       "      <td>30720</td>\n",
       "      <td>3000</td>\n",
       "      <td>1950</td>\n",
       "      <td>150</td>\n",
       "      <td>1</td>\n",
       "      <td>1</td>\n",
       "    </tr>\n",
       "    <tr>\n",
       "      <th>4</th>\n",
       "      <td>1000</td>\n",
       "      <td>2018-09-01</td>\n",
       "      <td>57.0</td>\n",
       "      <td>14568.91</td>\n",
       "      <td>15.0</td>\n",
       "      <td>58.0</td>\n",
       "      <td>466.0</td>\n",
       "      <td>52</td>\n",
       "      <td>NaN</td>\n",
       "      <td>Краснодар</td>\n",
       "      <td>...</td>\n",
       "      <td>Верещагин</td>\n",
       "      <td>2018-05-25</td>\n",
       "      <td>ultra</td>\n",
       "      <td>1000</td>\n",
       "      <td>30720</td>\n",
       "      <td>3000</td>\n",
       "      <td>1950</td>\n",
       "      <td>150</td>\n",
       "      <td>1</td>\n",
       "      <td>1</td>\n",
       "    </tr>\n",
       "  </tbody>\n",
       "</table>\n",
       "<p>5 rows × 21 columns</p>\n",
       "</div>"
      ],
      "text/plain": [
       "   user_id      month  messages_count   mb_used  gb_used  calls_count  \\\n",
       "0     1000 2018-05-01            22.0   2253.49      3.0         22.0   \n",
       "1     1000 2018-06-01            60.0  23233.77     23.0         43.0   \n",
       "2     1000 2018-07-01            75.0  14003.64     14.0         47.0   \n",
       "3     1000 2018-08-01            81.0  14055.93     14.0         52.0   \n",
       "4     1000 2018-09-01            57.0  14568.91     15.0         58.0   \n",
       "\n",
       "   calls_duration  age churn_date       city  ...  last_name   reg_date  \\\n",
       "0           159.0   52        NaN  Краснодар  ...  Верещагин 2018-05-25   \n",
       "1           172.0   52        NaN  Краснодар  ...  Верещагин 2018-05-25   \n",
       "2           340.0   52        NaN  Краснодар  ...  Верещагин 2018-05-25   \n",
       "3           408.0   52        NaN  Краснодар  ...  Верещагин 2018-05-25   \n",
       "4           466.0   52        NaN  Краснодар  ...  Верещагин 2018-05-25   \n",
       "\n",
       "  tariff messages_included  mb_per_month_included  minutes_included  \\\n",
       "0  ultra              1000                  30720              3000   \n",
       "1  ultra              1000                  30720              3000   \n",
       "2  ultra              1000                  30720              3000   \n",
       "3  ultra              1000                  30720              3000   \n",
       "4  ultra              1000                  30720              3000   \n",
       "\n",
       "   rub_monthly_fee  rub_per_gb  rub_per_message  rub_per_minute  \n",
       "0             1950         150                1               1  \n",
       "1             1950         150                1               1  \n",
       "2             1950         150                1               1  \n",
       "3             1950         150                1               1  \n",
       "4             1950         150                1               1  \n",
       "\n",
       "[5 rows x 21 columns]"
      ]
     },
     "metadata": {},
     "output_type": "display_data"
    },
    {
     "name": "stdout",
     "output_type": "stream",
     "text": [
      "<class 'pandas.core.frame.DataFrame'>\n",
      "Int64Index: 3214 entries, 0 to 3213\n",
      "Data columns (total 21 columns):\n",
      " #   Column                 Non-Null Count  Dtype         \n",
      "---  ------                 --------------  -----         \n",
      " 0   user_id                3214 non-null   int64         \n",
      " 1   month                  3214 non-null   datetime64[ns]\n",
      " 2   messages_count         3214 non-null   float64       \n",
      " 3   mb_used                3214 non-null   float64       \n",
      " 4   gb_used                3214 non-null   float64       \n",
      " 5   calls_count            3214 non-null   float64       \n",
      " 6   calls_duration         3214 non-null   float64       \n",
      " 7   age                    3214 non-null   int64         \n",
      " 8   churn_date             187 non-null    object        \n",
      " 9   city                   3214 non-null   object        \n",
      " 10  first_name             3214 non-null   object        \n",
      " 11  last_name              3214 non-null   object        \n",
      " 12  reg_date               3214 non-null   datetime64[ns]\n",
      " 13  tariff                 3214 non-null   object        \n",
      " 14  messages_included      3214 non-null   int64         \n",
      " 15  mb_per_month_included  3214 non-null   int64         \n",
      " 16  minutes_included       3214 non-null   int64         \n",
      " 17  rub_monthly_fee        3214 non-null   int64         \n",
      " 18  rub_per_gb             3214 non-null   int64         \n",
      " 19  rub_per_message        3214 non-null   int64         \n",
      " 20  rub_per_minute         3214 non-null   int64         \n",
      "dtypes: datetime64[ns](2), float64(5), int64(9), object(5)\n",
      "memory usage: 552.4+ KB\n"
     ]
    }
   ],
   "source": [
    "# Добавим данные о тарифе в общую таблицу\n",
    "data = data.merge(df_tariffs, on=['tariff'], how='left')\n",
    "display(data.head(5))\n",
    "data.info()"
   ]
  },
  {
   "cell_type": "markdown",
   "id": "45a9e15e",
   "metadata": {},
   "source": [
    "**Заметки**\n",
    "\n",
    "* Есть 2 Клинета, которые не пользовались ни одной услугой за весь исследуемый период времени (год) и мы их удалили из данных.\n",
    "* Если Клиент не пользовался услугой, то заполнили пропуски нулям аналогично как сделали с звонкам \n",
    "* Nan остаивла для даты оттока (churn_date) для случая если Клиент еще не расторг договор\n",
    "* Количество строк получилось 3214 <= 6000 (500 пользователей * 12 месяцев) "
   ]
  },
  {
   "cell_type": "markdown",
   "id": "1a5ac4e2",
   "metadata": {},
   "source": [
    "### Расчет выручки\n",
    "* вычтите бесплатный лимит из суммарного количества звонков, сообщений и интернет-трафика; \n",
    "* остаток умножьте на значение из тарифного плана; \n",
    "* прибавьте абонентскую плату, соответствующую тарифному плану"
   ]
  },
  {
   "cell_type": "code",
   "execution_count": 29,
   "id": "53a7a9cc",
   "metadata": {},
   "outputs": [],
   "source": [
    "#знаю, что не идально написано и заводятся лишние переменные, зато не  подглядывала в шаблонную работу и написала сама \n",
    "def calculate_revenue(row):\n",
    "    if (row['minutes_included'] - row['calls_duration'] < 0):\n",
    "        row['row_extra_call'] = abs(row['minutes_included'] - row['calls_duration']) \n",
    "    else:\n",
    "        row['row_extra_call'] = 0\n",
    "        \n",
    "    if (row['messages_included'] - row['messages_count'] < 0):\n",
    "        row['row_extra_message'] = abs(row['messages_included'] - row['messages_count'])   \n",
    "    else:\n",
    "        row['row_extra_message'] = 0\n",
    "        \n",
    "    if (row['mb_per_month_included'] - row['mb_used'] < 0):\n",
    "        row['row_extra_internet'] = np.ceil(abs(row['mb_per_month_included'] - row['mb_used'])/1024)\n",
    "    else:\n",
    "        row['row_extra_internet'] = 0        \n",
    "        \n",
    "    return  row['rub_monthly_fee'] + row['row_extra_call']*row['rub_per_minute'] + row['row_extra_message']*row['rub_per_message'] + row['row_extra_internet']*row['rub_per_gb']"
   ]
  },
  {
   "cell_type": "code",
   "execution_count": 30,
   "id": "27578e59",
   "metadata": {
    "scrolled": true
   },
   "outputs": [
    {
     "data": {
      "text/html": [
       "<div>\n",
       "<style scoped>\n",
       "    .dataframe tbody tr th:only-of-type {\n",
       "        vertical-align: middle;\n",
       "    }\n",
       "\n",
       "    .dataframe tbody tr th {\n",
       "        vertical-align: top;\n",
       "    }\n",
       "\n",
       "    .dataframe thead th {\n",
       "        text-align: right;\n",
       "    }\n",
       "</style>\n",
       "<table border=\"1\" class=\"dataframe\">\n",
       "  <thead>\n",
       "    <tr style=\"text-align: right;\">\n",
       "      <th></th>\n",
       "      <th>user_id</th>\n",
       "      <th>month</th>\n",
       "      <th>messages_count</th>\n",
       "      <th>mb_used</th>\n",
       "      <th>gb_used</th>\n",
       "      <th>calls_count</th>\n",
       "      <th>calls_duration</th>\n",
       "      <th>age</th>\n",
       "      <th>churn_date</th>\n",
       "      <th>city</th>\n",
       "      <th>...</th>\n",
       "      <th>reg_date</th>\n",
       "      <th>tariff</th>\n",
       "      <th>messages_included</th>\n",
       "      <th>mb_per_month_included</th>\n",
       "      <th>minutes_included</th>\n",
       "      <th>rub_monthly_fee</th>\n",
       "      <th>rub_per_gb</th>\n",
       "      <th>rub_per_message</th>\n",
       "      <th>rub_per_minute</th>\n",
       "      <th>revenue</th>\n",
       "    </tr>\n",
       "  </thead>\n",
       "  <tbody>\n",
       "    <tr>\n",
       "      <th>0</th>\n",
       "      <td>1000</td>\n",
       "      <td>2018-05-01</td>\n",
       "      <td>22.0</td>\n",
       "      <td>2253.49</td>\n",
       "      <td>3.0</td>\n",
       "      <td>22.0</td>\n",
       "      <td>159.0</td>\n",
       "      <td>52</td>\n",
       "      <td>NaN</td>\n",
       "      <td>Краснодар</td>\n",
       "      <td>...</td>\n",
       "      <td>2018-05-25</td>\n",
       "      <td>ultra</td>\n",
       "      <td>1000</td>\n",
       "      <td>30720</td>\n",
       "      <td>3000</td>\n",
       "      <td>1950</td>\n",
       "      <td>150</td>\n",
       "      <td>1</td>\n",
       "      <td>1</td>\n",
       "      <td>1950.0</td>\n",
       "    </tr>\n",
       "    <tr>\n",
       "      <th>1</th>\n",
       "      <td>1000</td>\n",
       "      <td>2018-06-01</td>\n",
       "      <td>60.0</td>\n",
       "      <td>23233.77</td>\n",
       "      <td>23.0</td>\n",
       "      <td>43.0</td>\n",
       "      <td>172.0</td>\n",
       "      <td>52</td>\n",
       "      <td>NaN</td>\n",
       "      <td>Краснодар</td>\n",
       "      <td>...</td>\n",
       "      <td>2018-05-25</td>\n",
       "      <td>ultra</td>\n",
       "      <td>1000</td>\n",
       "      <td>30720</td>\n",
       "      <td>3000</td>\n",
       "      <td>1950</td>\n",
       "      <td>150</td>\n",
       "      <td>1</td>\n",
       "      <td>1</td>\n",
       "      <td>1950.0</td>\n",
       "    </tr>\n",
       "    <tr>\n",
       "      <th>2</th>\n",
       "      <td>1000</td>\n",
       "      <td>2018-07-01</td>\n",
       "      <td>75.0</td>\n",
       "      <td>14003.64</td>\n",
       "      <td>14.0</td>\n",
       "      <td>47.0</td>\n",
       "      <td>340.0</td>\n",
       "      <td>52</td>\n",
       "      <td>NaN</td>\n",
       "      <td>Краснодар</td>\n",
       "      <td>...</td>\n",
       "      <td>2018-05-25</td>\n",
       "      <td>ultra</td>\n",
       "      <td>1000</td>\n",
       "      <td>30720</td>\n",
       "      <td>3000</td>\n",
       "      <td>1950</td>\n",
       "      <td>150</td>\n",
       "      <td>1</td>\n",
       "      <td>1</td>\n",
       "      <td>1950.0</td>\n",
       "    </tr>\n",
       "    <tr>\n",
       "      <th>3</th>\n",
       "      <td>1000</td>\n",
       "      <td>2018-08-01</td>\n",
       "      <td>81.0</td>\n",
       "      <td>14055.93</td>\n",
       "      <td>14.0</td>\n",
       "      <td>52.0</td>\n",
       "      <td>408.0</td>\n",
       "      <td>52</td>\n",
       "      <td>NaN</td>\n",
       "      <td>Краснодар</td>\n",
       "      <td>...</td>\n",
       "      <td>2018-05-25</td>\n",
       "      <td>ultra</td>\n",
       "      <td>1000</td>\n",
       "      <td>30720</td>\n",
       "      <td>3000</td>\n",
       "      <td>1950</td>\n",
       "      <td>150</td>\n",
       "      <td>1</td>\n",
       "      <td>1</td>\n",
       "      <td>1950.0</td>\n",
       "    </tr>\n",
       "    <tr>\n",
       "      <th>4</th>\n",
       "      <td>1000</td>\n",
       "      <td>2018-09-01</td>\n",
       "      <td>57.0</td>\n",
       "      <td>14568.91</td>\n",
       "      <td>15.0</td>\n",
       "      <td>58.0</td>\n",
       "      <td>466.0</td>\n",
       "      <td>52</td>\n",
       "      <td>NaN</td>\n",
       "      <td>Краснодар</td>\n",
       "      <td>...</td>\n",
       "      <td>2018-05-25</td>\n",
       "      <td>ultra</td>\n",
       "      <td>1000</td>\n",
       "      <td>30720</td>\n",
       "      <td>3000</td>\n",
       "      <td>1950</td>\n",
       "      <td>150</td>\n",
       "      <td>1</td>\n",
       "      <td>1</td>\n",
       "      <td>1950.0</td>\n",
       "    </tr>\n",
       "  </tbody>\n",
       "</table>\n",
       "<p>5 rows × 22 columns</p>\n",
       "</div>"
      ],
      "text/plain": [
       "   user_id      month  messages_count   mb_used  gb_used  calls_count  \\\n",
       "0     1000 2018-05-01            22.0   2253.49      3.0         22.0   \n",
       "1     1000 2018-06-01            60.0  23233.77     23.0         43.0   \n",
       "2     1000 2018-07-01            75.0  14003.64     14.0         47.0   \n",
       "3     1000 2018-08-01            81.0  14055.93     14.0         52.0   \n",
       "4     1000 2018-09-01            57.0  14568.91     15.0         58.0   \n",
       "\n",
       "   calls_duration  age churn_date       city  ...   reg_date tariff  \\\n",
       "0           159.0   52        NaN  Краснодар  ... 2018-05-25  ultra   \n",
       "1           172.0   52        NaN  Краснодар  ... 2018-05-25  ultra   \n",
       "2           340.0   52        NaN  Краснодар  ... 2018-05-25  ultra   \n",
       "3           408.0   52        NaN  Краснодар  ... 2018-05-25  ultra   \n",
       "4           466.0   52        NaN  Краснодар  ... 2018-05-25  ultra   \n",
       "\n",
       "  messages_included mb_per_month_included  minutes_included  rub_monthly_fee  \\\n",
       "0              1000                 30720              3000             1950   \n",
       "1              1000                 30720              3000             1950   \n",
       "2              1000                 30720              3000             1950   \n",
       "3              1000                 30720              3000             1950   \n",
       "4              1000                 30720              3000             1950   \n",
       "\n",
       "   rub_per_gb  rub_per_message  rub_per_minute  revenue  \n",
       "0         150                1               1   1950.0  \n",
       "1         150                1               1   1950.0  \n",
       "2         150                1               1   1950.0  \n",
       "3         150                1               1   1950.0  \n",
       "4         150                1               1   1950.0  \n",
       "\n",
       "[5 rows x 22 columns]"
      ]
     },
     "execution_count": 30,
     "metadata": {},
     "output_type": "execute_result"
    }
   ],
   "source": [
    "# Рассчитаем помесячную выручку для каждого пользователя \n",
    "data['revenue'] = data.apply(calculate_revenue, axis=1)\n",
    "data.head(5)"
   ]
  },
  {
   "cell_type": "markdown",
   "id": "28eafb4c",
   "metadata": {},
   "source": [
    "### Анализ тарифов"
   ]
  },
  {
   "cell_type": "code",
   "execution_count": 31,
   "id": "b91ddd36",
   "metadata": {},
   "outputs": [],
   "source": [
    "smart = data.query('tariff == \"smart\"')\n",
    "ultra = data.query('tariff == \"ultra\"')"
   ]
  },
  {
   "cell_type": "code",
   "execution_count": 32,
   "id": "d3bb98d5",
   "metadata": {},
   "outputs": [
    {
     "name": "stdout",
     "output_type": "stream",
     "text": [
      "Кол-во клинетов smart: 2229\n",
      "Кол-во клинетов ultra: 985\n"
     ]
    }
   ],
   "source": [
    "# Видно, что клиентов тарифа smart болеше чем 2 раза чем ultra\n",
    "print('Кол-во клинетов smart:', smart['user_id'].count())\n",
    "print('Кол-во клинетов ultra:', ultra['user_id'].count())"
   ]
  },
  {
   "cell_type": "code",
   "execution_count": 33,
   "id": "6fda826a",
   "metadata": {},
   "outputs": [],
   "source": [
    "def boxpot_maker(data, column):\n",
    "    print('Cреднее количество', data[column].mean())\n",
    "    print('Дисперсия', np.std(data[column]))\n",
    "    print('Стандартное отклонение', np.var(data[column]))    \n",
    "    data.boxplot(column = column)\n",
    "    plt.show()\n",
    "    print(data[column].describe())\n",
    "    print('-------')"
   ]
  },
  {
   "cell_type": "code",
   "execution_count": 34,
   "id": "ff675bc1",
   "metadata": {},
   "outputs": [],
   "source": [
    "def hist_maker_combi(column_smart, column_ultra):\n",
    "    plt.figure(figsize=(10,3))\n",
    "    plt.hist(column_smart, bins=30, color='blue', edgecolor='grey', alpha=0.4)\n",
    "    plt.hist(column_ultra, bins=30, edgecolor='gray', alpha=0.4)\n",
    "    plt.axvline(column_smart.describe()['mean'], color='r', linestyle='dashed', linewidth=3, label='Mean smast')\n",
    "    plt.axvline(column_ultra.describe()['mean'], color='b', linestyle='dashed', linewidth=3, label='Mean ultra')\n",
    "    plt.legend()\n",
    "    plt.title('Histogramm {}'.format(column_smart.name))\n",
    "    plt.ylabel('Частота')"
   ]
  },
  {
   "cell_type": "code",
   "execution_count": 35,
   "id": "18cf8208",
   "metadata": {
    "scrolled": true
   },
   "outputs": [
    {
     "data": {
      "image/png": "[encoded data removed]",
      "text/plain": [
       "<Figure size 720x216 with 1 Axes>"
      ]
     },
     "metadata": {
      "needs_background": "light"
     },
     "output_type": "display_data"
    }
   ],
   "source": [
    "hist_maker_combi(smart['messages_count'], ultra['messages_count'])"
   ]
  },
  {
   "cell_type": "code",
   "execution_count": 36,
   "id": "f801c493",
   "metadata": {
    "scrolled": true
   },
   "outputs": [
    {
     "name": "stdout",
     "output_type": "stream",
     "text": [
      "Cреднее количество 33.384028712427096\n",
      "Дисперсия 28.221542886898938\n",
      "Стандартное отклонение 796.455482917076\n"
     ]
    },
    {
     "data": {
      "image/png": "[encoded data removed]",
      "text/plain": [
       "<Figure size 432x288 with 1 Axes>"
      ]
     },
     "metadata": {
      "needs_background": "light"
     },
     "output_type": "display_data"
    },
    {
     "name": "stdout",
     "output_type": "stream",
     "text": [
      "count    2229.000000\n",
      "mean       33.384029\n",
      "std        28.227876\n",
      "min         0.000000\n",
      "25%        10.000000\n",
      "50%        28.000000\n",
      "75%        51.000000\n",
      "max       143.000000\n",
      "Name: messages_count, dtype: float64\n",
      "-------\n",
      "Cреднее количество 49.36345177664975\n",
      "Дисперсия 47.78018496610161\n",
      "Стандартное отклонение 2282.9460753948824\n"
     ]
    },
    {
     "data": {
      "image/png": "[encoded data removed]",
      "text/plain": [
       "<Figure size 432x288 with 1 Axes>"
      ]
     },
     "metadata": {
      "needs_background": "light"
     },
     "output_type": "display_data"
    },
    {
     "name": "stdout",
     "output_type": "stream",
     "text": [
      "count    985.000000\n",
      "mean      49.363452\n",
      "std       47.804457\n",
      "min        0.000000\n",
      "25%        6.000000\n",
      "50%       38.000000\n",
      "75%       79.000000\n",
      "max      224.000000\n",
      "Name: messages_count, dtype: float64\n",
      "-------\n"
     ]
    }
   ],
   "source": [
    "boxpot_maker(smart, 'messages_count')\n",
    "boxpot_maker(ultra, 'messages_count')"
   ]
  },
  {
   "cell_type": "markdown",
   "id": "28cd376a",
   "metadata": {},
   "source": [
    "***Выводы по использованию сообщений в разных тарифах:***\n",
    "* И при этом в среднем клинеты тарифа Smart рассылают около 30 сообщений в день, а Ultra - около 50. \n",
    "* 75% клинетов Smart укладывается в лимит 50 сообщений, а для Ultra 75% клинетов 79 сообщений при включенной 1000\n",
    "* Такое сильное отличие из-за того, что у клинетов с тарифом Ultra больше дисперсия, что говорит о большом разбросе данных от среднего значения"
   ]
  },
  {
   "cell_type": "code",
   "execution_count": 37,
   "id": "e78026b9",
   "metadata": {
    "scrolled": true
   },
   "outputs": [
    {
     "data": {
      "image/png": "[encoded data removed]",
      "text/plain": [
       "<Figure size 720x216 with 1 Axes>"
      ]
     },
     "metadata": {
      "needs_background": "light"
     },
     "output_type": "display_data"
    }
   ],
   "source": [
    "hist_maker_combi(smart['gb_used'], ultra['gb_used'])"
   ]
  },
  {
   "cell_type": "code",
   "execution_count": 38,
   "id": "89dd8f18",
   "metadata": {
    "scrolled": true
   },
   "outputs": [
    {
     "name": "stdout",
     "output_type": "stream",
     "text": [
      "Cреднее количество 16.328847016599372\n",
      "Дисперсия 5.745771267187499\n",
      "Стандартное отклонение 33.013887454837445\n"
     ]
    },
    {
     "data": {
      "image/png": "[encoded data removed]",
      "text/plain": [
       "<Figure size 432x288 with 1 Axes>"
      ]
     },
     "metadata": {
      "needs_background": "light"
     },
     "output_type": "display_data"
    },
    {
     "name": "stdout",
     "output_type": "stream",
     "text": [
      "count    2229.000000\n",
      "mean       16.328847\n",
      "std         5.747061\n",
      "min         0.000000\n",
      "25%        13.000000\n",
      "50%        17.000000\n",
      "75%        20.000000\n",
      "max        38.000000\n",
      "Name: gb_used, dtype: float64\n",
      "-------\n",
      "Cреднее количество 19.494416243654822\n",
      "Дисперсия 9.848508314957494\n",
      "Стандартное отклонение 96.99311602978689\n"
     ]
    },
    {
     "data": {
      "image/png": "[encoded data removed]",
      "text/plain": [
       "<Figure size 432x288 with 1 Axes>"
      ]
     },
     "metadata": {
      "needs_background": "light"
     },
     "output_type": "display_data"
    },
    {
     "name": "stdout",
     "output_type": "stream",
     "text": [
      "count    985.000000\n",
      "mean      19.494416\n",
      "std        9.853511\n",
      "min        0.000000\n",
      "25%       12.000000\n",
      "50%       19.000000\n",
      "75%       27.000000\n",
      "max       49.000000\n",
      "Name: gb_used, dtype: float64\n",
      "-------\n"
     ]
    }
   ],
   "source": [
    "boxpot_maker(smart, 'gb_used')\n",
    "boxpot_maker(ultra, 'gb_used')"
   ]
  },
  {
   "cell_type": "markdown",
   "id": "a030a1b0",
   "metadata": {},
   "source": [
    "**Выводы по использованию интренета в разных тарифах:**\n",
    "* Средние в обоих случаях практически одинаковые, при том, что лимиты у талифов разные\n",
    "* При этом стандартное отклонение сильно отличается и есть клинеты Ultra которые используют трафик знчительно больше лимита"
   ]
  },
  {
   "cell_type": "code",
   "execution_count": 39,
   "id": "218c2447",
   "metadata": {
    "scrolled": true
   },
   "outputs": [
    {
     "data": {
      "image/png": "[encoded data removed]",
      "text/plain": [
       "<Figure size 720x216 with 1 Axes>"
      ]
     },
     "metadata": {
      "needs_background": "light"
     },
     "output_type": "display_data"
    }
   ],
   "source": [
    "hist_maker_combi(smart['calls_duration'], ultra['calls_duration'])"
   ]
  },
  {
   "cell_type": "code",
   "execution_count": 40,
   "id": "e53370ec",
   "metadata": {
    "scrolled": true
   },
   "outputs": [
    {
     "name": "stdout",
     "output_type": "stream",
     "text": [
      "Cреднее количество 417.9349484073576\n",
      "Дисперсия 190.27103471651876\n",
      "Стандартное отклонение 36203.06665209469\n"
     ]
    },
    {
     "data": {
      "image/png": "[encoded data removed]",
      "text/plain": [
       "<Figure size 432x288 with 1 Axes>"
      ]
     },
     "metadata": {
      "needs_background": "light"
     },
     "output_type": "display_data"
    },
    {
     "name": "stdout",
     "output_type": "stream",
     "text": [
      "count    2229.000000\n",
      "mean      417.934948\n",
      "std       190.313730\n",
      "min         0.000000\n",
      "25%       282.000000\n",
      "50%       422.000000\n",
      "75%       545.000000\n",
      "max      1435.000000\n",
      "Name: calls_duration, dtype: float64\n",
      "-------\n",
      "Cреднее количество 526.6233502538071\n",
      "Дисперсия 317.44483554974113\n",
      "Стандартное отклонение 100771.2236172022\n"
     ]
    },
    {
     "data": {
      "image/png": "[encoded data removed]",
      "text/plain": [
       "<Figure size 432x288 with 1 Axes>"
      ]
     },
     "metadata": {
      "needs_background": "light"
     },
     "output_type": "display_data"
    },
    {
     "name": "stdout",
     "output_type": "stream",
     "text": [
      "count     985.000000\n",
      "mean      526.623350\n",
      "std       317.606098\n",
      "min         0.000000\n",
      "25%       284.000000\n",
      "50%       518.000000\n",
      "75%       752.000000\n",
      "max      1673.000000\n",
      "Name: calls_duration, dtype: float64\n",
      "-------\n"
     ]
    }
   ],
   "source": [
    "boxpot_maker(smart, 'calls_duration')\n",
    "boxpot_maker(ultra, 'calls_duration')"
   ]
  },
  {
   "cell_type": "markdown",
   "id": "efa8037e",
   "metadata": {},
   "source": [
    "**Выводы по использованию звонков в разных тарифах:**\n",
    "* Большенство клинетов тарифа Smart разговаривают около 500 минут, что соответвует включенному лимиту\n",
    "* У клинетов тарифа Ultra нет явно выраженного пика и любое кол-во минут разговора встречается однакого часто\n",
    "* Так же повторяется ситуация с большим разбросом стандартного откорнения для Ultra из-за которого среднее смещено влево отновилено Smart\n",
    "* для тарифа Ultra никто не использует весь лимит разговров - максимальное значение отличется в 2 раза от лимита"
   ]
  },
  {
   "cell_type": "markdown",
   "id": "b3b4d09d",
   "metadata": {},
   "source": [
    "### Проверка гипотезы 1\n",
    "***Средняя выручка пользователей тарифов «Ультра» и «Смарт» различаются***\n",
    "  * Н0 - Средняя выручка пользователей тарифов «Ультра» и «Смарт» равны, т.е. средние значения равны\n",
    "  * Н1 - Средняя выручка пользователей тарифов «Ультра» и «Смарт» не равны, т.е. средние значения не равны"
   ]
  },
  {
   "cell_type": "code",
   "execution_count": 41,
   "id": "45dec3f3",
   "metadata": {},
   "outputs": [
    {
     "name": "stdout",
     "output_type": "stream",
     "text": [
      "p-значение:  1.4229814360764067e-160\n",
      "Принимаем альтернативную гипотезу\n"
     ]
    }
   ],
   "source": [
    "results = st.ttest_ind(smart['revenue'], ultra['revenue']) # Метод для проверки гипотезы о равенстве среднего двух генеральных совокупностей по взятым из них выборкам\n",
    "alpha = 0.05\n",
    "\n",
    "print('p-значение: ', results.pvalue)\n",
    "if results.pvalue < alpha:\n",
    "    print('Принимаем альтернативную гипотезу')\n",
    "else:\n",
    "    print('Опровергнуть нулевую гипотезу нельзя')"
   ]
  },
  {
   "cell_type": "code",
   "execution_count": 42,
   "id": "71fafbac",
   "metadata": {
    "scrolled": true
   },
   "outputs": [
    {
     "name": "stdout",
     "output_type": "stream",
     "text": [
      "count     985.000000\n",
      "mean     2070.152284\n",
      "std       376.187114\n",
      "min      1950.000000\n",
      "25%      1950.000000\n",
      "50%      1950.000000\n",
      "75%      1950.000000\n",
      "max      4800.000000\n",
      "Name: revenue, dtype: float64\n"
     ]
    }
   ],
   "source": [
    "print(ultra['revenue'].describe())"
   ]
  },
  {
   "cell_type": "code",
   "execution_count": 43,
   "id": "b0c065da",
   "metadata": {},
   "outputs": [
    {
     "name": "stdout",
     "output_type": "stream",
     "text": [
      "count    2229.000000\n",
      "mean     1289.973531\n",
      "std       818.404367\n",
      "min       550.000000\n",
      "25%       550.000000\n",
      "50%      1023.000000\n",
      "75%      1750.000000\n",
      "max      6770.000000\n",
      "Name: revenue, dtype: float64\n"
     ]
    }
   ],
   "source": [
    "print(smart['revenue'].describe())"
   ]
  },
  {
   "cell_type": "markdown",
   "id": "acf111d3",
   "metadata": {},
   "source": [
    "Из полученных результатов можно сделать вывод, то H0, не подтверждается и Средняя выручка пользователей тарифов «Ультра» и «Смарт» не равны."
   ]
  },
  {
   "cell_type": "markdown",
   "id": "3decd230",
   "metadata": {},
   "source": [
    "### Проверка гипотезы 2\n",
    "***средняя выручка пользователей из Москвы отличается от выручки пользователей из других регионов***\n",
    "  * H0 - Средняя выручка пользователей из Москвы и всех остальных регионов равны для всех тарифов, т.е. средние значения равны\n",
    "  * H1 - Средняя выручка пользователей из Москвы и всех остальных регионов НЕ равны для всех тарифов, т.е. средние значения не равны"
   ]
  },
  {
   "cell_type": "code",
   "execution_count": 44,
   "id": "869763a8",
   "metadata": {},
   "outputs": [
    {
     "name": "stdout",
     "output_type": "stream",
     "text": [
      "p-значение:  0.5440152911670224\n",
      "Опровергнуть нулевую гипотезу нельзя\n"
     ]
    }
   ],
   "source": [
    "sample_1 = data[data['city'] == 'Москва']['revenue'] \n",
    "sample_2 = data[data['city'] != 'Москва']['revenue'] \n",
    "results = st.ttest_ind( sample_1, sample_2)\n",
    "alpha = 0.05\n",
    "\n",
    "print('p-значение: ', results.pvalue)\n",
    "if results.pvalue < alpha:\n",
    "    print('Принимаем альтернативную гипотезу')\n",
    "else:\n",
    "    print('Опровергнуть нулевую гипотезу нельзя')"
   ]
  },
  {
   "cell_type": "code",
   "execution_count": 45,
   "id": "4321bd37",
   "metadata": {},
   "outputs": [
    {
     "name": "stdout",
     "output_type": "stream",
     "text": [
      "count     611.000000\n",
      "mean     1546.713584\n",
      "std       752.088071\n",
      "min       550.000000\n",
      "25%       780.500000\n",
      "50%      1750.000000\n",
      "75%      1950.000000\n",
      "max      5321.000000\n",
      "Name: revenue, dtype: float64\n",
      "count    2603.000000\n",
      "mean     1524.936227\n",
      "std       808.787752\n",
      "min       550.000000\n",
      "25%       750.000000\n",
      "50%      1583.000000\n",
      "75%      1950.000000\n",
      "max      6770.000000\n",
      "Name: revenue, dtype: float64\n"
     ]
    }
   ],
   "source": [
    "print(data[data['city'] == 'Москва']['revenue'].describe())\n",
    "print(data[data['city'] != 'Москва']['revenue'].describe())"
   ]
  },
  {
   "cell_type": "markdown",
   "id": "4e43b26c",
   "metadata": {},
   "source": [
    "Из полученных резульиатов можно сделать вывод, то гипотиза H0 подтверждается и средняя выручка пользователей из Москвы и всех остальных регионов равны для всех тарифов"
   ]
  },
  {
   "cell_type": "markdown",
   "id": "30ad3b37",
   "metadata": {},
   "source": [
    "### Общий вывод:\n",
    "* Из исходных данных было удалено 2 клинета, котрые не пользователись связью. Так же были Клинты, которые  не пользовались \n",
    "опреденного вида связью, напраимер, сообщения или звонки или интернет.\n",
    "* Средняя выручка пользователей тарифов «Ультра» и «Смарт» не равны. «Ультра» более доходная.\n",
    "* Средняя выручка пользователей не зависит от города(например, средняя выручка пользователей из Москвы и всех остальных регионов равны для всех тарифов)\n",
    "* Предлагаю тариф Ultra оптимизировать, так как присутвует большое разброс в использовании включеных лимитов - возможно стоит выделить пользователй, которые реально больше пользуюся связью в отдельную группу\n",
    "  * тариф ultra оставить для клиентов, котрые реально много пользуются связью - интрнет, сообщения, звонки. Можно предложить поднять абоненскую плату, но зато увеличить лимиты на сообщения и интернет, а так же уменьшить стоимость минунт разговора сверх лимита или лимит звонков (так как мало кто использует текущий лимит звонков в тарифе ultra, это будет приятный бонус)\n",
    "  * создать новый тариф ultra light, так как не все клиенты ultra используют весь лимит по звонкам и смс. В новом тарифе снизить кол-во включенных лимитов относительно ultra, но оставить выше чем в smart. Предлагаю следующие лимиты: смс - 80, интернет- 25, звонки - 750 (взяла по 3-му квантилю). При этом и абонентская плата должна быть выше Smart, но ниже Ultra. Чтобы это было экономически выгодно предлаю для ultra light поднять плату за использование сверх лимита относительно smart.\n",
    "* 75% пользователй всех тарифов используют трафика больше чем установенные лимиты, по этому есть предложение тарифу Smart так же поднять лимит для трафика до 20 гб в мес, чтобы заработить на этом есть предложение поднять абоненскую плату "
   ]
  }
 ],
 "metadata": {
  "ExecuteTimeLog": [
   {
    "duration": 1171,
    "start_time": "2022-04-15T21:28:20.343Z"
   },
   {
    "duration": 263,
    "start_time": "2022-04-15T21:28:21.516Z"
   },
   {
    "duration": 232,
    "start_time": "2022-04-15T21:28:21.781Z"
   },
   {
    "duration": 206,
    "start_time": "2022-04-15T21:28:22.015Z"
   },
   {
    "duration": 170,
    "start_time": "2022-04-15T21:28:22.222Z"
   },
   {
    "duration": 126,
    "start_time": "2022-04-15T21:28:22.394Z"
   },
   {
    "duration": 4,
    "start_time": "2022-04-15T21:28:22.522Z"
   },
   {
    "duration": 5,
    "start_time": "2022-04-15T21:28:22.527Z"
   },
   {
    "duration": 504,
    "start_time": "2022-04-15T21:28:22.533Z"
   },
   {
    "duration": 413,
    "start_time": "2022-04-15T21:28:23.040Z"
   },
   {
    "duration": 380,
    "start_time": "2022-04-15T21:28:23.454Z"
   },
   {
    "duration": 17,
    "start_time": "2022-04-15T21:28:23.836Z"
   },
   {
    "duration": 4,
    "start_time": "2022-04-15T21:28:23.854Z"
   },
   {
    "duration": 28,
    "start_time": "2022-04-15T21:28:23.859Z"
   },
   {
    "duration": 99,
    "start_time": "2022-04-15T21:28:23.888Z"
   },
   {
    "duration": 10,
    "start_time": "2022-04-15T21:28:23.989Z"
   },
   {
    "duration": 66,
    "start_time": "2022-04-15T21:28:24.001Z"
   },
   {
    "duration": 38,
    "start_time": "2022-04-15T21:28:24.069Z"
   },
   {
    "duration": 11,
    "start_time": "2022-04-15T21:28:24.122Z"
   },
   {
    "duration": 25,
    "start_time": "2022-04-15T21:28:24.135Z"
   },
   {
    "duration": 10,
    "start_time": "2022-04-15T21:28:24.162Z"
   },
   {
    "duration": 22,
    "start_time": "2022-04-15T21:28:24.174Z"
   },
   {
    "duration": 15,
    "start_time": "2022-04-15T21:28:24.223Z"
   },
   {
    "duration": 22,
    "start_time": "2022-04-15T21:28:24.239Z"
   },
   {
    "duration": 10,
    "start_time": "2022-04-15T21:28:24.262Z"
   },
   {
    "duration": 56,
    "start_time": "2022-04-15T21:28:24.274Z"
   },
   {
    "duration": 29,
    "start_time": "2022-04-15T21:28:24.332Z"
   },
   {
    "duration": 33,
    "start_time": "2022-04-15T21:28:24.365Z"
   },
   {
    "duration": 26,
    "start_time": "2022-04-15T21:28:24.400Z"
   },
   {
    "duration": 4967,
    "start_time": "2022-04-15T21:28:24.428Z"
   },
   {
    "duration": 10,
    "start_time": "2022-04-15T21:28:29.397Z"
   },
   {
    "duration": 5,
    "start_time": "2022-04-15T21:28:29.422Z"
   },
   {
    "duration": 4,
    "start_time": "2022-04-15T21:28:29.429Z"
   },
   {
    "duration": 6,
    "start_time": "2022-04-15T21:28:29.435Z"
   },
   {
    "duration": 308,
    "start_time": "2022-04-15T21:28:29.443Z"
   },
   {
    "duration": 194,
    "start_time": "2022-04-15T21:28:29.753Z"
   },
   {
    "duration": 409,
    "start_time": "2022-04-15T21:28:29.949Z"
   },
   {
    "duration": 202,
    "start_time": "2022-04-15T21:28:30.359Z"
   },
   {
    "duration": 343,
    "start_time": "2022-04-15T21:28:30.562Z"
   },
   {
    "duration": 194,
    "start_time": "2022-04-15T21:28:30.907Z"
   },
   {
    "duration": 4,
    "start_time": "2022-04-15T21:28:31.102Z"
   },
   {
    "duration": 18,
    "start_time": "2022-04-15T21:28:31.107Z"
   },
   {
    "duration": 12,
    "start_time": "2022-04-15T21:28:31.126Z"
   },
   {
    "duration": 9,
    "start_time": "2022-04-15T21:28:31.140Z"
   },
   {
    "duration": 11,
    "start_time": "2022-04-15T21:28:31.151Z"
   },
   {
    "duration": 18,
    "start_time": "2022-04-15T21:32:40.410Z"
   }
  ],
  "kernelspec": {
   "display_name": "Python 3 (ipykernel)",
   "language": "python",
   "name": "python3"
  },
  "language_info": {
   "codemirror_mode": {
    "name": "ipython",
    "version": 3
   },
   "file_extension": ".py",
   "mimetype": "text/x-python",
   "name": "python",
   "nbconvert_exporter": "python",
   "pygments_lexer": "ipython3",
   "version": "3.9.7"
  },
  "toc": {
   "base_numbering": 1,
   "nav_menu": {},
   "number_sections": true,
   "sideBar": true,
   "skip_h1_title": true,
   "title_cell": "Table of Contents",
   "title_sidebar": "Contents",
   "toc_cell": false,
   "toc_position": {},
   "toc_section_display": true,
   "toc_window_display": true
  }
 },
 "nbformat": 4,
 "nbformat_minor": 5
}
